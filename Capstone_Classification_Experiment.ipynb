{
  "nbformat": 4,
  "nbformat_minor": 0,
  "metadata": {
    "colab": {
      "name": "Capstone - Classification Experiment.ipynb",
      "provenance": [],
      "collapsed_sections": [],
      "include_colab_link": true
    },
    "kernelspec": {
      "display_name": "Python 3",
      "language": "python",
      "name": "python3"
    }
  },
  "cells": [
    {
      "cell_type": "markdown",
      "metadata": {
        "id": "view-in-github",
        "colab_type": "text"
      },
      "source": [
        "<a href=\"https://colab.research.google.com/github/nicolenair/capstone/blob/master/Capstone_Classification_Experiment.ipynb\" target=\"_parent\"><img src=\"https://colab.research.google.com/assets/colab-badge.svg\" alt=\"Open In Colab\"/></a>"
      ]
    },
    {
      "cell_type": "code",
      "metadata": {
        "id": "YlL6OZZYuLPv",
        "colab_type": "code",
        "colab": {}
      },
      "source": [
        "import os\n",
        "# !pip install importlib\n",
        "# !pip install imp"
      ],
      "execution_count": 0,
      "outputs": []
    },
    {
      "cell_type": "code",
      "metadata": {
        "id": "Sb12I3GvV_Gm",
        "colab_type": "code",
        "outputId": "61f9c8a6-bb70-473b-a59a-be9190849557",
        "colab": {
          "base_uri": "https://localhost:8080/",
          "height": 34
        }
      },
      "source": [
        "from google.colab import drive\n",
        "drive.mount('/content/gdrive')\n",
        "os.chdir(\"/content/gdrive/My Drive/Colab Notebooks\")"
      ],
      "execution_count": 2,
      "outputs": [
        {
          "output_type": "stream",
          "text": [
            "Drive already mounted at /content/gdrive; to attempt to forcibly remount, call drive.mount(\"/content/gdrive\", force_remount=True).\n"
          ],
          "name": "stdout"
        }
      ]
    },
    {
      "cell_type": "code",
      "metadata": {
        "id": "taaK2gE9Toa-",
        "colab_type": "code",
        "outputId": "df1411b5-ca02-4e2b-c614-802b9537de01",
        "colab": {
          "base_uri": "https://localhost:8080/",
          "height": 996
        }
      },
      "source": [
        "#!pip install import_ipynb\n",
        "\n",
        "from bs4 import BeautifulSoup\n",
        "import requests\n",
        "import numpy as np\n",
        "import pandas as pd\n",
        "import os\n",
        "import re\n",
        "import os\n",
        "import import_ipynb\n",
        "import anno\n",
        "import anno_auto\n",
        "import importlib"
      ],
      "execution_count": 3,
      "outputs": [
        {
          "output_type": "stream",
          "text": [
            "importing Jupyter notebook from anno.ipynb\n",
            "Drive already mounted at /content/gdrive; to attempt to forcibly remount, call drive.mount(\"/content/gdrive\", force_remount=True).\n",
            "importing Jupyter notebook from anno_auto.ipynb\n",
            "Requirement already satisfied: stanfordnlp in /usr/local/lib/python3.6/dist-packages (0.2.0)\n",
            "Requirement already satisfied: protobuf in /usr/local/lib/python3.6/dist-packages (from stanfordnlp) (3.7.1)\n",
            "Requirement already satisfied: requests in /usr/local/lib/python3.6/dist-packages (from stanfordnlp) (2.21.0)\n",
            "Requirement already satisfied: torch>=1.0.0 in /usr/local/lib/python3.6/dist-packages (from stanfordnlp) (1.1.0)\n",
            "Requirement already satisfied: numpy in /usr/local/lib/python3.6/dist-packages (from stanfordnlp) (1.16.5)\n",
            "Requirement already satisfied: tqdm in /usr/local/lib/python3.6/dist-packages (from stanfordnlp) (4.28.1)\n",
            "Requirement already satisfied: setuptools in /usr/local/lib/python3.6/dist-packages (from protobuf->stanfordnlp) (41.2.0)\n",
            "Requirement already satisfied: six>=1.9 in /usr/local/lib/python3.6/dist-packages (from protobuf->stanfordnlp) (1.12.0)\n",
            "Requirement already satisfied: urllib3<1.25,>=1.21.1 in /usr/local/lib/python3.6/dist-packages (from requests->stanfordnlp) (1.24.3)\n",
            "Requirement already satisfied: chardet<3.1.0,>=3.0.2 in /usr/local/lib/python3.6/dist-packages (from requests->stanfordnlp) (3.0.4)\n",
            "Requirement already satisfied: certifi>=2017.4.17 in /usr/local/lib/python3.6/dist-packages (from requests->stanfordnlp) (2019.6.16)\n",
            "Requirement already satisfied: idna<2.9,>=2.5 in /usr/local/lib/python3.6/dist-packages (from requests->stanfordnlp) (2.8)\n",
            "Using the default treebank \"en_ewt\" for language \"en\".\n",
            "Would you like to download the models for: en_ewt now? (Y/n)\n",
            "y\n",
            "\n",
            "Default download directory: /root/stanfordnlp_resources\n",
            "Hit enter to continue or type an alternate directory.\n",
            "\n",
            "\n",
            "Downloading models for: en_ewt\n",
            "Download location: /root/stanfordnlp_resources/en_ewt_models.zip\n"
          ],
          "name": "stdout"
        },
        {
          "output_type": "stream",
          "text": [
            "100%|██████████| 235M/235M [00:03<00:00, 67.1MB/s]\n"
          ],
          "name": "stderr"
        },
        {
          "output_type": "stream",
          "text": [
            "\n",
            "Download complete.  Models saved to: /root/stanfordnlp_resources/en_ewt_models.zip\n",
            "Extracting models file for: en_ewt\n",
            "Cleaning up...Done.\n",
            "Use device: cpu\n",
            "---\n",
            "Loading: tokenize\n",
            "With settings: \n",
            "{'model_path': '/root/stanfordnlp_resources/en_ewt_models/en_ewt_tokenizer.pt', 'lang': 'en', 'shorthand': 'en_ewt', 'mode': 'predict'}\n",
            "---\n",
            "Loading: pos\n",
            "With settings: \n",
            "{'model_path': '/root/stanfordnlp_resources/en_ewt_models/en_ewt_tagger.pt', 'pretrain_path': '/root/stanfordnlp_resources/en_ewt_models/en_ewt.pretrain.pt', 'lang': 'en', 'shorthand': 'en_ewt', 'mode': 'predict'}\n",
            "---\n",
            "Loading: lemma\n",
            "With settings: \n",
            "{'model_path': '/root/stanfordnlp_resources/en_ewt_models/en_ewt_lemmatizer.pt', 'lang': 'en', 'shorthand': 'en_ewt', 'mode': 'predict'}\n",
            "Building an attentional Seq2Seq model...\n",
            "Using a Bi-LSTM encoder\n",
            "Using soft attention for LSTM.\n",
            "Finetune all embeddings.\n",
            "[Running seq2seq lemmatizer with edit classifier]\n",
            "---\n",
            "Loading: depparse\n",
            "With settings: \n",
            "{'model_path': '/root/stanfordnlp_resources/en_ewt_models/en_ewt_parser.pt', 'pretrain_path': '/root/stanfordnlp_resources/en_ewt_models/en_ewt.pretrain.pt', 'lang': 'en', 'shorthand': 'en_ewt', 'mode': 'predict'}\n",
            "Done loading processors!\n",
            "---\n"
          ],
          "name": "stdout"
        }
      ]
    },
    {
      "cell_type": "code",
      "metadata": {
        "id": "96XXzcW-V-EQ",
        "colab_type": "code",
        "colab": {}
      },
      "source": [
        "# importlib.reload(anno_auto)"
      ],
      "execution_count": 0,
      "outputs": []
    },
    {
      "cell_type": "code",
      "metadata": {
        "id": "kusdyuiaX_YY",
        "colab_type": "code",
        "colab": {}
      },
      "source": [
        "# import os\n",
        "# os.listdir(\"/content/gdrive/My Drive/Nicole-Internship-Complete-Folder/chatbot - all/chatbot-flask/GoogleNews-vectors-negative300.bin.gz\")"
      ],
      "execution_count": 0,
      "outputs": []
    },
    {
      "cell_type": "code",
      "metadata": {
        "id": "8xuNYM3QuLPz",
        "colab_type": "code",
        "colab": {}
      },
      "source": [
        "books = [\"gables\", \"avonlea\", \"island\", \"dreams\"]\n",
        "urls = [\"https://www.gutenberg.org/files/45/45-0.txt\", \"https://www.gutenberg.org/files/47/47-0.txt\", \"https://www.gutenberg.org/files/51/51-0.txt\", \"http://www.gutenberg.org/cache/epub/544/pg544.txt\"]\n",
        "\n",
        "for i in range(len(books)):\n",
        "    page = requests.get(urls[i])\n",
        "    file = open(\"{}.txt\".format(books[i]) , \"w+\")\n",
        "    file.write(page.text)\n",
        "    file.close()\n",
        "\n",
        "file = open(\"gables.txt\", \"r\")\n",
        "gables = file.read()\n",
        "file = open(\"avonlea.txt\", \"r\")\n",
        "avonlea = file.read()\n",
        "file = open(\"island.txt\", \"r\")\n",
        "island = file.read()\n",
        "file = open(\"dreams.txt\", \"r\")\n",
        "dreams = file.read()"
      ],
      "execution_count": 0,
      "outputs": []
    },
    {
      "cell_type": "code",
      "metadata": {
        "id": "epf2i-IQuLP1",
        "colab_type": "code",
        "colab": {}
      },
      "source": [
        "# import gensim\n",
        "# must download & load for word2vec_average_doc function to work\n",
        "# # Load Google's pre-trained Word2Vec model.\n",
        "# model = gensim.models.KeyedVectors.load_word2vec_format('./GoogleNews-vectors-negative300.bin', binary=True)  "
      ],
      "execution_count": 0,
      "outputs": []
    },
    {
      "cell_type": "code",
      "metadata": {
        "id": "IOTOrUDjuLP4",
        "colab_type": "code",
        "colab": {}
      },
      "source": [
        "from gensim.parsing.preprocessing import preprocess_documents\n",
        "from gensim.models import KeyedVectors\n",
        "from gensim.models import Word2Vec\n",
        "\n",
        "#returns vector representation of documents \n",
        "def word2vec_average_doc(documents):\n",
        "    model_new = Word2Vec(size=300, min_count=1)\n",
        "    model_new.build_vocab(documents)\n",
        "    total_examples = model_new.corpus_count\n",
        "    model_new.build_vocab([list(model_new.wv.vocab.keys())], update=True) #fishy here, changed model to model_new within list bracket\n",
        "    model_new.intersect_word2vec_format(\"/content/gdrive/My Drive/Nicole-Internship-Complete-Folder/chatbot - all/chatbot-flask/GoogleNews-vectors-negative300.bin.gz\", binary = True)\n",
        "    model_new.train(documents, total_examples=total_examples, epochs=model_new.iter)\n",
        "    mean_vectors = []\n",
        "    processed = preprocess_documents(documents)\n",
        "    for i in processed:\n",
        "        summation = []\n",
        "        for e in i:\n",
        "            try:\n",
        "                summation.append(model_new[e])\n",
        "            except KeyError:\n",
        "                #print(\"debug\")\n",
        "                next\n",
        "        if len(summation)!=0:\n",
        "            mean_vectors.append(np.mean(summation, axis = 0))\n",
        "        else:\n",
        "            mean_vectors.append(np.mean(mean_vectors, axis = 0))\n",
        "        \n",
        "        #print(summation)\n",
        "    return np.array(mean_vectors)"
      ],
      "execution_count": 0,
      "outputs": []
    },
    {
      "cell_type": "code",
      "metadata": {
        "id": "xcnPuUeyNbjs",
        "colab_type": "code",
        "colab": {}
      },
      "source": [
        ""
      ],
      "execution_count": 0,
      "outputs": []
    },
    {
      "cell_type": "code",
      "metadata": {
        "id": "nykArgB2uLP_",
        "colab_type": "code",
        "colab": {}
      },
      "source": [
        "# full_para_list_gables = anno.paragraph_list(gables)\n",
        "# full_para_list_dreams = anno.paragraph_list(dreams)"
      ],
      "execution_count": 0,
      "outputs": []
    },
    {
      "cell_type": "code",
      "metadata": {
        "id": "6clEXYjTNoHT",
        "colab_type": "code",
        "colab": {}
      },
      "source": [
        "from gensim.test.utils import common_texts\n",
        "from gensim.models.doc2vec import Doc2Vec, TaggedDocument\n",
        "\n",
        "\n",
        "documents = [TaggedDocument(doc, [i]) for i, doc in enumerate(sentence_gables)]\n",
        "model_d2v = Doc2Vec(documents, vector_size=50, window=5, min_count=1, workers=4)\n",
        "vector = model_d2v.infer_vector([\"system\", \"response\"])"
      ],
      "execution_count": 0,
      "outputs": []
    },
    {
      "cell_type": "code",
      "metadata": {
        "id": "gQZ1Nz59zPKx",
        "colab_type": "code",
        "colab": {
          "base_uri": "https://localhost:8080/",
          "height": 34
        },
        "outputId": "57fd0058-6a20-4132-cc65-44c74bff1b32"
      },
      "source": [
        "vector.shape"
      ],
      "execution_count": 40,
      "outputs": [
        {
          "output_type": "execute_result",
          "data": {
            "text/plain": [
              "(100,)"
            ]
          },
          "metadata": {
            "tags": []
          },
          "execution_count": 40
        }
      ]
    },
    {
      "cell_type": "code",
      "metadata": {
        "id": "KQ7CsvBPO6I2",
        "colab_type": "code",
        "colab": {}
      },
      "source": [
        "from sklearn.feature_extraction.text import CountVectorizer\n",
        "from scipy.sparse import csr_matrix\n",
        "from random import sample\n",
        "from sklearn.linear_model import LogisticRegression\n",
        "from sklearn.model_selection import train_test_split\n",
        "from sklearn.metrics import precision_score\n",
        "from sklearn.metrics import recall_score\n",
        "from sklearn.metrics import confusion_matrix\n",
        "\n",
        "\n",
        "#function for training classifier\n",
        "def train_classifier(full_para_list, target, prnt = True, d2v=False):\n",
        "    if d2v==False:\n",
        "  \n",
        "      vectorizer = CountVectorizer()\n",
        "      n=len(target)\n",
        "\n",
        "      x_lst = []\n",
        "      for i in full_para_list[:n]:\n",
        "          x_lst.extend(i) \n",
        "      vectorized = vectorizer.fit_transform(x_lst)\n",
        "      x = vectorized.todense()\n",
        "    else:\n",
        "      documents = [TaggedDocument(doc, [i]) for i, doc in enumerate(full_para_list)]\n",
        "      vectorizer = Doc2Vec(documents, vector_size=300, window=3, min_count=1, workers=4)\n",
        "      n = len(target)\n",
        "      x_lst = []\n",
        "      for i in full_para_list[:n]:\n",
        "        x_lst.extend(i)\n",
        "      vectorized = np.array([vectorizer.infer_vector(i) for i in x_lst])\n",
        "      x = vectorized\n",
        "#     x = word2vec_average_doc(x_lst) \n",
        "#     x = model_d2v.infer_vector(x_lst)\n",
        "#     print(x)\n",
        "\n",
        "#     print(x)\n",
        "    y = []\n",
        "    for i in target[:n]:\n",
        "        y.extend(i) \n",
        "    y = [0 if i!=1 else 1 for i in y]\n",
        "    ind_0 = [e for e, i in enumerate(y) if i==0]\n",
        "    ind_1 = [e for e, i in enumerate(y) if i==1]\n",
        "#     print(ind_0, ind_1)\n",
        "        \n",
        "    if len(ind_0)>len(ind_1):\n",
        "        \n",
        "        new_indices = random.sample(ind_0, len(ind_1))\n",
        "        print(new_indices)\n",
        "        x = np.vstack([x[new_indices], x[ind_1]])\n",
        "        y = [0 for i in range(len(new_indices))] + [1 for i in range(len(ind_1))]\n",
        "    else:\n",
        "        new_indices = sample(ind_1, len(ind_0))\n",
        "        x = np.vstack([x[new_indices], x[ind_0]])\n",
        "        y = [0 for i in range(len(new_indices))] + [1 for i in range(len(ind_0))]\n",
        "\n",
        "\n",
        "    model2 = LogisticRegression(solver='lbfgs', multi_class='multinomial')\n",
        "   # X_train, X_test, y_train, y_test = train_test_split(x, y)\n",
        "    model2.fit(x, y)\n",
        "#     if prnt==True:\n",
        "#         print(model2.score(X_test, y_test))\n",
        "#         y_pred = model2.predict(X_test)\n",
        "#         print(precision_score(y_test, y_pred,  pos_label = 1))\n",
        "#         print(precision_score(y_test, y_pred,  pos_label = 0))\n",
        "#         print(recall_score(y_test, y_pred, pos_label = 1))\n",
        "#         print(recall_score(y_test, y_pred, pos_label = 0 ))\n",
        "#         print(confusion_matrix(y_test, y_pred))\n",
        "#         tn, fp, fn, tp = confusion_matrix(y_test, y_pred).ravel()\n",
        "#         print(tn, fp, fn, tp)\n",
        "    return model2, vectorizer"
      ],
      "execution_count": 0,
      "outputs": []
    },
    {
      "cell_type": "code",
      "metadata": {
        "id": "rvqd8fwVuLQC",
        "colab_type": "code",
        "colab": {}
      },
      "source": [
        "import random\n",
        "\n",
        "# for checking performance of trained classifiers on books\n",
        "def test(full_para_list, model2, vectorizer, target, d2v=False):\n",
        "    n = len(target)\n",
        "    x_lst = []\n",
        "    for i in full_para_list:\n",
        "        x_lst.extend(i) \n",
        "    if d2v!=True:\n",
        "      vectorized = vectorizer.transform(x_lst)\n",
        "      x = vectorized.todense()\n",
        "    else:\n",
        "      vectorized = [vectorizer.infer_vector(i) for i in x_lst]\n",
        "      x = np.array(vectorized)\n",
        "\n",
        "    \n",
        "#     x = word2vec_average_doc(x_lst) \n",
        "#     x = vectorizer.infer_vector(x_lst)\n",
        "    y = []\n",
        "    for i in target:\n",
        "        y.extend(i) \n",
        "\n",
        "    y = [0 if i!=1 else 1 for i in y]\n",
        "    ind_0 = [e for e, i in enumerate(y) if i==0]\n",
        "    ind_1 = [e for e, i in enumerate(y) if i==1]\n",
        "\n",
        "#     print(ind_0)\n",
        "#     print(ind_1)\n",
        "    if len(ind_0)>len(ind_1):\n",
        "        new_indices = random.sample(ind_0, len(ind_1))\n",
        "        #print(x.shape)\n",
        "        print(new_indices)\n",
        "        x = np.vstack([x[new_indices], x[ind_1]])\n",
        "        \n",
        "        y = [0 for i in range(len(new_indices))] + [1 for i in range(len(ind_1))]\n",
        "    else:\n",
        "        new_indices = sample(ind_1, len(ind_0))\n",
        "        x = np.vstack([x[new_indices], x[ind_0]])\n",
        "        y = [0 for i in range(len(new_indices))] + [1 for i in range(len(ind_0))]\n",
        "\n",
        "    print(model2.score(x, y))\n",
        "    y_pred = model2.predict(x)\n",
        "    print(\"precision, label = 1\")\n",
        "    print(precision_score(y, y_pred,  pos_label = 1))\n",
        "    print(\"precision, label = 0\")\n",
        "    print(precision_score(y, y_pred,  pos_label = 0))\n",
        "    print(\"recall, label = 1\")\n",
        "    print(recall_score(y, y_pred, pos_label = 1))\n",
        "    print(\"recall, label = 0\")\n",
        "    print(recall_score(y, y_pred, pos_label = 0 ))\n",
        "\n",
        "    print(confusion_matrix(y, y_pred))\n",
        "    tn, fp, fn, tp = confusion_matrix(y, y_pred).ravel()\n",
        "    print(tn, fp, fn, tp)\n",
        "    print()\n",
        "\n",
        "#     words = np.array(vectorizer.get_feature_names())\n",
        "#     words[np.argsort(abs(model2.coef_[0]))[-10:]], model2.coef_[0][abs(np.argsort(model2.coef_[0]))[-10:]]\n",
        "    \n",
        "# print(\"trained on AGG, tested on AGG (control)\")\n",
        "# model2, vectorizer = train_classifier(full_para_list_gables, anno.return_target(\"gables\"), prnt = False)\n",
        "# test(full_para_list_gables, model2, vectorizer, anno.return_target(\"gables\"))\n",
        "\n",
        "# print(\"trained on AGG, tested on AHD\")\n",
        "# model2, vectorizer = train_classifier(full_para_list_gables, anno.return_target(\"gables\"), prnt = False)\n",
        "# test(full_para_list_dreams, model2, vectorizer, anno.return_target(\"dreams\"))\n",
        "\n",
        "# print(\"trained on AHD, tested on AHD (control)\")\n",
        "# model2, vectorizer = train_classifier(full_para_list_dreams,anno.return_target(\"dreams\"), prnt = False)\n",
        "# test(full_para_list_dreams, model2, vectorizer, anno.return_target(\"dreams\"))\n",
        "\n",
        "# print(\"trained on AHD, tested on AGG\")\n",
        "# model2, vectorizer = train_classifier(full_para_list_dreams, anno.return_target(\"dreams\"), prnt = False)\n",
        "# test(full_para_list_gables, model2, vectorizer, anno.return_target(\"dreams\"))"
      ],
      "execution_count": 0,
      "outputs": []
    },
    {
      "cell_type": "code",
      "metadata": {
        "id": "QaWATaRK65pW",
        "colab_type": "code",
        "colab": {}
      },
      "source": [
        "# sentence_gables, target_gables = anno_auto.return_nsubj(\"gables\")\n",
        "# sentence_dreams, target_dreams = anno_auto.return_nsubj(\"dreams\")"
      ],
      "execution_count": 0,
      "outputs": []
    },
    {
      "cell_type": "code",
      "metadata": {
        "id": "35aIY4lzn60h",
        "colab_type": "code",
        "colab": {}
      },
      "source": [
        "# sentence_gables_Marilla, target_gables_Marilla = anno_auto.return_nsubj(\"gables\", \"Marilla\")\n",
        "X_train, X_test, y_train, y_test = train_test_split(sentence_gables, target_gables)\n",
        "X_train, X_val, y_train, y_val = train_test_split(X_train, y_train)\n",
        "X_train_dreams, X_test_dreams, y_train_dreams, y_test_dreams = train_test_split(sentence_dreams, target_dreams)\n",
        "X_train_dreams, X_val_dreams, y_train_dreams, y_val_dreams = train_test_split(X_train_dreams, y_train_dreams)"
      ],
      "execution_count": 0,
      "outputs": []
    },
    {
      "cell_type": "code",
      "metadata": {
        "id": "PUj2gkvsaFby",
        "colab_type": "code",
        "colab": {
          "base_uri": "https://localhost:8080/",
          "height": 321
        },
        "outputId": "3e3423e4-f248-45cf-888a-eb4352df2af5"
      },
      "source": [
        "#as compared to other nsubj sentences\n",
        "\n",
        "print(\"trained on AGG, tested on AGG (control)\")\n",
        "model2, vectorizer = train_classifier(X_test, y_test, prnt = False)\n",
        "test(X_val, model2, vectorizer, y_val)\n",
        "\n",
        "# print(\"trained on AGG, tested on AHD\")\n",
        "# model2, vectorizer = train_classifier(X_train, y_train, prnt = False)\n",
        "# test(X_test_dreams, model2, vectorizer, y_test_dreams)\n",
        "\n",
        "# print(\"trained on AHD, tested on AHD (control)\")\n",
        "# model2, vectorizer = train_classifier(X_train_dreams,y_train_dreams, prnt = False)\n",
        "# test(X_test_dreams, model2, vectorizer, y_test_dreams)\n",
        "\n",
        "# print(\"trained on AHD, tested on AGG\")\n",
        "# model2, vectorizer = train_classifier(X_train_dreams,y_train_dreams, prnt = False)\n",
        "# test(X_test, model2, vectorizer, y_test)"
      ],
      "execution_count": 90,
      "outputs": [
        {
          "output_type": "stream",
          "text": [
            "trained on AGG, tested on AGG (control)\n",
            "[1406, 729, 1668, 672, 2483, 2934, 1243, 2998, 1456, 2574, 2710, 3187, 925, 515, 3199, 309, 2071, 1521, 2740, 163, 2308, 1452, 1103, 784, 2457, 3126, 2040, 2223, 2030, 1496, 2749, 1200, 1147, 1731, 2470, 135, 3148, 1411, 850, 2822, 378, 1458, 621, 3036, 2177, 2353, 1126, 1992, 1581, 972, 1029, 2301, 2435, 182, 2877, 211, 2083, 828, 2557, 236, 2865, 3200, 1284, 1429, 3058, 628, 2126, 2777, 1921, 3067, 2158, 1707, 1031, 2455, 364, 1146, 678, 2657, 79, 2450, 885, 1978, 455, 2580, 1245, 86, 1795, 2577, 363, 1944, 1878, 466, 375, 2261, 1205, 575, 1774, 2199, 622, 2937, 2902, 2169, 1565, 1983, 450, 2341, 1041, 1288, 104, 2302, 1268, 1250, 2582, 1718, 785, 1436, 1237, 2543, 1305, 2125, 2136, 3026, 2957, 441, 2350, 1936, 557, 70, 2165, 2676, 2493, 279, 1639, 3117]\n",
            "[1039, 542, 516, 1591, 539, 2277, 2347, 811, 2035, 406, 1706, 578, 2394, 1059, 718, 2089, 1713, 1435, 356, 380, 2337, 624, 1461, 1934, 1038, 2047, 1905, 2318, 1006, 409, 1, 1671, 26, 507, 165, 1171, 2052, 1997, 1759, 148, 1635, 1657, 1538, 1522, 1721, 661, 1395, 2352, 813, 600, 264, 1364, 777, 2354, 729, 376, 505, 37, 1302, 749, 587, 361, 1690, 2361, 2054, 385, 1123, 1359, 1894, 2020, 322, 494, 1853, 504, 753, 262, 1013, 1366, 1515, 937, 511, 1181, 1253, 2180, 2119, 2249, 486, 1785]\n",
            "0.7102272727272727\n",
            "precision, label = 1\n",
            "0.7032967032967034\n",
            "precision, label = 0\n",
            "0.7176470588235294\n",
            "recall, label = 1\n",
            "0.7272727272727273\n",
            "recall, label = 0\n",
            "0.6931818181818182\n",
            "[[61 27]\n",
            " [24 64]]\n",
            "61 27 24 64\n",
            "\n"
          ],
          "name": "stdout"
        }
      ]
    },
    {
      "cell_type": "code",
      "metadata": {
        "id": "J6Bp0ON5cCOY",
        "colab_type": "code",
        "colab": {
          "base_uri": "https://localhost:8080/",
          "height": 1000
        },
        "outputId": "ba083762-8c76-480e-fb59-0032d840313e"
      },
      "source": [
        "#as compared to other nsubj sentences, using Marilla as comparison\n",
        "X_train, X_test, y_train, y_test = train_test_split(sentence_gables, target_gables)\n",
        "X_train_dreams, X_test_dreams, y_train_dreams, y_test_dreams = train_test_split(sentence_dreams, target_dreams)\n",
        "\n",
        "print(\"trained on AGG, tested on AGG\")\n",
        "model2, vectorizer = train_classifier(X_train, y_train, prnt = False)\n",
        "test(sentence_gables, model2, vectorizer, target_gables)\n",
        "\n",
        "print(\"trained on AGG, tested on AGG (control)(Marilla)\")\n",
        "model2, vectorizer = train_classifier(X_train, y_train, prnt = False)\n",
        "test(sentence_gables_Marilla, model2, vectorizer, target_gables_Marilla)\n",
        "\n",
        "print(\"trained on AHD, tested on AGG(Marilla) (control)\")\n",
        "model2, vectorizer = train_classifier(X_train_dreams, y_train_dreams, prnt = False)\n",
        "test(sentence_gables_Marilla, model2, vectorizer, target_gables_Marilla)\n",
        "\n",
        "print(\"trained on AHD, tested on AHD\")\n",
        "model2, vectorizer = train_classifier(X_train_dreams, y_train_dreams, prnt = False)\n",
        "test(X_test_dreams, model2, vectorizer, y_test_dreams)\n",
        "\n",
        "# print(\"trained on AGG, tested on AHD\")\n",
        "# model2, vectorizer = train_classifier(X_train, y_train, prnt = False)\n",
        "# test(X_test_dreams, model2, vectorizer, y_test_dreams)\n",
        "\n",
        "# print(\"trained on AHD, tested on AHD (control)\")\n",
        "# model2, vectorizer = train_classifier(X_train_dreams,y_train_dreams, prnt = False)\n",
        "# test(X_test_dreams, model2, vectorizer, y_test_dreams)\n",
        "\n",
        "# print(\"trained on AHD, tested on AGG\")\n",
        "# model2, vectorizer = train_classifier(X_train_dreams,y_train_dreams, prnt = False)\n",
        "# test(X_test, model2, vectorizer, y_test)"
      ],
      "execution_count": 17,
      "outputs": [
        {
          "output_type": "stream",
          "text": [
            "trained on AGG, tested on AGG\n"
          ],
          "name": "stdout"
        },
        {
          "output_type": "stream",
          "text": [
            "/usr/local/lib/python3.6/dist-packages/sklearn/linear_model/logistic.py:947: ConvergenceWarning: lbfgs failed to converge. Increase the number of iterations.\n",
            "  \"of iterations.\", ConvergenceWarning)\n"
          ],
          "name": "stderr"
        },
        {
          "output_type": "stream",
          "text": [
            "0.81237721021611\n",
            "precision, label = 1\n",
            "0.75\n",
            "precision, label = 0\n",
            "0.9162303664921466\n",
            "recall, label = 1\n",
            "0.93713163064833\n",
            "recall, label = 0\n",
            "0.68762278978389\n",
            "[[350 159]\n",
            " [ 32 477]]\n",
            "350 159 32 477\n",
            "\n",
            "trained on AGG, tested on AGG (control)(Marilla)\n",
            "0.643344709897611\n",
            "precision, label = 1\n",
            "0.6532846715328468\n",
            "precision, label = 0\n",
            "0.6346153846153846\n",
            "recall, label = 1\n",
            "0.6109215017064846\n",
            "recall, label = 0\n",
            "0.6757679180887372\n",
            "[[198  95]\n",
            " [114 179]]\n",
            "198 95 114 179\n",
            "\n",
            "trained on AHD, tested on AGG(Marilla) (control)\n",
            "0.6040955631399317\n",
            "precision, label = 1\n",
            "0.5868945868945868\n",
            "precision, label = 0\n",
            "0.6297872340425532\n",
            "recall, label = 1\n",
            "0.7030716723549488\n",
            "recall, label = 0\n",
            "0.5051194539249146\n",
            "[[148 145]\n",
            " [ 87 206]]\n",
            "148 145 87 206\n",
            "\n",
            "trained on AHD, tested on AHD\n",
            "0.6134453781512605\n",
            "precision, label = 1\n",
            "0.6097560975609756\n",
            "precision, label = 0\n",
            "0.6173913043478261\n",
            "recall, label = 1\n",
            "0.6302521008403361\n",
            "recall, label = 0\n",
            "0.5966386554621849\n",
            "[[71 48]\n",
            " [44 75]]\n",
            "71 48 44 75\n",
            "\n"
          ],
          "name": "stdout"
        }
      ]
    },
    {
      "cell_type": "code",
      "metadata": {
        "id": "0M1gLbkFvx47",
        "colab_type": "code",
        "colab": {}
      },
      "source": [
        ""
      ],
      "execution_count": 0,
      "outputs": []
    },
    {
      "cell_type": "code",
      "metadata": {
        "id": "rGLFku_EuLQL",
        "colab_type": "code",
        "colab": {}
      },
      "source": [
        "import matplotlib.pyplot as plt\n",
        "import networkx as nx\n",
        "\n",
        "#function for visualizing character networks in a book\n",
        "def gr(full_para_list):\n",
        "    a = np.zeros((20, 20))\n",
        "\n",
        "    x_lst = []\n",
        "    for i in full_para_list:\n",
        "        x_lst.extend(i) \n",
        "    # vectorized = vectorizer.transform(x_lst)\n",
        "\n",
        "    for i in x_lst:\n",
        "        chars = name_mapping.keys()\n",
        "        dis_chars = []\n",
        "        for ch in chars:\n",
        "            if re.search(ch, i) and ch not in dis_chars:\n",
        "                dis_chars.append(ch)\n",
        "        for ch in dis_chars:\n",
        "            for neighbor in dis_chars:\n",
        "                a[name_mapping[ch]][name_mapping[neighbor]] += 1\n",
        "\n",
        "    g1 = (nx.from_numpy_matrix((a- min(a.flatten()))/(max(a.flatten()) - min(a.flatten()))))\n",
        "    #g1 = (nx.from_numpy_matrix((a)\n",
        "    pos = nx.spring_layout(g1, k =1)\n",
        "    weights = [g1[u][v]['weight'] for u,v in g1.edges]\n",
        "    nx.draw(g1, pos = pos, width = weights)\n",
        "    nx.draw_networkx_labels(g1, labels = dict(map(reversed, name_mapping.items())), pos = pos)\n",
        "    plt.show()\n",
        "    return a\n",
        "    \n"
      ],
      "execution_count": 0,
      "outputs": []
    },
    {
      "cell_type": "code",
      "metadata": {
        "id": "fFXoJ-z9uLQN",
        "colab_type": "code",
        "outputId": "90cd45cd-39f1-4177-c5c9-5137032eb32e",
        "colab": {
          "base_uri": "https://localhost:8080/",
          "height": 656
        }
      },
      "source": [
        "a_gables = gr(full_para_list_gables)\n",
        "a_dreams = gr(full_para_list_dreams)\n",
        "\n",
        "#printing co-occurrence values for Anne with Diana & Gilbert in AGG\n",
        "print(a_gables[1][6], a_gables[1][4])\n",
        "#printing co-occurrence values for Anne with Cornelia & Gilbert in AHD\n",
        "print(a_dreams[1][15], a_dreams[1][4])"
      ],
      "execution_count": 0,
      "outputs": [
        {
          "output_type": "display_data",
          "data": {
            "image/png": "[encoded data removed]",
            "text/plain": [
              "<Figure size 432x288 with 1 Axes>"
            ]
          },
          "metadata": {
            "tags": []
          }
        },
        {
          "output_type": "display_data",
          "data": {
            "image/png": "[encoded data removed]",
            "text/plain": [
              "<Figure size 432x288 with 1 Axes>"
            ]
          },
          "metadata": {
            "tags": []
          }
        },
        {
          "output_type": "stream",
          "text": [
            "193.0 58.0\n",
            "64.0 131.0\n"
          ],
          "name": "stdout"
        }
      ]
    },
    {
      "cell_type": "code",
      "metadata": {
        "id": "SW8UXomPb96d",
        "colab_type": "code",
        "outputId": "328287d5-93d0-48bb-c86e-4aa32882574c",
        "colab": {
          "base_uri": "https://localhost:8080/",
          "height": 212
        }
      },
      "source": [
        "train_classifier(full_para_list_gables, target_gables, prnt = False)"
      ],
      "execution_count": 0,
      "outputs": [
        {
          "output_type": "execute_result",
          "data": {
            "text/plain": [
              "(LogisticRegression(C=1.0, class_weight=None, dual=False, fit_intercept=True,\n",
              "                    intercept_scaling=1, l1_ratio=None, max_iter=100,\n",
              "                    multi_class='multinomial', n_jobs=None, penalty='l2',\n",
              "                    random_state=None, solver='lbfgs', tol=0.0001, verbose=0,\n",
              "                    warm_start=False),\n",
              " CountVectorizer(analyzer='word', binary=False, decode_error='strict',\n",
              "                 dtype=<class 'numpy.int64'>, encoding='utf-8', input='content',\n",
              "                 lowercase=True, max_df=1.0, max_features=None, min_df=1,\n",
              "                 ngram_range=(1, 1), preprocessor=None, stop_words=None,\n",
              "                 strip_accents=None, token_pattern='(?u)\\\\b\\\\w\\\\w+\\\\b',\n",
              "                 tokenizer=None, vocabulary=None))"
            ]
          },
          "metadata": {
            "tags": []
          },
          "execution_count": 17
        }
      ]
    },
    {
      "cell_type": "code",
      "metadata": {
        "id": "zO7bf5RiOt2K",
        "colab_type": "code",
        "colab": {}
      },
      "source": [
        "import anno"
      ],
      "execution_count": 0,
      "outputs": []
    }
  ]
}