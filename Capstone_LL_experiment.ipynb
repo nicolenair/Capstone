{
  "nbformat": 4,
  "nbformat_minor": 0,
  "metadata": {
    "colab": {
      "name": "Capstone - LL experiment.ipynb",
      "provenance": [],
      "collapsed_sections": [],
      "include_colab_link": true
    },
    "kernelspec": {
      "name": "python3",
      "display_name": "Python 3"
    }
  },
  "cells": [
    {
      "cell_type": "markdown",
      "metadata": {
        "id": "view-in-github",
        "colab_type": "text"
      },
      "source": [
        "<a href=\"https://colab.research.google.com/github/nicolenair/capstone/blob/master/Capstone_LL_experiment.ipynb\" target=\"_parent\"><img src=\"https://colab.research.google.com/assets/colab-badge.svg\" alt=\"Open In Colab\"/></a>"
      ]
    },
    {
      "cell_type": "code",
      "metadata": {
        "id": "4EmkXdUGsOJw",
        "colab_type": "code",
        "outputId": "0727bf7e-edaf-44a5-bd8c-235fe0c45ba8",
        "colab": {
          "base_uri": "https://localhost:8080/",
          "height": 125
        }
      },
      "source": [
        "import os\n",
        "from google.colab import drive\n",
        "drive.mount('/content/gdrive')\n",
        "os.chdir(\"/content/gdrive/My Drive/Colab Notebooks\")"
      ],
      "execution_count": 1,
      "outputs": [
        {
          "output_type": "stream",
          "text": [
            "Go to this URL in a browser: https://accounts.google.com/o/oauth2/auth?client_id=947318989803-6bn6qk8qdgf4n4g3pfee6491hc0brc4i.apps.googleusercontent.com&redirect_uri=urn%3Aietf%3Awg%3Aoauth%3A2.0%3Aoob&scope=email%20https%3A%2F%2Fwww.googleapis.com%2Fauth%2Fdocs.test%20https%3A%2F%2Fwww.googleapis.com%2Fauth%2Fdrive%20https%3A%2F%2Fwww.googleapis.com%2Fauth%2Fdrive.photos.readonly%20https%3A%2F%2Fwww.googleapis.com%2Fauth%2Fpeopleapi.readonly&response_type=code\n",
            "\n",
            "Enter your authorization code:\n",
            "··········\n",
            "Mounted at /content/gdrive\n"
          ],
          "name": "stdout"
        }
      ]
    },
    {
      "cell_type": "code",
      "metadata": {
        "id": "laCDVFPTXp83",
        "colab_type": "code",
        "outputId": "5342f937-8f3a-4887-fa52-62d6eb800264",
        "colab": {
          "base_uri": "https://localhost:8080/",
          "height": 105
        }
      },
      "source": [
        "# !pip install nltk\n",
        "# !pip install stanfordnlp\n",
        "\n",
        "import nltk\n",
        "\n",
        "nltk.download('averaged_perceptron_tagger')\n",
        "nltk.download('punkt')\n",
        "import requests\n",
        "\n",
        "from bs4 import BeautifulSoup\n",
        "import requests\n",
        "import numpy as np\n",
        "import pandas as pd\n",
        "import os\n",
        "import re\n",
        "import os"
      ],
      "execution_count": 2,
      "outputs": [
        {
          "output_type": "stream",
          "text": [
            "[nltk_data] Downloading package averaged_perceptron_tagger to\n",
            "[nltk_data]     /root/nltk_data...\n",
            "[nltk_data]   Unzipping taggers/averaged_perceptron_tagger.zip.\n",
            "[nltk_data] Downloading package punkt to /root/nltk_data...\n",
            "[nltk_data]   Unzipping tokenizers/punkt.zip.\n"
          ],
          "name": "stdout"
        }
      ]
    },
    {
      "cell_type": "code",
      "metadata": {
        "id": "uB6b-3fgXyqT",
        "colab_type": "code",
        "colab": {}
      },
      "source": [
        ""
      ],
      "execution_count": 0,
      "outputs": []
    },
    {
      "cell_type": "code",
      "metadata": {
        "id": "kF_kyrRutFT1",
        "colab_type": "code",
        "colab": {}
      },
      "source": [
        "books = [\"gables\", \"avonlea\", \"island\", \"dreams\"]\n",
        "urls = [\"https://www.gutenberg.org/files/45/45-0.txt\", \"https://www.gutenberg.org/files/47/47-0.txt\", \"https://www.gutenberg.org/files/51/51-0.txt\", \"http://www.gutenberg.org/cache/epub/544/pg544.txt\"]\n",
        "\n",
        "for i in range(len(books)):\n",
        "    page = requests.get(urls[i])\n",
        "    file = open(\"{}.txt\".format(books[i]) , \"w+\")\n",
        "    file.write(page.text)\n",
        "    file.close()\n",
        "\n",
        "file = open(\"gables.txt\", \"r\")\n",
        "gables = file.read()\n",
        "file = open(\"avonlea.txt\", \"r\")\n",
        "avonlea = file.read()\n",
        "file = open(\"island.txt\", \"r\")\n",
        "island = file.read()\n",
        "file = open(\"dreams.txt\", \"r\")\n",
        "dreams = file.read()"
      ],
      "execution_count": 0,
      "outputs": []
    },
    {
      "cell_type": "code",
      "metadata": {
        "id": "P94vlN4hMxTd",
        "colab_type": "code",
        "colab": {}
      },
      "source": [
        "file1 = open(\"gables_sentence_list.txt\", \"r\")\n",
        "file2 = open(\"dreams_sentence_list.txt\", \"r\")\n",
        "sentence_gables = []\n",
        "sentence_dreams = []\n",
        "target_gables = []\n",
        "target_dreams = []\n",
        "\n",
        "file1_lines =file1.readlines()\n",
        "file2_lines = file2.readlines()\n",
        "for i in range(len(file1_lines)):\n",
        "  if i%2==0:\n",
        "    sentence_gables.append([file1_lines[i]])\n",
        "  else:\n",
        "    target_gables.append([int(file1_lines[i])])\n",
        "file.close()\n",
        "    \n",
        "    \n",
        "for i in range(len(file2_lines)):\n",
        "  if i%2==0:\n",
        "    sentence_dreams.append([file2_lines[i]])\n",
        "  else:\n",
        "    target_dreams.append([int(file2_lines[i])])\n",
        "file.close()\n",
        "\n",
        "full_para_list_gables = sentence_gables\n",
        "full_para_list_dreams = sentence_dreams"
      ],
      "execution_count": 0,
      "outputs": []
    },
    {
      "cell_type": "code",
      "metadata": {
        "id": "vqeNDl0WxHCN",
        "colab_type": "code",
        "colab": {}
      },
      "source": [
        "import nltk\n",
        "\n",
        "word_list_dreams = dreams.split()\n",
        "# word_list_dreams[:10]\n",
        "postagged_word_list_dreams = nltk.pos_tag(word_list_dreams)\n",
        "\n",
        "list_of_tags = [i[1] for i in postagged_word_list_dreams]\n",
        "x_tagname = []\n",
        "y_tagcount = []\n",
        "for i in list(set(list_of_tags)):\n",
        "  y_tagcount.append(list_of_tags.count(i))\n",
        "  x_tagname.append(i)\n",
        "  \n",
        "full_dreams_tags = pd.DataFrame({\"tagname\":x_tagname, \"tagcount\":y_tagcount})"
      ],
      "execution_count": 0,
      "outputs": []
    },
    {
      "cell_type": "code",
      "metadata": {
        "id": "hJoUI27SrmGj",
        "colab_type": "code",
        "outputId": "de5824d8-dcab-4781-9b34-e273edb27552",
        "colab": {
          "base_uri": "https://localhost:8080/",
          "height": 87
        }
      },
      "source": [
        "words_anne_dreams = []\n",
        "for i in range(len(target_dreams)):\n",
        "  for e in range(len(target_dreams[i])):\n",
        "#      print(i, e)\n",
        "     if target_dreams[i][e]==1:\n",
        "        words_anne_dreams.extend(full_para_list_dreams[i][e].split())\n",
        "        \n",
        "tag_anne_dreams = nltk.pos_tag(words_anne_dreams)\n",
        "\n",
        "list_of_tags_anne_dreams = [i[1] for i in tag_anne_dreams]\n",
        "x_tagname = []\n",
        "y_tagcount = []\n",
        "for i in list(set(list_of_tags_anne_dreams)):\n",
        "  y_tagcount.append(list_of_tags_anne_dreams.count(i))\n",
        "  x_tagname.append(i)\n",
        "  \n",
        "# full_gables_tags.loc[\"anne_tagname\"] = x_tagname\n",
        "# full_gables_tags.loc[\"anne_tagcount\"] = y_tagcount\n",
        "full_dreams_tags[\"anne_tagcount\"] = 0\n",
        "for i in range(len(full_dreams_tags)):\n",
        "  if full_dreams_tags[\"tagname\"][i] in x_tagname:\n",
        "    full_dreams_tags[\"anne_tagcount\"][i] = y_tagcount[x_tagname.index(full_dreams_tags[\"tagname\"][i])]\n",
        "    \n",
        "    \n",
        "full_dreams_tags[\"anne_tagcount\"] = full_dreams_tags[\"anne_tagcount\"]"
      ],
      "execution_count": 6,
      "outputs": [
        {
          "output_type": "stream",
          "text": [
            "/usr/local/lib/python3.6/dist-packages/ipykernel_launcher.py:22: SettingWithCopyWarning: \n",
            "A value is trying to be set on a copy of a slice from a DataFrame\n",
            "\n",
            "See the caveats in the documentation: http://pandas.pydata.org/pandas-docs/stable/indexing.html#indexing-view-versus-copy\n"
          ],
          "name": "stderr"
        }
      ]
    },
    {
      "cell_type": "code",
      "metadata": {
        "id": "02bSJH0FQf1D",
        "colab_type": "code",
        "colab": {
          "base_uri": "https://localhost:8080/",
          "height": 34
        },
        "outputId": "33bbac8c-955d-4276-8ded-6ce438203aa9"
      },
      "source": [
        "len(target_dreams)"
      ],
      "execution_count": 7,
      "outputs": [
        {
          "output_type": "execute_result",
          "data": {
            "text/plain": [
              "10655"
            ]
          },
          "metadata": {
            "tags": []
          },
          "execution_count": 7
        }
      ]
    },
    {
      "cell_type": "code",
      "metadata": {
        "id": "cbDTD1REvRDS",
        "colab_type": "code",
        "colab": {}
      },
      "source": [
        "import nltk\n",
        "\n",
        "word_list_gables = gables.split()\n",
        "# word_list_dreams[:10]\n",
        "postagged_word_list_gables = nltk.pos_tag(word_list_gables)\n",
        "\n",
        "list_of_tags = [i[1] for i in postagged_word_list_gables]\n",
        "x_tagname = []\n",
        "y_tagcount = []\n",
        "for i in list(set(list_of_tags)):\n",
        "  y_tagcount.append(list_of_tags.count(i))\n",
        "  x_tagname.append(i)\n",
        "  \n",
        "full_gables_tags = pd.DataFrame({\"tagname\":x_tagname, \"tagcount\":y_tagcount})"
      ],
      "execution_count": 0,
      "outputs": []
    },
    {
      "cell_type": "code",
      "metadata": {
        "id": "vyUab-2tdzq4",
        "colab_type": "code",
        "colab": {
          "base_uri": "https://localhost:8080/",
          "height": 87
        },
        "outputId": "c82df510-303b-4689-d953-5c184c72d647"
      },
      "source": [
        "words_anne_gables = []\n",
        "for i in range(len(target_gables)):\n",
        "  for e in range(len(target_gables[i])):\n",
        "     # print(i, e)\n",
        "     if target_gables[i][e]==1:\n",
        "        words_anne_gables.extend(full_para_list_gables[i][e].split())\n",
        "        \n",
        "tag_anne_gables = nltk.pos_tag(words_anne_gables)\n",
        "\n",
        "list_of_tags_anne = [i[1] for i in tag_anne_gables]\n",
        "x_tagname = []\n",
        "y_tagcount = []\n",
        "for i in list(set(list_of_tags_anne)):\n",
        "  y_tagcount.append(list_of_tags_anne.count(i))\n",
        "  x_tagname.append(i)\n",
        "  \n",
        "# full_gables_tags.loc[\"anne_tagname\"] = x_tagname\n",
        "# full_gables_tags.loc[\"anne_tagcount\"] = y_tagcount\n",
        "full_gables_tags[\"anne_tagcount\"] = 0\n",
        "for i in range(len(full_gables_tags)):\n",
        "  if full_gables_tags[\"tagname\"][i] in x_tagname:\n",
        "    full_gables_tags[\"anne_tagcount\"][i] = y_tagcount[x_tagname.index(full_gables_tags[\"tagname\"][i])]\n",
        "    \n",
        "    \n",
        "full_gables_tags[\"anne_tagcount\"] = full_gables_tags[\"anne_tagcount\"]"
      ],
      "execution_count": 9,
      "outputs": [
        {
          "output_type": "stream",
          "text": [
            "/usr/local/lib/python3.6/dist-packages/ipykernel_launcher.py:22: SettingWithCopyWarning: \n",
            "A value is trying to be set on a copy of a slice from a DataFrame\n",
            "\n",
            "See the caveats in the documentation: http://pandas.pydata.org/pandas-docs/stable/indexing.html#indexing-view-versus-copy\n"
          ],
          "name": "stderr"
        }
      ]
    },
    {
      "cell_type": "code",
      "metadata": {
        "id": "2sYMTAZCwRr4",
        "colab_type": "code",
        "outputId": "0ee7e385-7616-4e90-d267-2716148d952b",
        "colab": {
          "base_uri": "https://localhost:8080/",
          "height": 194
        }
      },
      "source": [
        "for i in full_gables_tags[\"tagname\"]:\n",
        "  if i not in full_dreams_tags[\"tagname\"]:\n",
        "    full_dreams_tags[\"tagname\"][i] = 0.01\n",
        "\n",
        "#   if full_gables_tags[\"tagcount\"]\n",
        "    \n",
        "for i in full_dreams_tags[\"tagname\"]:\n",
        "  if i not in full_gables_tags[\"tagname\"]:\n",
        "    full_gables_tags[\"tagname\"][i] = 0.01\n",
        "    \n",
        "full_dreams_tags.loc[full_dreams_tags[\"tagcount\"]==0, \"tagcount\"] = 0.0001\n",
        "full_gables_tags.loc[full_gables_tags[\"tagcount\"]==0, \"tagcount\"] = 0.0001\n",
        "full_dreams_tags.loc[full_dreams_tags[\"anne_tagcount\"]==0, \"anne_tagcount\"] = 0.0001\n",
        "full_gables_tags.loc[full_gables_tags[\"anne_tagcount\"]==0, \"anne_tagcount\"] = 0.0001\n"
      ],
      "execution_count": 10,
      "outputs": [
        {
          "output_type": "stream",
          "text": [
            "/usr/local/lib/python3.6/dist-packages/ipykernel_launcher.py:3: SettingWithCopyWarning: \n",
            "A value is trying to be set on a copy of a slice from a DataFrame\n",
            "\n",
            "See the caveats in the documentation: http://pandas.pydata.org/pandas-docs/stable/indexing.html#indexing-view-versus-copy\n",
            "  This is separate from the ipykernel package so we can avoid doing imports until\n",
            "/usr/local/lib/python3.6/dist-packages/ipykernel_launcher.py:9: SettingWithCopyWarning: \n",
            "A value is trying to be set on a copy of a slice from a DataFrame\n",
            "\n",
            "See the caveats in the documentation: http://pandas.pydata.org/pandas-docs/stable/indexing.html#indexing-view-versus-copy\n",
            "  if __name__ == '__main__':\n"
          ],
          "name": "stderr"
        }
      ]
    },
    {
      "cell_type": "code",
      "metadata": {
        "id": "zy959maHCUV5",
        "colab_type": "code",
        "colab": {}
      },
      "source": [
        "# full_dreams_tags"
      ],
      "execution_count": 0,
      "outputs": []
    },
    {
      "cell_type": "code",
      "metadata": {
        "id": "4hDUq9yKii56",
        "colab_type": "code",
        "outputId": "d7a2af30-d09c-4e17-c69f-9aaea2205e1f",
        "colab": {
          "base_uri": "https://localhost:8080/",
          "height": 123
        }
      },
      "source": [
        "from scipy.stats import chi2_contingency\n",
        "print(chi2_contingency(full_gables_tags.iloc[:,1:])[:2])\n",
        "print(chi2_contingency(full_dreams_tags.iloc[:,1:])[:2])\n",
        "print(chi2_contingency(pd.DataFrame({\"0\":np.array(full_gables_tags.iloc[:,2]), \"1\": np.array(full_dreams_tags.iloc[:,2])}))[:2])\n",
        "print(chi2_contingency(pd.DataFrame({\"0\":np.array(full_gables_tags.iloc[:,1]), \"1\": np.array(full_dreams_tags.iloc[:,1])}))[:2])\n",
        "print(chi2_contingency(pd.DataFrame({\"0\":np.array(full_gables_tags.iloc[:,1]), \"1\": np.array(full_dreams_tags.iloc[:,2])}))[:2])\n",
        "print(chi2_contingency(pd.DataFrame({\"0\":np.array(full_gables_tags.iloc[:,2]), \"1\": np.array(full_dreams_tags.iloc[:,1])}))[:2])"
      ],
      "execution_count": 11,
      "outputs": [
        {
          "output_type": "stream",
          "text": [
            "(2064.6737897789008, 0.0)\n",
            "(1780.724296864098, 0.0)\n",
            "(5363.322082921788, 0.0)\n",
            "(49193.59682453398, 0.0)\n",
            "(25975.571332693726, 0.0)\n",
            "(16349.18874766505, 0.0)\n"
          ],
          "name": "stdout"
        }
      ]
    }
  ]
}