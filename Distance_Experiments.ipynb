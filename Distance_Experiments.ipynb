{
  "nbformat": 4,
  "nbformat_minor": 0,
  "metadata": {
    "colab": {
      "name": "Distance Experiments.ipynb",
      "provenance": [],
      "collapsed_sections": [],
      "toc_visible": true,
      "include_colab_link": true
    },
    "kernelspec": {
      "display_name": "Python 3",
      "language": "python",
      "name": "python3"
    }
  },
  "cells": [
    {
      "cell_type": "markdown",
      "metadata": {
        "id": "view-in-github",
        "colab_type": "text"
      },
      "source": [
        "<a href=\"https://colab.research.google.com/github/nicolenair/capstone/blob/master/Distance_Experiments.ipynb\" target=\"_parent\"><img src=\"https://colab.research.google.com/assets/colab-badge.svg\" alt=\"Open In Colab\"/></a>"
      ]
    },
    {
      "cell_type": "code",
      "metadata": {
        "id": "YlL6OZZYuLPv",
        "colab_type": "code",
        "outputId": "236c0dd4-e506-49fa-e448-6108e90ef6d5",
        "colab": {
          "base_uri": "https://localhost:8080/",
          "height": 411
        }
      },
      "source": [
        "import os\n",
        "!pip install --upgrade gensim\n",
        "\n",
        "import nltk\n",
        "nltk.download('punkt')\n",
        "\n",
        "def install_java():\n",
        "  !apt-get install -y openjdk-8-jdk-headless -qq > /dev/null      #install openjdk\n",
        "  os.environ[\"JAVA_HOME\"] = \"/usr/lib/jvm/java-8-openjdk-amd64\"     #set environment variable\n",
        "  !java -version       #check java version\n",
        "install_java()"
      ],
      "execution_count": 1,
      "outputs": [
        {
          "output_type": "stream",
          "text": [
            "Requirement already up-to-date: gensim in /usr/local/lib/python3.6/dist-packages (3.8.1)\n",
            "Requirement already satisfied, skipping upgrade: numpy>=1.11.3 in /usr/local/lib/python3.6/dist-packages (from gensim) (1.17.4)\n",
            "Requirement already satisfied, skipping upgrade: smart-open>=1.8.1 in /usr/local/lib/python3.6/dist-packages (from gensim) (1.9.0)\n",
            "Requirement already satisfied, skipping upgrade: six>=1.5.0 in /usr/local/lib/python3.6/dist-packages (from gensim) (1.12.0)\n",
            "Requirement already satisfied, skipping upgrade: scipy>=0.18.1 in /usr/local/lib/python3.6/dist-packages (from gensim) (1.3.3)\n",
            "Requirement already satisfied, skipping upgrade: boto>=2.32 in /usr/local/lib/python3.6/dist-packages (from smart-open>=1.8.1->gensim) (2.49.0)\n",
            "Requirement already satisfied, skipping upgrade: requests in /usr/local/lib/python3.6/dist-packages (from smart-open>=1.8.1->gensim) (2.21.0)\n",
            "Requirement already satisfied, skipping upgrade: boto3 in /usr/local/lib/python3.6/dist-packages (from smart-open>=1.8.1->gensim) (1.10.32)\n",
            "Requirement already satisfied, skipping upgrade: urllib3<1.25,>=1.21.1 in /usr/local/lib/python3.6/dist-packages (from requests->smart-open>=1.8.1->gensim) (1.24.3)\n",
            "Requirement already satisfied, skipping upgrade: idna<2.9,>=2.5 in /usr/local/lib/python3.6/dist-packages (from requests->smart-open>=1.8.1->gensim) (2.8)\n",
            "Requirement already satisfied, skipping upgrade: certifi>=2017.4.17 in /usr/local/lib/python3.6/dist-packages (from requests->smart-open>=1.8.1->gensim) (2019.11.28)\n",
            "Requirement already satisfied, skipping upgrade: chardet<3.1.0,>=3.0.2 in /usr/local/lib/python3.6/dist-packages (from requests->smart-open>=1.8.1->gensim) (3.0.4)\n",
            "Requirement already satisfied, skipping upgrade: s3transfer<0.3.0,>=0.2.0 in /usr/local/lib/python3.6/dist-packages (from boto3->smart-open>=1.8.1->gensim) (0.2.1)\n",
            "Requirement already satisfied, skipping upgrade: jmespath<1.0.0,>=0.7.1 in /usr/local/lib/python3.6/dist-packages (from boto3->smart-open>=1.8.1->gensim) (0.9.4)\n",
            "Requirement already satisfied, skipping upgrade: botocore<1.14.0,>=1.13.32 in /usr/local/lib/python3.6/dist-packages (from boto3->smart-open>=1.8.1->gensim) (1.13.32)\n",
            "Requirement already satisfied, skipping upgrade: python-dateutil<2.8.1,>=2.1; python_version >= \"2.7\" in /usr/local/lib/python3.6/dist-packages (from botocore<1.14.0,>=1.13.32->boto3->smart-open>=1.8.1->gensim) (2.6.1)\n",
            "Requirement already satisfied, skipping upgrade: docutils<0.16,>=0.10 in /usr/local/lib/python3.6/dist-packages (from botocore<1.14.0,>=1.13.32->boto3->smart-open>=1.8.1->gensim) (0.15.2)\n",
            "[nltk_data] Downloading package punkt to /root/nltk_data...\n",
            "[nltk_data]   Package punkt is already up-to-date!\n",
            "openjdk version \"11.0.4\" 2019-07-16\n",
            "OpenJDK Runtime Environment (build 11.0.4+11-post-Ubuntu-1ubuntu218.04.3)\n",
            "OpenJDK 64-Bit Server VM (build 11.0.4+11-post-Ubuntu-1ubuntu218.04.3, mixed mode, sharing)\n"
          ],
          "name": "stdout"
        }
      ]
    },
    {
      "cell_type": "code",
      "metadata": {
        "id": "yCMiSdf_DG3n",
        "colab_type": "code",
        "colab": {}
      },
      "source": [
        "# !wget http://mallet.cs.umass.edu/dist/mallet-2.0.8.zip\n",
        "# !unzip mallet-2.0.8.zip"
      ],
      "execution_count": 0,
      "outputs": []
    },
    {
      "cell_type": "code",
      "metadata": {
        "id": "Sb12I3GvV_Gm",
        "colab_type": "code",
        "outputId": "608c0feb-e675-43f7-8e8e-42d94727537b",
        "colab": {
          "base_uri": "https://localhost:8080/",
          "height": 34
        }
      },
      "source": [
        "from google.colab import drive\n",
        "drive.mount('/content/gdrive', force_remount = True)\n",
        "# os.chdir(\"/content/gdrive/My Drive/Colab Notebooks/CAPSTONE\")\n",
        "direc = \"/content/gdrive/My Drive/Colab Notebooks/CAPSTONE/\""
      ],
      "execution_count": 3,
      "outputs": [
        {
          "output_type": "stream",
          "text": [
            "Mounted at /content/gdrive\n"
          ],
          "name": "stdout"
        }
      ]
    },
    {
      "cell_type": "code",
      "metadata": {
        "id": "taaK2gE9Toa-",
        "colab_type": "code",
        "colab": {}
      },
      "source": [
        "#!pip install import_ipynb\n",
        "from bs4 import BeautifulSoup\n",
        "import requests\n",
        "import numpy as np\n",
        "import pandas as pd\n",
        "import os\n",
        "import re\n",
        "import os\n",
        "import importlib\n",
        "import nltk\n",
        "import matplotlib.pyplot as plt\n",
        "import gensim\n",
        "from gensim.models.doc2vec import Doc2Vec, TaggedDocument"
      ],
      "execution_count": 0,
      "outputs": []
    },
    {
      "cell_type": "code",
      "metadata": {
        "id": "96XXzcW-V-EQ",
        "colab_type": "code",
        "colab": {}
      },
      "source": [
        "# importlib.reload(anno_auto)"
      ],
      "execution_count": 0,
      "outputs": []
    },
    {
      "cell_type": "code",
      "metadata": {
        "id": "kusdyuiaX_YY",
        "colab_type": "code",
        "colab": {}
      },
      "source": [
        "# import os\n",
        "# os.listdir(\"/content/gdrive/My Drive/Nicole-Internship-Complete-Folder/chatbot - all/chatbot-flask/GoogleNews-vectors-negative300.bin.gz\")"
      ],
      "execution_count": 0,
      "outputs": []
    },
    {
      "cell_type": "code",
      "metadata": {
        "id": "xcnPuUeyNbjs",
        "colab_type": "code",
        "colab": {}
      },
      "source": [
        "#pasting all utterances into lists\n",
        "property_ = \"speaking\"\n",
        "file1 = open(direc+\"gables_{}_list.txt\".format(property_), \"r\")\n",
        "file2 = open(direc+\"avonlea_{}_list.txt\".format(property_), \"r\")\n",
        "file3 = open(direc+\"island_{}_list.txt\".format(property_), \"r\")\n",
        "file4 = open(direc+\"poplars_{}_list.txt\".format(property_), \"r\")\n",
        "file5 = open(direc+\"dreams_{}_list.txt\".format(property_), \"r\")\n",
        "file6 = open(direc+\"ingleside_{}_list.txt\".format(property_), \"r\")\n",
        "file7 = open(direc+\"rainbow_{}_list.txt\".format(property_), \"r\")\n",
        "file8 = open(direc+\"rilla_{}_list.txt\".format(property_), \"r\")\n",
        "sentence_gables = []\n",
        "sentence_dreams = []\n",
        "sentence_island = []\n",
        "sentence_avonlea = []\n",
        "sentence_poplars = []\n",
        "sentence_ingleside = []\n",
        "sentence_rainbow = []\n",
        "sentence_rilla = []\n",
        "target_gables = []\n",
        "target_dreams = []\n",
        "target_island = []\n",
        "target_avonlea = [] ###\n",
        "target_poplars = []\n",
        "target_ingleside = []\n",
        "target_rainbow = []\n",
        "target_rilla = [] ###\n",
        "\n",
        "file1_lines =file1.readlines()\n",
        "file2_lines = file2.readlines()\n",
        "file3_lines = file3.readlines()\n",
        "file4_lines = file4.readlines()\n",
        "file5_lines = file5.readlines()\n",
        "file6_lines = file6.readlines()\n",
        "file7_lines = file7.readlines()\n",
        "file8_lines = file8.readlines()\n",
        "\n",
        "files = [file1_lines, file2_lines, file3_lines ,file4_lines, file5_lines, file6_lines, file7_lines, file8_lines]\n",
        "sentences = [sentence_gables, sentence_avonlea, sentence_island, sentence_poplars, sentence_dreams, sentence_ingleside, sentence_rainbow, sentence_rilla]\n",
        "targets_pre = [target_gables, target_avonlea, target_island, target_poplars, target_dreams, target_ingleside, target_rainbow, target_rilla]\n",
        "\n",
        "#we have saved it in line by line formats in the file, so we need to extract it here\n",
        "for s in range(len(sentences)):\n",
        "  for i in range(len(files[s])):\n",
        "    if i%2==0:\n",
        "      sentences[s].append([files[s][i]])\n",
        "    else:\n",
        "      targets_pre[s].append(files[s][i])\n",
        "  # file.close()"
      ],
      "execution_count": 0,
      "outputs": []
    },
    {
      "cell_type": "code",
      "metadata": {
        "id": "QgaOzHe21Ah1",
        "colab_type": "code",
        "colab": {}
      },
      "source": [
        "#labeling book & character\n",
        "from gensim.utils import simple_preprocess\n",
        "book_character_labels = []\n",
        "#contains tuples of character and book labels\n",
        "\n",
        "for i in range(len(targets_pre)):\n",
        "  for e in targets_pre[i]:\n",
        "    in_labs = False\n",
        "    for n in e.split(\",\")[1::2]:\n",
        "      if (n, i) in book_character_labels:\n",
        "        in_labs = n\n",
        "    if in_labs==False:\n",
        "      character_name_lengths = np.array([len(n) for n in e.split(\",\")[1::2]])\n",
        "      book_character_labels.append((i, e.split(\",\")[np.argmax(character_name_lengths)*2+1]))\n",
        "    else:\n",
        "      book_character_labels.append((i, in_labs))\n",
        "\n",
        "# book_character_labels = [(character_labels[e], book_labels[e]) for e in range(len(character_labels))]\n",
        "\n",
        "sentences_flattened = []\n",
        "for i in sentences:\n",
        "  for e in i:\n",
        "    sentences_flattened.append(simple_preprocess(e[0]))\n",
        "    #after we have labelled the sentences, there is no longer a need to \n",
        "    #keep them in book lists, we keep it simply as a full list of utterances"
      ],
      "execution_count": 0,
      "outputs": []
    },
    {
      "cell_type": "code",
      "metadata": {
        "id": "qUUejRz3GyPR",
        "colab_type": "code",
        "colab": {}
      },
      "source": [
        "def find_vector_for_character(characters_as_vectors, names, book = \"all\"):\n",
        "  anne_vectors_lda = []\n",
        "  if book==\"all\":\n",
        "    for i in range(len(character_documents.keys())):\n",
        "      if names[0] in list(character_documents.keys())[i][1] or names[1] in list(character_documents.keys())[i][1]  or \"Mrs. Blythe\" in list(character_documents.keys())[i][1]: #or 'Diana' in list(character_documents.keys())[i][1] or \"Jem\" in list(character_documents.keys())[i][1] or \"Davy\" in list(character_documents.keys())[i][1] or \"Leslie\" in list(character_documents.keys())[i][1] or \"Cornelia\" in list(character_documents.keys())[i][1]:\n",
        "    #     print('ok')\n",
        "          if book_character_labels.count(list(character_documents.keys())[i])>5:\n",
        "            anne_vectors_lda.append(characters_as_vectors[i])\n",
        "    return anne_vectors_lda\n",
        "  else:\n",
        "    for i in range(len(character_documents.keys())):\n",
        "      if names[0] in list(character_documents.keys())[i][1] or names[1] in list(character_documents.keys())[i][1]  or \"Mrs. Blythe\" in list(character_documents.keys())[i][1]: #or 'Diana' in list(character_documents.keys())[i][1] or \"Jem\" in list(character_documents.keys())[i][1] or \"Davy\" in list(character_documents.keys())[i][1] or \"Leslie\" in list(character_documents.keys())[i][1] or \"Cornelia\" in list(character_documents.keys())[i][1]:\n",
        "    #     print('ok')\n",
        "          if book==list(character_documents.keys())[i][0]:\n",
        "            if book_character_labels.count(list(character_documents.keys())[i])>5:\n",
        "              anne_vectors_lda.append(characters_as_vectors[i])\n",
        "              break\n",
        "    return np.array(anne_vectors_lda)\n",
        "    #getting the vector for a CBB from the trained lda model\n"
      ],
      "execution_count": 0,
      "outputs": []
    },
    {
      "cell_type": "code",
      "metadata": {
        "id": "EYzJG-3639qZ",
        "colab_type": "code",
        "colab": {}
      },
      "source": [
        "import spacy\n",
        "nlp = spacy.load('en', disable=['parser', 'ner'])\n",
        "\n",
        "def lemmatization(texts):\n",
        "    \"\"\"https://spacy.io/api/annotation\"\"\"\n",
        "    texts_out = []\n",
        "    for sent in texts:\n",
        "        doc = nlp(\" \".join(sent)) \n",
        "        texts_out.append(\" \".join([token.lemma_ for token in doc]))\n",
        "    return texts_out"
      ],
      "execution_count": 0,
      "outputs": []
    },
    {
      "cell_type": "code",
      "metadata": {
        "id": "brr45vS89eWx",
        "colab_type": "code",
        "colab": {}
      },
      "source": [
        "character_documents = {}\n",
        "\n",
        "for i in range(len(sentences_flattened)):\n",
        "  a = character_documents.get(book_character_labels[i], [])\n",
        "  a.append(\"\\n\")\n",
        "  a.extend(sentences_flattened[i])\n",
        "  character_documents[book_character_labels[i]] = a\n",
        "  \n",
        "anne_characters = []\n",
        "anne_vectors = []\n",
        "for i in range(len(character_documents.keys())):\n",
        "  if 'Anne ' in list(character_documents.keys())[i][1] or 'Miss Blythe' in list(character_documents.keys())[i][1]  or \"Mrs. Blythe\" in list(character_documents.keys())[i][1]: #or 'Diana' in list(character_documents.keys())[i][1] or \"Jem\" in list(character_documents.keys())[i][1] or \"Davy\" in list(character_documents.keys())[i][1] or \"Leslie\" in list(character_documents.keys())[i][1] or \"Cornelia\" in list(character_documents.keys())[i][1]:\n",
        "#     print('ok')\n",
        "      if book_character_labels.count(list(character_documents.keys())[i])>5:\n",
        "        anne_characters.append((list(character_documents.keys())[i], \"count:{}\".format(book_character_labels.count(list(character_documents.keys())[i]))))\n",
        "\n",
        "documents = [TaggedDocument(doc, [i]) for i, doc in enumerate(list(character_documents.values()))]"
      ],
      "execution_count": 0,
      "outputs": []
    },
    {
      "cell_type": "markdown",
      "metadata": {
        "id": "mBV2JUrF6fdv",
        "colab_type": "text"
      },
      "source": [
        "# Representing characters (Doc2Vec)"
      ]
    },
    {
      "cell_type": "code",
      "metadata": {
        "id": "PYYKG7aQlcv4",
        "colab_type": "code",
        "colab": {}
      },
      "source": [
        "#this cell is used to train the doc2vec model,\n",
        "#but we reuse character_documents and and anne_characters elsewhere\n",
        "from nltk.tokenize import sent_tokenize\n",
        "from gensim.test.utils import common_texts\n",
        "from gensim.utils import simple_preprocess\n",
        "from gensim import corpora, models\n",
        "from gensim.test.utils import common_corpus, common_dictionary\n",
        "from gensim.models.wrappers import LdaMallet\n",
        "from gensim.models import LdaMulticore\n",
        "from gensim.models.coherencemodel import CoherenceModel\n",
        "import random\n",
        "import timeit\n",
        "\n",
        "os.environ['MALLET_HOME'] = '/content/mallet-2.0.8'\n",
        "mallet_path = '/content/mallet-2.0.8/bin/mallet' # you should NOT need to change this \n",
        "\n",
        "def train_doc2vec(randomise=False):\n",
        "  if randomise==False:\n",
        "    model_d2v = Doc2Vec(documents, vector_size=300, window=3, min_count=1, workers=4, dm = 1)\n",
        "  else:\n",
        "    model_d2v = Doc2Vec(random.sample(documents, len(documents)), vector_size=300, window=3, min_count=1, workers=4, dm = 1)\n",
        "  characters_as_vectors = np.array([model_d2v.infer_vector(i) for i in list(character_documents.values())])\n",
        "\n",
        "  anne_vectors = []\n",
        "  for i in range(len(character_documents.keys())):\n",
        "    if 'Anne ' in list(character_documents.keys())[i][1] or 'Miss Blythe' in list(character_documents.keys())[i][1]  or \"Mrs. Blythe\" in list(character_documents.keys())[i][1]: #or 'Diana' in list(character_documents.keys())[i][1] or \"Jem\" in list(character_documents.keys())[i][1] or \"Davy\" in list(character_documents.keys())[i][1] or \"Leslie\" in list(character_documents.keys())[i][1] or \"Cornelia\" in list(character_documents.keys())[i][1]:\n",
        "  #     print('ok')\n",
        "        if book_character_labels.count(list(character_documents.keys())[i])>5:\n",
        "          anne_vectors.append(characters_as_vectors[i])\n",
        "  return anne_vectors, characters_as_vectors\n",
        "\n",
        "anne_vectors, characters_as_vectors = train_doc2vec()\n",
        "        "
      ],
      "execution_count": 0,
      "outputs": []
    },
    {
      "cell_type": "code",
      "metadata": {
        "id": "OiZqg-q2FZm4",
        "colab_type": "code",
        "colab": {}
      },
      "source": [
        "def train_lda(randomise=False):\n",
        "  start = timeit.default_timer()\n",
        "  if randomise==False:\n",
        "    processed_docs = [i[0] for i in documents]\n",
        "    processed_docs  = [i.split() for i in lemmatization(processed_docs)]#change the corpus to bag of words\n",
        "    dictionary = gensim.corpora.Dictionary(processed_docs)\n",
        "    bow_corpus = [dictionary.doc2bow(doc) for doc in processed_docs]\n",
        "  else:\n",
        "    processed_docs = [i[0] for i in random.sample(documents, len(documents))]\n",
        "    processed_docs  = [i.split() for i in lemmatization(processed_docs)]#change the corpus to bag of words\n",
        "    dictionary = gensim.corpora.Dictionary(processed_docs)\n",
        "    bow_corpus = [dictionary.doc2bow(doc) for doc in processed_docs]\n",
        "  # tfidf = models.TfidfModel(bow_corpus)\n",
        "  # corpus_tfidf = tfidf[bow_corpus]\n",
        "  #convert bow to tfidf\n",
        "  # coherences = []\n",
        "  # for n in [5, 10, 20, 30, 40, 50]:\n",
        "  #   lda_model= LdaModel(corpus=bow_corpus, num_topics=n, id2word=dictionary, minimum_probability=0.0)\n",
        "  #   cm = CoherenceModel(model=lda_model, corpus=common_corpus, coherence='u_mass')\n",
        "  #   coherence = cm.get_coherence()  # get coherence valuecm.for_topics()\n",
        "  #   coherences.append(coherence)\n",
        "  # lda_model= LdaModel(corpus=bow_corpus, num_topics=[5, 10, 20, 30, 40, 50][np.argmax(coherences)], id2word=dictionary, minimum_probability=0.0)\n",
        "  lda_model= LdaModel(corpus=bow_corpus, num_topics=50, id2word=dictionary, minimum_probability=0.0)\n",
        "  # cm = CoherenceModel(model=lda_model, corpus=common_corpus, coherence='u_mass')\n",
        "  # coherence = cm.get_coherence()  # get coherence valuecm.for_topics()\n",
        "  # coherence_by_topic = cm.get_coherence_per_topic()\n",
        "  # np.exp((coherence_by_topic/2)*N*(N-1))\n",
        "  # plt.hist(coherence_by_topic)\n",
        "  # plt.show()\n",
        "  # for idx, topic in lda_model.print_topics(-1):\n",
        "  #   print('Topic: {} Word: {}'.format(idx, topic))\n",
        "  characters_as_vectors_lda = [[e[1] for e in lda_model[i]] for i in bow_corpus]\n",
        "  anne_vectors_lda = find_vector_for_character(characters_as_vectors_lda, [\"Anne\", \"Miss Blythe\"])\n",
        "  return anne_vectors_lda, characters_as_vectors_lda\n",
        "\n",
        "# start = timeit.default_timer()\n",
        "# anne_vectors_lda, characters_as_vectors_lda = train_lda()\n",
        "# stop = timeit.default_timer()"
      ],
      "execution_count": 0,
      "outputs": []
    },
    {
      "cell_type": "markdown",
      "metadata": {
        "id": "hM4dMY7f6rla",
        "colab_type": "text"
      },
      "source": [
        "# Cosine similarity (Doc2Vec)"
      ]
    },
    {
      "cell_type": "code",
      "metadata": {
        "id": "FXAiq-5n6pNN",
        "colab_type": "code",
        "colab": {}
      },
      "source": [
        "from sklearn.metrics.pairwise import cosine_similarity as cosine\n",
        "\n",
        "def cosine_d2v(anne_vectors):\n",
        "  cosine_similarities = np.zeros((len(anne_vectors), len(anne_vectors)))\n",
        "  for i in range(len(anne_vectors)):\n",
        "    for e in range(len(anne_vectors)):\n",
        "      cosine_similarities[i][e] = float(cosine(anne_vectors[i].reshape(1, -1), anne_vectors[e].reshape(1, -1)))\n",
        "\n",
        "  d = pd.DataFrame(cosine_similarities, columns = anne_characters, index = anne_characters)\n",
        "  return d"
      ],
      "execution_count": 0,
      "outputs": []
    },
    {
      "cell_type": "code",
      "metadata": {
        "id": "n9_EVnuxZuiv",
        "colab_type": "code",
        "outputId": "136c9eb7-e50d-4795-d016-58bba5ac28d6",
        "colab": {
          "base_uri": "https://localhost:8080/",
          "height": 366
        }
      },
      "source": [
        "for i in range(5):\n",
        "  anne_vectors, characters_as_vectors = train_doc2vec()\n",
        "  d = cosine_lda(anne_vectors)\n",
        "  plt.plot(range(8), list(d.iloc[0][:-2]) + [np.mean(d.iloc[0, -2:])])\n",
        "  plt.title(\"Character2Vec Cosine Similarity Anne AGG & Anne other\")\n",
        "plt.show()"
      ],
      "execution_count": 86,
      "outputs": [
        {
          "output_type": "stream",
          "text": [
            "0.9900941848754883\n",
            "0.976150631904602\n",
            "0.9875559210777283\n",
            "0.9729911088943481\n",
            "0.9908325672149658\n"
          ],
          "name": "stdout"
        },
        {
          "output_type": "display_data",
          "data": {
            "image/png": "[encoded data removed]",
            "text/plain": [
              "<Figure size 432x288 with 1 Axes>"
            ]
          },
          "metadata": {
            "tags": []
          }
        }
      ]
    },
    {
      "cell_type": "markdown",
      "metadata": {
        "id": "gAVYc0yv7M6r",
        "colab_type": "text"
      },
      "source": [
        "# Cosine similarity Latent Dirichlet Allocation"
      ]
    },
    {
      "cell_type": "code",
      "metadata": {
        "id": "SOX7tgB77QQH",
        "colab_type": "code",
        "colab": {}
      },
      "source": [
        "def cosine_lda(anne_vectors_lda):\n",
        "  anne_vectors_lda = [np.array(i) for i in anne_vectors_lda]\n",
        "  from sklearn.metrics.pairwise import cosine_similarity as cosine\n",
        "  cosine_similarities = np.zeros((len(anne_vectors_lda), len(anne_vectors_lda)))\n",
        "  for i in range(len(anne_vectors_lda)):\n",
        "    for e in range(len(anne_vectors_lda)):\n",
        "      try:\n",
        "         cosine_similarities[i][e] = float(cosine(anne_vectors_lda[i].reshape(1, -1), anne_vectors_lda[e].reshape(1, -1)))\n",
        "      except:\n",
        "        print(i, e)\n",
        "  d = pd.DataFrame(cosine_similarities, columns = anne_characters, index = anne_characters)\n",
        "  return d\n",
        "d = cosine_lda(anne_vectors_lda)"
      ],
      "execution_count": 0,
      "outputs": []
    },
    {
      "cell_type": "code",
      "metadata": {
        "id": "45qkeJbwb2Cc",
        "colab_type": "code",
        "outputId": "49d84c7d-71a6-41d2-e68a-35a20d3e5101",
        "colab": {
          "base_uri": "https://localhost:8080/",
          "height": 281
        }
      },
      "source": [
        "for i in range(5):\n",
        "  anne_vectors_lda, characters_as_vectors_lda = train_lda()\n",
        "  d = cosine_lda(anne_vectors_lda)\n",
        "  plt.plot(range(8), list(d.iloc[0][:-2]) + [np.mean(d.iloc[0, -2:])])\n",
        "  plt.title(\"LDA-C Cosine Similarity Anne AGG & Anne other\")\n",
        "plt.show()"
      ],
      "execution_count": 100,
      "outputs": [
        {
          "output_type": "display_data",
          "data": {
            "image/png": "[encoded data removed]",
            "text/plain": [
              "<Figure size 432x288 with 1 Axes>"
            ]
          },
          "metadata": {
            "tags": []
          }
        }
      ]
    },
    {
      "cell_type": "code",
      "metadata": {
        "id": "XbUE-aaOur32",
        "colab_type": "code",
        "colab": {
          "base_uri": "https://localhost:8080/",
          "height": 668
        },
        "outputId": "bc977163-c226-4aa1-e76e-0a91e7b95ef8"
      },
      "source": [
        "d"
      ],
      "execution_count": 101,
      "outputs": [
        {
          "output_type": "execute_result",
          "data": {
            "text/html": [
              "<div>\n",
              "<style scoped>\n",
              "    .dataframe tbody tr th:only-of-type {\n",
              "        vertical-align: middle;\n",
              "    }\n",
              "\n",
              "    .dataframe tbody tr th {\n",
              "        vertical-align: top;\n",
              "    }\n",
              "\n",
              "    .dataframe thead th {\n",
              "        text-align: right;\n",
              "    }\n",
              "</style>\n",
              "<table border=\"1\" class=\"dataframe\">\n",
              "  <thead>\n",
              "    <tr style=\"text-align: right;\">\n",
              "      <th></th>\n",
              "      <th>((0, Anne Shirley), count:495)</th>\n",
              "      <th>((1, Anne Shirley), count:488)</th>\n",
              "      <th>((2, Anne Shirley), count:454)</th>\n",
              "      <th>((3, Anne Shirley), count:243)</th>\n",
              "      <th>((4, Anne Shirley), count:365)</th>\n",
              "      <th>((5, Anne Cordelia), count:211)</th>\n",
              "      <th>((6, Anne dearie), count:42)</th>\n",
              "      <th>((7, Anne dearie), count:10)</th>\n",
              "      <th>((7, Mrs. Blythe), count:42)</th>\n",
              "    </tr>\n",
              "  </thead>\n",
              "  <tbody>\n",
              "    <tr>\n",
              "      <th>((0, Anne Shirley), count:495)</th>\n",
              "      <td>1.000000</td>\n",
              "      <td>0.999157</td>\n",
              "      <td>0.974922</td>\n",
              "      <td>0.999463</td>\n",
              "      <td>0.965941</td>\n",
              "      <td>0.973143</td>\n",
              "      <td>0.821951</td>\n",
              "      <td>0.027932</td>\n",
              "      <td>0.931612</td>\n",
              "    </tr>\n",
              "    <tr>\n",
              "      <th>((1, Anne Shirley), count:488)</th>\n",
              "      <td>0.999157</td>\n",
              "      <td>1.000000</td>\n",
              "      <td>0.981385</td>\n",
              "      <td>0.998526</td>\n",
              "      <td>0.973953</td>\n",
              "      <td>0.980436</td>\n",
              "      <td>0.840312</td>\n",
              "      <td>0.057630</td>\n",
              "      <td>0.934445</td>\n",
              "    </tr>\n",
              "    <tr>\n",
              "      <th>((2, Anne Shirley), count:454)</th>\n",
              "      <td>0.974922</td>\n",
              "      <td>0.981385</td>\n",
              "      <td>1.000000</td>\n",
              "      <td>0.969605</td>\n",
              "      <td>0.999203</td>\n",
              "      <td>0.999660</td>\n",
              "      <td>0.928031</td>\n",
              "      <td>0.231503</td>\n",
              "      <td>0.927928</td>\n",
              "    </tr>\n",
              "    <tr>\n",
              "      <th>((3, Anne Shirley), count:243)</th>\n",
              "      <td>0.999463</td>\n",
              "      <td>0.998526</td>\n",
              "      <td>0.969605</td>\n",
              "      <td>1.000000</td>\n",
              "      <td>0.960228</td>\n",
              "      <td>0.968310</td>\n",
              "      <td>0.809668</td>\n",
              "      <td>0.007826</td>\n",
              "      <td>0.929672</td>\n",
              "    </tr>\n",
              "    <tr>\n",
              "      <th>((4, Anne Shirley), count:365)</th>\n",
              "      <td>0.965941</td>\n",
              "      <td>0.973953</td>\n",
              "      <td>0.999203</td>\n",
              "      <td>0.960228</td>\n",
              "      <td>1.000000</td>\n",
              "      <td>0.999480</td>\n",
              "      <td>0.941272</td>\n",
              "      <td>0.263898</td>\n",
              "      <td>0.923728</td>\n",
              "    </tr>\n",
              "    <tr>\n",
              "      <th>((5, Anne Cordelia), count:211)</th>\n",
              "      <td>0.973143</td>\n",
              "      <td>0.980436</td>\n",
              "      <td>0.999660</td>\n",
              "      <td>0.968310</td>\n",
              "      <td>0.999480</td>\n",
              "      <td>1.000000</td>\n",
              "      <td>0.930561</td>\n",
              "      <td>0.236881</td>\n",
              "      <td>0.927853</td>\n",
              "    </tr>\n",
              "    <tr>\n",
              "      <th>((6, Anne dearie), count:42)</th>\n",
              "      <td>0.821951</td>\n",
              "      <td>0.840312</td>\n",
              "      <td>0.928031</td>\n",
              "      <td>0.809668</td>\n",
              "      <td>0.941272</td>\n",
              "      <td>0.930561</td>\n",
              "      <td>1.000000</td>\n",
              "      <td>0.545334</td>\n",
              "      <td>0.816589</td>\n",
              "    </tr>\n",
              "    <tr>\n",
              "      <th>((7, Anne dearie), count:10)</th>\n",
              "      <td>0.027932</td>\n",
              "      <td>0.057630</td>\n",
              "      <td>0.231503</td>\n",
              "      <td>0.007826</td>\n",
              "      <td>0.263898</td>\n",
              "      <td>0.236881</td>\n",
              "      <td>0.545334</td>\n",
              "      <td>1.000000</td>\n",
              "      <td>0.107241</td>\n",
              "    </tr>\n",
              "    <tr>\n",
              "      <th>((7, Mrs. Blythe), count:42)</th>\n",
              "      <td>0.931612</td>\n",
              "      <td>0.934445</td>\n",
              "      <td>0.927928</td>\n",
              "      <td>0.929672</td>\n",
              "      <td>0.923728</td>\n",
              "      <td>0.927853</td>\n",
              "      <td>0.816589</td>\n",
              "      <td>0.107241</td>\n",
              "      <td>1.000000</td>\n",
              "    </tr>\n",
              "  </tbody>\n",
              "</table>\n",
              "</div>"
            ],
            "text/plain": [
              "                                 ((0, Anne Shirley), count:495)  ...  ((7, Mrs. Blythe), count:42)\n",
              "((0, Anne Shirley), count:495)                         1.000000  ...                      0.931612\n",
              "((1, Anne Shirley), count:488)                         0.999157  ...                      0.934445\n",
              "((2, Anne Shirley), count:454)                         0.974922  ...                      0.927928\n",
              "((3, Anne Shirley), count:243)                         0.999463  ...                      0.929672\n",
              "((4, Anne Shirley), count:365)                         0.965941  ...                      0.923728\n",
              "((5, Anne Cordelia), count:211)                        0.973143  ...                      0.927853\n",
              "((6, Anne dearie), count:42)                           0.821951  ...                      0.816589\n",
              "((7, Anne dearie), count:10)                           0.027932  ...                      0.107241\n",
              "((7, Mrs. Blythe), count:42)                           0.931612  ...                      1.000000\n",
              "\n",
              "[9 rows x 9 columns]"
            ]
          },
          "metadata": {
            "tags": []
          },
          "execution_count": 101
        }
      ]
    },
    {
      "cell_type": "code",
      "metadata": {
        "id": "GmNdzVa0txGM",
        "colab_type": "code",
        "colab": {}
      },
      "source": [
        "#Evaluating Doc2Vec \n",
        "#reading human-annotated character relation annotations\n",
        "char_rel_frame = pd.read_csv(direc+\"character_relation_annotations.txt\", sep = \"\\t\")\n",
        "char_rel_frame = char_rel_frame[char_rel_frame[\"title\"]==\"Anne of Green Gables\"]\n",
        "char_rel_frame  = char_rel_frame[char_rel_frame[\"annotator\"]==\"annotator_11\"]"
      ],
      "execution_count": 0,
      "outputs": []
    },
    {
      "cell_type": "code",
      "metadata": {
        "id": "QakUDlU76-WU",
        "colab_type": "code",
        "outputId": "e8bb89f6-dcdf-4bc1-9dd8-8b6b68c74cfa",
        "colab": {
          "base_uri": "https://localhost:8080/",
          "height": 952
        }
      },
      "source": [
        "#d2v\n",
        "coarse = char_rel_frame[\"coarse_category\"].unique()\n",
        "affinity = char_rel_frame[\"affinity\"].unique()\n",
        "fine = char_rel_frame[\"fine_category\"].unique()\n",
        "change = char_rel_frame[\"change\"].unique()\n",
        "\n",
        "criteria = [coarse, affinity, fine, change]\n",
        "col = [\"coarse_category\", \"affinity\", \"fine_category\", \"change\"]\n",
        "\n",
        "for n in range(4):\n",
        "  for c in criteria[n]:\n",
        "    print(c)\n",
        "    for i in range(len(char_rel_frame[char_rel_frame[col[n]]==c])):\n",
        "      c1 = find_vector_for_character(characters_as_vectors, [char_rel_frame[char_rel_frame[col[n]]==c].iloc[i][\"character_1\"], char_rel_frame[char_rel_frame[col[n]]==c].iloc[i][\"character_1\"].split()[0]], 0)\n",
        "      c2 = find_vector_for_character(characters_as_vectors, [char_rel_frame[char_rel_frame[col[n]]==c].iloc[i][\"character_2\"], char_rel_frame[char_rel_frame[col[n]]==c].iloc[i][\"character_2\"].split()[0]], 0)\n",
        "      if c1.shape==(1, 300) and c2.shape==(1, 300):\n",
        "        print(char_rel_frame[char_rel_frame[col[n]]==c].iloc[i][\"character_1\"], char_rel_frame[char_rel_frame[col[n]]==c].iloc[i][\"character_2\"], cosine(c1, c2))"
      ],
      "execution_count": 103,
      "outputs": [
        {
          "output_type": "stream",
          "text": [
            "familial\n",
            "Matthew Cuthbert Marilla Cuthbert [[0.9954386]]\n",
            "Anne Shirley Matthew Cuthbert [[0.9752815]]\n",
            "Anne Shirley Marilla Cuthbert [[0.97201556]]\n",
            "Mrs. Barry Diana Barry [[0.9983894]]\n",
            "social\n",
            "Diana Barry Anne Shirley [[0.9294147]]\n",
            "Mrs. Rachel Lynde Marilla Cuthbert [[0.9793625]]\n",
            "Gilbert Blythe Anne Shirley [[0.93104804]]\n",
            "Josie Pye Anne Shirley [[0.89045674]]\n",
            "professional\n",
            "Miss Muriel Stacy Anne Shirley [[0.94448817]]\n",
            "Mr. Phillips Anne Shirley [[0.880561]]\n",
            "positive\n",
            "Matthew Cuthbert Marilla Cuthbert [[0.9954386]]\n",
            "Anne Shirley Matthew Cuthbert [[0.9752815]]\n",
            "Anne Shirley Marilla Cuthbert [[0.97201556]]\n",
            "Diana Barry Anne Shirley [[0.9294147]]\n",
            "Miss Muriel Stacy Anne Shirley [[0.94448817]]\n",
            "Mrs. Barry Diana Barry [[0.9983894]]\n",
            "neutral\n",
            "Mrs. Rachel Lynde Marilla Cuthbert [[0.9793625]]\n",
            "negative\n",
            "Gilbert Blythe Anne Shirley [[0.93104804]]\n",
            "Josie Pye Anne Shirley [[0.89045674]]\n",
            "Mr. Phillips Anne Shirley [[0.880561]]\n",
            "brother/sister\n",
            "Matthew Cuthbert Marilla Cuthbert [[0.9954386]]\n",
            "orphan\n",
            "Anne Shirley Matthew Cuthbert [[0.9752815]]\n",
            "Anne Shirley Marilla Cuthbert [[0.97201556]]\n",
            "friend\n",
            "Diana Barry Anne Shirley [[0.9294147]]\n",
            "Mrs. Rachel Lynde Marilla Cuthbert [[0.9793625]]\n",
            "unrequited love interest\n",
            "Gilbert Blythe Anne Shirley [[0.93104804]]\n",
            "teacher\n",
            "Miss Muriel Stacy Anne Shirley [[0.94448817]]\n",
            "Mr. Phillips Anne Shirley [[0.880561]]\n",
            "parent\n",
            "Mrs. Barry Diana Barry [[0.9983894]]\n",
            "rivals\n",
            "Josie Pye Anne Shirley [[0.89045674]]\n",
            "no\n",
            "Matthew Cuthbert Marilla Cuthbert [[0.9954386]]\n",
            "Mrs. Rachel Lynde Marilla Cuthbert [[0.9793625]]\n",
            "Mrs. Barry Diana Barry [[0.9983894]]\n",
            "Josie Pye Anne Shirley [[0.89045674]]\n",
            "Mr. Phillips Anne Shirley [[0.880561]]\n",
            "yes\n",
            "Anne Shirley Matthew Cuthbert [[0.9752815]]\n",
            "Anne Shirley Marilla Cuthbert [[0.97201556]]\n",
            "Diana Barry Anne Shirley [[0.9294147]]\n",
            "Gilbert Blythe Anne Shirley [[0.93104804]]\n",
            "Miss Muriel Stacy Anne Shirley [[0.94448817]]\n"
          ],
          "name": "stdout"
        }
      ]
    },
    {
      "cell_type": "code",
      "metadata": {
        "id": "ZakpYdv2ngSh",
        "colab_type": "code",
        "colab": {
          "base_uri": "https://localhost:8080/",
          "height": 952
        },
        "outputId": "6bfa22c6-a3d3-4791-de2f-64eae244a9fb"
      },
      "source": [
        "#lda\n",
        "coarse = char_rel_frame[\"coarse_category\"].unique()\n",
        "affinity = char_rel_frame[\"affinity\"].unique()\n",
        "fine = char_rel_frame[\"fine_category\"].unique()\n",
        "change = char_rel_frame[\"change\"].unique()\n",
        "\n",
        "criteria = [coarse, affinity, fine, change]\n",
        "col = [\"coarse_category\", \"affinity\", \"fine_category\", \"change\"]\n",
        "\n",
        "for n in range(4):\n",
        "  for c in criteria[n]:\n",
        "    print(c)\n",
        "    for i in range(len(char_rel_frame[char_rel_frame[col[n]]==c])):\n",
        "      c1 = find_vector_for_character(characters_as_vectors_lda, [char_rel_frame[char_rel_frame[col[n]]==c].iloc[i][\"character_1\"], char_rel_frame[char_rel_frame[col[n]]==c].iloc[i][\"character_1\"].split()[0]], 0)\n",
        "      c2 = find_vector_for_character(characters_as_vectors_lda, [char_rel_frame[char_rel_frame[col[n]]==c].iloc[i][\"character_2\"], char_rel_frame[char_rel_frame[col[n]]==c].iloc[i][\"character_2\"].split()[0]], 0)\n",
        "      if c1.shape==(1, 50) and c2.shape==(1, 50):\n",
        "        print(char_rel_frame[char_rel_frame[col[n]]==c].iloc[i][\"character_1\"], char_rel_frame[char_rel_frame[col[n]]==c].iloc[i][\"character_2\"], cosine(c1, c2))"
      ],
      "execution_count": 104,
      "outputs": [
        {
          "output_type": "stream",
          "text": [
            "familial\n",
            "Matthew Cuthbert Marilla Cuthbert [[0.99732333]]\n",
            "Anne Shirley Matthew Cuthbert [[0.98646486]]\n",
            "Anne Shirley Marilla Cuthbert [[0.9939342]]\n",
            "Mrs. Barry Diana Barry [[0.557411]]\n",
            "social\n",
            "Diana Barry Anne Shirley [[0.9935997]]\n",
            "Mrs. Rachel Lynde Marilla Cuthbert [[0.50268805]]\n",
            "Gilbert Blythe Anne Shirley [[0.00077773]]\n",
            "Josie Pye Anne Shirley [[0.00012507]]\n",
            "professional\n",
            "Miss Muriel Stacy Anne Shirley [[0.03114336]]\n",
            "Mr. Phillips Anne Shirley [[0.17410369]]\n",
            "positive\n",
            "Matthew Cuthbert Marilla Cuthbert [[0.99732333]]\n",
            "Anne Shirley Matthew Cuthbert [[0.98646486]]\n",
            "Anne Shirley Marilla Cuthbert [[0.9939342]]\n",
            "Diana Barry Anne Shirley [[0.9935997]]\n",
            "Miss Muriel Stacy Anne Shirley [[0.03114336]]\n",
            "Mrs. Barry Diana Barry [[0.557411]]\n",
            "neutral\n",
            "Mrs. Rachel Lynde Marilla Cuthbert [[0.50268805]]\n",
            "negative\n",
            "Gilbert Blythe Anne Shirley [[0.00077773]]\n",
            "Josie Pye Anne Shirley [[0.00012507]]\n",
            "Mr. Phillips Anne Shirley [[0.17410369]]\n",
            "brother/sister\n",
            "Matthew Cuthbert Marilla Cuthbert [[0.99732333]]\n",
            "orphan\n",
            "Anne Shirley Matthew Cuthbert [[0.98646486]]\n",
            "Anne Shirley Marilla Cuthbert [[0.9939342]]\n",
            "friend\n",
            "Diana Barry Anne Shirley [[0.9935997]]\n",
            "Mrs. Rachel Lynde Marilla Cuthbert [[0.50268805]]\n",
            "unrequited love interest\n",
            "Gilbert Blythe Anne Shirley [[0.00077773]]\n",
            "teacher\n",
            "Miss Muriel Stacy Anne Shirley [[0.03114336]]\n",
            "Mr. Phillips Anne Shirley [[0.17410369]]\n",
            "parent\n",
            "Mrs. Barry Diana Barry [[0.557411]]\n",
            "rivals\n",
            "Josie Pye Anne Shirley [[0.00012507]]\n",
            "no\n",
            "Matthew Cuthbert Marilla Cuthbert [[0.99732333]]\n",
            "Mrs. Rachel Lynde Marilla Cuthbert [[0.50268805]]\n",
            "Mrs. Barry Diana Barry [[0.557411]]\n",
            "Josie Pye Anne Shirley [[0.00012507]]\n",
            "Mr. Phillips Anne Shirley [[0.17410369]]\n",
            "yes\n",
            "Anne Shirley Matthew Cuthbert [[0.98646486]]\n",
            "Anne Shirley Marilla Cuthbert [[0.9939342]]\n",
            "Diana Barry Anne Shirley [[0.9935997]]\n",
            "Gilbert Blythe Anne Shirley [[0.00077773]]\n",
            "Miss Muriel Stacy Anne Shirley [[0.03114336]]\n"
          ],
          "name": "stdout"
        }
      ]
    },
    {
      "cell_type": "code",
      "metadata": {
        "id": "DifSJJhLF2DZ",
        "colab_type": "code",
        "colab": {}
      },
      "source": [
        "# find_vector_for_character(characters_as_vectors_lda, ['Anne Shirley', 'Anne'])"
      ],
      "execution_count": 0,
      "outputs": []
    },
    {
      "cell_type": "code",
      "metadata": {
        "id": "Ku25c-hi8sHo",
        "colab_type": "code",
        "colab": {}
      },
      "source": [
        "# #using a frequentist approach to show that each character is statistically \n",
        "# #different from the \"mean\"\n",
        "\n",
        "# true_samps_d2v = []\n",
        "# shuff_samps_d2v = []\n",
        "# true_samps_lda = []\n",
        "# shuff_samps_lda = []\n",
        "\n",
        "# n = 5\n",
        "# for i in range(n):\n",
        "#   anne_vectors, characters_as_vectors = train_doc2vec()\n",
        "#   anne_vectors_lda, characters_as_vectors_lda = train_lda()\n",
        "#   anne_vectors_samp, characters_as_vectors_samp = train_doc2vec(randomise=True)\n",
        "#   anne_vectors_lda_samp, characters_as_vectors_lda_samp = train_lda(randomise=True)\n",
        "#   true_samps_d2v.append(cosine_d2v(anne_vectors))\n",
        "#   shuff_samps_d2v.append(cosine_d2v(anne_vectors_samp))\n",
        "#   true_samps_lda.append(cosine_lda(anne_vectors_lda))\n",
        "#   shuff_samps_lda.append(cosine_lda(anne_vectors_lda_samp))"
      ],
      "execution_count": 0,
      "outputs": []
    },
    {
      "cell_type": "code",
      "metadata": {
        "id": "Dh3n_RDUh0vn",
        "colab_type": "code",
        "colab": {}
      },
      "source": [
        "# true_samps_d2v[0]"
      ],
      "execution_count": 0,
      "outputs": []
    },
    {
      "cell_type": "code",
      "metadata": {
        "id": "zKXggIIf8E-d",
        "colab_type": "code",
        "colab": {}
      },
      "source": [
        "# from scipy.stats import ttest_ind\n",
        "# samples_true = np.zeros(shape=(n, len(np.array(true_samps_d2v[0]).flatten())))\n",
        "# samples_shuff = np.zeros(shape=(n, len(np.array(true_samps_d2v[0]).flatten())))\n",
        "# for i in range(len(true_samps_d2v)):\n",
        "#   t = np.array(true_samps_d2v[i]).flatten()\n",
        "#   f = np.array(shuff_samps_d2v[i]).flatten()\n",
        "#   for e in range(len(t)):\n",
        "#     samples_true[i][e] = t[e]\n",
        "#     samples_shuff[i][e] = f[e]\n",
        "\n",
        "# p_vals = []\n",
        "# for k in range(len(np.array(true_samps_d2v[0]).flatten())):\n",
        "#   p_vals.append(ttest_ind(samples_true[:,k], samples_shuff[:,k])[1])\n",
        "\n"
      ],
      "execution_count": 0,
      "outputs": []
    },
    {
      "cell_type": "code",
      "metadata": {
        "id": "h8gZuKvBWJ2N",
        "colab_type": "code",
        "colab": {}
      },
      "source": [
        "# plt.hist(p_vals, bins=81)"
      ],
      "execution_count": 0,
      "outputs": []
    },
    {
      "cell_type": "code",
      "metadata": {
        "id": "zutDAhgEWw2B",
        "colab_type": "code",
        "colab": {}
      },
      "source": [
        "# from scipy.stats import ttest_ind\n",
        "\n",
        "# true_samps_d2v_flat = np.array(true_samps_d2v).flatten()\n",
        "# shuff_samps_d2v = np.array(true_samps_d2v).flatten()\n",
        "# true_samps_lda = []\n",
        "# shuff_samps_lda = []"
      ],
      "execution_count": 0,
      "outputs": []
    },
    {
      "cell_type": "code",
      "metadata": {
        "id": "wNVC1BO7UmU_",
        "colab_type": "code",
        "colab": {}
      },
      "source": [
        ""
      ],
      "execution_count": 0,
      "outputs": []
    },
    {
      "cell_type": "code",
      "metadata": {
        "id": "O9FnECk6oYSN",
        "colab_type": "code",
        "colab": {}
      },
      "source": [
        "#conducting experiments based on hypotheses stated in paper\n",
        "#testing hypothesis 1\n",
        "from scipy.stats import ttest_ind\n",
        "def test_hyp(c1_str, c2_str, model_name, book, n = 50):\n",
        "  #using a frequentist approach to show that each character is statistically \n",
        "  #different from the \"mean\"\n",
        "  true_samps = []\n",
        "  shuff_samps = []\n",
        "  for i in range(n):\n",
        "    anne_vectors, characters_as_vectors = model_name()\n",
        "    anne_vectors_samp, characters_as_vectors_samp = model_name(randomise=True)\n",
        "    c1 = find_vector_for_character(characters_as_vectors, [c1_str, c1_str.split()[0]], book=book)\n",
        "    c2 = find_vector_for_character(characters_as_vectors, [c2_str, c2_str.split()[0]], book=book)\n",
        "    c1_samp = find_vector_for_character(characters_as_vectors_samp, [c1_str, c1_str.split()[0]], book=book)\n",
        "    c2_samp = find_vector_for_character(characters_as_vectors_samp, [c2_str, c2_str.split()[0]], book=book)\n",
        "    true_samps.append(cosine(c1, c2))\n",
        "    shuff_samps.append(cosine(c1_samp, c2_samp))\n",
        "  # samples_true = np.zeros(shape=(n, len(np.array(true_samps[0]).flatten())))\n",
        "  # samples_shuff = np.zeros(shape=(n, len(np.array(shuff_samps[0]).flatten())))\n",
        "  # for i in range(len(true_samps_d2v)):\n",
        "  #   t = np.array(true_samps_d2v[i]).flatten()\n",
        "  #   f = np.array(shuff_samps_d2v[i]).flatten()\n",
        "  #   for e in range(len(t)):\n",
        "  #     samples_true[i][e] = t[e]\n",
        "  #     samples_shuff[i][e] = f[e]\n",
        "\n",
        "  return ttest_ind(true_samps, shuff_samps), np.mean(true_samps)\n",
        "\n",
        "\n"
      ],
      "execution_count": 0,
      "outputs": []
    },
    {
      "cell_type": "code",
      "metadata": {
        "id": "4OCk1aVbrS_d",
        "colab_type": "code",
        "colab": {
          "base_uri": "https://localhost:8080/",
          "height": 153
        },
        "outputId": "c6902cb1-eb25-4700-d0b3-43c8106c92ea"
      },
      "source": [
        "#hyp1 lda\n",
        "print(\"lda0\")\n",
        "print(test_hyp(\"Anne Shirley\", \"Diana Barry\", train_lda, 0))\n",
        "print(\"lda4\")\n",
        "print(test_hyp(\"Anne Shirley\", \"Cornelia Bryant\", train_lda, 4))\n",
        "\n",
        "#hyp1 character2vec\n",
        "print(\"c2v0\")\n",
        "print(test_hyp(\"Anne Shirley\", \"Diana Barry\", train_doc2vec, 0))\n",
        "print(\"c2v4\")\n",
        "print(test_hyp(\"Anne Shirley\", \"Cornelia Bryant\", train_doc2vec, 4))"
      ],
      "execution_count": 112,
      "outputs": [
        {
          "output_type": "stream",
          "text": [
            "lda0\n",
            "(Ttest_indResult(statistic=array([[12.594992]], dtype=float32), pvalue=array([[3.31689798e-22]])), 0.9428144)\n",
            "lda4\n",
            "(Ttest_indResult(statistic=array([[15.042396]], dtype=float32), pvalue=array([[3.28777361e-27]])), 0.91722417)\n",
            "c2v0\n",
            "(Ttest_indResult(statistic=array([[-2.112441]], dtype=float32), pvalue=array([[0.03719047]])), 0.923666)\n",
            "c2v4\n",
            "(Ttest_indResult(statistic=array([[-7.974868]], dtype=float32), pvalue=array([[2.8701453e-12]])), 0.9776365)\n"
          ],
          "name": "stdout"
        }
      ]
    },
    {
      "cell_type": "code",
      "metadata": {
        "id": "9EMhpMD_sER9",
        "colab_type": "code",
        "colab": {
          "base_uri": "https://localhost:8080/",
          "height": 34
        },
        "outputId": "741c0fa3-c0e1-4c40-c869-acddb729185c"
      },
      "source": [
        "# #hyp2 lda\n",
        "print(\"lda1\")\n",
        "print(test_hyp(\"Anne Shirley\", \"Davy\", train_lda, 1))\n",
        "print(\"lda5\")\n",
        "print(test_hyp(\"Anne Shirley\", \"Jem\", train_lda, 5))\n",
        "print(\"lda6\")\n",
        "print(test_hyp(\"Anne Shirley\", \"Jem\", train_lda, 6))\n",
        "\n",
        "#hyp2 character2vec\n",
        "print(\"c2v1\")\n",
        "print(test_hyp(\"Anne Shirley\", \"Davy\", train_doc2vec, 1))\n",
        "print(\"c2v5\")\n",
        "print(test_hyp(\"Anne Shirley\", \"Jem\", train_doc2vec, 5))\n",
        "print(\"c2v6\")\n",
        "print(test_hyp(\"Anne Shirley\", \"Jem\", train_doc2vec, 6))"
      ],
      "execution_count": 0,
      "outputs": [
        {
          "output_type": "stream",
          "text": [
            "lda1\n"
          ],
          "name": "stdout"
        }
      ]
    },
    {
      "cell_type": "code",
      "metadata": {
        "id": "sq4a7rUgG6ke",
        "colab_type": "code",
        "colab": {}
      },
      "source": [
        ""
      ],
      "execution_count": 0,
      "outputs": []
    }
  ]
}