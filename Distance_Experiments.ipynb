{
  "nbformat": 4,
  "nbformat_minor": 0,
  "metadata": {
    "colab": {
      "name": "Distance Experiments.ipynb",
      "provenance": [],
      "collapsed_sections": [],
      "toc_visible": true,
      "include_colab_link": true
    },
    "kernelspec": {
      "display_name": "Python 3",
      "language": "python",
      "name": "python3"
    }
  },
  "cells": [
    {
      "cell_type": "markdown",
      "metadata": {
        "id": "view-in-github",
        "colab_type": "text"
      },
      "source": [
        "<a href=\"https://colab.research.google.com/github/nicolenair/capstone/blob/master/Distance_Experiments.ipynb\" target=\"_parent\"><img src=\"https://colab.research.google.com/assets/colab-badge.svg\" alt=\"Open In Colab\"/></a>"
      ]
    },
    {
      "cell_type": "code",
      "metadata": {
        "id": "YlL6OZZYuLPv",
        "colab_type": "code",
        "outputId": "e5252688-5f8e-4704-e683-856f28808fb5",
        "colab": {
          "base_uri": "https://localhost:8080/",
          "height": 530
        }
      },
      "source": [
        "   import os\n",
        "!pip install --upgrade gensim\n",
        "\n",
        "import nltk\n",
        "nltk.download('punkt')\n",
        "\n",
        "def install_java():\n",
        "  !apt-get install -y openjdk-8-jdk-headless -qq > /dev/null      #install openjdk\n",
        "  os.environ[\"JAVA_HOME\"] = \"/usr/lib/jvm/java-8-openjdk-amd64\"     #set environment variable\n",
        "  !java -version       #check java version\n",
        "install_java()"
      ],
      "execution_count": 1,
      "outputs": [
        {
          "output_type": "stream",
          "text": [
            "Collecting gensim\n",
            "\u001b[?25l  Downloading https://files.pythonhosted.org/packages/d1/dd/112bd4258cee11e0baaaba064060eb156475a42362e59e3ff28e7ca2d29d/gensim-3.8.1-cp36-cp36m-manylinux1_x86_64.whl (24.2MB)\n",
            "\u001b[K     |████████████████████████████████| 24.2MB 20.8MB/s \n",
            "\u001b[?25hRequirement already satisfied, skipping upgrade: six>=1.5.0 in /usr/local/lib/python3.6/dist-packages (from gensim) (1.12.0)\n",
            "Requirement already satisfied, skipping upgrade: scipy>=0.18.1 in /usr/local/lib/python3.6/dist-packages (from gensim) (1.4.1)\n",
            "Requirement already satisfied, skipping upgrade: smart-open>=1.8.1 in /usr/local/lib/python3.6/dist-packages (from gensim) (1.9.0)\n",
            "Requirement already satisfied, skipping upgrade: numpy>=1.11.3 in /usr/local/lib/python3.6/dist-packages (from gensim) (1.17.5)\n",
            "Requirement already satisfied, skipping upgrade: boto3 in /usr/local/lib/python3.6/dist-packages (from smart-open>=1.8.1->gensim) (1.10.47)\n",
            "Requirement already satisfied, skipping upgrade: requests in /usr/local/lib/python3.6/dist-packages (from smart-open>=1.8.1->gensim) (2.21.0)\n",
            "Requirement already satisfied, skipping upgrade: boto>=2.32 in /usr/local/lib/python3.6/dist-packages (from smart-open>=1.8.1->gensim) (2.49.0)\n",
            "Requirement already satisfied, skipping upgrade: s3transfer<0.3.0,>=0.2.0 in /usr/local/lib/python3.6/dist-packages (from boto3->smart-open>=1.8.1->gensim) (0.2.1)\n",
            "Requirement already satisfied, skipping upgrade: botocore<1.14.0,>=1.13.47 in /usr/local/lib/python3.6/dist-packages (from boto3->smart-open>=1.8.1->gensim) (1.13.47)\n",
            "Requirement already satisfied, skipping upgrade: jmespath<1.0.0,>=0.7.1 in /usr/local/lib/python3.6/dist-packages (from boto3->smart-open>=1.8.1->gensim) (0.9.4)\n",
            "Requirement already satisfied, skipping upgrade: idna<2.9,>=2.5 in /usr/local/lib/python3.6/dist-packages (from requests->smart-open>=1.8.1->gensim) (2.8)\n",
            "Requirement already satisfied, skipping upgrade: certifi>=2017.4.17 in /usr/local/lib/python3.6/dist-packages (from requests->smart-open>=1.8.1->gensim) (2019.11.28)\n",
            "Requirement already satisfied, skipping upgrade: chardet<3.1.0,>=3.0.2 in /usr/local/lib/python3.6/dist-packages (from requests->smart-open>=1.8.1->gensim) (3.0.4)\n",
            "Requirement already satisfied, skipping upgrade: urllib3<1.25,>=1.21.1 in /usr/local/lib/python3.6/dist-packages (from requests->smart-open>=1.8.1->gensim) (1.24.3)\n",
            "Requirement already satisfied, skipping upgrade: docutils<0.16,>=0.10 in /usr/local/lib/python3.6/dist-packages (from botocore<1.14.0,>=1.13.47->boto3->smart-open>=1.8.1->gensim) (0.15.2)\n",
            "Requirement already satisfied, skipping upgrade: python-dateutil<3.0.0,>=2.1; python_version >= \"2.7\" in /usr/local/lib/python3.6/dist-packages (from botocore<1.14.0,>=1.13.47->boto3->smart-open>=1.8.1->gensim) (2.6.1)\n",
            "Installing collected packages: gensim\n",
            "  Found existing installation: gensim 3.6.0\n",
            "    Uninstalling gensim-3.6.0:\n",
            "      Successfully uninstalled gensim-3.6.0\n",
            "Successfully installed gensim-3.8.1\n",
            "[nltk_data] Downloading package punkt to /root/nltk_data...\n",
            "[nltk_data]   Unzipping tokenizers/punkt.zip.\n",
            "openjdk version \"11.0.5\" 2019-10-15\n",
            "OpenJDK Runtime Environment (build 11.0.5+10-post-Ubuntu-0ubuntu1.118.04)\n",
            "OpenJDK 64-Bit Server VM (build 11.0.5+10-post-Ubuntu-0ubuntu1.118.04, mixed mode, sharing)\n"
          ],
          "name": "stdout"
        }
      ]
    },
    {
      "cell_type": "code",
      "metadata": {
        "id": "yCMiSdf_DG3n",
        "colab_type": "code",
        "colab": {}
      },
      "source": [
        "# !wget http://mallet.cs.umass.edu/dist/mallet-2.0.8.zip\n",
        "# !unzip mallet-2.0.8.zip"
      ],
      "execution_count": 0,
      "outputs": []
    },
    {
      "cell_type": "code",
      "metadata": {
        "id": "Sb12I3GvV_Gm",
        "colab_type": "code",
        "outputId": "f2965bc8-8af7-420f-b634-29b704b953cb",
        "colab": {
          "base_uri": "https://localhost:8080/",
          "height": 122
        }
      },
      "source": [
        "from google.colab import drive\n",
        "drive.mount('/content/gdrive', force_remount = True)\n",
        "# os.chdir(\"/content/gdrive/My Drive/Colab Notebooks/CAPSTONE\")\n",
        "direc = \"/content/gdrive/My Drive/Colab Notebooks/CAPSTONE/\""
      ],
      "execution_count": 4,
      "outputs": [
        {
          "output_type": "stream",
          "text": [
            "Go to this URL in a browser: https://accounts.google.com/o/oauth2/auth?client_id=947318989803-6bn6qk8qdgf4n4g3pfee6491hc0brc4i.apps.googleusercontent.com&redirect_uri=urn%3aietf%3awg%3aoauth%3a2.0%3aoob&response_type=code&scope=email%20https%3a%2f%2fwww.googleapis.com%2fauth%2fdocs.test%20https%3a%2f%2fwww.googleapis.com%2fauth%2fdrive%20https%3a%2f%2fwww.googleapis.com%2fauth%2fdrive.photos.readonly%20https%3a%2f%2fwww.googleapis.com%2fauth%2fpeopleapi.readonly\n",
            "\n",
            "Enter your authorization code:\n",
            "··········\n",
            "Mounted at /content/gdrive\n"
          ],
          "name": "stdout"
        }
      ]
    },
    {
      "cell_type": "code",
      "metadata": {
        "id": "taaK2gE9Toa-",
        "colab_type": "code",
        "colab": {}
      },
      "source": [
        "#!pip install import_ipynb\n",
        "from bs4 import BeautifulSoup\n",
        "import requests\n",
        "import numpy as np\n",
        "import pandas as pd\n",
        "import os\n",
        "import re\n",
        "import os\n",
        "import importlib\n",
        "import nltk\n",
        "import matplotlib.pyplot as plt\n",
        "import gensim\n",
        "from gensim.models.doc2vec import Doc2Vec, TaggedDocument"
      ],
      "execution_count": 0,
      "outputs": []
    },
    {
      "cell_type": "code",
      "metadata": {
        "id": "96XXzcW-V-EQ",
        "colab_type": "code",
        "colab": {}
      },
      "source": [
        "# importlib.reload(anno_auto)"
      ],
      "execution_count": 0,
      "outputs": []
    },
    {
      "cell_type": "code",
      "metadata": {
        "id": "kusdyuiaX_YY",
        "colab_type": "code",
        "colab": {}
      },
      "source": [
        "# import os\n",
        "# os.listdir(\"/content/gdrive/My Drive/Nicole-Internship-Complete-Folder/chatbot - all/chatbot-flask/GoogleNews-vectors-negative300.bin.gz\")"
      ],
      "execution_count": 0,
      "outputs": []
    },
    {
      "cell_type": "code",
      "metadata": {
        "id": "xcnPuUeyNbjs",
        "colab_type": "code",
        "colab": {}
      },
      "source": [
        "#pasting all utterances into lists\n",
        "property_ = \"speaking\"\n",
        "file1 = open(direc+\"gables_{}_list.txt\".format(property_), \"r\")\n",
        "file2 = open(direc+\"avonlea_{}_list.txt\".format(property_), \"r\")\n",
        "file3 = open(direc+\"island_{}_list.txt\".format(property_), \"r\")\n",
        "file4 = open(direc+\"poplars_{}_list.txt\".format(property_), \"r\")\n",
        "file5 = open(direc+\"dreams_{}_list.txt\".format(property_), \"r\")\n",
        "file6 = open(direc+\"ingleside_{}_list.txt\".format(property_), \"r\")\n",
        "file7 = open(direc+\"rainbow_{}_list.txt\".format(property_), \"r\")\n",
        "file8 = open(direc+\"rilla_{}_list.txt\".format(property_), \"r\")\n",
        "sentence_gables = []\n",
        "sentence_dreams = []\n",
        "sentence_island = []\n",
        "sentence_avonlea = []\n",
        "sentence_poplars = []\n",
        "sentence_ingleside = []\n",
        "sentence_rainbow = []\n",
        "sentence_rilla = []\n",
        "target_gables = []\n",
        "target_dreams = []\n",
        "target_island = []\n",
        "target_avonlea = [] ###\n",
        "target_poplars = []\n",
        "target_ingleside = []\n",
        "target_rainbow = []\n",
        "target_rilla = [] ###\n",
        "\n",
        "file1_lines =file1.readlines()\n",
        "file2_lines = file2.readlines()\n",
        "file3_lines = file3.readlines()\n",
        "file4_lines = file4.readlines()\n",
        "file5_lines = file5.readlines()\n",
        "file6_lines = file6.readlines()\n",
        "file7_lines = file7.readlines()\n",
        "file8_lines = file8.readlines()\n",
        "\n",
        "files = [file1_lines, file2_lines, file3_lines ,file4_lines, file5_lines, file6_lines, file7_lines, file8_lines]\n",
        "sentences = [sentence_gables, sentence_avonlea, sentence_island, sentence_poplars, sentence_dreams, sentence_ingleside, sentence_rainbow, sentence_rilla]\n",
        "targets_pre = [target_gables, target_avonlea, target_island, target_poplars, target_dreams, target_ingleside, target_rainbow, target_rilla]\n",
        "\n",
        "#we have saved it in line by line formats in the file, so we need to extract it here\n",
        "for s in range(len(sentences)):\n",
        "  for i in range(len(files[s])):\n",
        "    if i%2==0:\n",
        "      sentences[s].append([files[s][i]])\n",
        "    else:\n",
        "      targets_pre[s].append(files[s][i])\n",
        "  # file.close()"
      ],
      "execution_count": 0,
      "outputs": []
    },
    {
      "cell_type": "code",
      "metadata": {
        "id": "QgaOzHe21Ah1",
        "colab_type": "code",
        "colab": {}
      },
      "source": [
        "#labeling book & character\n",
        "from gensim.utils import simple_preprocess\n",
        "book_character_labels = []\n",
        "#contains tuples of character and book labels\n",
        "\n",
        "for i in range(len(targets_pre)):\n",
        "  for e in targets_pre[i]:\n",
        "    in_labs = False\n",
        "    for n in e.split(\",\")[1::2]:\n",
        "      if (n, i) in book_character_labels:\n",
        "        in_labs = n\n",
        "    if in_labs==False:\n",
        "      character_name_lengths = np.array([len(n) for n in e.split(\",\")[1::2]])\n",
        "      book_character_labels.append((i, e.split(\",\")[np.argmax(character_name_lengths)*2+1]))\n",
        "    else:\n",
        "      book_character_labels.append((i, in_labs))\n",
        "\n",
        "# book_character_labels = [(character_labels[e], book_labels[e]) for e in range(len(character_labels))]\n",
        "\n",
        "sentences_flattened = []\n",
        "for i in sentences:\n",
        "  for e in i:\n",
        "    sentences_flattened.append(simple_preprocess(e[0]))\n",
        "    #after we have labelled the sentences, there is no longer a need to \n",
        "    #keep them in book lists, we keep it simply as a full list of utterances"
      ],
      "execution_count": 0,
      "outputs": []
    },
    {
      "cell_type": "code",
      "metadata": {
        "id": "qUUejRz3GyPR",
        "colab_type": "code",
        "colab": {}
      },
      "source": [
        "def find_vector_for_character(characters_as_vectors, names, book = \"all\"):\n",
        "  anne_vectors_lda = []\n",
        "  if book==\"all\":\n",
        "    for i in range(len(character_documents.keys())):\n",
        "      if names[0] in list(character_documents.keys())[i][1] or names[1] in list(character_documents.keys())[i][1]  or \"Mrs. Blythe\" in list(character_documents.keys())[i][1]: #or 'Diana' in list(character_documents.keys())[i][1] or \"Jem\" in list(character_documents.keys())[i][1] or \"Davy\" in list(character_documents.keys())[i][1] or \"Leslie\" in list(character_documents.keys())[i][1] or \"Cornelia\" in list(character_documents.keys())[i][1]:\n",
        "    #     print('ok')\n",
        "          if book_character_labels.count(list(character_documents.keys())[i])>5:\n",
        "            anne_vectors_lda.append(characters_as_vectors[i])\n",
        "    return anne_vectors_lda\n",
        "  else:\n",
        "    for i in range(len(character_documents.keys())):\n",
        "      if names[0] in list(character_documents.keys())[i][1] or names[1] in list(character_documents.keys())[i][1]  or \"Mrs. Blythe\" in list(character_documents.keys())[i][1]: #or 'Diana' in list(character_documents.keys())[i][1] or \"Jem\" in list(character_documents.keys())[i][1] or \"Davy\" in list(character_documents.keys())[i][1] or \"Leslie\" in list(character_documents.keys())[i][1] or \"Cornelia\" in list(character_documents.keys())[i][1]:\n",
        "    #     print('ok')\n",
        "          if book==list(character_documents.keys())[i][0]:\n",
        "            if book_character_labels.count(list(character_documents.keys())[i])>5:\n",
        "              anne_vectors_lda.append(characters_as_vectors[i])\n",
        "              break\n",
        "    return np.array(anne_vectors_lda)\n",
        "    #getting the vector for a CBB from the trained lda model\n"
      ],
      "execution_count": 0,
      "outputs": []
    },
    {
      "cell_type": "code",
      "metadata": {
        "id": "EYzJG-3639qZ",
        "colab_type": "code",
        "colab": {}
      },
      "source": [
        "import spacy\n",
        "nlp = spacy.load('en', disable=['parser', 'ner'])\n",
        "\n",
        "def lemmatization(texts):\n",
        "    \"\"\"https://spacy.io/api/annotation\"\"\"\n",
        "    texts_out = []\n",
        "    for sent in texts:\n",
        "        doc = nlp(\" \".join(sent)) \n",
        "        texts_out.append(\" \".join([token.lemma_ for token in doc]))\n",
        "    return texts_out"
      ],
      "execution_count": 0,
      "outputs": []
    },
    {
      "cell_type": "code",
      "metadata": {
        "id": "brr45vS89eWx",
        "colab_type": "code",
        "colab": {}
      },
      "source": [
        "character_documents = {}\n",
        "\n",
        "for i in range(len(sentences_flattened)):\n",
        "  a = character_documents.get(book_character_labels[i], [])\n",
        "  a.append(\"\\n\")\n",
        "  a.extend(sentences_flattened[i])\n",
        "  character_documents[book_character_labels[i]] = a\n",
        "  \n",
        "anne_characters = []\n",
        "anne_vectors = []\n",
        "for i in range(len(character_documents.keys())):\n",
        "  if 'Anne ' in list(character_documents.keys())[i][1] or 'Miss Blythe' in list(character_documents.keys())[i][1]  or \"Mrs. Blythe\" in list(character_documents.keys())[i][1]: #or 'Diana' in list(character_documents.keys())[i][1] or \"Jem\" in list(character_documents.keys())[i][1] or \"Davy\" in list(character_documents.keys())[i][1] or \"Leslie\" in list(character_documents.keys())[i][1] or \"Cornelia\" in list(character_documents.keys())[i][1]:\n",
        "#     print('ok')\n",
        "      if book_character_labels.count(list(character_documents.keys())[i])>5:\n",
        "        anne_characters.append((list(character_documents.keys())[i], \"count:{}\".format(book_character_labels.count(list(character_documents.keys())[i]))))\n",
        "\n",
        "documents = [TaggedDocument(doc, [i]) for i, doc in enumerate(list(character_documents.values()))]"
      ],
      "execution_count": 0,
      "outputs": []
    },
    {
      "cell_type": "code",
      "metadata": {
        "id": "UNP6VRy8Hg2c",
        "colab_type": "code",
        "colab": {}
      },
      "source": [
        "# print(documents)"
      ],
      "execution_count": 0,
      "outputs": []
    },
    {
      "cell_type": "markdown",
      "metadata": {
        "id": "mBV2JUrF6fdv",
        "colab_type": "text"
      },
      "source": [
        "# Representing characters (Doc2Vec)"
      ]
    },
    {
      "cell_type": "code",
      "metadata": {
        "id": "PYYKG7aQlcv4",
        "colab_type": "code",
        "colab": {}
      },
      "source": [
        "#this cell is used to train the doc2vec model,\n",
        "#but we reuse character_documents and and anne_characters elsewhere\n",
        "from nltk.tokenize import sent_tokenize\n",
        "from gensim.test.utils import common_texts\n",
        "from gensim.utils import simple_preprocess\n",
        "from gensim import corpora, models\n",
        "from gensim.test.utils import common_corpus, common_dictionary\n",
        "from gensim.models.wrappers import LdaMallet\n",
        "from gensim.models import LdaModel\n",
        "from gensim.models.coherencemodel import CoherenceModel\n",
        "import random\n",
        "import timeit\n",
        "\n",
        "os.environ['MALLET_HOME'] = '/content/mallet-2.0.8'\n",
        "mallet_path = '/content/mallet-2.0.8/bin/mallet' # you should NOT need to change this \n",
        "\n",
        "def train_doc2vec(randomise=False, lemmatize=False):\n",
        "  if randomise==False:\n",
        "    if lemmatize==True:\n",
        "      processed_docs = [i[0] for i in documents]\n",
        "      processed_docs  = [i.split() for i in lemmatization(processed_docs)]\n",
        "      processed_docs = [TaggedDocument(doc, [i]) for i, doc in enumerate(processed_docs)]\n",
        "      model_d2v = Doc2Vec(processed_docs, vector_size=300, window=3, min_count=1, workers=4, dm = 1)\n",
        "    else:\n",
        "      processed_docs = documents\n",
        "      model_d2v = Doc2Vec(processed_docs, vector_size=300, window=3, min_count=1, workers=4, dm = 1)\n",
        "  else:\n",
        "    if lemmatize==True:\n",
        "      processed_docs = [i[0] for i in documents]\n",
        "      processed_docs  = [i.split() for i in lemmatization(processed_docs)]\n",
        "      processed_docs = [TaggedDocument(doc, [i]) for i, doc in enumerate(processed_docs)]\n",
        "      model_d2v = Doc2Vec(random.sample(processed_docs, len(documents)), vector_size=300, window=3, min_count=1, workers=4, dm = 1)\n",
        "    else:\n",
        "      model_d2v = Doc2Vec(random.sample(documents, len(documents)), vector_size=300, window=3, min_count=1, workers=4, dm = 1)\n",
        "  characters_as_vectors = np.array([model_d2v.infer_vector(i) for i in list(character_documents.values())])\n",
        "  anne_vectors = []\n",
        "  for i in range(len(character_documents.keys())):\n",
        "    if 'Anne ' in list(character_documents.keys())[i][1] or 'Miss Blythe' in list(character_documents.keys())[i][1]  or \"Mrs. Blythe\" in list(character_documents.keys())[i][1]: #or 'Diana' in list(character_documents.keys())[i][1] or \"Jem\" in list(character_documents.keys())[i][1] or \"Davy\" in list(character_documents.keys())[i][1] or \"Leslie\" in list(character_documents.keys())[i][1] or \"Cornelia\" in list(character_documents.keys())[i][1]:\n",
        "  #     print('ok')\n",
        "        if book_character_labels.count(list(character_documents.keys())[i])>5:\n",
        "          anne_vectors.append(characters_as_vectors[i])\n",
        "  return anne_vectors, characters_as_vectors\n",
        "\n",
        "anne_vectors, characters_as_vectors = train_doc2vec()\n",
        "        "
      ],
      "execution_count": 0,
      "outputs": []
    },
    {
      "cell_type": "code",
      "metadata": {
        "id": "OiZqg-q2FZm4",
        "colab_type": "code",
        "colab": {}
      },
      "source": [
        "def train_lda(randomise=False, lemmatize= False):\n",
        "  start = timeit.default_timer()\n",
        "  if randomise==False:\n",
        "    if lemmatize==True:\n",
        "      processed_docs = [i[0] for i in documents]\n",
        "      processed_docs  = [i.split() for i in lemmatization(processed_docs)]#change the corpus to bag of words\n",
        "      dictionary = gensim.corpora.Dictionary(processed_docs)\n",
        "      bow_corpus = [dictionary.doc2bow(doc) for doc in processed_docs]\n",
        "    else:\n",
        "      dictionary = gensim.corpora.Dictionary([i[0] for i in documents])\n",
        "      bow_corpus = [dictionary.doc2bow(doc[0]) for doc in documents]\n",
        "  else:\n",
        "      if lemmatize==True:\n",
        "        processed_docs = [i[0] for i in random.sample(documents, len(documents))]\n",
        "        processed_docs  = [i.split() for i in lemmatization(processed_docs)]#change the corpus to bag of words\n",
        "        dictionary = gensim.corpora.Dictionary(processed_docs)\n",
        "        bow_corpus = [dictionary.doc2bow(doc) for doc in processed_docs]\n",
        "      else:\n",
        "        dictionary = gensim.corpora.Dictionary([i[0] for i in random.sample(documents, len(documents))])\n",
        "        bow_corpus = [dictionary.doc2bow(doc) for doc in [i[0] for i in random.sample(documents, len(documents))]]\n",
        "\n",
        "  # tfidf = models.TfidfModel(bow_corpus)\n",
        "  # corpus_tfidf = tfidf[bow_corpus]\n",
        "  #convert bow to tfidf\n",
        "  # coherences = []\n",
        "  # for n in [5, 10, 20, 30, 40, 50]:\n",
        "  #   lda_model= LdaModel(corpus=bow_corpus, num_topics=n, id2word=dictionary, minimum_probability=0.0)\n",
        "  #   cm = CoherenceModel(model=lda_model, corpus=common_corpus, coherence='u_mass')\n",
        "  #   coherence = cm.get_coherence()  # get coherence valuecm.for_topics()\n",
        "  #   coherences.append(coherence)\n",
        "  # lda_model= LdaModel(corpus=bow_corpus, num_topics=[5, 10, 20, 30, 40, 50][np.argmax(coherences)], id2word=dictionary, minimum_probability=0.0)\n",
        "  lda_model= LdaModel(corpus=bow_corpus, num_topics=50, id2word=dictionary, minimum_probability=0.0)\n",
        "  # cm = CoherenceModel(model=lda_model, corpus=common_corpus, coherence='u_mass')\n",
        "  # coherence = cm.get_coherence()  # get coherence valuecm.for_topics()\n",
        "  # coherence_by_topic = cm.get_coherence_per_topic()\n",
        "  # np.exp((coherence_by_topic/2)*N*(N-1))\n",
        "  # plt.hist(coherence_by_topic)\n",
        "  # plt.show()\n",
        "  # for idx, topic in lda_model.print_topics(-1):\n",
        "  #   print('Topic: {} Word: {}'.format(idx, topic))\n",
        "  characters_as_vectors_lda = [[e[1] for e in lda_model[i]] for i in bow_corpus]\n",
        "  anne_vectors_lda = find_vector_for_character(characters_as_vectors_lda, [\"Anne\", \"Miss Blythe\"])\n",
        "  return anne_vectors_lda, characters_as_vectors_lda\n",
        "\n",
        "# start = timeit.default_timer()\n",
        "anne_vectors_lda, characters_as_vectors_lda = train_lda()\n",
        "# stop = timeit.default_timer()"
      ],
      "execution_count": 0,
      "outputs": []
    },
    {
      "cell_type": "markdown",
      "metadata": {
        "id": "hM4dMY7f6rla",
        "colab_type": "text"
      },
      "source": [
        "# Cosine similarity (Doc2Vec)"
      ]
    },
    {
      "cell_type": "code",
      "metadata": {
        "id": "FXAiq-5n6pNN",
        "colab_type": "code",
        "colab": {}
      },
      "source": [
        "from sklearn.metrics.pairwise import cosine_similarity as cosine\n",
        "\n",
        "def cosine_d2v(anne_vectors):\n",
        "  cosine_similarities = np.zeros((len(anne_vectors), len(anne_vectors)))\n",
        "  for i in range(len(anne_vectors)):\n",
        "    for e in range(len(anne_vectors)):\n",
        "      cosine_similarities[i][e] = float(cosine(anne_vectors[i].reshape(1, -1), anne_vectors[e].reshape(1, -1)))\n",
        "\n",
        "  d = pd.DataFrame(cosine_similarities, columns = anne_characters, index = anne_characters)\n",
        "  return d"
      ],
      "execution_count": 0,
      "outputs": []
    },
    {
      "cell_type": "code",
      "metadata": {
        "id": "n9_EVnuxZuiv",
        "colab_type": "code",
        "outputId": "72ac3e7f-08db-4773-e7b0-49ec1b25f890",
        "colab": {
          "base_uri": "https://localhost:8080/",
          "height": 281
        }
      },
      "source": [
        "for i in range(5):\n",
        "  anne_vectors, characters_as_vectors = train_doc2vec()\n",
        "  d = cosine_d2v(anne_vectors)\n",
        "  plt.plot(range(8), list(d.iloc[0][:-2]) + [np.mean(d.iloc[0, -2:])])\n",
        "  plt.title(\"Character2Vec Cosine Similarity Anne AGG & Anne other\")\n",
        "plt.show()"
      ],
      "execution_count": 15,
      "outputs": [
        {
          "output_type": "display_data",
          "data": {
            "image/png": "[encoded data removed]",
            "text/plain": [
              "<Figure size 432x288 with 1 Axes>"
            ]
          },
          "metadata": {
            "tags": []
          }
        }
      ]
    },
    {
      "cell_type": "markdown",
      "metadata": {
        "id": "gAVYc0yv7M6r",
        "colab_type": "text"
      },
      "source": [
        "# Cosine similarity Latent Dirichlet Allocation"
      ]
    },
    {
      "cell_type": "code",
      "metadata": {
        "id": "SOX7tgB77QQH",
        "colab_type": "code",
        "colab": {}
      },
      "source": [
        "def cosine_lda(anne_vectors_lda):\n",
        "  anne_vectors_lda = [np.array(i) for i in anne_vectors_lda]\n",
        "  from sklearn.metrics.pairwise import cosine_similarity as cosine\n",
        "  cosine_similarities = np.zeros((len(anne_vectors_lda), len(anne_vectors_lda)))\n",
        "  for i in range(len(anne_vectors_lda)):\n",
        "    for e in range(len(anne_vectors_lda)):\n",
        "      try:\n",
        "         cosine_similarities[i][e] = float(cosine(anne_vectors_lda[i].reshape(1, -1), anne_vectors_lda[e].reshape(1, -1)))\n",
        "      except:\n",
        "        print(i, e)\n",
        "  d = pd.DataFrame(cosine_similarities, columns = anne_characters, index = anne_characters)\n",
        "  return d\n",
        "d = cosine_lda(anne_vectors_lda)"
      ],
      "execution_count": 0,
      "outputs": []
    },
    {
      "cell_type": "code",
      "metadata": {
        "id": "6ypgC8ey0BCv",
        "colab_type": "code",
        "outputId": "ee5500f3-3f73-45c2-c493-0876afaca7b0",
        "colab": {
          "base_uri": "https://localhost:8080/",
          "height": 668
        }
      },
      "source": [
        "d"
      ],
      "execution_count": 17,
      "outputs": [
        {
          "output_type": "execute_result",
          "data": {
            "text/html": [
              "<div>\n",
              "<style scoped>\n",
              "    .dataframe tbody tr th:only-of-type {\n",
              "        vertical-align: middle;\n",
              "    }\n",
              "\n",
              "    .dataframe tbody tr th {\n",
              "        vertical-align: top;\n",
              "    }\n",
              "\n",
              "    .dataframe thead th {\n",
              "        text-align: right;\n",
              "    }\n",
              "</style>\n",
              "<table border=\"1\" class=\"dataframe\">\n",
              "  <thead>\n",
              "    <tr style=\"text-align: right;\">\n",
              "      <th></th>\n",
              "      <th>((0, Anne Shirley), count:495)</th>\n",
              "      <th>((1, Anne Shirley), count:488)</th>\n",
              "      <th>((2, Anne Shirley), count:454)</th>\n",
              "      <th>((3, Anne Shirley), count:243)</th>\n",
              "      <th>((4, Anne Shirley), count:365)</th>\n",
              "      <th>((5, Anne Cordelia), count:211)</th>\n",
              "      <th>((6, Anne dearie), count:42)</th>\n",
              "      <th>((7, Anne dearie), count:10)</th>\n",
              "      <th>((7, Mrs. Blythe), count:42)</th>\n",
              "    </tr>\n",
              "  </thead>\n",
              "  <tbody>\n",
              "    <tr>\n",
              "      <th>((0, Anne Shirley), count:495)</th>\n",
              "      <td>1.000000</td>\n",
              "      <td>0.999999</td>\n",
              "      <td>0.999999</td>\n",
              "      <td>0.999999</td>\n",
              "      <td>0.999992</td>\n",
              "      <td>0.999999</td>\n",
              "      <td>0.999999</td>\n",
              "      <td>0.412647</td>\n",
              "      <td>0.997495</td>\n",
              "    </tr>\n",
              "    <tr>\n",
              "      <th>((1, Anne Shirley), count:488)</th>\n",
              "      <td>0.999999</td>\n",
              "      <td>1.000000</td>\n",
              "      <td>0.999996</td>\n",
              "      <td>0.999996</td>\n",
              "      <td>0.999996</td>\n",
              "      <td>0.999996</td>\n",
              "      <td>0.999997</td>\n",
              "      <td>0.412647</td>\n",
              "      <td>0.997502</td>\n",
              "    </tr>\n",
              "    <tr>\n",
              "      <th>((2, Anne Shirley), count:454)</th>\n",
              "      <td>0.999999</td>\n",
              "      <td>0.999996</td>\n",
              "      <td>1.000000</td>\n",
              "      <td>1.000000</td>\n",
              "      <td>0.999985</td>\n",
              "      <td>1.000000</td>\n",
              "      <td>1.000000</td>\n",
              "      <td>0.412648</td>\n",
              "      <td>0.997478</td>\n",
              "    </tr>\n",
              "    <tr>\n",
              "      <th>((3, Anne Shirley), count:243)</th>\n",
              "      <td>0.999999</td>\n",
              "      <td>0.999996</td>\n",
              "      <td>1.000000</td>\n",
              "      <td>1.000000</td>\n",
              "      <td>0.999985</td>\n",
              "      <td>1.000000</td>\n",
              "      <td>1.000000</td>\n",
              "      <td>0.412649</td>\n",
              "      <td>0.997478</td>\n",
              "    </tr>\n",
              "    <tr>\n",
              "      <th>((4, Anne Shirley), count:365)</th>\n",
              "      <td>0.999992</td>\n",
              "      <td>0.999996</td>\n",
              "      <td>0.999985</td>\n",
              "      <td>0.999985</td>\n",
              "      <td>1.000000</td>\n",
              "      <td>0.999985</td>\n",
              "      <td>0.999986</td>\n",
              "      <td>0.412643</td>\n",
              "      <td>0.997525</td>\n",
              "    </tr>\n",
              "    <tr>\n",
              "      <th>((5, Anne Cordelia), count:211)</th>\n",
              "      <td>0.999999</td>\n",
              "      <td>0.999996</td>\n",
              "      <td>1.000000</td>\n",
              "      <td>1.000000</td>\n",
              "      <td>0.999985</td>\n",
              "      <td>1.000000</td>\n",
              "      <td>1.000000</td>\n",
              "      <td>0.412651</td>\n",
              "      <td>0.997478</td>\n",
              "    </tr>\n",
              "    <tr>\n",
              "      <th>((6, Anne dearie), count:42)</th>\n",
              "      <td>0.999999</td>\n",
              "      <td>0.999997</td>\n",
              "      <td>1.000000</td>\n",
              "      <td>1.000000</td>\n",
              "      <td>0.999986</td>\n",
              "      <td>1.000000</td>\n",
              "      <td>1.000000</td>\n",
              "      <td>0.412681</td>\n",
              "      <td>0.997481</td>\n",
              "    </tr>\n",
              "    <tr>\n",
              "      <th>((7, Anne dearie), count:10)</th>\n",
              "      <td>0.412647</td>\n",
              "      <td>0.412647</td>\n",
              "      <td>0.412648</td>\n",
              "      <td>0.412649</td>\n",
              "      <td>0.412643</td>\n",
              "      <td>0.412651</td>\n",
              "      <td>0.412681</td>\n",
              "      <td>1.000000</td>\n",
              "      <td>0.411656</td>\n",
              "    </tr>\n",
              "    <tr>\n",
              "      <th>((7, Mrs. Blythe), count:42)</th>\n",
              "      <td>0.997495</td>\n",
              "      <td>0.997502</td>\n",
              "      <td>0.997478</td>\n",
              "      <td>0.997478</td>\n",
              "      <td>0.997525</td>\n",
              "      <td>0.997478</td>\n",
              "      <td>0.997481</td>\n",
              "      <td>0.411656</td>\n",
              "      <td>1.000000</td>\n",
              "    </tr>\n",
              "  </tbody>\n",
              "</table>\n",
              "</div>"
            ],
            "text/plain": [
              "                                 ((0, Anne Shirley), count:495)  ...  ((7, Mrs. Blythe), count:42)\n",
              "((0, Anne Shirley), count:495)                         1.000000  ...                      0.997495\n",
              "((1, Anne Shirley), count:488)                         0.999999  ...                      0.997502\n",
              "((2, Anne Shirley), count:454)                         0.999999  ...                      0.997478\n",
              "((3, Anne Shirley), count:243)                         0.999999  ...                      0.997478\n",
              "((4, Anne Shirley), count:365)                         0.999992  ...                      0.997525\n",
              "((5, Anne Cordelia), count:211)                        0.999999  ...                      0.997478\n",
              "((6, Anne dearie), count:42)                           0.999999  ...                      0.997481\n",
              "((7, Anne dearie), count:10)                           0.412647  ...                      0.411656\n",
              "((7, Mrs. Blythe), count:42)                           0.997495  ...                      1.000000\n",
              "\n",
              "[9 rows x 9 columns]"
            ]
          },
          "metadata": {
            "tags": []
          },
          "execution_count": 17
        }
      ]
    },
    {
      "cell_type": "code",
      "metadata": {
        "id": "45qkeJbwb2Cc",
        "colab_type": "code",
        "outputId": "a1fd5337-07e5-4e70-ff02-0104aae4fbd2",
        "colab": {
          "base_uri": "https://localhost:8080/",
          "height": 281
        }
      },
      "source": [
        "for i in range(5):\n",
        "  anne_vectors_lda, characters_as_vectors_lda = train_lda()\n",
        "  d = cosine_lda(anne_vectors_lda)\n",
        "  plt.plot(range(8), list(d.iloc[0][:-2]) + [np.mean(d.iloc[0, -2:])])\n",
        "  plt.title(\"LDA-C Cosine Similarity Anne AGG & Anne other\")\n",
        "plt.show()"
      ],
      "execution_count": 18,
      "outputs": [
        {
          "output_type": "display_data",
          "data": {
            "image/png": "[encoded data removed]",
            "text/plain": [
              "<Figure size 432x288 with 1 Axes>"
            ]
          },
          "metadata": {
            "tags": []
          }
        }
      ]
    },
    {
      "cell_type": "code",
      "metadata": {
        "id": "XbUE-aaOur32",
        "colab_type": "code",
        "outputId": "8c759181-b8eb-415f-c733-4a65a6364a87",
        "colab": {
          "base_uri": "https://localhost:8080/",
          "height": 668
        }
      },
      "source": [
        "d"
      ],
      "execution_count": 19,
      "outputs": [
        {
          "output_type": "execute_result",
          "data": {
            "text/html": [
              "<div>\n",
              "<style scoped>\n",
              "    .dataframe tbody tr th:only-of-type {\n",
              "        vertical-align: middle;\n",
              "    }\n",
              "\n",
              "    .dataframe tbody tr th {\n",
              "        vertical-align: top;\n",
              "    }\n",
              "\n",
              "    .dataframe thead th {\n",
              "        text-align: right;\n",
              "    }\n",
              "</style>\n",
              "<table border=\"1\" class=\"dataframe\">\n",
              "  <thead>\n",
              "    <tr style=\"text-align: right;\">\n",
              "      <th></th>\n",
              "      <th>((0, Anne Shirley), count:495)</th>\n",
              "      <th>((1, Anne Shirley), count:488)</th>\n",
              "      <th>((2, Anne Shirley), count:454)</th>\n",
              "      <th>((3, Anne Shirley), count:243)</th>\n",
              "      <th>((4, Anne Shirley), count:365)</th>\n",
              "      <th>((5, Anne Cordelia), count:211)</th>\n",
              "      <th>((6, Anne dearie), count:42)</th>\n",
              "      <th>((7, Anne dearie), count:10)</th>\n",
              "      <th>((7, Mrs. Blythe), count:42)</th>\n",
              "    </tr>\n",
              "  </thead>\n",
              "  <tbody>\n",
              "    <tr>\n",
              "      <th>((0, Anne Shirley), count:495)</th>\n",
              "      <td>1.000000</td>\n",
              "      <td>0.530583</td>\n",
              "      <td>0.438219</td>\n",
              "      <td>0.481481</td>\n",
              "      <td>0.569936</td>\n",
              "      <td>0.445702</td>\n",
              "      <td>0.291222</td>\n",
              "      <td>0.000326</td>\n",
              "      <td>0.282747</td>\n",
              "    </tr>\n",
              "    <tr>\n",
              "      <th>((1, Anne Shirley), count:488)</th>\n",
              "      <td>0.530583</td>\n",
              "      <td>1.000000</td>\n",
              "      <td>0.983480</td>\n",
              "      <td>0.975463</td>\n",
              "      <td>0.993796</td>\n",
              "      <td>0.987760</td>\n",
              "      <td>0.946454</td>\n",
              "      <td>0.000298</td>\n",
              "      <td>0.918746</td>\n",
              "    </tr>\n",
              "    <tr>\n",
              "      <th>((2, Anne Shirley), count:454)</th>\n",
              "      <td>0.438219</td>\n",
              "      <td>0.983480</td>\n",
              "      <td>1.000000</td>\n",
              "      <td>0.987893</td>\n",
              "      <td>0.960570</td>\n",
              "      <td>0.989414</td>\n",
              "      <td>0.969551</td>\n",
              "      <td>0.000286</td>\n",
              "      <td>0.962346</td>\n",
              "    </tr>\n",
              "    <tr>\n",
              "      <th>((3, Anne Shirley), count:243)</th>\n",
              "      <td>0.481481</td>\n",
              "      <td>0.975463</td>\n",
              "      <td>0.987893</td>\n",
              "      <td>1.000000</td>\n",
              "      <td>0.946003</td>\n",
              "      <td>0.984431</td>\n",
              "      <td>0.971551</td>\n",
              "      <td>0.000270</td>\n",
              "      <td>0.921739</td>\n",
              "    </tr>\n",
              "    <tr>\n",
              "      <th>((4, Anne Shirley), count:365)</th>\n",
              "      <td>0.569936</td>\n",
              "      <td>0.993796</td>\n",
              "      <td>0.960570</td>\n",
              "      <td>0.946003</td>\n",
              "      <td>1.000000</td>\n",
              "      <td>0.968327</td>\n",
              "      <td>0.910383</td>\n",
              "      <td>0.000315</td>\n",
              "      <td>0.890595</td>\n",
              "    </tr>\n",
              "    <tr>\n",
              "      <th>((5, Anne Cordelia), count:211)</th>\n",
              "      <td>0.445702</td>\n",
              "      <td>0.987760</td>\n",
              "      <td>0.989414</td>\n",
              "      <td>0.984431</td>\n",
              "      <td>0.968327</td>\n",
              "      <td>1.000000</td>\n",
              "      <td>0.980831</td>\n",
              "      <td>0.000264</td>\n",
              "      <td>0.949922</td>\n",
              "    </tr>\n",
              "    <tr>\n",
              "      <th>((6, Anne dearie), count:42)</th>\n",
              "      <td>0.291222</td>\n",
              "      <td>0.946454</td>\n",
              "      <td>0.969551</td>\n",
              "      <td>0.971551</td>\n",
              "      <td>0.910383</td>\n",
              "      <td>0.980831</td>\n",
              "      <td>1.000000</td>\n",
              "      <td>0.000246</td>\n",
              "      <td>0.941613</td>\n",
              "    </tr>\n",
              "    <tr>\n",
              "      <th>((7, Anne dearie), count:10)</th>\n",
              "      <td>0.000326</td>\n",
              "      <td>0.000298</td>\n",
              "      <td>0.000286</td>\n",
              "      <td>0.000270</td>\n",
              "      <td>0.000315</td>\n",
              "      <td>0.000264</td>\n",
              "      <td>0.000246</td>\n",
              "      <td>1.000000</td>\n",
              "      <td>0.000304</td>\n",
              "    </tr>\n",
              "    <tr>\n",
              "      <th>((7, Mrs. Blythe), count:42)</th>\n",
              "      <td>0.282747</td>\n",
              "      <td>0.918746</td>\n",
              "      <td>0.962346</td>\n",
              "      <td>0.921739</td>\n",
              "      <td>0.890595</td>\n",
              "      <td>0.949922</td>\n",
              "      <td>0.941613</td>\n",
              "      <td>0.000304</td>\n",
              "      <td>1.000000</td>\n",
              "    </tr>\n",
              "  </tbody>\n",
              "</table>\n",
              "</div>"
            ],
            "text/plain": [
              "                                 ((0, Anne Shirley), count:495)  ...  ((7, Mrs. Blythe), count:42)\n",
              "((0, Anne Shirley), count:495)                         1.000000  ...                      0.282747\n",
              "((1, Anne Shirley), count:488)                         0.530583  ...                      0.918746\n",
              "((2, Anne Shirley), count:454)                         0.438219  ...                      0.962346\n",
              "((3, Anne Shirley), count:243)                         0.481481  ...                      0.921739\n",
              "((4, Anne Shirley), count:365)                         0.569936  ...                      0.890595\n",
              "((5, Anne Cordelia), count:211)                        0.445702  ...                      0.949922\n",
              "((6, Anne dearie), count:42)                           0.291222  ...                      0.941613\n",
              "((7, Anne dearie), count:10)                           0.000326  ...                      0.000304\n",
              "((7, Mrs. Blythe), count:42)                           0.282747  ...                      1.000000\n",
              "\n",
              "[9 rows x 9 columns]"
            ]
          },
          "metadata": {
            "tags": []
          },
          "execution_count": 19
        }
      ]
    },
    {
      "cell_type": "code",
      "metadata": {
        "id": "GmNdzVa0txGM",
        "colab_type": "code",
        "colab": {}
      },
      "source": [
        "#Evaluating Doc2Vec \n",
        "#reading human-annotated character relation annotations\n",
        "char_rel_frame = pd.read_csv(direc+\"character_relation_annotations.txt\", sep = \"\\t\")\n",
        "char_rel_frame = char_rel_frame[char_rel_frame[\"title\"]==\"Anne of Green Gables\"]\n",
        "char_rel_frame  = char_rel_frame[char_rel_frame[\"annotator\"]==\"annotator_11\"]"
      ],
      "execution_count": 0,
      "outputs": []
    },
    {
      "cell_type": "code",
      "metadata": {
        "id": "QakUDlU76-WU",
        "colab_type": "code",
        "colab": {}
      },
      "source": [
        "#d2v & lda evaluation\n",
        "\n",
        "def evaluate(model='d2v'):\n",
        "  coarse = char_rel_frame[\"coarse_category\"].unique()\n",
        "  affinity = char_rel_frame[\"affinity\"].unique()\n",
        "  fine = char_rel_frame[\"fine_category\"].unique()\n",
        "  change = char_rel_frame[\"change\"].unique()\n",
        "\n",
        "  criteria = [coarse, affinity, fine, change]\n",
        "  col = [\"coarse_category\", \"affinity\", \"fine_category\", \"change\"]\n",
        "\n",
        "  for n in range(len(criteria)):\n",
        "    for c in criteria[n]:\n",
        "      print(c)\n",
        "      for i in range(len(char_rel_frame[char_rel_frame[col[n]]==c])):\n",
        "        samples = []\n",
        "        false_samples = []\n",
        "        for k in range(100): #100 samples\n",
        "          if model=='d2v':\n",
        "            anne_vectors, characters_as_vectors = train_doc2vec()\n",
        "            random_anne_vectors, random_characters_as_vectors = train_doc2vec(randomise=True)\n",
        "          elif model=='lda':\n",
        "            anne_vectors, characters_as_vectors = train_lda()\n",
        "            random_anne_vectors, random_characters_as_vectors = train_lda(randomise=True)\n",
        "          c1 = find_vector_for_character(characters_as_vectors, [char_rel_frame[char_rel_frame[col[n]]==c].iloc[i][\"character_1\"], char_rel_frame[char_rel_frame[col[n]]==c].iloc[i][\"character_1\"].split()[0]], 0)\n",
        "          c2 = find_vector_for_character(characters_as_vectors, [char_rel_frame[char_rel_frame[col[n]]==c].iloc[i][\"character_2\"], char_rel_frame[char_rel_frame[col[n]]==c].iloc[i][\"character_2\"].split()[0]], 0)\n",
        "          random_c1 = find_vector_for_character(random_characters_as_vectors, [char_rel_frame[char_rel_frame[col[n]]==c].iloc[i][\"character_1\"], char_rel_frame[char_rel_frame[col[n]]==c].iloc[i][\"character_1\"].split()[0]], 0)\n",
        "          random_c2 = find_vector_for_character(random_characters_as_vectors, [char_rel_frame[char_rel_frame[col[n]]==c].iloc[i][\"character_2\"], char_rel_frame[char_rel_frame[col[n]]==c].iloc[i][\"character_2\"].split()[0]], 0)\n",
        "          samples.append(cosine(c1, c2))\n",
        "          false_samples.append(cosine(random_c1, random_c2))\n",
        "        p, mean = ttest_ind(samples, false_samples), np.mean(samples)\n",
        "        if model=='lda':\n",
        "          if c1.shape==(1, 50) and c2.shape==(1, 50):\n",
        "            print(char_rel_frame[char_rel_frame[col[n]]==c].iloc[i][\"character_1\"], char_rel_frame[char_rel_frame[col[n]]==c].iloc[i][\"character_2\"], p, mean)\n",
        "        elif model=='d2v':\n",
        "          if c1.shape==(1, 300) and c2.shape==(1, 300):\n",
        "            print(char_rel_frame[char_rel_frame[col[n]]==c].iloc[i][\"character_1\"], char_rel_frame[char_rel_frame[col[n]]==c].iloc[i][\"character_2\"], p, mean)\n"
      ],
      "execution_count": 0,
      "outputs": []
    },
    {
      "cell_type": "code",
      "metadata": {
        "id": "ZakpYdv2ngSh",
        "colab_type": "code",
        "outputId": "7864c3f5-f534-4494-d25a-34e293f935ea",
        "colab": {
          "base_uri": "https://localhost:8080/",
          "height": 598
        }
      },
      "source": [
        "# evaluate()"
      ],
      "execution_count": 0,
      "outputs": [
        {
          "output_type": "stream",
          "text": [
            "familial\n",
            "Matthew Cuthbert Marilla Cuthbert Ttest_indResult(statistic=array([[5.586077]], dtype=float32), pvalue=array([[7.60389903e-08]])) 0.99395806\n",
            "Anne Shirley Matthew Cuthbert Ttest_indResult(statistic=array([[-1.3209022]], dtype=float32), pvalue=array([[0.18805854]])) 0.97059005\n",
            "Anne Shirley Marilla Cuthbert Ttest_indResult(statistic=array([[-11.791706]], dtype=float32), pvalue=array([[1.17794335e-24]])) 0.9760333\n",
            "Mrs. Barry Diana Barry Ttest_indResult(statistic=array([[5.1126194]], dtype=float32), pvalue=array([[7.46777067e-07]])) 0.9983844\n",
            "social\n",
            "Diana Barry Anne Shirley Ttest_indResult(statistic=array([[-5.2894015]], dtype=float32), pvalue=array([[3.23461804e-07]])) 0.9192226\n",
            "Mrs. Rachel Lynde Marilla Cuthbert Ttest_indResult(statistic=array([[3.5577564]], dtype=float32), pvalue=array([[0.00046808]])) 0.97211695\n",
            "Gilbert Blythe Anne Shirley Ttest_indResult(statistic=array([[-2.4309514]], dtype=float32), pvalue=array([[0.01594977]])) 0.91965085\n",
            "Josie Pye Anne Shirley Ttest_indResult(statistic=array([[-5.2093835]], dtype=float32), pvalue=array([[4.73546458e-07]])) 0.87211335\n",
            "professional\n",
            "Miss Muriel Stacy Anne Shirley Ttest_indResult(statistic=array([[-4.2990036]], dtype=float32), pvalue=array([[2.69050582e-05]])) 0.9283739\n",
            "Mr. Phillips Anne Shirley Ttest_indResult(statistic=array([[-6.458964]], dtype=float32), pvalue=array([[7.98797317e-10]])) 0.89114875\n",
            "positive\n",
            "Matthew Cuthbert Marilla Cuthbert Ttest_indResult(statistic=array([[6.3226514]], dtype=float32), pvalue=array([[1.67242595e-09]])) 0.99424124\n",
            "Anne Shirley Matthew Cuthbert Ttest_indResult(statistic=array([[-2.969843]], dtype=float32), pvalue=array([[0.00334784]])) 0.967934\n",
            "Anne Shirley Marilla Cuthbert Ttest_indResult(statistic=array([[-8.201145]], dtype=float32), pvalue=array([[2.9606761e-14]])) 0.9763623\n",
            "Diana Barry Anne Shirley Ttest_indResult(statistic=array([[-5.032814]], dtype=float32), pvalue=array([[1.08239131e-06]])) 0.9178205\n",
            "Miss Muriel Stacy Anne Shirley Ttest_indResult(statistic=array([[-6.8766327]], dtype=float32), pvalue=array([[7.82968487e-11]])) 0.9235181\n",
            "Mrs. Barry Diana Barry Ttest_indResult(statistic=array([[5.8748627]], dtype=float32), pvalue=array([[1.76603281e-08]])) 0.99855185\n",
            "neutral\n",
            "Mrs. Rachel Lynde Marilla Cuthbert Ttest_indResult(statistic=array([[4.0920396]], dtype=float32), pvalue=array([[6.22144894e-05]])) 0.97200227\n",
            "negative\n",
            "Gilbert Blythe Anne Shirley Ttest_indResult(statistic=array([[-4.25399]], dtype=float32), pvalue=array([[3.23707906e-05]])) 0.9183088\n",
            "Josie Pye Anne Shirley Ttest_indResult(statistic=array([[-4.7160206]], dtype=float32), pvalue=array([[4.5324875e-06]])) 0.8747596\n",
            "Mr. Phillips Anne Shirley Ttest_indResult(statistic=array([[-3.351062]], dtype=float32), pvalue=array([[0.00096409]])) 0.8976133\n",
            "brother/sister\n",
            "Matthew Cuthbert Marilla Cuthbert Ttest_indResult(statistic=array([[5.3051457]], dtype=float32), pvalue=array([[2.99948086e-07]])) 0.9939191\n",
            "orphan\n",
            "Anne Shirley Matthew Cuthbert Ttest_indResult(statistic=array([[-2.151949]], dtype=float32), pvalue=array([[0.03261192]])) 0.96881515\n",
            "Anne Shirley Marilla Cuthbert Ttest_indResult(statistic=array([[-8.806895]], dtype=float32), pvalue=array([[6.47441184e-16]])) 0.976683\n",
            "friend\n",
            "Diana Barry Anne Shirley Ttest_indResult(statistic=array([[-5.8076973]], dtype=float32), pvalue=array([[2.49083018e-08]])) 0.91843927\n"
          ],
          "name": "stdout"
        }
      ]
    },
    {
      "cell_type": "code",
      "metadata": {
        "id": "kU56Z_yMd-cK",
        "colab_type": "code",
        "colab": {}
      },
      "source": [
        "# evaluate(model='lda')"
      ],
      "execution_count": 0,
      "outputs": []
    },
    {
      "cell_type": "code",
      "metadata": {
        "colab_type": "code",
        "id": "LP-iVgQU3lJ4",
        "colab": {}
      },
      "source": [
        "# find_vector_for_character(characters_as_vectors_lda, ['Anne Shirley', 'Anne'])"
      ],
      "execution_count": 0,
      "outputs": []
    },
    {
      "cell_type": "code",
      "metadata": {
        "id": "Ku25c-hi8sHo",
        "colab_type": "code",
        "colab": {}
      },
      "source": [
        "# #using a frequentist approach to show that each character is statistically \n",
        "# #different from the \"mean\"\n",
        "\n",
        "# true_samps_d2v = []\n",
        "# shuff_samps_d2v = []\n",
        "# true_samps_lda = []\n",
        "# shuff_samps_lda = []\n",
        "\n",
        "# n = 5\n",
        "# for i in range(n):\n",
        "#   anne_vectors, characters_as_vectors = train_doc2vec()\n",
        "#   anne_vectors_lda, characters_as_vectors_lda = train_lda()\n",
        "#   anne_vectors_samp, characters_as_vectors_samp = train_doc2vec(randomise=True)\n",
        "#   anne_vectors_lda_samp, characters_as_vectors_lda_samp = train_lda(randomise=True)\n",
        "#   true_samps_d2v.append(cosine_d2v(anne_vectors))\n",
        "#   shuff_samps_d2v.append(cosine_d2v(anne_vectors_samp))\n",
        "#   true_samps_lda.append(cosine_lda(anne_vectors_lda))\n",
        "#   shuff_samps_lda.append(cosine_lda(anne_vectors_lda_samp))"
      ],
      "execution_count": 0,
      "outputs": []
    },
    {
      "cell_type": "code",
      "metadata": {
        "id": "Dh3n_RDUh0vn",
        "colab_type": "code",
        "colab": {}
      },
      "source": [
        "# true_samps_d2v[0]"
      ],
      "execution_count": 0,
      "outputs": []
    },
    {
      "cell_type": "code",
      "metadata": {
        "id": "zKXggIIf8E-d",
        "colab_type": "code",
        "colab": {}
      },
      "source": [
        "# from scipy.stats import ttest_ind\n",
        "# samples_true = np.zeros(shape=(n, len(np.array(true_samps_d2v[0]).flatten())))\n",
        "# samples_shuff = np.zeros(shape=(n, len(np.array(true_samps_d2v[0]).flatten())))\n",
        "# for i in range(len(true_samps_d2v)):\n",
        "#   t = np.array(true_samps_d2v[i]).flatten()\n",
        "#   f = np.array(shuff_samps_d2v[i]).flatten()\n",
        "#   for e in range(len(t)):\n",
        "#     samples_true[i][e] = t[e]\n",
        "#     samples_shuff[i][e] = f[e]\n",
        "\n",
        "# p_vals = []\n",
        "# for k in range(len(np.array(true_samps_d2v[0]).flatten())):\n",
        "#   p_vals.append(ttest_ind(samples_true[:,k], samples_shuff[:,k])[1])\n",
        "\n"
      ],
      "execution_count": 0,
      "outputs": []
    },
    {
      "cell_type": "code",
      "metadata": {
        "id": "h8gZuKvBWJ2N",
        "colab_type": "code",
        "colab": {}
      },
      "source": [
        "# plt.hist(p_vals, bins=81)"
      ],
      "execution_count": 0,
      "outputs": []
    },
    {
      "cell_type": "code",
      "metadata": {
        "id": "zutDAhgEWw2B",
        "colab_type": "code",
        "colab": {}
      },
      "source": [
        "# from scipy.stats import ttest_ind\n",
        "\n",
        "# true_samps_d2v_flat = np.array(true_samps_d2v).flatten()\n",
        "# shuff_samps_d2v = np.array(true_samps_d2v).flatten()\n",
        "# true_samps_lda = []\n",
        "# shuff_samps_lda = []"
      ],
      "execution_count": 0,
      "outputs": []
    },
    {
      "cell_type": "code",
      "metadata": {
        "id": "wNVC1BO7UmU_",
        "colab_type": "code",
        "colab": {}
      },
      "source": [
        ""
      ],
      "execution_count": 0,
      "outputs": []
    },
    {
      "cell_type": "code",
      "metadata": {
        "id": "O9FnECk6oYSN",
        "colab_type": "code",
        "colab": {}
      },
      "source": [
        "#conducting experiments based on hypotheses stated in paper\n",
        "#testing hypothesis 1\n",
        "from scipy.stats import ttest_ind\n",
        "def test_hyp(c1_str, c2_str, model_name, book, n = 50, lemmatize = False):\n",
        "  #using a frequentist approach to show that each character is statistically \n",
        "  #different from the \"mean\"\n",
        "  true_samps = []\n",
        "  shuff_samps = []\n",
        "  for i in range(n):\n",
        "    anne_vectors, characters_as_vectors = model_name(lemmatize = lemmatize)\n",
        "    anne_vectors_samp, characters_as_vectors_samp = model_name(randomise=True, lemmatize = lemmatize)\n",
        "    c1 = find_vector_for_character(characters_as_vectors, [c1_str, c1_str.split()[0]], book=book)\n",
        "    c2 = find_vector_for_character(characters_as_vectors, [c2_str, c2_str.split()[0]], book=book)\n",
        "    c1_samp = find_vector_for_character(characters_as_vectors_samp, [c1_str, c1_str.split()[0]], book=book)\n",
        "    c2_samp = find_vector_for_character(characters_as_vectors_samp, [c2_str, c2_str.split()[0]], book=book)\n",
        "    true_samps.append(cosine(c1, c2))\n",
        "    shuff_samps.append(cosine(c1_samp, c2_samp))\n",
        "  # samples_true = np.zeros(shape=(n, len(np.array(true_samps[0]).flatten())))\n",
        "  # samples_shuff = np.zeros(shape=(n, len(np.array(shuff_samps[0]).flatten())))\n",
        "  # for i in range(len(true_samps_d2v)):\n",
        "  #   t = np.array(true_samps_d2v[i]).flatten()\n",
        "  #   f = np.array(shuff_samps_d2v[i]).flatten()\n",
        "  #   for e in range(len(t)):\n",
        "  #     samples_true[i][e] = t[e]\n",
        "  #     samples_shuff[i][e] = f[e]\n",
        "\n",
        "  return ttest_ind(true_samps, shuff_samps), np.mean(true_samps)\n",
        "\n",
        "\n"
      ],
      "execution_count": 0,
      "outputs": []
    },
    {
      "cell_type": "code",
      "metadata": {
        "id": "4OCk1aVbrS_d",
        "colab_type": "code",
        "outputId": "af7b56fc-a436-481e-a574-140c16f7bdc5",
        "colab": {
          "base_uri": "https://localhost:8080/",
          "height": 153
        }
      },
      "source": [
        "#hyp2 lda #lem false\n",
        "print(\"lda0\")\n",
        "print(test_hyp(\"Anne Shirley\", \"Diana Barry\", train_lda, 0))\n",
        "print(\"lda4\")\n",
        "print(test_hyp(\"Anne Shirley\", \"Cornelia Bryant\", train_lda, 4))\n",
        "\n",
        "#hyp2 character2vec #lem false\n",
        "print(\"c2v0\")\n",
        "print(test_hyp(\"Anne Shirley\", \"Diana Barry\", train_doc2vec, 0))\n",
        "print(\"c2v4\")\n",
        "print(test_hyp(\"Anne Shirley\", \"Cornelia Bryant\", train_doc2vec, 4))"
      ],
      "execution_count": 28,
      "outputs": [
        {
          "output_type": "stream",
          "text": [
            "lda0\n",
            "(Ttest_indResult(statistic=array([[21.71192]], dtype=float32), pvalue=array([[3.15992948e-39]])), 0.89912397)\n",
            "lda4\n",
            "(Ttest_indResult(statistic=array([[15.258864]], dtype=float32), pvalue=array([[1.22727199e-27]])), 0.9084037)\n",
            "c2v0\n",
            "(Ttest_indResult(statistic=array([[-5.150073]], dtype=float32), pvalue=array([[1.34596185e-06]])), 0.91614443)\n",
            "c2v4\n",
            "(Ttest_indResult(statistic=array([[-10.278098]], dtype=float32), pvalue=array([[3.01755527e-17]])), 0.97695)\n"
          ],
          "name": "stdout"
        }
      ]
    },
    {
      "cell_type": "code",
      "metadata": {
        "id": "RJ8q-R3pYb0Z",
        "colab_type": "code",
        "colab": {
          "base_uri": "https://localhost:8080/",
          "height": 153
        },
        "outputId": "a5cf283d-f34a-4e70-847d-b25ea4ba7056"
      },
      "source": [
        "#hyp2 lda #lem tru\n",
        "print(\"lda0\")\n",
        "print(test_hyp(\"Anne Shirley\", \"Diana Barry\", train_lda, 0, lemmatize = True))\n",
        "print(\"lda4\")\n",
        "print(test_hyp(\"Anne Shirley\", \"Cornelia Bryant\", train_lda, 4, lemmatize = True))\n",
        "\n",
        "#hyp2 character2vec #lem tru\n",
        "print(\"c2v0\")\n",
        "print(test_hyp(\"Anne Shirley\", \"Diana Barry\", train_doc2vec, 0, lemmatize = True))\n",
        "print(\"c2v4\")\n",
        "print(test_hyp(\"Anne Shirley\", \"Cornelia Bryant\", train_doc2vec, 4, lemmatize = True))"
      ],
      "execution_count": 29,
      "outputs": [
        {
          "output_type": "stream",
          "text": [
            "lda0\n",
            "(Ttest_indResult(statistic=array([[13.454439]], dtype=float32), pvalue=array([[5.37837111e-24]])), 0.92241526)\n",
            "lda4\n",
            "(Ttest_indResult(statistic=array([[15.053569]], dtype=float32), pvalue=array([[3.12428758e-27]])), 0.8960369)\n",
            "c2v0\n",
            "(Ttest_indResult(statistic=array([[-2.774433]], dtype=float32), pvalue=array([[0.0066223]])), 0.9945144)\n",
            "c2v4\n",
            "(Ttest_indResult(statistic=array([[6.112378]], dtype=float32), pvalue=array([[1.999327e-08]])), 0.9957547)\n"
          ],
          "name": "stdout"
        }
      ]
    },
    {
      "cell_type": "code",
      "metadata": {
        "id": "9EMhpMD_sER9",
        "colab_type": "code",
        "outputId": "f4807dcc-372d-41c0-a783-ebb548287cfa",
        "colab": {
          "base_uri": "https://localhost:8080/",
          "height": 221
        }
      },
      "source": [
        "# #hyp1 lda #lem false\n",
        "print(\"lda1\")\n",
        "print(test_hyp(\"Anne Shirley\", \"Davy Keith\", train_lda, 1))\n",
        "print(\"lda5\")\n",
        "print(test_hyp(\"Anne Shirley\", \"Jem Blythe\", train_lda, 5))\n",
        "print(\"lda6\")\n",
        "print(test_hyp(\"Anne Shirley\", \"Jem Blythe\", train_lda, 6))\n",
        "\n",
        "#hyp1 character2vec #lem false\n",
        "print(\"c2v1\")\n",
        "print(test_hyp(\"Anne Shirley\", \"Davy Keith\", train_doc2vec, 1))\n",
        "print(\"c2v5\")\n",
        "print(test_hyp(\"Anne Shirley\", \"Jem Blythe\", train_doc2vec, 5))\n",
        "print(\"c2v6\")\n",
        "print(test_hyp(\"Anne Shirley\", \"Jem Blythe\", train_doc2vec, 6))"
      ],
      "execution_count": 30,
      "outputs": [
        {
          "output_type": "stream",
          "text": [
            "lda1\n",
            "(Ttest_indResult(statistic=array([[18.748343]], dtype=float32), pvalue=array([[3.49723454e-34]])), 0.8293907)\n",
            "lda5\n",
            "(Ttest_indResult(statistic=array([[15.534949]], dtype=float32), pvalue=array([[3.52186345e-28]])), 0.80159706)\n",
            "lda6\n",
            "(Ttest_indResult(statistic=array([[3.5959604]], dtype=float32), pvalue=array([[0.0005083]])), 0.36230716)\n",
            "c2v1\n",
            "(Ttest_indResult(statistic=array([[-10.541141]], dtype=float32), pvalue=array([[8.12665327e-18]])), 0.9893556)\n",
            "c2v5\n",
            "(Ttest_indResult(statistic=array([[3.0613096]], dtype=float32), pvalue=array([[0.00284394]])), 0.9976461)\n",
            "c2v6\n",
            "(Ttest_indResult(statistic=array([[-1.0145321]], dtype=float32), pvalue=array([[0.31282717]])), 0.99841684)\n"
          ],
          "name": "stdout"
        }
      ]
    },
    {
      "cell_type": "code",
      "metadata": {
        "id": "sq4a7rUgG6ke",
        "colab_type": "code",
        "colab": {
          "base_uri": "https://localhost:8080/",
          "height": 221
        },
        "outputId": "31079687-9d9f-4914-c27a-a1647df61ea3"
      },
      "source": [
        "# #hyp1 lda #lem t\n",
        "print(\"lda1\")\n",
        "print(test_hyp(\"Anne Shirley\", \"Davy Keith\", train_lda, 1, lemmatize = True))\n",
        "print(\"lda5\")\n",
        "print(test_hyp(\"Anne Shirley\", \"Jem Blythe\", train_lda, 5, lemmatize = True))\n",
        "print(\"lda6\")\n",
        "print(test_hyp(\"Anne Shirley\", \"Jem Blythe\", train_lda, 6, lemmatize = True))\n",
        "\n",
        "#hyp1 character2vec #lem t\n",
        "print(\"c2v1\")\n",
        "print(test_hyp(\"Anne Shirley\", \"Davy Keith\", train_doc2vec, 1, lemmatize = True))\n",
        "print(\"c2v5\")\n",
        "print(test_hyp(\"Anne Shirley\", \"Jem Blythe\", train_doc2vec, 5, lemmatize = True))\n",
        "print(\"c2v6\")\n",
        "print(test_hyp(\"Anne Shirley\", \"Jem Blythe\", train_doc2vec, 6, lemmatize = True))"
      ],
      "execution_count": 31,
      "outputs": [
        {
          "output_type": "stream",
          "text": [
            "lda1\n",
            "(Ttest_indResult(statistic=array([[14.632239]], dtype=float32), pvalue=array([[2.1607687e-26]])), 0.8878376)\n",
            "lda5\n",
            "(Ttest_indResult(statistic=array([[14.46903]], dtype=float32), pvalue=array([[4.59665071e-26]])), 0.7563882)\n",
            "lda6\n",
            "(Ttest_indResult(statistic=array([[2.833201]], dtype=float32), pvalue=array([[0.00559539]])), 0.46379074)\n",
            "c2v1\n",
            "(Ttest_indResult(statistic=array([[0.92037296]], dtype=float32), pvalue=array([[0.35963793]])), 0.9822154)\n",
            "c2v5\n",
            "(Ttest_indResult(statistic=array([[2.913276]], dtype=float32), pvalue=array([[0.00443029]])), 0.99563384)\n",
            "c2v6\n",
            "(Ttest_indResult(statistic=array([[-0.29202995]], dtype=float32), pvalue=array([[0.77088104]])), 0.99928737)\n"
          ],
          "name": "stdout"
        }
      ]
    }
  ]
}