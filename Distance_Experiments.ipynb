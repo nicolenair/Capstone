{
  "nbformat": 4,
  "nbformat_minor": 0,
  "metadata": {
    "colab": {
      "name": "Distance Experiments.ipynb",
      "provenance": [],
      "collapsed_sections": [],
      "toc_visible": true,
      "include_colab_link": true
    },
    "kernelspec": {
      "display_name": "Python 3",
      "language": "python",
      "name": "python3"
    }
  },
  "cells": [
    {
      "cell_type": "markdown",
      "metadata": {
        "id": "view-in-github",
        "colab_type": "text"
      },
      "source": [
        "<a href=\"https://colab.research.google.com/github/nicolenair/capstone/blob/master/Distance_Experiments.ipynb\" target=\"_parent\"><img src=\"https://colab.research.google.com/assets/colab-badge.svg\" alt=\"Open In Colab\"/></a>"
      ]
    },
    {
      "cell_type": "code",
      "metadata": {
        "id": "YlL6OZZYuLPv",
        "colab_type": "code",
        "outputId": "74ac0c38-09e4-4265-d641-0440f37d4abb",
        "colab": {
          "base_uri": "https://localhost:8080/",
          "height": 530
        }
      },
      "source": [
        "import os\n",
        "!pip install --upgrade gensim\n",
        "\n",
        "import nltk\n",
        "nltk.download('punkt')\n",
        "\n",
        "def install_java():\n",
        "  !apt-get install -y openjdk-8-jdk-headless -qq > /dev/null      #install openjdk\n",
        "  os.environ[\"JAVA_HOME\"] = \"/usr/lib/jvm/java-8-openjdk-amd64\"     #set environment variable\n",
        "  !java -version       #check java version\n",
        "install_java()"
      ],
      "execution_count": 1,
      "outputs": [
        {
          "output_type": "stream",
          "text": [
            "Collecting gensim\n",
            "\u001b[?25l  Downloading https://files.pythonhosted.org/packages/d1/dd/112bd4258cee11e0baaaba064060eb156475a42362e59e3ff28e7ca2d29d/gensim-3.8.1-cp36-cp36m-manylinux1_x86_64.whl (24.2MB)\n",
            "\u001b[K     |████████████████████████████████| 24.2MB 94kB/s \n",
            "\u001b[?25hRequirement already satisfied, skipping upgrade: six>=1.5.0 in /usr/local/lib/python3.6/dist-packages (from gensim) (1.12.0)\n",
            "Requirement already satisfied, skipping upgrade: smart-open>=1.8.1 in /usr/local/lib/python3.6/dist-packages (from gensim) (1.9.0)\n",
            "Requirement already satisfied, skipping upgrade: scipy>=0.18.1 in /usr/local/lib/python3.6/dist-packages (from gensim) (1.3.3)\n",
            "Requirement already satisfied, skipping upgrade: numpy>=1.11.3 in /usr/local/lib/python3.6/dist-packages (from gensim) (1.17.4)\n",
            "Requirement already satisfied, skipping upgrade: requests in /usr/local/lib/python3.6/dist-packages (from smart-open>=1.8.1->gensim) (2.21.0)\n",
            "Requirement already satisfied, skipping upgrade: boto>=2.32 in /usr/local/lib/python3.6/dist-packages (from smart-open>=1.8.1->gensim) (2.49.0)\n",
            "Requirement already satisfied, skipping upgrade: boto3 in /usr/local/lib/python3.6/dist-packages (from smart-open>=1.8.1->gensim) (1.10.32)\n",
            "Requirement already satisfied, skipping upgrade: chardet<3.1.0,>=3.0.2 in /usr/local/lib/python3.6/dist-packages (from requests->smart-open>=1.8.1->gensim) (3.0.4)\n",
            "Requirement already satisfied, skipping upgrade: urllib3<1.25,>=1.21.1 in /usr/local/lib/python3.6/dist-packages (from requests->smart-open>=1.8.1->gensim) (1.24.3)\n",
            "Requirement already satisfied, skipping upgrade: certifi>=2017.4.17 in /usr/local/lib/python3.6/dist-packages (from requests->smart-open>=1.8.1->gensim) (2019.11.28)\n",
            "Requirement already satisfied, skipping upgrade: idna<2.9,>=2.5 in /usr/local/lib/python3.6/dist-packages (from requests->smart-open>=1.8.1->gensim) (2.8)\n",
            "Requirement already satisfied, skipping upgrade: s3transfer<0.3.0,>=0.2.0 in /usr/local/lib/python3.6/dist-packages (from boto3->smart-open>=1.8.1->gensim) (0.2.1)\n",
            "Requirement already satisfied, skipping upgrade: jmespath<1.0.0,>=0.7.1 in /usr/local/lib/python3.6/dist-packages (from boto3->smart-open>=1.8.1->gensim) (0.9.4)\n",
            "Requirement already satisfied, skipping upgrade: botocore<1.14.0,>=1.13.32 in /usr/local/lib/python3.6/dist-packages (from boto3->smart-open>=1.8.1->gensim) (1.13.32)\n",
            "Requirement already satisfied, skipping upgrade: python-dateutil<2.8.1,>=2.1; python_version >= \"2.7\" in /usr/local/lib/python3.6/dist-packages (from botocore<1.14.0,>=1.13.32->boto3->smart-open>=1.8.1->gensim) (2.6.1)\n",
            "Requirement already satisfied, skipping upgrade: docutils<0.16,>=0.10 in /usr/local/lib/python3.6/dist-packages (from botocore<1.14.0,>=1.13.32->boto3->smart-open>=1.8.1->gensim) (0.15.2)\n",
            "Installing collected packages: gensim\n",
            "  Found existing installation: gensim 3.6.0\n",
            "    Uninstalling gensim-3.6.0:\n",
            "      Successfully uninstalled gensim-3.6.0\n",
            "Successfully installed gensim-3.8.1\n",
            "[nltk_data] Downloading package punkt to /root/nltk_data...\n",
            "[nltk_data]   Unzipping tokenizers/punkt.zip.\n",
            "openjdk version \"11.0.4\" 2019-07-16\n",
            "OpenJDK Runtime Environment (build 11.0.4+11-post-Ubuntu-1ubuntu218.04.3)\n",
            "OpenJDK 64-Bit Server VM (build 11.0.4+11-post-Ubuntu-1ubuntu218.04.3, mixed mode, sharing)\n"
          ],
          "name": "stdout"
        }
      ]
    },
    {
      "cell_type": "code",
      "metadata": {
        "id": "yCMiSdf_DG3n",
        "colab_type": "code",
        "colab": {}
      },
      "source": [
        "# !wget http://mallet.cs.umass.edu/dist/mallet-2.0.8.zip\n",
        "# !unzip mallet-2.0.8.zip"
      ],
      "execution_count": 0,
      "outputs": []
    },
    {
      "cell_type": "code",
      "metadata": {
        "id": "Sb12I3GvV_Gm",
        "colab_type": "code",
        "outputId": "1a363194-5b8d-4527-8f6b-b9a3e5c326a4",
        "colab": {
          "base_uri": "https://localhost:8080/",
          "height": 122
        }
      },
      "source": [
        "from google.colab import drive\n",
        "drive.mount('/content/gdrive', force_remount = True)\n",
        "# os.chdir(\"/content/gdrive/My Drive/Colab Notebooks/CAPSTONE\")\n",
        "direc = \"/content/gdrive/My Drive/Colab Notebooks/CAPSTONE/\""
      ],
      "execution_count": 3,
      "outputs": [
        {
          "output_type": "stream",
          "text": [
            "Go to this URL in a browser: https://accounts.google.com/o/oauth2/auth?client_id=947318989803-6bn6qk8qdgf4n4g3pfee6491hc0brc4i.apps.googleusercontent.com&redirect_uri=urn%3aietf%3awg%3aoauth%3a2.0%3aoob&response_type=code&scope=email%20https%3a%2f%2fwww.googleapis.com%2fauth%2fdocs.test%20https%3a%2f%2fwww.googleapis.com%2fauth%2fdrive%20https%3a%2f%2fwww.googleapis.com%2fauth%2fdrive.photos.readonly%20https%3a%2f%2fwww.googleapis.com%2fauth%2fpeopleapi.readonly\n",
            "\n",
            "Enter your authorization code:\n",
            "··········\n",
            "Mounted at /content/gdrive\n"
          ],
          "name": "stdout"
        }
      ]
    },
    {
      "cell_type": "code",
      "metadata": {
        "id": "taaK2gE9Toa-",
        "colab_type": "code",
        "colab": {}
      },
      "source": [
        "#!pip install import_ipynb\n",
        "from bs4 import BeautifulSoup\n",
        "import requests\n",
        "import numpy as np\n",
        "import pandas as pd\n",
        "import os\n",
        "import re\n",
        "import os\n",
        "import importlib\n",
        "import nltk\n",
        "import matplotlib.pyplot as plt\n",
        "import gensim"
      ],
      "execution_count": 0,
      "outputs": []
    },
    {
      "cell_type": "code",
      "metadata": {
        "id": "96XXzcW-V-EQ",
        "colab_type": "code",
        "colab": {}
      },
      "source": [
        "# importlib.reload(anno_auto)"
      ],
      "execution_count": 0,
      "outputs": []
    },
    {
      "cell_type": "code",
      "metadata": {
        "id": "kusdyuiaX_YY",
        "colab_type": "code",
        "colab": {}
      },
      "source": [
        "# import os\n",
        "# os.listdir(\"/content/gdrive/My Drive/Nicole-Internship-Complete-Folder/chatbot - all/chatbot-flask/GoogleNews-vectors-negative300.bin.gz\")"
      ],
      "execution_count": 0,
      "outputs": []
    },
    {
      "cell_type": "code",
      "metadata": {
        "id": "xcnPuUeyNbjs",
        "colab_type": "code",
        "colab": {}
      },
      "source": [
        "property_ = \"speaking\"\n",
        "file1 = open(direc+\"gables_{}_list.txt\".format(property_), \"r\")\n",
        "file2 = open(direc+\"avonlea_{}_list.txt\".format(property_), \"r\")\n",
        "file3 = open(direc+\"island_{}_list.txt\".format(property_), \"r\")\n",
        "file4 = open(direc+\"poplars_{}_list.txt\".format(property_), \"r\")\n",
        "file5 = open(direc+\"dreams_{}_list.txt\".format(property_), \"r\")\n",
        "file6 = open(direc+\"ingleside_{}_list.txt\".format(property_), \"r\")\n",
        "file7 = open(direc+\"rainbow_{}_list.txt\".format(property_), \"r\")\n",
        "file8 = open(direc+\"rilla_{}_list.txt\".format(property_), \"r\")\n",
        "sentence_gables = []\n",
        "sentence_dreams = []\n",
        "sentence_island = []\n",
        "sentence_avonlea = []\n",
        "sentence_poplars = []\n",
        "sentence_ingleside = []\n",
        "sentence_rainbow = []\n",
        "sentence_rilla = []\n",
        "target_gables = []\n",
        "target_dreams = []\n",
        "target_island = []\n",
        "target_avonlea = [] ###\n",
        "target_poplars = []\n",
        "target_ingleside = []\n",
        "target_rainbow = []\n",
        "target_rilla = [] ###\n",
        "\n",
        "file1_lines =file1.readlines()\n",
        "file2_lines = file2.readlines()\n",
        "file3_lines = file3.readlines()\n",
        "file4_lines = file4.readlines()\n",
        "file5_lines = file5.readlines()\n",
        "file6_lines = file6.readlines()\n",
        "file7_lines = file7.readlines()\n",
        "file8_lines = file8.readlines()\n",
        "\n",
        "files = [file1_lines, file2_lines, file3_lines ,file4_lines, file5_lines, file6_lines, file7_lines, file8_lines]\n",
        "sentences = [sentence_gables, sentence_avonlea, sentence_island, sentence_poplars, sentence_dreams, sentence_ingleside, sentence_rainbow, sentence_rilla]\n",
        "targets_pre = [target_gables, target_avonlea, target_island, target_poplars, target_dreams, target_ingleside, target_rainbow, target_rilla]\n",
        "\n",
        "for s in range(len(sentences)):\n",
        "  for i in range(len(files[s])):\n",
        "    if i%2==0:\n",
        "      sentences[s].append([files[s][i]])\n",
        "    else:\n",
        "      targets_pre[s].append(files[s][i])\n",
        "  # file.close()"
      ],
      "execution_count": 0,
      "outputs": []
    },
    {
      "cell_type": "code",
      "metadata": {
        "id": "QgaOzHe21Ah1",
        "colab_type": "code",
        "colab": {}
      },
      "source": [
        "#labeling book & character to label cluster proportions ####coreference\n",
        "from gensim.utils import simple_preprocess\n",
        "book_character_labels = []\n",
        "\n",
        "for i in range(len(targets_pre)):\n",
        "  for e in targets_pre[i]:\n",
        "    in_labs = False\n",
        "    for n in e.split(\",\")[1::2]:\n",
        "      if (n, i) in book_character_labels:\n",
        "        in_labs = n\n",
        "    if in_labs==False:\n",
        "      character_name_lengths = np.array([len(n) for n in e.split(\",\")[1::2]])\n",
        "      book_character_labels.append((i, e.split(\",\")[np.argmax(character_name_lengths)*2+1]))\n",
        "    else:\n",
        "      book_character_labels.append((i, in_labs))\n",
        "\n",
        "# book_character_labels = [(character_labels[e], book_labels[e]) for e in range(len(character_labels))]\n",
        "\n",
        "sentences_flattened = []\n",
        "for i in sentences:\n",
        "  for e in i:\n",
        "    sentences_flattened.append(simple_preprocess(e[0]))"
      ],
      "execution_count": 0,
      "outputs": []
    },
    {
      "cell_type": "code",
      "metadata": {
        "id": "qUUejRz3GyPR",
        "colab_type": "code",
        "colab": {}
      },
      "source": [
        "def find_vector_for_character(characters_as_vectors, names, book = \"all\"):\n",
        "  anne_vectors_lda = []\n",
        "  if book==\"all\":\n",
        "    for i in range(len(character_documents.keys())):\n",
        "      if names[0] in list(character_documents.keys())[i][1] or names[1] in list(character_documents.keys())[i][1]  or \"Mrs. Blythe\" in list(character_documents.keys())[i][1]: #or 'Diana' in list(character_documents.keys())[i][1] or \"Jem\" in list(character_documents.keys())[i][1] or \"Davy\" in list(character_documents.keys())[i][1] or \"Leslie\" in list(character_documents.keys())[i][1] or \"Cornelia\" in list(character_documents.keys())[i][1]:\n",
        "    #     print('ok')\n",
        "          if book_character_labels.count(list(character_documents.keys())[i])>5:\n",
        "            anne_vectors_lda.append(characters_as_vectors[i])\n",
        "    return anne_vectors_lda\n",
        "  else:\n",
        "    for i in range(len(character_documents.keys())):\n",
        "      if names[0] in list(character_documents.keys())[i][1] or names[1] in list(character_documents.keys())[i][1]  or \"Mrs. Blythe\" in list(character_documents.keys())[i][1]: #or 'Diana' in list(character_documents.keys())[i][1] or \"Jem\" in list(character_documents.keys())[i][1] or \"Davy\" in list(character_documents.keys())[i][1] or \"Leslie\" in list(character_documents.keys())[i][1] or \"Cornelia\" in list(character_documents.keys())[i][1]:\n",
        "    #     print('ok')\n",
        "          if book==list(character_documents.keys())[i][0]:\n",
        "            if book_character_labels.count(list(character_documents.keys())[i])>5:\n",
        "              anne_vectors_lda.append(characters_as_vectors[i])\n",
        "              break\n",
        "    return np.array(anne_vectors_lda)\n"
      ],
      "execution_count": 0,
      "outputs": []
    },
    {
      "cell_type": "markdown",
      "metadata": {
        "id": "mBV2JUrF6fdv",
        "colab_type": "text"
      },
      "source": [
        "# Representing characters (Doc2Vec)"
      ]
    },
    {
      "cell_type": "code",
      "metadata": {
        "id": "PYYKG7aQlcv4",
        "colab_type": "code",
        "colab": {}
      },
      "source": [
        "from nltk.tokenize import sent_tokenize\n",
        "from gensim.test.utils import common_texts\n",
        "from gensim.models.doc2vec import Doc2Vec, TaggedDocument\n",
        "from gensim.utils import simple_preprocess\n",
        "\n",
        "character_documents = {}\n",
        "\n",
        "for i in range(len(sentences_flattened)):\n",
        "  a = character_documents.get(book_character_labels[i], [])\n",
        "  a.append(\"\\n\")\n",
        "  a.extend(sentences_flattened[i])\n",
        "  character_documents[book_character_labels[i]] = a\n",
        "  \n",
        "documents = [TaggedDocument(doc, [i]) for i, doc in enumerate(list(character_documents.values()))]\n",
        "model_d2v = Doc2Vec(documents, vector_size=300, window=3, min_count=1, workers=4, dm = 1)\n",
        "characters_as_vectors = np.array([model_d2v.infer_vector(i) for i in list(character_documents.values())])\n",
        "\n",
        "anne_characters = []\n",
        "anne_vectors = []\n",
        "for i in range(len(character_documents.keys())):\n",
        "  if 'Anne ' in list(character_documents.keys())[i][1] or 'Miss Blythe' in list(character_documents.keys())[i][1]  or \"Mrs. Blythe\" in list(character_documents.keys())[i][1]: #or 'Diana' in list(character_documents.keys())[i][1] or \"Jem\" in list(character_documents.keys())[i][1] or \"Davy\" in list(character_documents.keys())[i][1] or \"Leslie\" in list(character_documents.keys())[i][1] or \"Cornelia\" in list(character_documents.keys())[i][1]:\n",
        "#     print('ok')\n",
        "      if book_character_labels.count(list(character_documents.keys())[i])>5:\n",
        "        anne_vectors.append(characters_as_vectors[i])\n",
        "        anne_characters.append((list(character_documents.keys())[i], \"count:{}\".format(book_character_labels.count(list(character_documents.keys())[i]))))"
      ],
      "execution_count": 0,
      "outputs": []
    },
    {
      "cell_type": "markdown",
      "metadata": {
        "id": "Tl2p3OhL6AHl",
        "colab_type": "text"
      },
      "source": [
        "# Representing Characters (TFIDF)"
      ]
    },
    {
      "cell_type": "code",
      "metadata": {
        "id": "RfwpA2Nxvq_d",
        "colab_type": "code",
        "colab": {}
      },
      "source": [
        "# from sklearn.feature_extraction.text import TfidfVectorizer\n",
        "# import spacy\n",
        "\n",
        "# #better preprocessing???\n",
        "\n",
        "# def lemmatization(texts, allowed_postags=['NOUN', 'ADJ', 'VERB', 'ADV']):\n",
        "#     \"\"\"https://spacy.io/api/annotation\"\"\"\n",
        "#     texts_out = []\n",
        "#     for sent in texts:\n",
        "#         doc = nlp(\" \".join(sent)) \n",
        "#         texts_out.append(\" \".join([token.lemma_ if token.lemma_ not in ['-PRON-'] else '' for token in doc if token.pos_ in allowed_postags]))\n",
        "#     return texts_out\n",
        "\n",
        "# # Initialize spacy 'en' model, keeping only tagger component (for efficiency)\n",
        "# # Run in terminal: python3 -m spacy download en\n",
        "# nlp = spacy.load('en', disable=['parser', 'ner'])\n",
        "\n",
        "# data_lemmatized = lemmatization(list(character_documents.values()))\n",
        "\n",
        "# v = TfidfVectorizer()\n",
        "# X = v.fit_transform([\" \".join(i) for i in list(character_documents.values())])\n",
        "\n",
        "# anne_characters_tfidf = []\n",
        "# anne_vectors_tfidf = []\n",
        "# for i in range(len(character_documents.keys())):\n",
        "#   if 'Anne ' in list(character_documents.keys())[i][1] or 'Miss Blythe' in list(character_documents.keys())[i][1]  or \"Mrs. Blythe\" in list(character_documents.keys())[i][1]: #or 'Diana' in list(character_documents.keys())[i][1] or \"Jem\" in list(character_documents.keys())[i][1] or \"Davy\" in list(character_documents.keys())[i][1] or \"Leslie\" in list(character_documents.keys())[i][1] or \"Cornelia\" in list(character_documents.keys())[i][1]:\n",
        "# #     print('ok')\n",
        "#       if book_character_labels.count(list(character_documents.keys())[i])>5:\n",
        "#         anne_vectors_tfidf.append(X[i])\n",
        "#         anne_characters_tfidf.append((list(character_documents.keys())[i], \"count:{}\".format(book_character_labels.count(list(character_documents.keys())[i]))))"
      ],
      "execution_count": 0,
      "outputs": []
    },
    {
      "cell_type": "code",
      "metadata": {
        "id": "h2uInthY4WFw",
        "colab_type": "code",
        "colab": {}
      },
      "source": [
        "# len(data_lemmatized)"
      ],
      "execution_count": 0,
      "outputs": []
    },
    {
      "cell_type": "markdown",
      "metadata": {
        "colab_type": "text",
        "id": "v0iHPV_7Y6gt"
      },
      "source": [
        "# Representing Characters (Latent Dirichlet Allocation)"
      ]
    },
    {
      "cell_type": "code",
      "metadata": {
        "id": "A4cgUX6NvsLQ",
        "colab_type": "code",
        "colab": {}
      },
      "source": [
        "from sklearn.decomposition import LatentDirichletAllocation\n",
        "from sklearn.model_selection import GridSearchCV\n",
        "#https://www.machinelearningplus.com/nlp/topic-modeling-python-sklearn-examples/\n",
        "\n",
        "#function from documentation\n",
        "def print_top_words(model, feature_names, n_top_words):\n",
        "    for topic_idx, topic in enumerate(model.components_):\n",
        "        message = \"Topic #%d: \" % topic_idx\n",
        "        message += \" \".join([feature_names[i]\n",
        "                             for i in topic.argsort()[:-n_top_words - 1:-1]])\n",
        "        print(message)\n",
        "    print()\n",
        "\n",
        "\n",
        "# lda = LatentDirichletAllocation(n_components=n\n",
        "#                                 , random_state=0)\n",
        "\n",
        "\n",
        "# Define Search Param\n",
        "search_params = {'n_components': [10, 15, 20, 25, 30], 'learning_decay': [.5, .7, .9]}\n",
        "\n",
        "# # Init the Model\n",
        "# lda = LatentDirichletAllocation()\n",
        "\n",
        "# # Init Grid Search Class\n",
        "# model = GridSearchCV(lda, param_grid=search_params)\n",
        "\n",
        "# # Do the Grid Search\n",
        "# model.fit(X)\n",
        "# lda = model.best_estimator_\n",
        "# lda.fit(X) \n",
        "# tfidf_feature_names = v.get_feature_names()\n",
        "# transformed_X = lda.transform(X)\n",
        "# print_top_words(lda, tfidf_feature_names , 10)\n",
        "\n",
        "# anne_characters_lda = []\n",
        "# anne_vectors_lda = []\n",
        "# for i in range(len(character_documents.keys())):\n",
        "#   if 'Anne ' in list(character_documents.keys())[i][1] or 'Miss Blythe' in list(character_documents.keys())[i][1]  or \"Mrs. Blythe\" in list(character_documents.keys())[i][1]: #or 'Diana' in list(character_documents.keys())[i][1] or \"Jem\" in list(character_documents.keys())[i][1] or \"Davy\" in list(character_documents.keys())[i][1] or \"Leslie\" in list(character_documents.keys())[i][1] or \"Cornelia\" in list(character_documents.keys())[i][1]:\n",
        "# #     print('ok')\n",
        "#       if book_character_labels.count(list(character_documents.keys())[i])>5:\n",
        "#         anne_vectors_lda.append(transformed_X[i])\n",
        "#         anne_characters_lda.append((list(character_documents.keys())[i], \"count:{}\".format(book_character_labels.count(list(character_documents.keys())[i]))))"
      ],
      "execution_count": 0,
      "outputs": []
    },
    {
      "cell_type": "code",
      "metadata": {
        "id": "m6CV4mOOi6oa",
        "colab_type": "code",
        "colab": {}
      },
      "source": [
        "import spacy\n",
        "nlp = spacy.load('en', disable=['parser', 'ner'])\n",
        "def lemmatization(texts):\n",
        "    \"\"\"https://spacy.io/api/annotation\"\"\"\n",
        "    texts_out = []\n",
        "    for sent in texts:\n",
        "        doc = nlp(\" \".join(sent)) \n",
        "        texts_out.append(\" \".join([token.lemma_ for token in doc]))\n",
        "    return texts_out"
      ],
      "execution_count": 0,
      "outputs": []
    },
    {
      "cell_type": "code",
      "metadata": {
        "id": "_ZXwlzFyi-Oo",
        "colab_type": "code",
        "colab": {}
      },
      "source": [
        "processed_docs = [i[0] for i in documents]\n",
        "processed_docs  = [i.split() for i in lemmatization(processed_docs)]"
      ],
      "execution_count": 0,
      "outputs": []
    },
    {
      "cell_type": "code",
      "metadata": {
        "id": "OiZqg-q2FZm4",
        "colab_type": "code",
        "colab": {}
      },
      "source": [
        "#change the corpus to bag of words\n",
        "dictionary = gensim.corpora.Dictionary(processed_docs )\n",
        "bow_corpus = [dictionary.doc2bow(doc) for doc in processed_docs]\n",
        "from gensim import corpora, models\n",
        "# tfidf = models.TfidfModel(bow_corpus)\n",
        "# corpus_tfidf = tfidf[bow_corpus]\n",
        "#convert bow to tfidf\n"
      ],
      "execution_count": 0,
      "outputs": []
    },
    {
      "cell_type": "code",
      "metadata": {
        "id": "EQRblgxRie_3",
        "colab_type": "code",
        "colab": {}
      },
      "source": [
        "from gensim.test.utils import common_corpus, common_dictionary\n",
        "from gensim.models.wrappers import LdaMallet\n",
        "from gensim.models.coherencemodel import CoherenceModel\n",
        "os.environ['MALLET_HOME'] = '/content/mallet-2.0.8'\n",
        "mallet_path = '/content/mallet-2.0.8/bin/mallet' # you should NOT need to change this "
      ],
      "execution_count": 0,
      "outputs": []
    },
    {
      "cell_type": "code",
      "metadata": {
        "id": "CB1ReyikJwzJ",
        "colab_type": "code",
        "colab": {}
      },
      "source": [
        "coherences = []\n",
        "for n in [5, 10, 20, 30, 40, 50]:\n",
        "  lda_model= LdaMallet(mallet_path, corpus=bow_corpus, num_topics=n, id2word=dictionary)\n",
        "  cm = CoherenceModel(model=lda_model, corpus=common_corpus, coherence='u_mass')\n",
        "  coherence = cm.get_coherence()  # get coherence valuecm.for_topics()\n",
        "  coherences.append(coherence)"
      ],
      "execution_count": 0,
      "outputs": []
    },
    {
      "cell_type": "code",
      "metadata": {
        "id": "Da8OYqouTeQ6",
        "colab_type": "code",
        "colab": {}
      },
      "source": [
        "#lda_model= LdaMallet(mallet_path, corpus=corpus_tfidf, num_topics=[5, 10, 20, 30, 40, 50][np.argmax(coherences)], id2word=dictionary)\n",
        "lda_model= LdaMallet(mallet_path, corpus=bow_corpus, num_topics=[5, 10, 20, 30, 40, 50][np.argmax(coherences)], id2word=dictionary)"
      ],
      "execution_count": 0,
      "outputs": []
    },
    {
      "cell_type": "code",
      "metadata": {
        "id": "tDY9I3GlVNfm",
        "colab_type": "code",
        "outputId": "98add839-3eb6-4729-c813-a4d96ae7194f",
        "colab": {
          "base_uri": "https://localhost:8080/",
          "height": 350
        }
      },
      "source": [
        "cm = CoherenceModel(model=lda_model, corpus=common_corpus, coherence='u_mass')\n",
        "# N = lda_model_tfidf.\n",
        "coherence = cm.get_coherence()  # get coherence valuecm.for_topics()\n",
        "coherence_by_topic = cm.get_coherence_per_topic()\n",
        "# np.exp((coherence_by_topic/2)*N*(N-1))\n",
        "plt.hist(coherence_by_topic)"
      ],
      "execution_count": 23,
      "outputs": [
        {
          "output_type": "execute_result",
          "data": {
            "text/plain": [
              "(array([ 1.,  0.,  1.,  1.,  0., 39.,  1.,  0.,  0.,  7.]),\n",
              " array([-6.05774641, -5.45197177, -4.84619713, -4.24042249, -3.63464785,\n",
              "        -3.02887321, -2.42309856, -1.81732392, -1.21154928, -0.60577464,\n",
              "         0.        ]),\n",
              " <a list of 10 Patch objects>)"
            ]
          },
          "metadata": {
            "tags": []
          },
          "execution_count": 23
        },
        {
          "output_type": "display_data",
          "data": {
            "image/png": "[encoded data removed]",
            "text/plain": [
              "<Figure size 432x288 with 1 Axes>"
            ]
          },
          "metadata": {
            "tags": []
          }
        }
      ]
    },
    {
      "cell_type": "code",
      "metadata": {
        "id": "AGYElSUXk1Vk",
        "colab_type": "code",
        "outputId": "3ce215e4-4cbf-44b0-a47a-06eccdde3832",
        "colab": {
          "base_uri": "https://localhost:8080/",
          "height": 34
        }
      },
      "source": [
        "# cm = CoherenceModel(model=lda_model_tfidf, corpus=common_corpus, coherence='u_mass')\n",
        "# # N = lda_model_tfidf.\n",
        "# coherence = cm.get_coherence()  # get coherence valuecm.for_topics()\n",
        "# coherence_by_topic = cm.get_coherence_per_topic()\n",
        "# # np.exp((coherence_by_topic/2)*N*(N-1))\n",
        "# coherence_by_topic\n",
        "list(character_documents.keys())[19]"
      ],
      "execution_count": 0,
      "outputs": [
        {
          "output_type": "execute_result",
          "data": {
            "text/plain": [
              "(0, 'Anne Shirley')"
            ]
          },
          "metadata": {
            "tags": []
          },
          "execution_count": 145
        }
      ]
    },
    {
      "cell_type": "code",
      "metadata": {
        "id": "LJIbdKH8fXim",
        "colab_type": "code",
        "outputId": "cdb64c5e-dffd-4cf8-b82a-1899069baeb1",
        "colab": {
          "base_uri": "https://localhost:8080/",
          "height": 54
        }
      },
      "source": [
        "lda_model.print_topic(1)"
      ],
      "execution_count": 0,
      "outputs": [
        {
          "output_type": "execute_result",
          "data": {
            "text/plain": [
              "'0.175*\"-PRON-\" + 0.065*\"ve\" + 0.055*\"talk\" + 0.031*\"blue\" + 0.031*\"wife\" + 0.029*\"set\" + 0.024*\"beautiful\" + 0.024*\"dress\" + 0.021*\"idea\" + 0.021*\"happy\"'"
            ]
          },
          "metadata": {
            "tags": []
          },
          "execution_count": 146
        }
      ]
    },
    {
      "cell_type": "code",
      "metadata": {
        "id": "MxSFP1RAJ8Mu",
        "colab_type": "code",
        "outputId": "5a919e6e-5761-4d85-b351-34d1e751a877",
        "colab": {
          "base_uri": "https://localhost:8080/",
          "height": 887
        }
      },
      "source": [
        "for idx, topic in lda_model.print_topics(-1):\n",
        "    print('Topic: {} Word: {}'.format(idx, topic))"
      ],
      "execution_count": 24,
      "outputs": [
        {
          "output_type": "stream",
          "text": [
            "Topic: 0 Word: 0.438*\"-PRON-\" + 0.031*\"girl\" + 0.025*\"heart\" + 0.024*\"room\" + 0.023*\"afternoon\" + 0.021*\"notice\" + 0.021*\"send\" + 0.017*\"cuthbert\" + 0.016*\"cry\" + 0.015*\"half\"\n",
            "Topic: 1 Word: 0.449*\"-PRON-\" + 0.064*\"put\" + 0.064*\"back\" + 0.037*\"house\" + 0.029*\"live\" + 0.028*\"run\" + 0.021*\"place\" + 0.018*\"late\" + 0.013*\"full\" + 0.012*\"book\"\n",
            "Topic: 2 Word: 0.293*\"-PRON-\" + 0.088*\"make\" + 0.060*\"time\" + 0.038*\"real\" + 0.030*\"pretty\" + 0.028*\"boy\" + 0.024*\"easy\" + 0.020*\"turn\" + 0.019*\"water\" + 0.015*\"run\"\n",
            "Topic: 3 Word: 0.171*\"anne\" + 0.087*\"gilbert\" + 0.074*\"love\" + 0.051*\"life\" + 0.049*\"time\" + 0.038*\"marry\" + 0.036*\"friend\" + 0.033*\"good\" + 0.033*\"care\" + 0.018*\"talk\"\n",
            "Topic: 4 Word: 0.240*\"-PRON-\" + 0.062*\"give\" + 0.054*\"awful\" + 0.031*\"bad\" + 0.028*\"mind\" + 0.027*\"word\" + 0.022*\"pose\" + 0.020*\"big\" + 0.016*\"catch\" + 0.016*\"kind\"\n",
            "Topic: 5 Word: 0.050*\"dream\" + 0.043*\"feel\" + 0.036*\"day\" + 0.036*\"work\" + 0.031*\"world\" + 0.027*\"hope\" + 0.024*\"wear\" + 0.024*\"today\" + 0.023*\"ago\" + 0.023*\"true\"\n",
            "Topic: 6 Word: 0.181*\"-PRON-\" + 0.054*\"child\" + 0.047*\"meredith\" + 0.047*\"mr\" + 0.029*\"church\" + 0.029*\"methodist\" + 0.024*\"wife\" + 0.024*\"minister\" + 0.022*\"manse\" + 0.018*\"harbour\"\n",
            "Topic: 7 Word: 0.309*\"-PRON-\" + 0.041*\"long\" + 0.038*\"mother\" + 0.034*\"die\" + 0.034*\"put\" + 0.026*\"bring\" + 0.025*\"wo\" + 0.020*\"feel\" + 0.018*\"begin\" + 0.018*\"home\"\n",
            "Topic: 8 Word: 0.171*\"-PRON-\" + 0.112*\"year\" + 0.054*\"poor\" + 0.034*\"twenty\" + 0.025*\"high\" + 0.022*\"tear\" + 0.022*\"college\" + 0.018*\"opinion\" + 0.018*\"sarah\" + 0.017*\"wear\"\n",
            "Topic: 9 Word: 0.274*\"-PRON-\" + 0.025*\"german\" + 0.023*\"sophia\" + 0.019*\"oliver\" + 0.017*\"wilson\" + 0.016*\"whisker\" + 0.014*\"war\" + 0.013*\"kaiser\" + 0.012*\"wedding\" + 0.012*\"victory\"\n",
            "Topic: 10 Word: 0.277*\"-PRON-\" + 0.046*\"mummy\" + 0.036*\"real\" + 0.034*\"dog\" + 0.026*\"world\" + 0.021*\"tonight\" + 0.020*\"wo\" + 0.020*\"pearl\" + 0.019*\"love\" + 0.017*\"ship\"\n",
            "Topic: 11 Word: 0.289*\"-PRON-\" + 0.075*\"ca\" + 0.044*\"glad\" + 0.041*\"feel\" + 0.035*\"live\" + 0.030*\"nice\" + 0.029*\"eye\" + 0.027*\"year\" + 0.018*\"gilbert\" + 0.018*\"home\"\n",
            "Topic: 12 Word: 0.100*\"-PRON-\" + 0.047*\"girl\" + 0.034*\"carry\" + 0.032*\"lovely\" + 0.030*\"garden\" + 0.025*\"pig\" + 0.024*\"flower\" + 0.022*\"cook\" + 0.022*\"tree\" + 0.021*\"rose\"\n",
            "Topic: 13 Word: 0.351*\"-PRON-\" + 0.047*\"davy\" + 0.036*\"anne\" + 0.032*\"mr\" + 0.027*\"harrison\" + 0.023*\"day\" + 0.022*\"thing\" + 0.021*\"dora\" + 0.020*\"paul\" + 0.020*\"boy\"\n",
            "Topic: 14 Word: 0.495*\"-PRON-\" + 0.052*\"write\" + 0.046*\"time\" + 0.018*\"year\" + 0.016*\"concert\" + 0.012*\"care\" + 0.012*\"morning\" + 0.009*\"sight\" + 0.009*\"worth\" + 0.008*\"fuss\"\n",
            "Topic: 15 Word: 0.436*\"-PRON-\" + 0.041*\"leslie\" + 0.028*\"captain\" + 0.027*\"jim\" + 0.027*\"dick\" + 0.020*\"cornelia\" + 0.019*\"man\" + 0.016*\"moore\" + 0.013*\"doctor\" + 0.010*\"life\"\n",
            "Topic: 16 Word: 0.489*\"-PRON-\" + 0.025*\"forget\" + 0.023*\"girl\" + 0.019*\"find\" + 0.016*\"evening\" + 0.016*\"moment\" + 0.015*\"week\" + 0.013*\"perfectly\" + 0.012*\"bite\" + 0.012*\"time\"\n",
            "Topic: 17 Word: 0.352*\"-PRON-\" + 0.067*\"father\" + 0.036*\"grandma\" + 0.030*\"mary\" + 0.027*\"joe\" + 0.024*\"miss\" + 0.024*\"young\" + 0.020*\"boy\" + 0.018*\"bear\" + 0.013*\"ache\"\n",
            "Topic: 18 Word: 0.257*\"-PRON-\" + 0.054*\"don\" + 0.030*\"win\" + 0.026*\"father\" + 0.023*\"west\" + 0.023*\"mary\" + 0.022*\"faith\" + 0.020*\"talk\" + 0.017*\"didn\" + 0.017*\"wouldn\"\n",
            "Topic: 19 Word: 0.220*\"-PRON-\" + 0.047*\"till\" + 0.040*\"hear\" + 0.040*\"lot\" + 0.032*\"sit\" + 0.029*\"soul\" + 0.028*\"stay\" + 0.027*\"bed\" + 0.025*\"shut\" + 0.021*\"pie\"\n",
            "Topic: 20 Word: 0.265*\"-PRON-\" + 0.080*\"blythe\" + 0.049*\"ve\" + 0.028*\"man\" + 0.022*\"wait\" + 0.022*\"face\" + 0.021*\"sea\" + 0.021*\"lose\" + 0.020*\"book\" + 0.017*\"read\"\n",
            "Topic: 21 Word: 0.286*\"-PRON-\" + 0.088*\"make\" + 0.070*\"good\" + 0.033*\"nice\" + 0.029*\"bed\" + 0.026*\"forget\" + 0.026*\"ve\" + 0.024*\"prayer\" + 0.023*\"pray\" + 0.022*\"fun\"\n",
            "Topic: 22 Word: 0.099*\"-PRON-\" + 0.056*\"funeral\" + 0.033*\"maria\" + 0.030*\"mary\" + 0.030*\"lowbridge\" + 0.024*\"stella\" + 0.022*\"spring\" + 0.022*\"peter\" + 0.021*\"bury\" + 0.021*\"susan\"\n",
            "Topic: 23 Word: 0.374*\"-PRON-\" + 0.097*\"marry\" + 0.036*\"give\" + 0.030*\"man\" + 0.024*\"meet\" + 0.023*\"evening\" + 0.020*\"john\" + 0.019*\"sweet\" + 0.016*\"woman\" + 0.016*\"janet\"\n",
            "Topic: 24 Word: 0.372*\"-PRON-\" + 0.069*\"marilla\" + 0.053*\"diana\" + 0.048*\"anne\" + 0.030*\"matthew\" + 0.024*\"imagine\" + 0.019*\"thing\" + 0.014*\"green\" + 0.013*\"barry\" + 0.011*\"gable\"\n",
            "Topic: 25 Word: 0.478*\"-PRON-\" + 0.025*\"afraid\" + 0.019*\"jarvi\" + 0.018*\"ten\" + 0.017*\"dovie\" + 0.014*\"pringle\" + 0.012*\"picture\" + 0.012*\"morrow\" + 0.010*\"nice\" + 0.010*\"moonlight\"\n",
            "Topic: 26 Word: 0.385*\"-PRON-\" + 0.049*\"ve\" + 0.041*\"day\" + 0.028*\"lavendar\" + 0.026*\"tea\" + 0.021*\"thought\" + 0.020*\"charlotta\" + 0.017*\"beautiful\" + 0.017*\"uncle\" + 0.014*\"rain\"\n",
            "Topic: 27 Word: 0.321*\"-PRON-\" + 0.071*\"mrs\" + 0.036*\"hear\" + 0.032*\"find\" + 0.025*\"lie\" + 0.025*\"folk\" + 0.017*\"alec\" + 0.017*\"feeling\" + 0.017*\"dead\" + 0.017*\"true\"\n",
            "Topic: 28 Word: 0.078*\"mrs\" + 0.069*\"wo\" + 0.059*\"anne\" + 0.047*\"lynde\" + 0.042*\"home\" + 0.034*\"jane\" + 0.034*\"school\" + 0.033*\"girl\" + 0.031*\"feel\" + 0.026*\"talk\"\n",
            "Topic: 29 Word: 0.198*\"-PRON-\" + 0.081*\"thing\" + 0.056*\"night\" + 0.047*\"people\" + 0.046*\"feel\" + 0.036*\"teacher\" + 0.030*\"eat\" + 0.029*\"sunday\" + 0.026*\"sit\" + 0.024*\"ca\"\n",
            "Topic: 30 Word: 0.250*\"-PRON-\" + 0.070*\"child\" + 0.062*\"good\" + 0.035*\"bad\" + 0.035*\"bring\" + 0.033*\"make\" + 0.030*\"boy\" + 0.030*\"guess\" + 0.030*\"girl\" + 0.022*\"hard\"\n",
            "Topic: 31 Word: 0.217*\"-PRON-\" + 0.049*\"day\" + 0.043*\"thing\" + 0.025*\"read\" + 0.023*\"man\" + 0.023*\"cousin\" + 0.021*\"church\" + 0.021*\"hear\" + 0.019*\"baby\" + 0.018*\"terrible\"\n",
            "Topic: 32 Word: 0.066*\"man\" + 0.059*\"long\" + 0.045*\"die\" + 0.043*\"home\" + 0.043*\"big\" + 0.036*\"summer\" + 0.033*\"dead\" + 0.030*\"uncle\" + 0.020*\"grandfather\" + 0.020*\"back\"\n",
            "Topic: 33 Word: 0.396*\"-PRON-\" + 0.045*\"ve\" + 0.043*\"home\" + 0.037*\"time\" + 0.026*\"suppose\" + 0.025*\"kind\" + 0.018*\"hang\" + 0.018*\"start\" + 0.015*\"buy\" + 0.015*\"set\"\n",
            "Topic: 34 Word: 0.409*\"-PRON-\" + 0.085*\"mother\" + 0.026*\"blythe\" + 0.023*\"god\" + 0.019*\"secret\" + 0.018*\"nice\" + 0.016*\"di\" + 0.015*\"ingleside\" + 0.014*\"father\" + 0.014*\"bring\"\n",
            "Topic: 35 Word: 0.427*\"-PRON-\" + 0.041*\"miss\" + 0.038*\"thing\" + 0.037*\"life\" + 0.026*\"live\" + 0.021*\"leave\" + 0.021*\"house\" + 0.019*\"make\" + 0.018*\"tonight\" + 0.016*\"place\"\n",
            "Topic: 36 Word: 0.151*\"-PRON-\" + 0.055*\"dear\" + 0.052*\"great\" + 0.049*\"hope\" + 0.047*\"house\" + 0.035*\"day\" + 0.032*\"father\" + 0.031*\"girl\" + 0.019*\"room\" + 0.019*\"aunt\"\n",
            "Topic: 37 Word: 0.061*\"aunt\" + 0.058*\"dew\" + 0.044*\"rebecca\" + 0.037*\"cat\" + 0.031*\"elizabeth\" + 0.030*\"wind\" + 0.030*\"end\" + 0.019*\"door\" + 0.017*\"road\" + 0.016*\"kate\"\n",
            "Topic: 38 Word: 0.380*\"-PRON-\" + 0.123*\"ve\" + 0.047*\"wo\" + 0.033*\"poor\" + 0.021*\"mind\" + 0.019*\"young\" + 0.017*\"kind\" + 0.014*\"die\" + 0.013*\"christmas\" + 0.012*\"dog\"\n",
            "Topic: 39 Word: 0.044*\"woman\" + 0.041*\"suppose\" + 0.036*\"child\" + 0.033*\"talk\" + 0.033*\"happy\" + 0.031*\"matter\" + 0.031*\"blue\" + 0.031*\"call\" + 0.031*\"idea\" + 0.030*\"give\"\n",
            "Topic: 40 Word: 0.090*\"ca\" + 0.064*\"ai\" + 0.055*\"find\" + 0.052*\"week\" + 0.049*\"tomorrow\" + 0.034*\"sleep\" + 0.029*\"god\" + 0.028*\"fine\" + 0.028*\"back\" + 0.023*\"teach\"\n",
            "Topic: 41 Word: 0.269*\"miss\" + 0.171*\"shirley\" + 0.067*\"ma\" + 0.025*\"round\" + 0.021*\"engage\" + 0.016*\"cold\" + 0.016*\"pauline\" + 0.016*\"pack\" + 0.012*\"treat\" + 0.012*\"smile\"\n",
            "Topic: 42 Word: 0.078*\"rilla\" + 0.076*\"jem\" + 0.075*\"walter\" + 0.040*\"susan\" + 0.040*\"war\" + 0.025*\"back\" + 0.020*\"jim\" + 0.018*\"god\" + 0.016*\"run\" + 0.016*\"fight\"\n",
            "Topic: 43 Word: 0.114*\"-PRON-\" + 0.067*\"call\" + 0.055*\"good\" + 0.055*\"mr\" + 0.041*\"mrs\" + 0.040*\"hear\" + 0.036*\"back\" + 0.034*\"friend\" + 0.030*\"dear\" + 0.029*\"red\"\n",
            "Topic: 44 Word: 0.414*\"-PRON-\" + 0.031*\"man\" + 0.029*\"bad\" + 0.024*\"promise\" + 0.023*\"leave\" + 0.018*\"ellen\" + 0.015*\"george\" + 0.015*\"mind\" + 0.015*\"st\" + 0.014*\"hope\"\n",
            "Topic: 45 Word: 0.174*\"dear\" + 0.163*\"mrs\" + 0.106*\"dr\" + 0.066*\"susan\" + 0.036*\"doctor\" + 0.020*\"glen\" + 0.018*\"opinion\" + 0.015*\"poor\" + 0.013*\"cake\" + 0.010*\"elliott\"\n",
            "Topic: 46 Word: 0.344*\"-PRON-\" + 0.044*\"place\" + 0.027*\"suppose\" + 0.024*\"cat\" + 0.024*\"redmond\" + 0.017*\"story\" + 0.016*\"patty\" + 0.016*\"phil\" + 0.014*\"winter\" + 0.011*\"make\"\n",
            "Topic: 47 Word: 0.384*\"-PRON-\" + 0.048*\"thing\" + 0.040*\"love\" + 0.033*\"afraid\" + 0.033*\"night\" + 0.030*\"white\" + 0.024*\"dreadful\" + 0.022*\"world\" + 0.016*\"dress\" + 0.015*\"heaven\"\n",
            "Topic: 48 Word: 0.333*\"-PRON-\" + 0.077*\"ve\" + 0.039*\"hair\" + 0.028*\"learn\" + 0.026*\"cake\" + 0.021*\"spell\" + 0.021*\"walk\" + 0.020*\"fault\" + 0.017*\"bit\" + 0.015*\"story\"\n",
            "Topic: 49 Word: 0.327*\"-PRON-\" + 0.070*\"good\" + 0.039*\"people\" + 0.028*\"trouble\" + 0.025*\"head\" + 0.024*\"happen\" + 0.020*\"school\" + 0.016*\"story\" + 0.015*\"expect\" + 0.014*\"work\"\n"
          ],
          "name": "stdout"
        }
      ]
    },
    {
      "cell_type": "code",
      "metadata": {
        "colab_type": "code",
        "id": "oN1EpLYvY3BQ",
        "colab": {}
      },
      "source": [
        "characters_as_vectors_lda = [[e[1] for e in lda_model[i]] for i in bow_corpus]\n",
        "anne_vectors_lda = find_vector_for_character(characters_as_vectors_lda, [\"Anne\", \"Miss Blythe\"])"
      ],
      "execution_count": 0,
      "outputs": []
    },
    {
      "cell_type": "markdown",
      "metadata": {
        "id": "hM4dMY7f6rla",
        "colab_type": "text"
      },
      "source": [
        "# Cosine similarity (Doc2Vec)"
      ]
    },
    {
      "cell_type": "code",
      "metadata": {
        "id": "FXAiq-5n6pNN",
        "colab_type": "code",
        "outputId": "50dcc0d7-33b5-402e-c1db-6fc5e35f47cc",
        "colab": {
          "base_uri": "https://localhost:8080/",
          "height": 668
        }
      },
      "source": [
        "from sklearn.metrics.pairwise import cosine_similarity as cosine\n",
        "cosine_similarities = np.zeros((len(anne_vectors), len(anne_vectors)))\n",
        "for i in range(len(anne_vectors)):\n",
        "  for e in range(len(anne_vectors)):\n",
        "    cosine_similarities[i][e] = float(cosine(anne_vectors[i].reshape(1, -1), anne_vectors[e].reshape(1, -1)))\n",
        "\n",
        "d = pd.DataFrame(cosine_similarities, columns = anne_characters, index = anne_characters)\n",
        "d"
      ],
      "execution_count": 26,
      "outputs": [
        {
          "output_type": "execute_result",
          "data": {
            "text/html": [
              "<div>\n",
              "<style scoped>\n",
              "    .dataframe tbody tr th:only-of-type {\n",
              "        vertical-align: middle;\n",
              "    }\n",
              "\n",
              "    .dataframe tbody tr th {\n",
              "        vertical-align: top;\n",
              "    }\n",
              "\n",
              "    .dataframe thead th {\n",
              "        text-align: right;\n",
              "    }\n",
              "</style>\n",
              "<table border=\"1\" class=\"dataframe\">\n",
              "  <thead>\n",
              "    <tr style=\"text-align: right;\">\n",
              "      <th></th>\n",
              "      <th>((0, Anne Shirley), count:495)</th>\n",
              "      <th>((1, Anne Shirley), count:488)</th>\n",
              "      <th>((2, Anne Shirley), count:454)</th>\n",
              "      <th>((3, Anne Shirley), count:243)</th>\n",
              "      <th>((4, Anne Shirley), count:365)</th>\n",
              "      <th>((5, Anne Cordelia), count:211)</th>\n",
              "      <th>((6, Anne dearie), count:42)</th>\n",
              "      <th>((7, Anne dearie), count:10)</th>\n",
              "      <th>((7, Mrs. Blythe), count:42)</th>\n",
              "    </tr>\n",
              "  </thead>\n",
              "  <tbody>\n",
              "    <tr>\n",
              "      <th>((0, Anne Shirley), count:495)</th>\n",
              "      <td>1.000000</td>\n",
              "      <td>0.979537</td>\n",
              "      <td>0.975596</td>\n",
              "      <td>0.895824</td>\n",
              "      <td>0.911549</td>\n",
              "      <td>0.847132</td>\n",
              "      <td>0.877068</td>\n",
              "      <td>0.928435</td>\n",
              "      <td>0.851691</td>\n",
              "    </tr>\n",
              "    <tr>\n",
              "      <th>((1, Anne Shirley), count:488)</th>\n",
              "      <td>0.979537</td>\n",
              "      <td>1.000000</td>\n",
              "      <td>0.998885</td>\n",
              "      <td>0.964176</td>\n",
              "      <td>0.974047</td>\n",
              "      <td>0.934089</td>\n",
              "      <td>0.953268</td>\n",
              "      <td>0.982323</td>\n",
              "      <td>0.936639</td>\n",
              "    </tr>\n",
              "    <tr>\n",
              "      <th>((2, Anne Shirley), count:454)</th>\n",
              "      <td>0.975596</td>\n",
              "      <td>0.998885</td>\n",
              "      <td>1.000000</td>\n",
              "      <td>0.969591</td>\n",
              "      <td>0.978153</td>\n",
              "      <td>0.941067</td>\n",
              "      <td>0.959264</td>\n",
              "      <td>0.986015</td>\n",
              "      <td>0.943703</td>\n",
              "    </tr>\n",
              "    <tr>\n",
              "      <th>((3, Anne Shirley), count:243)</th>\n",
              "      <td>0.895824</td>\n",
              "      <td>0.964176</td>\n",
              "      <td>0.969591</td>\n",
              "      <td>1.000000</td>\n",
              "      <td>0.996181</td>\n",
              "      <td>0.993780</td>\n",
              "      <td>0.998165</td>\n",
              "      <td>0.994604</td>\n",
              "      <td>0.994947</td>\n",
              "    </tr>\n",
              "    <tr>\n",
              "      <th>((4, Anne Shirley), count:365)</th>\n",
              "      <td>0.911549</td>\n",
              "      <td>0.974047</td>\n",
              "      <td>0.978153</td>\n",
              "      <td>0.996181</td>\n",
              "      <td>1.000000</td>\n",
              "      <td>0.988106</td>\n",
              "      <td>0.993430</td>\n",
              "      <td>0.996313</td>\n",
              "      <td>0.987663</td>\n",
              "    </tr>\n",
              "    <tr>\n",
              "      <th>((5, Anne Cordelia), count:211)</th>\n",
              "      <td>0.847132</td>\n",
              "      <td>0.934089</td>\n",
              "      <td>0.941067</td>\n",
              "      <td>0.993780</td>\n",
              "      <td>0.988106</td>\n",
              "      <td>1.000000</td>\n",
              "      <td>0.997712</td>\n",
              "      <td>0.982704</td>\n",
              "      <td>0.998819</td>\n",
              "    </tr>\n",
              "    <tr>\n",
              "      <th>((6, Anne dearie), count:42)</th>\n",
              "      <td>0.877068</td>\n",
              "      <td>0.953268</td>\n",
              "      <td>0.959264</td>\n",
              "      <td>0.998165</td>\n",
              "      <td>0.993430</td>\n",
              "      <td>0.997712</td>\n",
              "      <td>1.000000</td>\n",
              "      <td>0.991842</td>\n",
              "      <td>0.998376</td>\n",
              "    </tr>\n",
              "    <tr>\n",
              "      <th>((7, Anne dearie), count:10)</th>\n",
              "      <td>0.928435</td>\n",
              "      <td>0.982323</td>\n",
              "      <td>0.986015</td>\n",
              "      <td>0.994604</td>\n",
              "      <td>0.996313</td>\n",
              "      <td>0.982704</td>\n",
              "      <td>0.991842</td>\n",
              "      <td>1.000000</td>\n",
              "      <td>0.983635</td>\n",
              "    </tr>\n",
              "    <tr>\n",
              "      <th>((7, Mrs. Blythe), count:42)</th>\n",
              "      <td>0.851691</td>\n",
              "      <td>0.936639</td>\n",
              "      <td>0.943703</td>\n",
              "      <td>0.994947</td>\n",
              "      <td>0.987663</td>\n",
              "      <td>0.998819</td>\n",
              "      <td>0.998376</td>\n",
              "      <td>0.983635</td>\n",
              "      <td>1.000000</td>\n",
              "    </tr>\n",
              "  </tbody>\n",
              "</table>\n",
              "</div>"
            ],
            "text/plain": [
              "                                 ((0, Anne Shirley), count:495)  ...  ((7, Mrs. Blythe), count:42)\n",
              "((0, Anne Shirley), count:495)                         1.000000  ...                      0.851691\n",
              "((1, Anne Shirley), count:488)                         0.979537  ...                      0.936639\n",
              "((2, Anne Shirley), count:454)                         0.975596  ...                      0.943703\n",
              "((3, Anne Shirley), count:243)                         0.895824  ...                      0.994947\n",
              "((4, Anne Shirley), count:365)                         0.911549  ...                      0.987663\n",
              "((5, Anne Cordelia), count:211)                        0.847132  ...                      0.998819\n",
              "((6, Anne dearie), count:42)                           0.877068  ...                      0.998376\n",
              "((7, Anne dearie), count:10)                           0.928435  ...                      0.983635\n",
              "((7, Mrs. Blythe), count:42)                           0.851691  ...                      1.000000\n",
              "\n",
              "[9 rows x 9 columns]"
            ]
          },
          "metadata": {
            "tags": []
          },
          "execution_count": 26
        }
      ]
    },
    {
      "cell_type": "code",
      "metadata": {
        "id": "n9_EVnuxZuiv",
        "colab_type": "code",
        "outputId": "49893422-6d31-47b7-fe9f-0f2e5fc79ed9",
        "colab": {
          "base_uri": "https://localhost:8080/",
          "height": 298
        }
      },
      "source": [
        "plt.scatter(range(8), list(d.iloc[0][:-2]) + [np.mean(d.iloc[0, -2:])])\n",
        "plt.title(\"Doc2Vec Cosine Similarity Anne AGG & Anne other\")"
      ],
      "execution_count": 27,
      "outputs": [
        {
          "output_type": "execute_result",
          "data": {
            "text/plain": [
              "Text(0.5, 1.0, 'Doc2Vec Cosine Similarity Anne AGG & Anne other')"
            ]
          },
          "metadata": {
            "tags": []
          },
          "execution_count": 27
        },
        {
          "output_type": "display_data",
          "data": {
            "image/png": "[encoded data removed]",
            "text/plain": [
              "<Figure size 432x288 with 1 Axes>"
            ]
          },
          "metadata": {
            "tags": []
          }
        }
      ]
    },
    {
      "cell_type": "code",
      "metadata": {
        "id": "UkZJ_0KwPo98",
        "colab_type": "code",
        "colab": {
          "base_uri": "https://localhost:8080/",
          "height": 34
        },
        "outputId": "096f3bda-cdb1-49e4-c6df-1a4f62cddb04"
      },
      "source": [
        "cosine(np.array(anne_vectors_lda[1]).reshape(1, -1), np.array(anne_vectors_lda[2]).reshape(1, -1))"
      ],
      "execution_count": 35,
      "outputs": [
        {
          "output_type": "execute_result",
          "data": {
            "text/plain": [
              "array([[0.43228099]])"
            ]
          },
          "metadata": {
            "tags": []
          },
          "execution_count": 35
        }
      ]
    },
    {
      "cell_type": "markdown",
      "metadata": {
        "id": "gAVYc0yv7M6r",
        "colab_type": "text"
      },
      "source": [
        "# Cosine similarity Latent Dirichlet Allocation"
      ]
    },
    {
      "cell_type": "code",
      "metadata": {
        "id": "SOX7tgB77QQH",
        "colab_type": "code",
        "outputId": "fbfef1e6-218f-4acc-9400-e32ce8105868",
        "colab": {
          "base_uri": "https://localhost:8080/",
          "height": 668
        }
      },
      "source": [
        "anne_vectors_lda = [np.array(i) for i in anne_vectors_lda]\n",
        "from sklearn.metrics.pairwise import cosine_similarity as cosine\n",
        "cosine_similarities = np.zeros((len(anne_vectors_lda), len(anne_vectors_lda)))\n",
        "for i in range(len(anne_vectors_lda)):\n",
        "  for e in range(len(anne_vectors_lda)):\n",
        "    cosine_similarities[i][e] = float(cosine(anne_vectors_lda[i].reshape(1, -1), anne_vectors_lda[e].reshape(1, -1)))\n",
        "\n",
        "d = pd.DataFrame(cosine_similarities, columns = anne_characters, index = anne_characters)\n",
        "d"
      ],
      "execution_count": 36,
      "outputs": [
        {
          "output_type": "execute_result",
          "data": {
            "text/html": [
              "<div>\n",
              "<style scoped>\n",
              "    .dataframe tbody tr th:only-of-type {\n",
              "        vertical-align: middle;\n",
              "    }\n",
              "\n",
              "    .dataframe tbody tr th {\n",
              "        vertical-align: top;\n",
              "    }\n",
              "\n",
              "    .dataframe thead th {\n",
              "        text-align: right;\n",
              "    }\n",
              "</style>\n",
              "<table border=\"1\" class=\"dataframe\">\n",
              "  <thead>\n",
              "    <tr style=\"text-align: right;\">\n",
              "      <th></th>\n",
              "      <th>((0, Anne Shirley), count:495)</th>\n",
              "      <th>((1, Anne Shirley), count:488)</th>\n",
              "      <th>((2, Anne Shirley), count:454)</th>\n",
              "      <th>((3, Anne Shirley), count:243)</th>\n",
              "      <th>((4, Anne Shirley), count:365)</th>\n",
              "      <th>((5, Anne Cordelia), count:211)</th>\n",
              "      <th>((6, Anne dearie), count:42)</th>\n",
              "      <th>((7, Anne dearie), count:10)</th>\n",
              "      <th>((7, Mrs. Blythe), count:42)</th>\n",
              "    </tr>\n",
              "  </thead>\n",
              "  <tbody>\n",
              "    <tr>\n",
              "      <th>((0, Anne Shirley), count:495)</th>\n",
              "      <td>1.000000</td>\n",
              "      <td>0.424246</td>\n",
              "      <td>0.364627</td>\n",
              "      <td>0.225482</td>\n",
              "      <td>0.219529</td>\n",
              "      <td>0.209362</td>\n",
              "      <td>0.309639</td>\n",
              "      <td>0.358274</td>\n",
              "      <td>0.500779</td>\n",
              "    </tr>\n",
              "    <tr>\n",
              "      <th>((1, Anne Shirley), count:488)</th>\n",
              "      <td>0.424246</td>\n",
              "      <td>1.000000</td>\n",
              "      <td>0.432281</td>\n",
              "      <td>0.312958</td>\n",
              "      <td>0.283374</td>\n",
              "      <td>0.284750</td>\n",
              "      <td>0.294282</td>\n",
              "      <td>0.449394</td>\n",
              "      <td>0.368612</td>\n",
              "    </tr>\n",
              "    <tr>\n",
              "      <th>((2, Anne Shirley), count:454)</th>\n",
              "      <td>0.364627</td>\n",
              "      <td>0.432281</td>\n",
              "      <td>1.000000</td>\n",
              "      <td>0.324719</td>\n",
              "      <td>0.381985</td>\n",
              "      <td>0.417253</td>\n",
              "      <td>0.293351</td>\n",
              "      <td>0.464253</td>\n",
              "      <td>0.377940</td>\n",
              "    </tr>\n",
              "    <tr>\n",
              "      <th>((3, Anne Shirley), count:243)</th>\n",
              "      <td>0.225482</td>\n",
              "      <td>0.312958</td>\n",
              "      <td>0.324719</td>\n",
              "      <td>1.000000</td>\n",
              "      <td>0.342654</td>\n",
              "      <td>0.400149</td>\n",
              "      <td>0.299296</td>\n",
              "      <td>0.507677</td>\n",
              "      <td>0.238204</td>\n",
              "    </tr>\n",
              "    <tr>\n",
              "      <th>((4, Anne Shirley), count:365)</th>\n",
              "      <td>0.219529</td>\n",
              "      <td>0.283374</td>\n",
              "      <td>0.381985</td>\n",
              "      <td>0.342654</td>\n",
              "      <td>1.000000</td>\n",
              "      <td>0.414218</td>\n",
              "      <td>0.259730</td>\n",
              "      <td>0.394926</td>\n",
              "      <td>0.311834</td>\n",
              "    </tr>\n",
              "    <tr>\n",
              "      <th>((5, Anne Cordelia), count:211)</th>\n",
              "      <td>0.209362</td>\n",
              "      <td>0.284750</td>\n",
              "      <td>0.417253</td>\n",
              "      <td>0.400149</td>\n",
              "      <td>0.414218</td>\n",
              "      <td>1.000000</td>\n",
              "      <td>0.278460</td>\n",
              "      <td>0.533299</td>\n",
              "      <td>0.304113</td>\n",
              "    </tr>\n",
              "    <tr>\n",
              "      <th>((6, Anne dearie), count:42)</th>\n",
              "      <td>0.309639</td>\n",
              "      <td>0.294282</td>\n",
              "      <td>0.293351</td>\n",
              "      <td>0.299296</td>\n",
              "      <td>0.259730</td>\n",
              "      <td>0.278460</td>\n",
              "      <td>1.000000</td>\n",
              "      <td>0.523047</td>\n",
              "      <td>0.416295</td>\n",
              "    </tr>\n",
              "    <tr>\n",
              "      <th>((7, Anne dearie), count:10)</th>\n",
              "      <td>0.358274</td>\n",
              "      <td>0.449394</td>\n",
              "      <td>0.464253</td>\n",
              "      <td>0.507677</td>\n",
              "      <td>0.394926</td>\n",
              "      <td>0.533299</td>\n",
              "      <td>0.523047</td>\n",
              "      <td>1.000000</td>\n",
              "      <td>0.612921</td>\n",
              "    </tr>\n",
              "    <tr>\n",
              "      <th>((7, Mrs. Blythe), count:42)</th>\n",
              "      <td>0.500779</td>\n",
              "      <td>0.368612</td>\n",
              "      <td>0.377940</td>\n",
              "      <td>0.238204</td>\n",
              "      <td>0.311834</td>\n",
              "      <td>0.304113</td>\n",
              "      <td>0.416295</td>\n",
              "      <td>0.612921</td>\n",
              "      <td>1.000000</td>\n",
              "    </tr>\n",
              "  </tbody>\n",
              "</table>\n",
              "</div>"
            ],
            "text/plain": [
              "                                 ((0, Anne Shirley), count:495)  ...  ((7, Mrs. Blythe), count:42)\n",
              "((0, Anne Shirley), count:495)                         1.000000  ...                      0.500779\n",
              "((1, Anne Shirley), count:488)                         0.424246  ...                      0.368612\n",
              "((2, Anne Shirley), count:454)                         0.364627  ...                      0.377940\n",
              "((3, Anne Shirley), count:243)                         0.225482  ...                      0.238204\n",
              "((4, Anne Shirley), count:365)                         0.219529  ...                      0.311834\n",
              "((5, Anne Cordelia), count:211)                        0.209362  ...                      0.304113\n",
              "((6, Anne dearie), count:42)                           0.309639  ...                      0.416295\n",
              "((7, Anne dearie), count:10)                           0.358274  ...                      0.612921\n",
              "((7, Mrs. Blythe), count:42)                           0.500779  ...                      1.000000\n",
              "\n",
              "[9 rows x 9 columns]"
            ]
          },
          "metadata": {
            "tags": []
          },
          "execution_count": 36
        }
      ]
    },
    {
      "cell_type": "code",
      "metadata": {
        "id": "45qkeJbwb2Cc",
        "colab_type": "code",
        "outputId": "5e6a33c8-1c92-4fbf-c18a-ffe3035cc4a3",
        "colab": {
          "base_uri": "https://localhost:8080/",
          "height": 298
        }
      },
      "source": [
        "plt.scatter(range(8), list(d.iloc[0][:-2]) + [np.mean(d.iloc[0, -2:])])\n",
        "plt.title(\"LDA Cosine Similarity Anne AGG & Anne other\")"
      ],
      "execution_count": 37,
      "outputs": [
        {
          "output_type": "execute_result",
          "data": {
            "text/plain": [
              "Text(0.5, 1.0, 'LDA Cosine Similarity Anne AGG & Anne other')"
            ]
          },
          "metadata": {
            "tags": []
          },
          "execution_count": 37
        },
        {
          "output_type": "display_data",
          "data": {
            "image/png": "[encoded data removed]",
            "text/plain": [
              "<Figure size 432x288 with 1 Axes>"
            ]
          },
          "metadata": {
            "tags": []
          }
        }
      ]
    },
    {
      "cell_type": "code",
      "metadata": {
        "id": "_7Ii-nImgfp1",
        "colab_type": "code",
        "colab": {}
      },
      "source": [
        "# from nltk.tokenize import sent_tokenize\n",
        "# from gensim.test.utils import common_texts\n",
        "# from gensim.models.doc2vec import Doc2Vec, TaggedDocument\n",
        "\n",
        "# sents = []\n",
        "# for i in sentences:\n",
        "#   sents.extend([e[0].split() for e in i])\n",
        "\n",
        "# documents = [TaggedDocument(doc, [i]) for i, doc in enumerate(sents)]\n",
        "# model_d2v = Doc2Vec(documents, vector_size=300, window=3, min_count=1, workers=4, dm = 1)\n",
        "# docs_as_vectors = np.array([model_d2v.infer_vector(i) for i in sents])\n",
        "# #should add other characters"
      ],
      "execution_count": 0,
      "outputs": []
    },
    {
      "cell_type": "markdown",
      "metadata": {
        "id": "rK9G3nbu5luc",
        "colab_type": "text"
      },
      "source": [
        ""
      ]
    },
    {
      "cell_type": "code",
      "metadata": {
        "id": "GmNdzVa0txGM",
        "colab_type": "code",
        "colab": {}
      },
      "source": [
        "#Evaluating Doc2Vec \n",
        "#reading human-annotated character relation annotations\n",
        "char_rel_frame = pd.read_csv(direc+\"character_relation_annotations.txt\", sep = \"\\t\")\n",
        "char_rel_frame = char_rel_frame[char_rel_frame[\"title\"]==\"Anne of Green Gables\"]\n"
      ],
      "execution_count": 0,
      "outputs": []
    },
    {
      "cell_type": "code",
      "metadata": {
        "id": "QakUDlU76-WU",
        "colab_type": "code",
        "outputId": "bae96018-155a-410c-e967-2f42f4288793",
        "colab": {
          "base_uri": "https://localhost:8080/",
          "height": 1000
        }
      },
      "source": [
        "coarse = char_rel_frame[\"coarse_category\"].unique()\n",
        "affinity = char_rel_frame[\"affinity\"].unique()\n",
        "fine = char_rel_frame[\"fine_category\"].unique()\n",
        "change = char_rel_frame[\"change\"].unique()\n",
        "\n",
        "criteria = [coarse, affinity, fine, change]\n",
        "col = [\"coarse_category\", \"affinity\", \"fine_category\", \"change\"]\n",
        "\n",
        "for n in range(4):\n",
        "  for c in criteria[n]:\n",
        "    print(c)\n",
        "    for i in range(len(char_rel_frame[char_rel_frame[col[n]]==c])):\n",
        "      c1 = find_vector_for_character(characters_as_vectors, [char_rel_frame[char_rel_frame[col[n]]==c].iloc[i][\"character_1\"], char_rel_frame[char_rel_frame[col[n]]==c].iloc[i][\"character_1\"].split()[0]], 0)\n",
        "      c2 = find_vector_for_character(characters_as_vectors, [char_rel_frame[char_rel_frame[col[n]]==c].iloc[i][\"character_2\"], char_rel_frame[char_rel_frame[col[n]]==c].iloc[i][\"character_2\"].split()[0]], 0)\n",
        "      if c1.shape==(1, 300) and c2.shape==(1, 300):\n",
        "        print(cosine(c1, c2))"
      ],
      "execution_count": 0,
      "outputs": [
        {
          "output_type": "stream",
          "text": [
            "familial\n",
            "[[0.9947117]]\n",
            "[[0.958065]]\n",
            "[[0.9682449]]\n",
            "[[0.9989392]]\n",
            "[[0.9682449]]\n",
            "[[0.958065]]\n",
            "[[0.9947117]]\n",
            "[[0.9989392]]\n",
            "social\n",
            "[[0.8891893]]\n",
            "[[0.97418475]]\n",
            "[[0.8931802]]\n",
            "[[0.8815987]]\n",
            "[[0.8891893]]\n",
            "[[0.8931802]]\n",
            "[[0.97418475]]\n",
            "[[0.8997846]]\n",
            "professional\n",
            "[[0.9109641]]\n",
            "[[0.86944014]]\n",
            "[[0.9109641]]\n",
            "positive\n",
            "[[0.9947117]]\n",
            "[[0.958065]]\n",
            "[[0.9682449]]\n",
            "[[0.8891893]]\n",
            "[[0.9109641]]\n",
            "[[0.9989392]]\n",
            "[[0.9682449]]\n",
            "[[0.958065]]\n",
            "[[0.9947117]]\n",
            "[[0.8891893]]\n",
            "[[0.8931802]]\n",
            "[[0.9109641]]\n",
            "[[0.8997846]]\n",
            "neutral\n",
            "[[0.97418475]]\n",
            "negative\n",
            "[[0.8931802]]\n",
            "[[0.8815987]]\n",
            "[[0.86944014]]\n",
            "[[0.97418475]]\n",
            "[[0.9989392]]\n",
            "brother/sister\n",
            "[[0.9947117]]\n",
            "[[0.9947117]]\n",
            "orphan\n",
            "[[0.958065]]\n",
            "[[0.9682449]]\n",
            "friend\n",
            "[[0.8891893]]\n",
            "[[0.97418475]]\n",
            "[[0.8891893]]\n",
            "[[0.97418475]]\n",
            "[[0.8997846]]\n",
            "unrequited love interest\n",
            "[[0.8931802]]\n",
            "teacher\n",
            "[[0.9109641]]\n",
            "[[0.86944014]]\n",
            "[[0.9109641]]\n",
            "parent\n",
            "[[0.9989392]]\n",
            "[[0.9989392]]\n",
            "rivals\n",
            "[[0.8815987]]\n",
            "[[0.8931802]]\n",
            "foster parent\n",
            "[[0.9682449]]\n",
            "[[0.958065]]\n",
            "no\n",
            "[[0.9947117]]\n",
            "[[0.97418475]]\n",
            "[[0.9989392]]\n",
            "[[0.8815987]]\n",
            "[[0.86944014]]\n",
            "[[0.958065]]\n",
            "[[0.9947117]]\n",
            "[[0.8891893]]\n",
            "[[0.97418475]]\n",
            "[[0.9109641]]\n",
            "[[0.8997846]]\n",
            "[[0.9989392]]\n",
            "yes\n",
            "[[0.958065]]\n",
            "[[0.9682449]]\n",
            "[[0.8891893]]\n",
            "[[0.8931802]]\n",
            "[[0.9109641]]\n",
            "[[0.9682449]]\n",
            "[[0.8931802]]\n"
          ],
          "name": "stdout"
        }
      ]
    },
    {
      "cell_type": "code",
      "metadata": {
        "id": "DifSJJhLF2DZ",
        "colab_type": "code",
        "outputId": "d15302e2-74d4-49dd-c64d-b52d7753637d",
        "colab": {
          "base_uri": "https://localhost:8080/",
          "height": 1000
        }
      },
      "source": [
        "char_rel_frame"
      ],
      "execution_count": 0,
      "outputs": [
        {
          "output_type": "execute_result",
          "data": {
            "text/html": [
              "<div>\n",
              "<style scoped>\n",
              "    .dataframe tbody tr th:only-of-type {\n",
              "        vertical-align: middle;\n",
              "    }\n",
              "\n",
              "    .dataframe tbody tr th {\n",
              "        vertical-align: top;\n",
              "    }\n",
              "\n",
              "    .dataframe thead th {\n",
              "        text-align: right;\n",
              "    }\n",
              "</style>\n",
              "<table border=\"1\" class=\"dataframe\">\n",
              "  <thead>\n",
              "    <tr style=\"text-align: right;\">\n",
              "      <th></th>\n",
              "      <th>annotator</th>\n",
              "      <th>change</th>\n",
              "      <th>title</th>\n",
              "      <th>author</th>\n",
              "      <th>character_1</th>\n",
              "      <th>character_2</th>\n",
              "      <th>affinity</th>\n",
              "      <th>coarse_category</th>\n",
              "      <th>fine_category</th>\n",
              "      <th>detail</th>\n",
              "    </tr>\n",
              "  </thead>\n",
              "  <tbody>\n",
              "    <tr>\n",
              "      <th>950</th>\n",
              "      <td>annotator_11</td>\n",
              "      <td>no</td>\n",
              "      <td>Anne of Green Gables</td>\n",
              "      <td>L. M. Montgomery</td>\n",
              "      <td>Matthew Cuthbert</td>\n",
              "      <td>Marilla Cuthbert</td>\n",
              "      <td>positive</td>\n",
              "      <td>familial</td>\n",
              "      <td>brother/sister</td>\n",
              "      <td>NR</td>\n",
              "    </tr>\n",
              "    <tr>\n",
              "      <th>951</th>\n",
              "      <td>annotator_11</td>\n",
              "      <td>yes</td>\n",
              "      <td>Anne of Green Gables</td>\n",
              "      <td>L. M. Montgomery</td>\n",
              "      <td>Anne Shirley</td>\n",
              "      <td>Matthew Cuthbert</td>\n",
              "      <td>positive</td>\n",
              "      <td>familial</td>\n",
              "      <td>orphan</td>\n",
              "      <td>The relationship gets stronger</td>\n",
              "    </tr>\n",
              "    <tr>\n",
              "      <th>952</th>\n",
              "      <td>annotator_11</td>\n",
              "      <td>yes</td>\n",
              "      <td>Anne of Green Gables</td>\n",
              "      <td>L. M. Montgomery</td>\n",
              "      <td>Anne Shirley</td>\n",
              "      <td>Marilla Cuthbert</td>\n",
              "      <td>positive</td>\n",
              "      <td>familial</td>\n",
              "      <td>orphan</td>\n",
              "      <td>The relationship gets stronger.</td>\n",
              "    </tr>\n",
              "    <tr>\n",
              "      <th>953</th>\n",
              "      <td>annotator_11</td>\n",
              "      <td>yes</td>\n",
              "      <td>Anne of Green Gables</td>\n",
              "      <td>L. M. Montgomery</td>\n",
              "      <td>Diana Barry</td>\n",
              "      <td>Anne Shirley</td>\n",
              "      <td>positive</td>\n",
              "      <td>social</td>\n",
              "      <td>friend</td>\n",
              "      <td>The friendship grows stronger throughout the b...</td>\n",
              "    </tr>\n",
              "    <tr>\n",
              "      <th>954</th>\n",
              "      <td>annotator_11</td>\n",
              "      <td>no</td>\n",
              "      <td>Anne of Green Gables</td>\n",
              "      <td>L. M. Montgomery</td>\n",
              "      <td>Mrs. Rachel Lynde</td>\n",
              "      <td>Marilla Cuthbert</td>\n",
              "      <td>neutral</td>\n",
              "      <td>social</td>\n",
              "      <td>friend</td>\n",
              "      <td>Marilla basically puts up with Rachel.</td>\n",
              "    </tr>\n",
              "    <tr>\n",
              "      <th>955</th>\n",
              "      <td>annotator_11</td>\n",
              "      <td>yes</td>\n",
              "      <td>Anne of Green Gables</td>\n",
              "      <td>L. M. Montgomery</td>\n",
              "      <td>Gilbert Blythe</td>\n",
              "      <td>Anne Shirley</td>\n",
              "      <td>negative</td>\n",
              "      <td>social</td>\n",
              "      <td>unrequited love interest</td>\n",
              "      <td>She hates him at first but they become friends...</td>\n",
              "    </tr>\n",
              "    <tr>\n",
              "      <th>956</th>\n",
              "      <td>annotator_11</td>\n",
              "      <td>yes</td>\n",
              "      <td>Anne of Green Gables</td>\n",
              "      <td>L. M. Montgomery</td>\n",
              "      <td>Miss Muriel Stacy</td>\n",
              "      <td>Anne Shirley</td>\n",
              "      <td>positive</td>\n",
              "      <td>professional</td>\n",
              "      <td>teacher</td>\n",
              "      <td>Grows from being teacher/student to being frie...</td>\n",
              "    </tr>\n",
              "    <tr>\n",
              "      <th>957</th>\n",
              "      <td>annotator_11</td>\n",
              "      <td>no</td>\n",
              "      <td>Anne of Green Gables</td>\n",
              "      <td>L. M. Montgomery</td>\n",
              "      <td>Mrs. Barry</td>\n",
              "      <td>Diana Barry</td>\n",
              "      <td>positive</td>\n",
              "      <td>familial</td>\n",
              "      <td>parent</td>\n",
              "      <td>NR</td>\n",
              "    </tr>\n",
              "    <tr>\n",
              "      <th>958</th>\n",
              "      <td>annotator_11</td>\n",
              "      <td>no</td>\n",
              "      <td>Anne of Green Gables</td>\n",
              "      <td>L. M. Montgomery</td>\n",
              "      <td>Josie Pye</td>\n",
              "      <td>Anne Shirley</td>\n",
              "      <td>negative</td>\n",
              "      <td>social</td>\n",
              "      <td>rivals</td>\n",
              "      <td>NR</td>\n",
              "    </tr>\n",
              "    <tr>\n",
              "      <th>959</th>\n",
              "      <td>annotator_11</td>\n",
              "      <td>no</td>\n",
              "      <td>Anne of Green Gables</td>\n",
              "      <td>L. M. Montgomery</td>\n",
              "      <td>Mr. Phillips</td>\n",
              "      <td>Anne Shirley</td>\n",
              "      <td>negative</td>\n",
              "      <td>professional</td>\n",
              "      <td>teacher</td>\n",
              "      <td>NR</td>\n",
              "    </tr>\n",
              "    <tr>\n",
              "      <th>960</th>\n",
              "      <td>annotator_1</td>\n",
              "      <td>yes</td>\n",
              "      <td>Anne of Green Gables</td>\n",
              "      <td>L. M. Montgomery</td>\n",
              "      <td>Marilla Cuthbert</td>\n",
              "      <td>Anne Shirley</td>\n",
              "      <td>positive</td>\n",
              "      <td>familial</td>\n",
              "      <td>foster parent</td>\n",
              "      <td>she grows more open in her strict love for Anne</td>\n",
              "    </tr>\n",
              "    <tr>\n",
              "      <th>961</th>\n",
              "      <td>annotator_1</td>\n",
              "      <td>no</td>\n",
              "      <td>Anne of Green Gables</td>\n",
              "      <td>L. M. Montgomery</td>\n",
              "      <td>Matthew Cuthbert</td>\n",
              "      <td>Anne Shirley</td>\n",
              "      <td>positive</td>\n",
              "      <td>familial</td>\n",
              "      <td>foster parent</td>\n",
              "      <td>NR</td>\n",
              "    </tr>\n",
              "    <tr>\n",
              "      <th>962</th>\n",
              "      <td>annotator_1</td>\n",
              "      <td>no</td>\n",
              "      <td>Anne of Green Gables</td>\n",
              "      <td>L. M. Montgomery</td>\n",
              "      <td>Matthew Cuthbert</td>\n",
              "      <td>Marilla Cuthbert</td>\n",
              "      <td>positive</td>\n",
              "      <td>familial</td>\n",
              "      <td>brother/sister</td>\n",
              "      <td>NR</td>\n",
              "    </tr>\n",
              "    <tr>\n",
              "      <th>963</th>\n",
              "      <td>annotator_1</td>\n",
              "      <td>no</td>\n",
              "      <td>Anne of Green Gables</td>\n",
              "      <td>L. M. Montgomery</td>\n",
              "      <td>Anne Shirley</td>\n",
              "      <td>Diana Barry</td>\n",
              "      <td>positive</td>\n",
              "      <td>social</td>\n",
              "      <td>friend</td>\n",
              "      <td>NR</td>\n",
              "    </tr>\n",
              "    <tr>\n",
              "      <th>964</th>\n",
              "      <td>annotator_1</td>\n",
              "      <td>yes</td>\n",
              "      <td>Anne of Green Gables</td>\n",
              "      <td>L. M. Montgomery</td>\n",
              "      <td>Gilbert Blythe</td>\n",
              "      <td>Anne Shirley</td>\n",
              "      <td>positive</td>\n",
              "      <td>social</td>\n",
              "      <td>rivals</td>\n",
              "      <td>eventually they become friends</td>\n",
              "    </tr>\n",
              "    <tr>\n",
              "      <th>965</th>\n",
              "      <td>annotator_1</td>\n",
              "      <td>no</td>\n",
              "      <td>Anne of Green Gables</td>\n",
              "      <td>L. M. Montgomery</td>\n",
              "      <td>Mrs. Rachel Lynde</td>\n",
              "      <td>Marilla Cuthbert</td>\n",
              "      <td>negative</td>\n",
              "      <td>social</td>\n",
              "      <td>friend</td>\n",
              "      <td>she is overbearing and a neighbor</td>\n",
              "    </tr>\n",
              "    <tr>\n",
              "      <th>966</th>\n",
              "      <td>annotator_1</td>\n",
              "      <td>no</td>\n",
              "      <td>Anne of Green Gables</td>\n",
              "      <td>L. M. Montgomery</td>\n",
              "      <td>Miss Muriel Stacy</td>\n",
              "      <td>Anne Shirley</td>\n",
              "      <td>positive</td>\n",
              "      <td>professional</td>\n",
              "      <td>teacher</td>\n",
              "      <td>NR</td>\n",
              "    </tr>\n",
              "    <tr>\n",
              "      <th>967</th>\n",
              "      <td>annotator_1</td>\n",
              "      <td>no</td>\n",
              "      <td>Anne of Green Gables</td>\n",
              "      <td>L. M. Montgomery</td>\n",
              "      <td>Mrs. Allan</td>\n",
              "      <td>Anne Shirley</td>\n",
              "      <td>positive</td>\n",
              "      <td>social</td>\n",
              "      <td>friend</td>\n",
              "      <td>NR</td>\n",
              "    </tr>\n",
              "    <tr>\n",
              "      <th>968</th>\n",
              "      <td>annotator_1</td>\n",
              "      <td>no</td>\n",
              "      <td>Anne of Green Gables</td>\n",
              "      <td>L. M. Montgomery</td>\n",
              "      <td>Mrs. Barry</td>\n",
              "      <td>Diana Barry</td>\n",
              "      <td>negative</td>\n",
              "      <td>familial</td>\n",
              "      <td>parent</td>\n",
              "      <td>NR</td>\n",
              "    </tr>\n",
              "    <tr>\n",
              "      <th>969</th>\n",
              "      <td>annotator_1</td>\n",
              "      <td>no</td>\n",
              "      <td>Anne of Green Gables</td>\n",
              "      <td>L. M. Montgomery</td>\n",
              "      <td>Aunt Josephine</td>\n",
              "      <td>Anne Shirley</td>\n",
              "      <td>positive</td>\n",
              "      <td>social</td>\n",
              "      <td>friend</td>\n",
              "      <td>NR</td>\n",
              "    </tr>\n",
              "  </tbody>\n",
              "</table>\n",
              "</div>"
            ],
            "text/plain": [
              "        annotator  ...                                             detail\n",
              "950  annotator_11  ...                                                 NR\n",
              "951  annotator_11  ...                     The relationship gets stronger\n",
              "952  annotator_11  ...                    The relationship gets stronger.\n",
              "953  annotator_11  ...  The friendship grows stronger throughout the b...\n",
              "954  annotator_11  ...             Marilla basically puts up with Rachel.\n",
              "955  annotator_11  ...  She hates him at first but they become friends...\n",
              "956  annotator_11  ...  Grows from being teacher/student to being frie...\n",
              "957  annotator_11  ...                                                 NR\n",
              "958  annotator_11  ...                                                 NR\n",
              "959  annotator_11  ...                                                 NR\n",
              "960   annotator_1  ...    she grows more open in her strict love for Anne\n",
              "961   annotator_1  ...                                                 NR\n",
              "962   annotator_1  ...                                                 NR\n",
              "963   annotator_1  ...                                                 NR\n",
              "964   annotator_1  ...                     eventually they become friends\n",
              "965   annotator_1  ...                  she is overbearing and a neighbor\n",
              "966   annotator_1  ...                                                 NR\n",
              "967   annotator_1  ...                                                 NR\n",
              "968   annotator_1  ...                                                 NR\n",
              "969   annotator_1  ...                                                 NR\n",
              "\n",
              "[20 rows x 10 columns]"
            ]
          },
          "metadata": {
            "tags": []
          },
          "execution_count": 88
        }
      ]
    }
  ]
}