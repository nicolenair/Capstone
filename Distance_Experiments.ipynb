{
  "nbformat": 4,
  "nbformat_minor": 0,
  "metadata": {
    "colab": {
      "name": "Distance Experiments.ipynb",
      "provenance": [],
      "collapsed_sections": [],
      "toc_visible": true,
      "include_colab_link": true
    },
    "kernelspec": {
      "display_name": "Python 3",
      "language": "python",
      "name": "python3"
    }
  },
  "cells": [
    {
      "cell_type": "markdown",
      "metadata": {
        "id": "view-in-github",
        "colab_type": "text"
      },
      "source": [
        "<a href=\"https://colab.research.google.com/github/nicolenair/capstone/blob/master/Distance_Experiments.ipynb\" target=\"_parent\"><img src=\"https://colab.research.google.com/assets/colab-badge.svg\" alt=\"Open In Colab\"/></a>"
      ]
    },
    {
      "cell_type": "code",
      "metadata": {
        "id": "YlL6OZZYuLPv",
        "colab_type": "code",
        "outputId": "f3df12ae-3c4f-4fd1-ee46-e9d2962301da",
        "colab": {
          "base_uri": "https://localhost:8080/",
          "height": 530
        }
      },
      "source": [
        "   import os\n",
        "!pip install --upgrade gensim\n",
        "\n",
        "import nltk\n",
        "nltk.download('punkt')\n",
        "\n",
        "def install_java():\n",
        "  !apt-get install -y openjdk-8-jdk-headless -qq > /dev/null      #install openjdk\n",
        "  os.environ[\"JAVA_HOME\"] = \"/usr/lib/jvm/java-8-openjdk-amd64\"     #set environment variable\n",
        "  !java -version       #check java version\n",
        "install_java()"
      ],
      "execution_count": 1,
      "outputs": [
        {
          "output_type": "stream",
          "text": [
            "Collecting gensim\n",
            "\u001b[?25l  Downloading https://files.pythonhosted.org/packages/d1/dd/112bd4258cee11e0baaaba064060eb156475a42362e59e3ff28e7ca2d29d/gensim-3.8.1-cp36-cp36m-manylinux1_x86_64.whl (24.2MB)\n",
            "\u001b[K     |████████████████████████████████| 24.2MB 1.4MB/s \n",
            "\u001b[?25hRequirement already satisfied, skipping upgrade: six>=1.5.0 in /usr/local/lib/python3.6/dist-packages (from gensim) (1.12.0)\n",
            "Requirement already satisfied, skipping upgrade: numpy>=1.11.3 in /usr/local/lib/python3.6/dist-packages (from gensim) (1.17.5)\n",
            "Requirement already satisfied, skipping upgrade: scipy>=0.18.1 in /usr/local/lib/python3.6/dist-packages (from gensim) (1.4.1)\n",
            "Requirement already satisfied, skipping upgrade: smart-open>=1.8.1 in /usr/local/lib/python3.6/dist-packages (from gensim) (1.9.0)\n",
            "Requirement already satisfied, skipping upgrade: requests in /usr/local/lib/python3.6/dist-packages (from smart-open>=1.8.1->gensim) (2.21.0)\n",
            "Requirement already satisfied, skipping upgrade: boto>=2.32 in /usr/local/lib/python3.6/dist-packages (from smart-open>=1.8.1->gensim) (2.49.0)\n",
            "Requirement already satisfied, skipping upgrade: boto3 in /usr/local/lib/python3.6/dist-packages (from smart-open>=1.8.1->gensim) (1.11.9)\n",
            "Requirement already satisfied, skipping upgrade: certifi>=2017.4.17 in /usr/local/lib/python3.6/dist-packages (from requests->smart-open>=1.8.1->gensim) (2019.11.28)\n",
            "Requirement already satisfied, skipping upgrade: urllib3<1.25,>=1.21.1 in /usr/local/lib/python3.6/dist-packages (from requests->smart-open>=1.8.1->gensim) (1.24.3)\n",
            "Requirement already satisfied, skipping upgrade: chardet<3.1.0,>=3.0.2 in /usr/local/lib/python3.6/dist-packages (from requests->smart-open>=1.8.1->gensim) (3.0.4)\n",
            "Requirement already satisfied, skipping upgrade: idna<2.9,>=2.5 in /usr/local/lib/python3.6/dist-packages (from requests->smart-open>=1.8.1->gensim) (2.8)\n",
            "Requirement already satisfied, skipping upgrade: jmespath<1.0.0,>=0.7.1 in /usr/local/lib/python3.6/dist-packages (from boto3->smart-open>=1.8.1->gensim) (0.9.4)\n",
            "Requirement already satisfied, skipping upgrade: s3transfer<0.4.0,>=0.3.0 in /usr/local/lib/python3.6/dist-packages (from boto3->smart-open>=1.8.1->gensim) (0.3.2)\n",
            "Requirement already satisfied, skipping upgrade: botocore<1.15.0,>=1.14.9 in /usr/local/lib/python3.6/dist-packages (from boto3->smart-open>=1.8.1->gensim) (1.14.9)\n",
            "Requirement already satisfied, skipping upgrade: python-dateutil<3.0.0,>=2.1 in /usr/local/lib/python3.6/dist-packages (from botocore<1.15.0,>=1.14.9->boto3->smart-open>=1.8.1->gensim) (2.6.1)\n",
            "Requirement already satisfied, skipping upgrade: docutils<0.16,>=0.10 in /usr/local/lib/python3.6/dist-packages (from botocore<1.15.0,>=1.14.9->boto3->smart-open>=1.8.1->gensim) (0.15.2)\n",
            "Installing collected packages: gensim\n",
            "  Found existing installation: gensim 3.6.0\n",
            "    Uninstalling gensim-3.6.0:\n",
            "      Successfully uninstalled gensim-3.6.0\n",
            "Successfully installed gensim-3.8.1\n",
            "[nltk_data] Downloading package punkt to /root/nltk_data...\n",
            "[nltk_data]   Unzipping tokenizers/punkt.zip.\n",
            "openjdk version \"11.0.6\" 2020-01-14\n",
            "OpenJDK Runtime Environment (build 11.0.6+10-post-Ubuntu-1ubuntu118.04.1)\n",
            "OpenJDK 64-Bit Server VM (build 11.0.6+10-post-Ubuntu-1ubuntu118.04.1, mixed mode, sharing)\n"
          ],
          "name": "stdout"
        }
      ]
    },
    {
      "cell_type": "code",
      "metadata": {
        "id": "yCMiSdf_DG3n",
        "colab_type": "code",
        "colab": {}
      },
      "source": [
        "# !wget http://mallet.cs.umass.edu/dist/mallet-2.0.8.zip\n",
        "# !unzip mallet-2.0.8.zip"
      ],
      "execution_count": 0,
      "outputs": []
    },
    {
      "cell_type": "code",
      "metadata": {
        "id": "Sb12I3GvV_Gm",
        "colab_type": "code",
        "outputId": "ffd2a5d2-5a5f-41c8-ab4d-3a125eaf3503",
        "colab": {
          "base_uri": "https://localhost:8080/",
          "height": 122
        }
      },
      "source": [
        "from google.colab import drive\n",
        "drive.mount('/content/gdrive', force_remount = True)\n",
        "# os.chdir(\"/content/gdrive/My Drive/Colab Notebooks/CAPSTONE\")\n",
        "direc = \"/content/gdrive/My Drive/Colab Notebooks/CAPSTONE/\""
      ],
      "execution_count": 2,
      "outputs": [
        {
          "output_type": "stream",
          "text": [
            "Go to this URL in a browser: https://accounts.google.com/o/oauth2/auth?client_id=947318989803-6bn6qk8qdgf4n4g3pfee6491hc0brc4i.apps.googleusercontent.com&redirect_uri=urn%3aietf%3awg%3aoauth%3a2.0%3aoob&response_type=code&scope=email%20https%3a%2f%2fwww.googleapis.com%2fauth%2fdocs.test%20https%3a%2f%2fwww.googleapis.com%2fauth%2fdrive%20https%3a%2f%2fwww.googleapis.com%2fauth%2fdrive.photos.readonly%20https%3a%2f%2fwww.googleapis.com%2fauth%2fpeopleapi.readonly\n",
            "\n",
            "Enter your authorization code:\n",
            "··········\n",
            "Mounted at /content/gdrive\n"
          ],
          "name": "stdout"
        }
      ]
    },
    {
      "cell_type": "code",
      "metadata": {
        "id": "taaK2gE9Toa-",
        "colab_type": "code",
        "colab": {}
      },
      "source": [
        "#!pip install import_ipynb\n",
        "from bs4 import BeautifulSoup\n",
        "import requests\n",
        "import numpy as np\n",
        "import pandas as pd\n",
        "import os\n",
        "import re\n",
        "import os\n",
        "import importlib\n",
        "import nltk\n",
        "import matplotlib.pyplot as plt\n",
        "import gensim\n",
        "from gensim.models.doc2vec import Doc2Vec, TaggedDocument"
      ],
      "execution_count": 0,
      "outputs": []
    },
    {
      "cell_type": "code",
      "metadata": {
        "id": "UFaANUhVlJuZ",
        "colab_type": "code",
        "colab": {}
      },
      "source": [
        "#listing possible names for same character\n",
        "#to be used throughout\n",
        "anne_names = [\"Anne Shirley\", \"Anne\", \"Anne Blythe\", \"Mrs. Blythe\", \"Miss Blythe\", \"Mrs Blythe\", \"Anne dearie\"]\n",
        "diana_names = [\"Diana Barry\", \"Diana\"]\n",
        "cornelia_names = [\"Ms Cornelia\", \"Miss Cornelia\", \"Cornelia\", \"Cornelia Bryant\", \"Mrs Elliot\", \"Mrs. Elliot\"]\n",
        "jem_names = [\"Jem Blythe\", \"Jem\"]\n",
        "davy_names = [\"Davy\", \"Davy Keith\"]"
      ],
      "execution_count": 0,
      "outputs": []
    },
    {
      "cell_type": "code",
      "metadata": {
        "id": "96XXzcW-V-EQ",
        "colab_type": "code",
        "colab": {}
      },
      "source": [
        "# importlib.reload(anno_auto)"
      ],
      "execution_count": 0,
      "outputs": []
    },
    {
      "cell_type": "code",
      "metadata": {
        "id": "kusdyuiaX_YY",
        "colab_type": "code",
        "colab": {}
      },
      "source": [
        "# import os\n",
        "# os.listdir(\"/content/gdrive/My Drive/Nicole-Internship-Complete-Folder/chatbot - all/chatbot-flask/GoogleNews-vectors-negative300.bin.gz\")"
      ],
      "execution_count": 0,
      "outputs": []
    },
    {
      "cell_type": "code",
      "metadata": {
        "id": "xcnPuUeyNbjs",
        "colab_type": "code",
        "colab": {}
      },
      "source": [
        "#pasting all utterances into lists\n",
        "property_ = \"speaking\"\n",
        "file1 = open(direc+\"gables_{}_list.txt\".format(property_), \"r\")\n",
        "file2 = open(direc+\"avonlea_{}_list.txt\".format(property_), \"r\")\n",
        "file3 = open(direc+\"island_{}_list.txt\".format(property_), \"r\")\n",
        "file4 = open(direc+\"poplars_{}_list.txt\".format(property_), \"r\")\n",
        "file5 = open(direc+\"dreams_{}_list.txt\".format(property_), \"r\")\n",
        "file6 = open(direc+\"ingleside_{}_list.txt\".format(property_), \"r\")\n",
        "file7 = open(direc+\"rainbow_{}_list.txt\".format(property_), \"r\")\n",
        "file8 = open(direc+\"rilla_{}_list.txt\".format(property_), \"r\")\n",
        "sentence_gables = []\n",
        "sentence_dreams = []\n",
        "sentence_island = []\n",
        "sentence_avonlea = []\n",
        "sentence_poplars = []\n",
        "sentence_ingleside = []\n",
        "sentence_rainbow = []\n",
        "sentence_rilla = []\n",
        "target_gables = []\n",
        "target_dreams = []\n",
        "target_island = []\n",
        "target_avonlea = [] ###\n",
        "target_poplars = []\n",
        "target_ingleside = []\n",
        "target_rainbow = []\n",
        "target_rilla = [] ###\n",
        "\n",
        "file1_lines =file1.readlines()\n",
        "file2_lines = file2.readlines()\n",
        "file3_lines = file3.readlines()\n",
        "file4_lines = file4.readlines()\n",
        "file5_lines = file5.readlines()\n",
        "file6_lines = file6.readlines()\n",
        "file7_lines = file7.readlines()\n",
        "file8_lines = file8.readlines()\n",
        "\n",
        "files = [file1_lines, file2_lines, file3_lines ,file4_lines, file5_lines, file6_lines, file7_lines, file8_lines]\n",
        "sentences = [sentence_gables, sentence_avonlea, sentence_island, sentence_poplars, sentence_dreams, sentence_ingleside, sentence_rainbow, sentence_rilla]\n",
        "targets_pre = [target_gables, target_avonlea, target_island, target_poplars, target_dreams, target_ingleside, target_rainbow, target_rilla]\n",
        "\n",
        "#we have saved it in line by line formats in the file, so we need to extract it here\n",
        "for s in range(len(sentences)):\n",
        "  for i in range(len(files[s])):\n",
        "    if i%2==0:\n",
        "      sentences[s].append([files[s][i]])\n",
        "    else:\n",
        "      targets_pre[s].append(files[s][i])\n",
        "  # file.close()"
      ],
      "execution_count": 0,
      "outputs": []
    },
    {
      "cell_type": "code",
      "metadata": {
        "id": "QgaOzHe21Ah1",
        "colab_type": "code",
        "colab": {}
      },
      "source": [
        "#labeling book & character\n",
        "from gensim.utils import simple_preprocess\n",
        "book_character_labels = []\n",
        "#contains tuples of character and book labels\n",
        "\n",
        "for i in range(len(targets_pre)):\n",
        "  for e in targets_pre[i]:\n",
        "    in_labs = False\n",
        "    for n in e.split(\",\")[1::2]:\n",
        "      if (n, i) in book_character_labels:\n",
        "        in_labs = n\n",
        "    if in_labs==False:\n",
        "      character_name_lengths = np.array([len(n) for n in e.split(\",\")[1::2]])\n",
        "      book_character_labels.append((i, e.split(\",\")[np.argmax(character_name_lengths)*2+1]))\n",
        "    else:\n",
        "      book_character_labels.append((i, in_labs))\n",
        "\n",
        "# book_character_labels = [(character_labels[e], book_labels[e]) for e in range(len(character_labels))]\n",
        "\n",
        "sentences_flattened = []\n",
        "for i in sentences:\n",
        "  for e in i:\n",
        "    sentences_flattened.append(simple_preprocess(e[0]))\n",
        "    #after we have labelled the sentences, there is no longer a need to \n",
        "    #keep them in book lists, we keep it simply as a full list of utterances"
      ],
      "execution_count": 0,
      "outputs": []
    },
    {
      "cell_type": "code",
      "metadata": {
        "id": "qUUejRz3GyPR",
        "colab_type": "code",
        "colab": {}
      },
      "source": [
        "def find_vector_for_character(characters_as_vectors, names, book = 0):\n",
        "  anne_vectors_lda = []\n",
        "  total_weighting = 0\n",
        "  for i in range(len(character_documents.keys())):\n",
        "    for n in names:\n",
        "      if n in list(character_documents.keys())[i][1]:\n",
        "  #     print('ok')\n",
        "        if book==list(character_documents.keys())[i][0]:\n",
        "          if not list(character_documents.keys())[i][1] == \"Anne Cordelia\":\n",
        "            weighting = book_character_labels.count(list(character_documents.keys())[i])\n",
        "            total_weighting += weighting\n",
        "            anne_vectors_lda.append(np.array(characters_as_vectors[i])*weighting)\n",
        "  return [np.sum(np.array(anne_vectors_lda), axis = 0)/total_weighting] #mean\n"
      ],
      "execution_count": 0,
      "outputs": []
    },
    {
      "cell_type": "code",
      "metadata": {
        "id": "s7H4Sd-gpHnB",
        "colab_type": "code",
        "colab": {
          "base_uri": "https://localhost:8080/",
          "height": 51
        },
        "outputId": "b8365949-ac42-4697-c3ce-691e20e5f928"
      },
      "source": [
        "find_vector_for_character(characters_as_vectors_lda, anne_names, book = 7)"
      ],
      "execution_count": 221,
      "outputs": [
        {
          "output_type": "execute_result",
          "data": {
            "text/plain": [
              "[array([0.97848284, 0.00697665, 0.00122689, 0.01208856, 0.0012251 ],\n",
              "       dtype=float32)]"
            ]
          },
          "metadata": {
            "tags": []
          },
          "execution_count": 221
        }
      ]
    },
    {
      "cell_type": "code",
      "metadata": {
        "id": "EYzJG-3639qZ",
        "colab_type": "code",
        "colab": {}
      },
      "source": [
        "import spacy\n",
        "nlp = spacy.load('en', disable=['parser', 'ner'])\n",
        "\n",
        "def lemmatization(texts):\n",
        "    \"\"\"https://spacy.io/api/annotation\"\"\"\n",
        "    texts_out = []\n",
        "    for sent in texts:\n",
        "        doc = nlp(\" \".join(sent)) \n",
        "        texts_out.append(\" \".join([token.lemma_ for token in doc]))\n",
        "    return texts_out"
      ],
      "execution_count": 0,
      "outputs": []
    },
    {
      "cell_type": "code",
      "metadata": {
        "id": "brr45vS89eWx",
        "colab_type": "code",
        "colab": {}
      },
      "source": [
        "character_documents = {}\n",
        "\n",
        "for i in range(len(sentences_flattened)):\n",
        "  a = character_documents.get(book_character_labels[i], [])\n",
        "  a.append(\"\\n\")\n",
        "  a.extend(sentences_flattened[i])\n",
        "  character_documents[book_character_labels[i]] = a\n",
        "  \n",
        "documents = [TaggedDocument(doc, [i]) for i, doc in enumerate(list(character_documents.values()))]"
      ],
      "execution_count": 0,
      "outputs": []
    },
    {
      "cell_type": "markdown",
      "metadata": {
        "id": "mBV2JUrF6fdv",
        "colab_type": "text"
      },
      "source": [
        "# Representing characters (Doc2Vec)"
      ]
    },
    {
      "cell_type": "code",
      "metadata": {
        "id": "PYYKG7aQlcv4",
        "colab_type": "code",
        "colab": {}
      },
      "source": [
        "#this cell is used to train the doc2vec model,\n",
        "#but we reuse character_documents and and anne_characters elsewhere\n",
        "from nltk.tokenize import sent_tokenize\n",
        "from gensim.test.utils import common_texts\n",
        "from gensim.utils import simple_preprocess\n",
        "from gensim import corpora, models\n",
        "from gensim.test.utils import common_corpus, common_dictionary\n",
        "from gensim.models.wrappers import LdaMallet\n",
        "from gensim.models import LdaModel\n",
        "from gensim.models.coherencemodel import CoherenceModel\n",
        "import random\n",
        "import timeit\n",
        "\n",
        "os.environ['MALLET_HOME'] = '/content/mallet-2.0.8'\n",
        "mallet_path = '/content/mallet-2.0.8/bin/mallet' # you should NOT need to change this \n",
        "\n",
        "def train_doc2vec(randomise=False, lemmatize=False):\n",
        "  if randomise==False:\n",
        "    if lemmatize==True:\n",
        "      processed_docs = [i[0] for i in documents]\n",
        "      processed_docs  = [i.split() for i in lemmatization(processed_docs)]\n",
        "      processed_docs = [TaggedDocument(doc, [i]) for i, doc in enumerate(processed_docs)]\n",
        "      model_d2v = Doc2Vec(processed_docs, vector_size=300, window=3, min_count=1, workers=4, dm = 1)\n",
        "      #set to pv-dm variant\n",
        "    else:\n",
        "      processed_docs = documents\n",
        "      model_d2v = Doc2Vec(processed_docs, vector_size=300, window=3, min_count=1, workers=4, dm = 1)\n",
        "  else:\n",
        "    if lemmatize==True:\n",
        "      processed_docs = [i[0] for i in documents]\n",
        "      processed_docs  = [i.split() for i in lemmatization(processed_docs)]\n",
        "      processed_docs = [TaggedDocument(doc, [i]) for i, doc in enumerate(processed_docs)]\n",
        "      model_d2v = Doc2Vec(random.sample(processed_docs, len(documents)), vector_size=300, window=3, min_count=1, workers=4, dm = 1)\n",
        "    else:\n",
        "      model_d2v = Doc2Vec(random.sample(documents, len(documents)), vector_size=300, window=3, min_count=1, workers=4, dm = 1)\n",
        "  characters_as_vectors = np.array([model_d2v.infer_vector(i) for i in list(character_documents.values())])\n",
        "  anne_vectors = [find_vector_for_character(characters_as_vectors, anne_names, i)[0] for i in range(8)]\n",
        "  # for i in range(len(character_documents.keys())):\n",
        "  #   if list(character_documents.keys())[i][1] in anne_names: #or 'Diana' in list(character_documents.keys())[i][1] or \"Jem\" in list(character_documents.keys())[i][1] or \"Davy\" in list(character_documents.keys())[i][1] or \"Leslie\" in list(character_documents.keys())[i][1] or \"Cornelia\" in list(character_documents.keys())[i][1]:\n",
        "  # #     print('ok')\n",
        "  #       if book_character_labels.count(list(character_documents.keys())[i])>5:\n",
        "  #         anne_vectors.append(characters_as_vectors[i])\n",
        "  return anne_vectors, characters_as_vectors\n",
        "\n",
        "anne_vectors, characters_as_vectors = train_doc2vec()\n",
        "        "
      ],
      "execution_count": 0,
      "outputs": []
    },
    {
      "cell_type": "code",
      "metadata": {
        "id": "v954t7tfqlN-",
        "colab_type": "code",
        "colab": {}
      },
      "source": [
        "# find_vector_for_character(characters_as_vectors_lda, anne_names, 7)"
      ],
      "execution_count": 0,
      "outputs": []
    },
    {
      "cell_type": "code",
      "metadata": {
        "id": "OiZqg-q2FZm4",
        "colab_type": "code",
        "colab": {}
      },
      "source": [
        "def train_lda(randomise=False, lemmatize= False, coherence_test = False, num_topics = 5):\n",
        "  start = timeit.default_timer()\n",
        "  if randomise==False:\n",
        "    if lemmatize==True:\n",
        "      processed_docs = [i[0] for i in documents]\n",
        "      processed_docs  = [i.split() for i in lemmatization(processed_docs)]#change the corpus to bag of words\n",
        "      dictionary = gensim.corpora.Dictionary(processed_docs)\n",
        "      bow_corpus = [dictionary.doc2bow(doc) for doc in processed_docs]\n",
        "    else:\n",
        "      dictionary = gensim.corpora.Dictionary([i[0] for i in documents])\n",
        "      bow_corpus = [dictionary.doc2bow(doc[0]) for doc in documents]\n",
        "  else:\n",
        "      if lemmatize==True:\n",
        "        processed_docs = [i[0] for i in random.sample(documents, len(documents))]\n",
        "        processed_docs  = [i.split() for i in lemmatization(processed_docs)]#change the corpus to bag of words\n",
        "        dictionary = gensim.corpora.Dictionary(processed_docs)\n",
        "        bow_corpus = [dictionary.doc2bow(doc) for doc in processed_docs]\n",
        "      else:\n",
        "        dictionary = gensim.corpora.Dictionary([i[0] for i in random.sample(documents, len(documents))])\n",
        "        bow_corpus = [dictionary.doc2bow(doc) for doc in [i[0] for i in random.sample(documents, len(documents))]]\n",
        "\n",
        "  # tfidf = models.TfidfModel(bow_corpus)\n",
        "  # corpus_tfidf = tfidf[bow_corpus]\n",
        "  #convert bow to tfidf\n",
        "  if coherence_test==True:\n",
        "    coherences = []\n",
        "    for n in [5, 10, 20, 30, 40, 50]:\n",
        "      lda_model= LdaModel(corpus=bow_corpus, num_topics=n, id2word=dictionary, minimum_probability=0.0)\n",
        "      cm = CoherenceModel(model=lda_model, corpus=common_corpus, coherence='u_mass')\n",
        "      coherence = cm.get_coherence()  # get coherence valuecm.for_topics()\n",
        "      coherences.append(coherence)\n",
        "    lda_model= LdaModel(corpus=bow_corpus, num_topics=[5, 10, 20, 30, 40, 50][np.argmax(coherences)], id2word=dictionary, minimum_probability=0.0)\n",
        "  else: \n",
        "    lda_model= LdaModel(corpus=bow_corpus, num_topics=num_topics, id2word=dictionary, minimum_probability=0.0)\n",
        "  # cm = CoherenceModel(model=lda_model, corpus=common_corpus, coherence='u_mass')\n",
        "  # coherence = cm.get_coherence()  # get coherence valuecm.for_topics()\n",
        "  # coherence_by_topic = cm.get_coherence_per_topic()\n",
        "  # np.exp((coherence_by_topic/2)*N*(N-1))\n",
        "  # plt.hist(coherence_by_topic)\n",
        "  # plt.show()\n",
        "  # for idx, topic in lda_model.print_topics(-1):\n",
        "  #   print('Topic: {} Word: {}'.format(idx, topic))\n",
        "  characters_as_vectors_lda = [[e[1] for e in lda_model[i]] for i in bow_corpus]\n",
        "  anne_vectors_lda = [find_vector_for_character(characters_as_vectors_lda, anne_names, i) for i in range(8)]\n",
        "  if coherence_test==True:\n",
        "    return anne_vectors_lda, characters_as_vectors_lda, [5, 10, 20, 30, 40, 50][np.argmax(coherences)]\n",
        "  else:\n",
        "    return anne_vectors_lda, characters_as_vectors_lda\n",
        "\n",
        "# # start = timeit.default_timer()\n",
        "# anne_vectors_lda, characters_as_vectors_lda, m = train_lda(coherence_test=True)\n",
        "# # stop = timeit.default_timer()\n",
        "# top = []\n",
        "# for i in range(100):\n",
        "#   top.append(train_lda(coherence_test=True)[2])\n",
        "\n",
        "anne_vectors_lda, characters_as_vectors_lda = train_lda()"
      ],
      "execution_count": 0,
      "outputs": []
    },
    {
      "cell_type": "code",
      "metadata": {
        "id": "sr5il7J62i_x",
        "colab_type": "code",
        "outputId": "71b34eea-6bf8-4569-a3f5-cf94c48081ea",
        "colab": {
          "base_uri": "https://localhost:8080/",
          "height": 316
        }
      },
      "source": [
        "# plt.hist(top)"
      ],
      "execution_count": 0,
      "outputs": [
        {
          "output_type": "execute_result",
          "data": {
            "text/plain": [
              "(array([45., 23.,  0., 12.,  0., 15.,  0.,  1.,  0.,  4.]),\n",
              " array([ 5. ,  9.5, 14. , 18.5, 23. , 27.5, 32. , 36.5, 41. , 45.5, 50. ]),\n",
              " <a list of 10 Patch objects>)"
            ]
          },
          "metadata": {
            "tags": []
          },
          "execution_count": 21
        },
        {
          "output_type": "display_data",
          "data": {
            "image/png": "[encoded data removed]",
            "text/plain": [
              "<Figure size 432x288 with 1 Axes>"
            ]
          },
          "metadata": {
            "tags": []
          }
        }
      ]
    },
    {
      "cell_type": "markdown",
      "metadata": {
        "id": "hM4dMY7f6rla",
        "colab_type": "text"
      },
      "source": [
        "# Cosine similarity (Doc2Vec)"
      ]
    },
    {
      "cell_type": "code",
      "metadata": {
        "id": "FXAiq-5n6pNN",
        "colab_type": "code",
        "colab": {}
      },
      "source": [
        "from sklearn.metrics.pairwise import cosine_similarity as cosine\n",
        "\n",
        "def cosine_d2v(anne_vectors):\n",
        "  cosine_similarities = np.zeros((len(anne_vectors), len(anne_vectors)))\n",
        "  for i in range(len(anne_vectors)):\n",
        "    for e in range(len(anne_vectors)):\n",
        "      cosine_similarities[i][e] = float(cosine(anne_vectors[i].reshape(1, -1), anne_vectors[e].reshape(1, -1)))\n",
        "\n",
        "  d = pd.DataFrame(cosine_similarities, columns = [\"Book {}\".format(i) for i in range(1, 9)], index = [\"Book {}\".format(i) for i in range(1, 9)])\n",
        "  return d"
      ],
      "execution_count": 0,
      "outputs": []
    },
    {
      "cell_type": "code",
      "metadata": {
        "id": "n9_EVnuxZuiv",
        "colab_type": "code",
        "outputId": "cb77cecf-f99f-4fbf-9694-c439399adcb8",
        "colab": {
          "base_uri": "https://localhost:8080/",
          "height": 281
        }
      },
      "source": [
        "for i in range(5):\n",
        "  anne_vectors, characters_as_vectors = train_doc2vec()\n",
        "  d = cosine_d2v(anne_vectors)\n",
        "  plt.plot(range(7), list(d.iloc[0][:-2]) + [np.mean(d.iloc[0, -2:])])\n",
        "  plt.title(\"Character2Vec Cosine Similarity Anne AGG & Anne other\")\n",
        "plt.show()"
      ],
      "execution_count": 236,
      "outputs": [
        {
          "output_type": "display_data",
          "data": {
            "image/png": "[encoded data removed]",
            "text/plain": [
              "<Figure size 432x288 with 1 Axes>"
            ]
          },
          "metadata": {
            "tags": []
          }
        }
      ]
    },
    {
      "cell_type": "markdown",
      "metadata": {
        "id": "gAVYc0yv7M6r",
        "colab_type": "text"
      },
      "source": [
        "# Cosine similarity Latent Dirichlet Allocation"
      ]
    },
    {
      "cell_type": "code",
      "metadata": {
        "id": "SOX7tgB77QQH",
        "colab_type": "code",
        "colab": {}
      },
      "source": [
        "def cosine_lda(anne_vectors_lda):\n",
        "  anne_vectors_lda = [np.array(i) for i in anne_vectors_lda]\n",
        "  from sklearn.metrics.pairwise import cosine_similarity as cosine\n",
        "  cosine_similarities = np.zeros((len(anne_vectors_lda), len(anne_vectors_lda)))\n",
        "  for i in range(len(anne_vectors_lda)):\n",
        "    for e in range(len(anne_vectors_lda)):\n",
        "      try:\n",
        "         cosine_similarities[i][e] = float(cosine(anne_vectors_lda[i].reshape(1, -1), anne_vectors_lda[e].reshape(1, -1)))\n",
        "      except:\n",
        "        print(i, e)\n",
        "  d = pd.DataFrame(cosine_similarities, columns = [\"Book {}\".format(i) for i in range(1, 9)], index = [\"Book {}\".format(i) for i in range(1, 9)])\n",
        "  return d\n",
        "d = cosine_lda(anne_vectors_lda)"
      ],
      "execution_count": 0,
      "outputs": []
    },
    {
      "cell_type": "code",
      "metadata": {
        "id": "6ypgC8ey0BCv",
        "colab_type": "code",
        "outputId": "2e1b6313-bb28-4d74-9897-03c709240522",
        "colab": {
          "base_uri": "https://localhost:8080/",
          "height": 297
        }
      },
      "source": [
        "d"
      ],
      "execution_count": 238,
      "outputs": [
        {
          "output_type": "execute_result",
          "data": {
            "text/html": [
              "<div>\n",
              "<style scoped>\n",
              "    .dataframe tbody tr th:only-of-type {\n",
              "        vertical-align: middle;\n",
              "    }\n",
              "\n",
              "    .dataframe tbody tr th {\n",
              "        vertical-align: top;\n",
              "    }\n",
              "\n",
              "    .dataframe thead th {\n",
              "        text-align: right;\n",
              "    }\n",
              "</style>\n",
              "<table border=\"1\" class=\"dataframe\">\n",
              "  <thead>\n",
              "    <tr style=\"text-align: right;\">\n",
              "      <th></th>\n",
              "      <th>Book 1</th>\n",
              "      <th>Book 2</th>\n",
              "      <th>Book 3</th>\n",
              "      <th>Book 4</th>\n",
              "      <th>Book 5</th>\n",
              "      <th>Book 6</th>\n",
              "      <th>Book 7</th>\n",
              "      <th>Book 8</th>\n",
              "    </tr>\n",
              "  </thead>\n",
              "  <tbody>\n",
              "    <tr>\n",
              "      <th>Book 1</th>\n",
              "      <td>1.000000</td>\n",
              "      <td>0.997059</td>\n",
              "      <td>0.998777</td>\n",
              "      <td>0.997348</td>\n",
              "      <td>0.996644</td>\n",
              "      <td>0.997196</td>\n",
              "      <td>0.991713</td>\n",
              "      <td>0.996527</td>\n",
              "    </tr>\n",
              "    <tr>\n",
              "      <th>Book 2</th>\n",
              "      <td>0.997059</td>\n",
              "      <td>1.000000</td>\n",
              "      <td>0.998650</td>\n",
              "      <td>0.999905</td>\n",
              "      <td>0.999934</td>\n",
              "      <td>0.999932</td>\n",
              "      <td>0.986006</td>\n",
              "      <td>0.989330</td>\n",
              "    </tr>\n",
              "    <tr>\n",
              "      <th>Book 3</th>\n",
              "      <td>0.998777</td>\n",
              "      <td>0.998650</td>\n",
              "      <td>1.000000</td>\n",
              "      <td>0.998386</td>\n",
              "      <td>0.998133</td>\n",
              "      <td>0.998525</td>\n",
              "      <td>0.985446</td>\n",
              "      <td>0.994411</td>\n",
              "    </tr>\n",
              "    <tr>\n",
              "      <th>Book 4</th>\n",
              "      <td>0.997348</td>\n",
              "      <td>0.999905</td>\n",
              "      <td>0.998386</td>\n",
              "      <td>1.000000</td>\n",
              "      <td>0.999942</td>\n",
              "      <td>0.999949</td>\n",
              "      <td>0.988043</td>\n",
              "      <td>0.989333</td>\n",
              "    </tr>\n",
              "    <tr>\n",
              "      <th>Book 5</th>\n",
              "      <td>0.996644</td>\n",
              "      <td>0.999934</td>\n",
              "      <td>0.998133</td>\n",
              "      <td>0.999942</td>\n",
              "      <td>1.000000</td>\n",
              "      <td>0.999961</td>\n",
              "      <td>0.986588</td>\n",
              "      <td>0.988063</td>\n",
              "    </tr>\n",
              "    <tr>\n",
              "      <th>Book 6</th>\n",
              "      <td>0.997196</td>\n",
              "      <td>0.999932</td>\n",
              "      <td>0.998525</td>\n",
              "      <td>0.999949</td>\n",
              "      <td>0.999961</td>\n",
              "      <td>1.000000</td>\n",
              "      <td>0.987083</td>\n",
              "      <td>0.988924</td>\n",
              "    </tr>\n",
              "    <tr>\n",
              "      <th>Book 7</th>\n",
              "      <td>0.991713</td>\n",
              "      <td>0.986006</td>\n",
              "      <td>0.985446</td>\n",
              "      <td>0.988043</td>\n",
              "      <td>0.986588</td>\n",
              "      <td>0.987083</td>\n",
              "      <td>1.000000</td>\n",
              "      <td>0.985286</td>\n",
              "    </tr>\n",
              "    <tr>\n",
              "      <th>Book 8</th>\n",
              "      <td>0.996527</td>\n",
              "      <td>0.989330</td>\n",
              "      <td>0.994411</td>\n",
              "      <td>0.989333</td>\n",
              "      <td>0.988063</td>\n",
              "      <td>0.988924</td>\n",
              "      <td>0.985286</td>\n",
              "      <td>1.000000</td>\n",
              "    </tr>\n",
              "  </tbody>\n",
              "</table>\n",
              "</div>"
            ],
            "text/plain": [
              "          Book 1    Book 2    Book 3  ...    Book 6    Book 7    Book 8\n",
              "Book 1  1.000000  0.997059  0.998777  ...  0.997196  0.991713  0.996527\n",
              "Book 2  0.997059  1.000000  0.998650  ...  0.999932  0.986006  0.989330\n",
              "Book 3  0.998777  0.998650  1.000000  ...  0.998525  0.985446  0.994411\n",
              "Book 4  0.997348  0.999905  0.998386  ...  0.999949  0.988043  0.989333\n",
              "Book 5  0.996644  0.999934  0.998133  ...  0.999961  0.986588  0.988063\n",
              "Book 6  0.997196  0.999932  0.998525  ...  1.000000  0.987083  0.988924\n",
              "Book 7  0.991713  0.986006  0.985446  ...  0.987083  1.000000  0.985286\n",
              "Book 8  0.996527  0.989330  0.994411  ...  0.988924  0.985286  1.000000\n",
              "\n",
              "[8 rows x 8 columns]"
            ]
          },
          "metadata": {
            "tags": []
          },
          "execution_count": 238
        }
      ]
    },
    {
      "cell_type": "code",
      "metadata": {
        "id": "45qkeJbwb2Cc",
        "colab_type": "code",
        "outputId": "44c803fc-567c-4474-bee5-5c70d214748e",
        "colab": {
          "base_uri": "https://localhost:8080/",
          "height": 281
        }
      },
      "source": [
        "for i in range(5):\n",
        "  anne_vectors_lda, characters_as_vectors_lda = train_lda(num_topics = 5)\n",
        "  d = cosine_lda(anne_vectors_lda)\n",
        "  plt.plot(range(8), list(d.iloc[0][:-2]) + [np.mean(d.iloc[0, -2:])])\n",
        "  plt.title(\"LDA-C Cosine Similarity Anne AGG & Anne other\")\n",
        "plt.show()"
      ],
      "execution_count": 239,
      "outputs": [
        {
          "output_type": "display_data",
          "data": {
            "image/png": "[encoded data removed]",
            "text/plain": [
              "<Figure size 432x288 with 1 Axes>"
            ]
          },
          "metadata": {
            "tags": []
          }
        }
      ]
    },
    {
      "cell_type": "code",
      "metadata": {
        "id": "GmNdzVa0txGM",
        "colab_type": "code",
        "colab": {}
      },
      "source": [
        "#Evaluating Doc2Vec \n",
        "#reading human-annotated character relation annotations\n",
        "char_rel_frame = pd.read_csv(direc+\"character_relation_annotations.txt\", sep = \"\\t\")\n",
        "char_rel_frame = char_rel_frame[char_rel_frame[\"title\"]==\"Anne of Green Gables\"]\n",
        "char_rel_frame  = char_rel_frame[char_rel_frame[\"annotator\"]==\"annotator_11\"]"
      ],
      "execution_count": 0,
      "outputs": []
    },
    {
      "cell_type": "code",
      "metadata": {
        "id": "QakUDlU76-WU",
        "colab_type": "code",
        "colab": {}
      },
      "source": [
        "#d2v & lda evaluation\n",
        "\n",
        "def evaluate(model='d2v'):\n",
        "  coarse = char_rel_frame[\"coarse_category\"].unique()\n",
        "  affinity = char_rel_frame[\"affinity\"].unique()\n",
        "  fine = char_rel_frame[\"fine_category\"].unique()\n",
        "  change = char_rel_frame[\"change\"].unique()\n",
        "\n",
        "  criteria = [coarse, affinity, fine, change]\n",
        "  col = [\"coarse_category\", \"affinity\", \"fine_category\", \"change\"]\n",
        "\n",
        "  for n in range(len(criteria)):\n",
        "    for c in criteria[n]:\n",
        "      print(c)\n",
        "      for i in range(len(char_rel_frame[char_rel_frame[col[n]]==c])):\n",
        "        samples = []\n",
        "        false_samples = []\n",
        "        for k in range(100): #100 samples\n",
        "          if model=='d2v':\n",
        "            anne_vectors, characters_as_vectors = train_doc2vec()\n",
        "            random_anne_vectors, random_characters_as_vectors = train_doc2vec(randomise=True)\n",
        "          elif model=='lda':\n",
        "            anne_vectors, characters_as_vectors = train_lda()\n",
        "            random_anne_vectors, random_characters_as_vectors = train_lda(randomise=True)\n",
        "          c1 = find_vector_for_character(characters_as_vectors, [char_rel_frame[char_rel_frame[col[n]]==c].iloc[i][\"character_1\"], char_rel_frame[char_rel_frame[col[n]]==c].iloc[i][\"character_1\"].split()[0]], 0)\n",
        "          c2 = find_vector_for_character(characters_as_vectors, [char_rel_frame[char_rel_frame[col[n]]==c].iloc[i][\"character_2\"], char_rel_frame[char_rel_frame[col[n]]==c].iloc[i][\"character_2\"].split()[0]], 0)\n",
        "          random_c1 = find_vector_for_character(random_characters_as_vectors, [char_rel_frame[char_rel_frame[col[n]]==c].iloc[i][\"character_1\"], char_rel_frame[char_rel_frame[col[n]]==c].iloc[i][\"character_1\"].split()[0]], 0)\n",
        "          random_c2 = find_vector_for_character(random_characters_as_vectors, [char_rel_frame[char_rel_frame[col[n]]==c].iloc[i][\"character_2\"], char_rel_frame[char_rel_frame[col[n]]==c].iloc[i][\"character_2\"].split()[0]], 0)\n",
        "          samples.append(cosine(c1, c2))\n",
        "          false_samples.append(cosine(random_c1, random_c2))\n",
        "        p, mean = ttest_ind(samples, false_samples), np.mean(samples)\n",
        "        if model=='lda':\n",
        "          if c1.shape==(1, 5) and c2.shape==(1, 5):\n",
        "            print(char_rel_frame[char_rel_frame[col[n]]==c].iloc[i][\"character_1\"], char_rel_frame[char_rel_frame[col[n]]==c].iloc[i][\"character_2\"], p, mean)\n",
        "        elif model=='d2v':\n",
        "          if c1.shape==(1, 300) and c2.shape==(1, 300):\n",
        "            print(char_rel_frame[char_rel_frame[col[n]]==c].iloc[i][\"character_1\"], char_rel_frame[char_rel_frame[col[n]]==c].iloc[i][\"character_2\"], p, mean)\n"
      ],
      "execution_count": 0,
      "outputs": []
    },
    {
      "cell_type": "code",
      "metadata": {
        "id": "ZakpYdv2ngSh",
        "colab_type": "code",
        "colab": {}
      },
      "source": [
        "# evaluate()"
      ],
      "execution_count": 0,
      "outputs": []
    },
    {
      "cell_type": "code",
      "metadata": {
        "id": "kU56Z_yMd-cK",
        "colab_type": "code",
        "colab": {}
      },
      "source": [
        "# evaluate(model='lda')"
      ],
      "execution_count": 0,
      "outputs": []
    },
    {
      "cell_type": "code",
      "metadata": {
        "colab_type": "code",
        "id": "LP-iVgQU3lJ4",
        "colab": {}
      },
      "source": [
        "# find_vector_for_character(characters_as_vectors_lda, ['Anne Shirley', 'Anne'])"
      ],
      "execution_count": 0,
      "outputs": []
    },
    {
      "cell_type": "code",
      "metadata": {
        "id": "Ku25c-hi8sHo",
        "colab_type": "code",
        "colab": {}
      },
      "source": [
        "# #using a frequentist approach to show that each character is statistically \n",
        "# #different from the \"mean\"\n",
        "\n",
        "# true_samps_d2v = []\n",
        "# shuff_samps_d2v = []\n",
        "# true_samps_lda = []\n",
        "# shuff_samps_lda = []\n",
        "\n",
        "# n = 5\n",
        "# for i in range(n):\n",
        "#   anne_vectors, characters_as_vectors = train_doc2vec()\n",
        "#   anne_vectors_lda, characters_as_vectors_lda = train_lda()\n",
        "#   anne_vectors_samp, characters_as_vectors_samp = train_doc2vec(randomise=True)\n",
        "#   anne_vectors_lda_samp, characters_as_vectors_lda_samp = train_lda(randomise=True)\n",
        "#   true_samps_d2v.append(cosine_d2v(anne_vectors))\n",
        "#   shuff_samps_d2v.append(cosine_d2v(anne_vectors_samp))\n",
        "#   true_samps_lda.append(cosine_lda(anne_vectors_lda))\n",
        "#   shuff_samps_lda.append(cosine_lda(anne_vectors_lda_samp))"
      ],
      "execution_count": 0,
      "outputs": []
    },
    {
      "cell_type": "code",
      "metadata": {
        "id": "Dh3n_RDUh0vn",
        "colab_type": "code",
        "colab": {}
      },
      "source": [
        "# true_samps_d2v[0]"
      ],
      "execution_count": 0,
      "outputs": []
    },
    {
      "cell_type": "code",
      "metadata": {
        "id": "zKXggIIf8E-d",
        "colab_type": "code",
        "colab": {}
      },
      "source": [
        "# from scipy.stats import ttest_ind\n",
        "# samples_true = np.zeros(shape=(n, len(np.array(true_samps_d2v[0]).flatten())))\n",
        "# samples_shuff = np.zeros(shape=(n, len(np.array(true_samps_d2v[0]).flatten())))\n",
        "# for i in range(len(true_samps_d2v)):\n",
        "#   t = np.array(true_samps_d2v[i]).flatten()\n",
        "#   f = np.array(shuff_samps_d2v[i]).flatten()\n",
        "#   for e in range(len(t)):\n",
        "#     samples_true[i][e] = t[e]\n",
        "#     samples_shuff[i][e] = f[e]\n",
        "\n",
        "# p_vals = []\n",
        "# for k in range(len(np.array(true_samps_d2v[0]).flatten())):\n",
        "#   p_vals.append(ttest_ind(samples_true[:,k], samples_shuff[:,k])[1])\n",
        "\n"
      ],
      "execution_count": 0,
      "outputs": []
    },
    {
      "cell_type": "code",
      "metadata": {
        "id": "h8gZuKvBWJ2N",
        "colab_type": "code",
        "colab": {}
      },
      "source": [
        "# plt.hist(p_vals, bins=81)"
      ],
      "execution_count": 0,
      "outputs": []
    },
    {
      "cell_type": "code",
      "metadata": {
        "id": "zutDAhgEWw2B",
        "colab_type": "code",
        "colab": {}
      },
      "source": [
        "# from scipy.stats import ttest_ind\n",
        "\n",
        "# true_samps_d2v_flat = np.array(true_samps_d2v).flatten()\n",
        "# shuff_samps_d2v = np.array(true_samps_d2v).flatten()\n",
        "# true_samps_lda = []\n",
        "# shuff_samps_lda = []"
      ],
      "execution_count": 0,
      "outputs": []
    },
    {
      "cell_type": "code",
      "metadata": {
        "id": "wNVC1BO7UmU_",
        "colab_type": "code",
        "colab": {}
      },
      "source": [
        ""
      ],
      "execution_count": 0,
      "outputs": []
    },
    {
      "cell_type": "code",
      "metadata": {
        "id": "O9FnECk6oYSN",
        "colab_type": "code",
        "colab": {}
      },
      "source": [
        "#conducting experiments based on hypotheses stated in paper\n",
        "#testing hypothesis 1\n",
        "from scipy.stats import ttest_ind\n",
        "def test_hyp(c1_names, c2_names, model_name, book, n = 50, lemmatize = False):\n",
        "  #using a frequentist approach to show that each character is statistically \n",
        "  #different from the \"mean\"\n",
        "  true_samps = []\n",
        "  shuff_samps = []\n",
        "  for i in range(n):\n",
        "    anne_vectors, characters_as_vectors = model_name(lemmatize = lemmatize)\n",
        "    anne_vectors_samp, characters_as_vectors_samp = model_name(randomise=True, lemmatize = lemmatize)\n",
        "    c1 = np.array(find_vector_for_character(characters_as_vectors, c1_names, book=book))\n",
        "    c2 = np.array(find_vector_for_character(characters_as_vectors, c2_names, book=book))\n",
        "    c1_samp = np.array(find_vector_for_character(characters_as_vectors_samp, c1_names, book=book))\n",
        "    c2_samp = np.array(find_vector_for_character(characters_as_vectors_samp, c2_names, book=book))\n",
        "    true_samps.append(cosine(c1, c2))\n",
        "    shuff_samps.append(cosine(c1_samp, c2_samp))\n",
        "  # samples_true = np.zeros(shape=(n, len(np.array(true_samps[0]).flatten())))\n",
        "  # samples_shuff = np.zeros(shape=(n, len(np.array(shuff_samps[0]).flatten())))\n",
        "  # for i in range(len(true_samps_d2v)):\n",
        "  #   t = np.array(true_samps_d2v[i]).flatten()\n",
        "  #   f = np.array(shuff_samps_d2v[i]).flatten()\n",
        "  #   for e in range(len(t)):\n",
        "  #     samples_true[i][e] = t[e]\n",
        "  #     samples_shuff[i][e] = f[e]\n",
        "\n",
        "  return ttest_ind(true_samps, shuff_samps), np.mean(true_samps)\n",
        "\n",
        "\n"
      ],
      "execution_count": 0,
      "outputs": []
    },
    {
      "cell_type": "code",
      "metadata": {
        "id": "4OCk1aVbrS_d",
        "colab_type": "code",
        "outputId": "17cfef2e-464e-4582-b17c-833694973345",
        "colab": {
          "base_uri": "https://localhost:8080/",
          "height": 136
        }
      },
      "source": [
        "#hyp2 lda #lem false\n",
        "print(\"lda0\")\n",
        "print(test_hyp(anne_names, diana_names, train_lda, 0))\n",
        "print(\"lda4\")\n",
        "print(test_hyp(anne_names, cornelia_names, train_lda, 4))\n",
        "\n",
        "#hyp2 character2vec #lem false\n",
        "print(\"c2v0\")\n",
        "print(test_hyp(anne_names, diana_names, train_doc2vec, 0))\n",
        "print(\"c2v4\")\n",
        "print(test_hyp(anne_names, cornelia_names, train_doc2vec, 4))"
      ],
      "execution_count": 0,
      "outputs": [
        {
          "output_type": "stream",
          "text": [
            "lda0\n",
            "(Ttest_indResult(statistic=array([[11.340325]], dtype=float32), pvalue=array([[1.53829271e-19]])), 0.9212396)\n",
            "lda4\n",
            "(Ttest_indResult(statistic=array([[6.7589073]], dtype=float32), pvalue=array([[1.00556974e-09]])), 0.8676873)\n",
            "c2v0\n",
            "(Ttest_indResult(statistic=array([[-5.5780225]], dtype=float32), pvalue=array([[2.15674076e-07]])), 0.9199376)\n",
            "c2v4\n"
          ],
          "name": "stdout"
        }
      ]
    },
    {
      "cell_type": "code",
      "metadata": {
        "id": "D5K9OvNNma2M",
        "colab_type": "code",
        "colab": {}
      },
      "source": [
        "# test_hyp(anne_names, cornelia_names, train_lda, book = 4)"
      ],
      "execution_count": 0,
      "outputs": []
    },
    {
      "cell_type": "code",
      "metadata": {
        "colab_type": "code",
        "outputId": "9abd87d6-925d-4c24-8b46-b49653bc55bf",
        "id": "ckiZ9XN2l3mc",
        "colab": {
          "base_uri": "https://localhost:8080/",
          "height": 34
        }
      },
      "source": [
        "cosine(np.array(find_vector_for_character(characters_as_vectors, anne_names, 4)), np.array(find_vector_for_character(characters_as_vectors, cornelia_names, 4)))"
      ],
      "execution_count": 260,
      "outputs": [
        {
          "output_type": "execute_result",
          "data": {
            "text/plain": [
              "array([[0.97301435]], dtype=float32)"
            ]
          },
          "metadata": {
            "tags": []
          },
          "execution_count": 260
        }
      ]
    },
    {
      "cell_type": "code",
      "metadata": {
        "id": "RJ8q-R3pYb0Z",
        "colab_type": "code",
        "colab": {}
      },
      "source": [
        "# #hyp2 lda #lem tru\n",
        "# print(\"lda0\")\n",
        "# print(test_hyp(\"Anne Shirley\", \"Diana Barry\", train_lda, 0, lemmatize = True))\n",
        "# print(\"lda4\")\n",
        "# print(test_hyp(\"Anne Shirley\", \"Cornelia Bryant\", train_lda, 4, lemmatize = True))\n",
        "\n",
        "# #hyp2 character2vec #lem tru\n",
        "# print(\"c2v0\")\n",
        "# print(test_hyp(\"Anne Shirley\", \"Diana Barry\", train_doc2vec, 0, lemmatize = True))\n",
        "# print(\"c2v4\")\n",
        "# print(test_hyp(\"Anne Shirley\", \"Cornelia Bryant\", train_doc2vec, 4, lemmatize = True))"
      ],
      "execution_count": 0,
      "outputs": []
    },
    {
      "cell_type": "code",
      "metadata": {
        "id": "9EMhpMD_sER9",
        "colab_type": "code",
        "colab": {}
      },
      "source": [
        "# #hyp1 lda #lem false\n",
        "print(\"lda1\")\n",
        "print(test_hyp(\"Anne Shirley\", \"Davy Keith\", train_lda, 1))\n",
        "print(\"lda5\")\n",
        "print(test_hyp(\"Anne Shirley\", \"Jem Blythe\", train_lda, 5))\n",
        "print(\"lda6\")\n",
        "print(test_hyp(\"Anne Shirley\", \"Jem Blythe\", train_lda, 6))\n",
        "\n",
        "#hyp1 character2vec #lem false\n",
        "print(\"c2v1\")\n",
        "print(test_hyp(\"Anne Shirley\", \"Davy Keith\", train_doc2vec, 1))\n",
        "print(\"c2v5\")\n",
        "print(test_hyp(\"Anne Shirley\", \"Jem Blythe\", train_doc2vec, 5))\n",
        "print(\"c2v6\")\n",
        "print(test_hyp(\"Anne Shirley\", \"Jem Blythe\", train_doc2vec, 6))"
      ],
      "execution_count": 0,
      "outputs": []
    },
    {
      "cell_type": "code",
      "metadata": {
        "id": "sq4a7rUgG6ke",
        "colab_type": "code",
        "outputId": "31079687-9d9f-4914-c27a-a1647df61ea3",
        "colab": {
          "base_uri": "https://localhost:8080/",
          "height": 221
        }
      },
      "source": [
        "# #hyp1 lda #lem t\n",
        "print(\"lda1\")\n",
        "print(test_hyp(\"Anne Shirley\", \"Davy Keith\", train_lda, 1, lemmatize = True))\n",
        "print(\"lda5\")\n",
        "print(test_hyp(\"Anne Shirley\", \"Jem Blythe\", train_lda, 5, lemmatize = True))\n",
        "print(\"lda6\")\n",
        "print(test_hyp(\"Anne Shirley\", \"Jem Blythe\", train_lda, 6, lemmatize = True))\n",
        "\n",
        "#hyp1 character2vec #lem t\n",
        "print(\"c2v1\")\n",
        "print(test_hyp(\"Anne Shirley\", \"Davy Keith\", train_doc2vec, 1, lemmatize = True))\n",
        "print(\"c2v5\")\n",
        "print(test_hyp(\"Anne Shirley\", \"Jem Blythe\", train_doc2vec, 5, lemmatize = True))\n",
        "print(\"c2v6\")\n",
        "print(test_hyp(\"Anne Shirley\", \"Jem Blythe\", train_doc2vec, 6, lemmatize = True))"
      ],
      "execution_count": 0,
      "outputs": [
        {
          "output_type": "stream",
          "text": [
            "lda1\n",
            "(Ttest_indResult(statistic=array([[14.632239]], dtype=float32), pvalue=array([[2.1607687e-26]])), 0.8878376)\n",
            "lda5\n",
            "(Ttest_indResult(statistic=array([[14.46903]], dtype=float32), pvalue=array([[4.59665071e-26]])), 0.7563882)\n",
            "lda6\n",
            "(Ttest_indResult(statistic=array([[2.833201]], dtype=float32), pvalue=array([[0.00559539]])), 0.46379074)\n",
            "c2v1\n",
            "(Ttest_indResult(statistic=array([[0.92037296]], dtype=float32), pvalue=array([[0.35963793]])), 0.9822154)\n",
            "c2v5\n",
            "(Ttest_indResult(statistic=array([[2.913276]], dtype=float32), pvalue=array([[0.00443029]])), 0.99563384)\n",
            "c2v6\n",
            "(Ttest_indResult(statistic=array([[-0.29202995]], dtype=float32), pvalue=array([[0.77088104]])), 0.99928737)\n"
          ],
          "name": "stdout"
        }
      ]
    }
  ]
}