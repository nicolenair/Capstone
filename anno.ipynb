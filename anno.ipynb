{
  "nbformat": 4,
  "nbformat_minor": 0,
  "metadata": {
    "colab": {
      "name": "anno.ipynb",
      "provenance": [],
      "collapsed_sections": [],
      "include_colab_link": true
    },
    "kernelspec": {
      "name": "python3",
      "display_name": "Python 3"
    }
  },
  "cells": [
    {
      "cell_type": "markdown",
      "metadata": {
        "id": "view-in-github",
        "colab_type": "text"
      },
      "source": [
        "<a href=\"https://colab.research.google.com/github/nicolenair/capstone/blob/master/anno.ipynb\" target=\"_parent\"><img src=\"https://colab.research.google.com/assets/colab-badge.svg\" alt=\"Open In Colab\"/></a>"
      ]
    },
    {
      "cell_type": "code",
      "metadata": {
        "id": "JFNja9hpHlws",
        "colab_type": "code",
        "colab": {}
      },
      "source": [
        "from bs4 import BeautifulSoup\n",
        "import requests\n",
        "import numpy as np\n",
        "import pandas as pd\n",
        "import os\n",
        "import re"
      ],
      "execution_count": 0,
      "outputs": []
    },
    {
      "cell_type": "code",
      "metadata": {
        "id": "A0qWsedTHqym",
        "colab_type": "code",
        "outputId": "0715c5df-2bcb-45be-ee5c-198925d5334d",
        "colab": {
          "base_uri": "https://localhost:8080/",
          "height": 125
        }
      },
      "source": [
        "from google.colab import drive\n",
        "drive.mount('/content/gdrive')"
      ],
      "execution_count": 0,
      "outputs": [
        {
          "output_type": "stream",
          "text": [
            "Go to this URL in a browser: https://accounts.google.com/o/oauth2/auth?client_id=947318989803-6bn6qk8qdgf4n4g3pfee6491hc0brc4i.apps.googleusercontent.com&redirect_uri=urn%3Aietf%3Awg%3Aoauth%3A2.0%3Aoob&scope=email%20https%3A%2F%2Fwww.googleapis.com%2Fauth%2Fdocs.test%20https%3A%2F%2Fwww.googleapis.com%2Fauth%2Fdrive%20https%3A%2F%2Fwww.googleapis.com%2Fauth%2Fdrive.photos.readonly%20https%3A%2F%2Fwww.googleapis.com%2Fauth%2Fpeopleapi.readonly&response_type=code\n",
            "\n",
            "Enter your authorization code:\n",
            "··········\n",
            "Mounted at /content/gdrive\n"
          ],
          "name": "stdout"
        }
      ]
    },
    {
      "cell_type": "code",
      "metadata": {
        "id": "0XBAwdq5HtkU",
        "colab_type": "code",
        "outputId": "20c9adf3-cbed-4476-8769-89cea2f78ed0",
        "colab": {
          "base_uri": "https://localhost:8080/",
          "height": 301
        }
      },
      "source": [
        "import os\n",
        "os.listdir(\"/content/gdrive/My Drive/Nicole-Internship-Complete-Folder/chatbot - all/chatbot-flask/\")"
      ],
      "execution_count": 0,
      "outputs": [
        {
          "output_type": "execute_result",
          "data": {
            "text/plain": [
              "['templates',\n",
              " 'static',\n",
              " '.DS_Store',\n",
              " 'chat.py',\n",
              " 'dec_supreme.txt',\n",
              " 'enc_supreme.txt',\n",
              " 'train.dec.txt',\n",
              " 'test.enc.txt',\n",
              " 'test.dec.txt',\n",
              " 'train.enc.txt',\n",
              " 'model-eng-dec.bin',\n",
              " 'model-eng-enc.bin',\n",
              " 'GoogleNews-vectors-negative300.bin.gz',\n",
              " 'model-eng-dec_emb.bin',\n",
              " 'model-eng-enc_emb.bin',\n",
              " 'chat_emb.py']"
            ]
          },
          "metadata": {
            "tags": []
          },
          "execution_count": 4
        }
      ]
    },
    {
      "cell_type": "code",
      "metadata": {
        "id": "fi4i5It1HvY8",
        "colab_type": "code",
        "colab": {}
      },
      "source": [
        "books = [\"gables\", \"avonlea\", \"island\", \"dreams\"]\n",
        "urls = [\"https://www.gutenberg.org/files/45/45-0.txt\", \"https://www.gutenberg.org/files/47/47-0.txt\", \"https://www.gutenberg.org/files/51/51-0.txt\", \"http://www.gutenberg.org/cache/epub/544/pg544.txt\"]\n",
        "\n",
        "for i in range(len(books)):\n",
        "    page = requests.get(urls[i])\n",
        "    file = open(\"{}.txt\".format(books[i]) , \"w+\")\n",
        "    file.write(page.text)\n",
        "    file.close()\n",
        "\n",
        "file = open(\"gables.txt\", \"r\")\n",
        "gables = file.read()\n",
        "file = open(\"avonlea.txt\", \"r\")\n",
        "avonlea = file.read()\n",
        "file = open(\"island.txt\", \"r\")\n",
        "island = file.read()\n",
        "file = open(\"dreams.txt\", \"r\")\n",
        "dreams = file.read()"
      ],
      "execution_count": 0,
      "outputs": []
    },
    {
      "cell_type": "code",
      "metadata": {
        "id": "w3IrG3WlHxi5",
        "colab_type": "code",
        "colab": {}
      },
      "source": [
        "#returns list of paragraphs in a book that can be innputted into train_classifier\n",
        "def paragraph_list(book):\n",
        "    current_total = 0\n",
        "    chapter_lengths = []\n",
        "    full_para_list = []\n",
        "    lengths = [38, 0, 40, 0]\n",
        "    if book==gables:\n",
        "        n_chap = lengths[0]\n",
        "    elif book == dreams:\n",
        "        n_chap = lengths[2]\n",
        "    for i in range(1, n_chap):\n",
        "        if book == dreams:\n",
        "            index_c1 = book[re.search(\"CHAPTER {}\".format(i), book).span()[0] + 11: re.search(\"CHAPTER {}\".format(i + 1), book).span()[0]]\n",
        "        if book == gables:\n",
        "            nums = [\"I\", \"II\",\"III\",\"IV\",\"V\", \"VI\", \"VII\", \"VIII\", \"IX\", \"X\", \"XI\", \"XII\", \"XIII\",\"XIV\", \"XV\", \"XVI\", \"XVII\", \"XVIII\", \"XIX\", \"XX\", \"XXI\", \"XXII\", \"XXIII\", \"XXIV\", \"XXV\", \"XXVI\",\"XXVII\" ,\"XXVIII\",\"XXIX\", \"XXX\", \"XXXI\", \"XXXII\", \"XXXIII\",\"XXXIV\", \"XXXV\" ,\"XXXVI\", \"XXXVII\", \"XXXVIII\"]\n",
        "            first1 = re.search(\"CHAPTER {}\\W\".format(nums[i-1]), gables).span()[0]\n",
        "            first2 = re.search(\"CHAPTER {}\\W\".format(nums[i]), gables).span()[0]\n",
        "            index_c1 = gables[re.search(\"CHAPTER {}\\W\".format(nums[i-1]), gables[first1 + 1:]).span()[0] + first1: re.search(\"CHAPTER {}\\W\".format(nums[i]), gables[first2 + 1:]).span()[0] + first2]\n",
        "        index_c1 = re.sub(\"(\\n)(\\w)\", \" \\g<2>\", index_c1)\n",
        "        \n",
        "        chapter_lengths.append(len(index_c1) - current_total)\n",
        "        split_para_c1 = [s.strip() for s in index_c1.splitlines() if len(s)>10]\n",
        "        full_para_list.append(split_para_c1)\n",
        "        current_total += len(index_c1)  \n",
        "        \n",
        "    return full_para_list\n",
        "\n",
        "full_para_list = paragraph_list(dreams)\n",
        "\n",
        "#data set, be very careful with cell!!!\n",
        "\n",
        "\n",
        "\n",
        "def remove_names(full_para_list, target):\n",
        "    for o, i in enumerate(full_para_list):\n",
        "        for t, e in enumerate(i):\n",
        "            for k in name_mapping.keys():\n",
        "                if target[o][t]==name_mapping[k]:\n",
        "                    full_para_list[o][t] = re.sub(k, \"\", full_para_list[o][t])\n",
        "                    full_para_list[o][t] = re.sub(k.lower(), \"\", full_para_list[o][t])\n",
        "    return full_para_list\n",
        "#have a more comprehensive way names could appear\n",
        "#also try to do the said thing, rather than just removing all names\n",
        "\n",
        "# full_para_list = remove_names(full_para_list[:10], target_dreams)"
      ],
      "execution_count": 0,
      "outputs": []
    },
    {
      "cell_type": "code",
      "metadata": {
        "id": "tIDRWu3HH2Z3",
        "colab_type": "code",
        "colab": {}
      },
      "source": [
        "full_para_list_gables = paragraph_list(gables)\n",
        "full_para_list_dreams = paragraph_list(dreams)"
      ],
      "execution_count": 0,
      "outputs": []
    },
    {
      "cell_type": "code",
      "metadata": {
        "id": "ZlMIsa4EH4Qn",
        "colab_type": "code",
        "colab": {}
      },
      "source": [
        "def return_target(book):\n",
        "  #name_mapping = {\"narrator\":0, \"Anne\":1, \"Rachel\":2, \"Marilla\":3, \"Gilbert\":4, \"Captain Jim\":5, \"Diana\":6, \"Mrs. Harmon Andrews\":7, \"Mrs. Jasper\":8, \"Paul\":9, \"Charlotta the Fourth\":10, \"Philippa\":11, \"Miss Patty\":12, \"Mrs. Doctor\":13, \"Doctor Dave\":14, \"Cornelia\":15, \"Leslie\":16, \"unnamed char\": 17, \"Matthew\":18, \"Mrs. Spencer\":19, \"Mrs. Barry\":20, \"Mr Philips\": 21, \"Charlie Sloane\":22, \"Aunt Josephine\":23, \"Mrs Allan\":24}\n",
        "  if book == \"gables\":\n",
        "    return [[0, 0, 0, 0, 0, 0, 0, 0, 2, 0, 0, 0, 3, 0, 0, 2, 0, 3, 0, 2, 3, 0, 2, 0, 3, 3, 0, 2, 0, 3, 2, 3, 0, 2, 0],\n",
        "                 [0, 0, 0, 0, 0, 0, 0, 0, 17, 0, 17, 18, 17, 0, 0, 0, 0, 1, 0, 18, 1, 0, 0, 1, 18, 1, 18, 1, 18, 1, 0, 18, 1, 18, 1, 18, 1, 0, 18, 0, 1, 18, 1, 18, 1, 18, 1, 0, 0, 0, 18, 0, 1, 18, 1, 18, 1, 0, 18, 1, 0, 18, 1, 18, 1, 18, 1, 18, 1, 0, 18, 1, 0, 1, 0, 18, 1, 0,0, 1, 0], \n",
        "                 [0, 0, 3, 18, 0, 3, 18, 3, 0, 1, 0, 3, 1, 0, 3, 0, 1, 3, 1, 3, 1, 3, 1, 3, 1, 3, 1, 3, 18, 18, 3, 1, 3, 0, 3, 1, 3, 1, 3, 1, 18, 0, 0, 3, 0, 1, 3, 0, 0, 3, 0, 1, 0, 0, 3, 18, 3, 18, 3, 0, 18, 3, 18, 3, 18, 18, 3, 18, 3, 18, 0],\n",
        "                 [0, 0, 0, 0, 0, 0, 0, 0, 0, 0, 3, 0, 0, 1, 3, 1, 3, 3, 0, 1, 3, 0, 0, 0, 0, 3, 1, 3, 1, 3, 3, 0, 0, 3, 1, 3, 1, 3, 1, 3, 0, 3, 0, 3, 0, 0, 3, 0], \n",
        "                 [0, 1, 3, 0, 1, 3, 1, 3, 1, 3, 1, 3, 1, 3, 1, 1, 1, 0, 3, 1, 3, 0, 3, 0, 1, 3, 1, 1], \n",
        "                 [0, 0, 19, 1, 3, 1, 19, 19, 17, 19, 3, 19, 0, 0, 19, 19, 0, 0, 19, 19, 0, 17, 17, 0, 3, 17, 0, 1, 3, 1, 0, 3, 1, 0, 0, 18, 3, 0, 18, 3, 18, 0, 3],\n",
        "                 [0, 0, 3, 1, 3, 1, 0, 3, 1, 0, 3, 1, 3, 1, 0, 3, 1, 3, 0, 1, 0, 3, 1, 1, 1, 1, 1, 1, 1, 1, 1, 1, 1, 1, 1, 1, 0, 1, 3, 1, 0, 18],\n",
        "           [0, 0, 0, 1, 3, 0, 1, 3, 1, 3, 1, 3, 1, 3, 1, 3, 1, 1, 3, 1, 3, 0, 3, 0, 1, 3, 0, 1, 3, 0, 1, 3, 0, 1, 3, 1, 3, 0, 1, 3, 0, 0, 1, 3, 1, 3, 1, 3, 1, 3, 1, 3, 0, 1, 0, 1, 0, 1, 0],\n",
        "           [0, 0, 0, 0, 0, 0, 0, 0, 2, 3, 2, 3, 0, 2, 3, 0, 2, 0, 0, 1, 2, 0, 1, 0, 2, 3, 0, 2, 0, 3, 2, 3, 0, 2, 0, 0, 0, 3, 0, 3, 0, 3, 1, 3, 1, 3, 1, 0, 3, 1, 3, 0, 1, 3, 0],\n",
        "           [0, 0, 18, 3, 18, 3, 3, 0, 0, 0, 0, 18, 0, 1, 0, 0, 1, 18, 1, 18, 1, 18, 1, 0, 3, 1, 3, 0, 3, 1, 0, 0, 1, 0, 0, 0, 2, 1, 2, 0, 2, 0, 1, 3, 3, 1, 1, 3, 1, 3, 3, 0, 1, 0, 3, 1, 3],\n",
        "           [0, 3, 1, 0, 1, 3, 1, 3, 1, 3, 1, 3, 1, 3, 0, 1, 0, 3, 0, 0, 0, 0, 3, 1, 3, 0, 1, 3, 1, 3, 1, 3, 1, 1, 1, 1, 0],\n",
        "           [0, 0, 3, 1, 3, 1, 0, 3, 1, 3, 0, 1, 3, 0, 1, 0, 20, 3, 1, 0, 20, 1, 6, 20, 0, 0, 1, 0, 6, 1, 0, 6, 1, 6, 1, 6, 1, 0, 6, 0, 3, 1, 3, 0, 18, 3, 1, 3],\n",
        "           [0, 3, 0, 1, 3, 1, 3, 1, 3, 1, 3, 1, 0, 3, 1, 3, 0, 0, 1, 3, 1, 1, 0, 0, 1], \n",
        "           [0, 0, 3, 1, 3, 1, 3, 1, 3, 1, 3, 0, 3, 1, 0, 3, 1, 3, 0, 3, 0, 0, 18, 3, 18, 3, 18, 0, 3, 1, 3, 1, 0, 0, 1, 3, 1, 0, 3, 1, 3, 1, 0, 3, 0, 3, 0, 0, 3, 1, 0, 18, 3, 18, 3, 0, 0, 0, 3, 0, 3, 1, 0, 3, 0, 1, 3, 1, 0,  1, 0, 3],\n",
        "           [0, 1, 6, 0, 0, 0, 0, 0, 1, 0, 0, 0, 0, 1, 3, 1, 3, 0, 6, 0, 1, 6, 1,0, 6, 1, 6, 1, 6, 6, 0, 1, 0, 0, 0, 0, 0, 4, 0, 0, 1, 0, 0, 0, 21, 4, 0, 21, 0, 0, 0, 0, 4, 6, 1, 0, 6, 1, 0, 0, 0, 0, 0, 0, 21, 0, 21, 1, 21, 0, 0, 0, 0, 6, 1, 6, 1, 6, 1, 6, 0, 3, 1, 3, 1, 0, 0, 3, 0, 2, 3, 2, 3, 2, 0, 0, 0, 3, 1, 0, 3, ],\n",
        "           [0, 0, 0, 3, 3, 1, 3, 1, 3, 1, 3, 1, 3, 0, 1, 6, 1, 6, 1, 0, 0, 0, 1, 0, 6, 1, 0, 6, 1, 0, 6, 1, 6, 1, 6, 1, 6, 0, 0, 3, 0, 3, 0, 0, 0, 3, 1, 3, 0, 3, 1, 3, 1, 3, 1, 1, 3, 0, 1, 3, 0, 0, 20, 0, 1, 0, 20, 0, 1, 20, 0, 1, 3, 0, 3], \n",
        "           [0, 0, 1, 0, 6, 1, 6, 1, 6, 1, 6, 1, 6, 1, 1, 0, 1, 3, 0, 1, 3, 1, 0, 0, 0, 0, 0, 1, 0, 29, 29, 0, 6, 6, 6, 6, 0, 1, 1, 1, 1, 1, 0, 0, 1, 0, 1],\n",
        "           [0, 0, 0, 0, 1, 18, 1, 18, 0, 1, 18, 1, 18, 1, 18, 0, 1, 18, 1, 18, 0, 1, 6, 0, 1, 1, 6, 1, 0, 0, 0, 0, 0, 0, 0, 1, 17, 17, 0, 1, 18, 0, 1, 3, 0, 3, 0, 1, 3, 0, 1, 1, 6, 6, 1, 3, 1],\n",
        "           [0, 1, 3, 1, 3, 1, 3, 1, 3, 0, 1, 3, 1, 3, 1, 3, 1, 3, 0, 18, 3, 18, 3, 18, 3, 18, 18, 0, 3, 0, 1, 3, 1, 0, 0, 0, 0,0,  1, 6, 0, 0, 0, 6, 1, 6, 6, 6, 1, 0, 23, 0, 1, 6, 1, 6, 0, 20, 0, 2, 1, 2, 1, 2, 1, 2, 2, 0, 1, 6, 1, 6, 1, 0, 6, 1, 6, 0, 1, 23, 1, 23, 1, 23, 1, 0, 23, 1, 0, 23, 1, 23, 0, 23, 3, 18, 23, 0, 23, 1], \n",
        "           [0, 0, 1, 3, 0, 1, 0, 0, 1, 3, 0, 1, 3, 1, 3, 1, 3, 1, 3, 1, 3, 1, 0, 3, 1, 3, 1, 3, 1, 3, 1, 3, 0, 1, 3, 0, 3, 1],\n",
        "           [0, 1, 3, 1, 1, 0, 0, 1, 0, 1, 3, 0, 3, 1, 3, 1, 3, 0, 1, 6, 1, 6, 1, 0, 1, 3, 0, 1, 3, 1, 3, 0, 3, 0, 0, 3, 24, 0, 0, 1, 3, 1, 3, 0, 0, 3, 0, 1, 0, 1, 24, 0, 24, 1, 24, 0, 1, 3, 1, 3, 1, 3], \n",
        "           [0, 3, 1, 3, 0, 0, 0, 3, 1, 0, 0, 1],\n",
        "           [0, 0, 0, 1, 0, 0, 0, 0, 0, 1, 25, 1, 25, 0, 6, 1, 0, ]]\n",
        "  elif book == \"dreams\":\n",
        "    return [[0, 1, 0, 0, 6, 1, 0, 6, 0, 1, 6, 1, 6, 1, 6, 1, 6, 1, 6, 1, 6, 1, 6, 1, 6, 1, 6, 6, 1, 6, 0, 1, 6, 1], \n",
        "          [0, 0, 3, 2, 0, 2, 2, 3, 3, 2, 3, 0, 0, 7, 1, 7, 8, 0, 4, 1, 4 ,4, 1, 4, 4, 1, 4, 1, 4, 1, 4, 1, 4, 1], \n",
        "          [0, 2, 1, 3, 1, 3, 1, 2, 1, 2, 1, 2, 1, 2, 1, 2, 0, 1, 2, 1, 2, 1, 2, 1, 0, 2, 1, 2, 2, 3, 2, 0,  0, 1, 9, 0, 1, 9, 1, 0, 10, 1, 10, 1, 10,0, 11, 1, 11, 1,11, 1,11,  1, 11, 1, 11, 12,1,0, 1, 1,0, 4, 1, 4, 1, 4, 1, 4, 1, 0],\n",
        "          [0, 0, 1, 0, 0, 6, 3, 0, 2, 3, 6, 2, 6, 2, 1, 1, 2, 0, 0, 0], \n",
        "          [0, 0, 0, 1, 4, 1, 4, 0, 1, 0, 1, 4, 1, 4, 1, 1, 4, 1, 4, 0, 0, 4 ],\n",
        "          [0, 0, 13, 0, 1, 1, 1, 0, 1, 0, 4, 0, 5, 0, 5, 0, 0, 0, 0, 5, 5, 14, 5, 13, 5, 13, 5, 13, 5, 13, 5, 1, 5, 0, 5, 5, 5, 14, 5, 5, 0, 4, 0, 5, 14, 4, 5, 13, 5],\n",
        "          [0, 1, 4, 5, 1, 5, 5, 0, 5, 5, 5, 5, 5, 4, 14, 5, 5, 14, 5, 5, 5, 5, 5, 14, 1, 5, 5, 5, 5, 0, 5, 5, 5, 5, 5, 5, 5, 5, 5, 4, 1, 14, 5, 5, 1, 5, 5, 1, 5, 0, 1, 5, 0, 5, 1, 5, 1, 1, 5, 1, 5, 1, 1, 5, 5, 0, 5, 5, 13, 5, 0, 1],\n",
        "          [0, 0, 1, 4, 1, 0, 1, 4, 0, 1, 4, 1, 4, 4, 0, 1, 4, 1, 4, 1, 0, 0, 15, 0, 15, 0, 15, 1, 15, 1, 15, 1, 15, 1, 15, 1, 15, 1, 15, 1, 15, 1, 15, 1, 15, 1, 0, 15, 0, 1, 15, 1, 15, 1, 15, 15, 15, 1, 0, 15, 1, 15, 1, 15, 1, 15, 1, 15, 1, 15, 15, 0, 15, 1, 15, 1, 15, 1, 15, 0, 1, 15, 1, 15], \n",
        "          [0, 0, 5, 0, 5, 5, 0, 5, 0, 1, 4, 1, 0, 1, 0, 4, 1, 4, 1, 0, 0, 5, 0, 5, 0, 5, 0, 5, 1, 0, 5, 4, 0, 5, 1, 5, 1, 5, 0, 5, 4, 5, 1, 5, 4, 0, 5, 0, 0, 0, 0, 0, 5, 5, 1, 1, 1, 0, 5, 0, 4, 1, 4, 1, 0], \n",
        "           [0, 1, 0, 1, 1, 0, 0, 1, 16, 0, 1, 16, 0, 1, 16, 1, 1, 16, 1, 16, 0, 16, 1, 16, 1, 16, 1, 16, 1, 16, 1, 16, 1, 16, 0, 1, 16, 1, 16, 1, 16, 0, 16, 1, 16, 1, 16, 1, 16, 0, 1, 16, 1, 0, 16, 0, 1, 16, 1, 16, 0, 4, 1, 4, 1, 4, 4, 1]]\n",
        "  \n"
      ],
      "execution_count": 0,
      "outputs": []
    },
    {
      "cell_type": "code",
      "metadata": {
        "id": "3uLjQrFERflC",
        "colab_type": "code",
        "outputId": "8b68b103-09b1-438e-8fe4-a38757b9ac28",
        "colab": {
          "base_uri": "https://localhost:8080/",
          "height": 54
        }
      },
      "source": [
        "full_para_list_gables[22][17]\n",
        "                        "
      ],
      "execution_count": 512,
      "outputs": [
        {
          "output_type": "execute_result",
          "data": {
            "text/plain": [
              "'If Anne had tumbled off the roof on the side up which she had ascended Diana would probably have fallen heir to the pearl bead ring then and there. Fortunately she fell on the other side, where the roof extended down over the porch so nearly to the ground that a fall therefrom was a much less serious thing. Nevertheless, when Diana and the other girls had rushed frantically around the house--except Ruby Gillis, who remained as if rooted to the ground and went into hysterics--they found Anne lying all white and limp among the wreck and ruin of the Virginia creeper.'"
            ]
          },
          "metadata": {
            "tags": []
          },
          "execution_count": 512
        }
      ]
    },
    {
      "cell_type": "code",
      "metadata": {
        "id": "ZSDBH6utDjsl",
        "colab_type": "code",
        "outputId": "c4d7406d-ba9b-454c-f38b-c78dad6371f0",
        "colab": {
          "base_uri": "https://localhost:8080/",
          "height": 34
        }
      },
      "source": [
        "len(full_para_list_gables)"
      ],
      "execution_count": 0,
      "outputs": [
        {
          "output_type": "execute_result",
          "data": {
            "text/plain": [
              "37"
            ]
          },
          "metadata": {
            "tags": []
          },
          "execution_count": 96
        }
      ]
    }
  ]
}