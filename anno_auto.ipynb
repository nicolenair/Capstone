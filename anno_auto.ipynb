{
  "nbformat": 4,
  "nbformat_minor": 0,
  "metadata": {
    "colab": {
      "name": "anno_auto.ipynb",
      "provenance": [],
      "collapsed_sections": [],
      "include_colab_link": true
    },
    "kernelspec": {
      "name": "python3",
      "display_name": "Python 3"
    }
  },
  "cells": [
    {
      "cell_type": "markdown",
      "metadata": {
        "id": "view-in-github",
        "colab_type": "text"
      },
      "source": [
        "<a href=\"https://colab.research.google.com/github/nicolenair/capstone/blob/master/anno_auto.ipynb\" target=\"_parent\"><img src=\"https://colab.research.google.com/assets/colab-badge.svg\" alt=\"Open In Colab\"/></a>"
      ]
    },
    {
      "cell_type": "code",
      "metadata": {
        "id": "2VmAOqYaqiHL",
        "colab_type": "code",
        "colab": {
          "base_uri": "https://localhost:8080/",
          "height": 301
        },
        "outputId": "38d5c2cc-0fd2-4fb9-b6e1-3bcc1a850a67"
      },
      "source": [
        "!pip install stanfordnlp"
      ],
      "execution_count": 5,
      "outputs": [
        {
          "output_type": "stream",
          "text": [
            "Collecting stanfordnlp\n",
            "\u001b[?25l  Downloading https://files.pythonhosted.org/packages/41/bf/5d2898febb6e993fcccd90484cba3c46353658511a41430012e901824e94/stanfordnlp-0.2.0-py3-none-any.whl (158kB)\n",
            "\u001b[K     |████████████████████████████████| 163kB 2.8MB/s \n",
            "\u001b[?25hRequirement already satisfied: tqdm in /usr/local/lib/python3.6/dist-packages (from stanfordnlp) (4.28.1)\n",
            "Requirement already satisfied: protobuf in /usr/local/lib/python3.6/dist-packages (from stanfordnlp) (3.7.1)\n",
            "Requirement already satisfied: requests in /usr/local/lib/python3.6/dist-packages (from stanfordnlp) (2.21.0)\n",
            "Requirement already satisfied: numpy in /usr/local/lib/python3.6/dist-packages (from stanfordnlp) (1.16.5)\n",
            "Requirement already satisfied: torch>=1.0.0 in /usr/local/lib/python3.6/dist-packages (from stanfordnlp) (1.1.0)\n",
            "Requirement already satisfied: six>=1.9 in /usr/local/lib/python3.6/dist-packages (from protobuf->stanfordnlp) (1.12.0)\n",
            "Requirement already satisfied: setuptools in /usr/local/lib/python3.6/dist-packages (from protobuf->stanfordnlp) (41.2.0)\n",
            "Requirement already satisfied: idna<2.9,>=2.5 in /usr/local/lib/python3.6/dist-packages (from requests->stanfordnlp) (2.8)\n",
            "Requirement already satisfied: certifi>=2017.4.17 in /usr/local/lib/python3.6/dist-packages (from requests->stanfordnlp) (2019.6.16)\n",
            "Requirement already satisfied: chardet<3.1.0,>=3.0.2 in /usr/local/lib/python3.6/dist-packages (from requests->stanfordnlp) (3.0.4)\n",
            "Requirement already satisfied: urllib3<1.25,>=1.21.1 in /usr/local/lib/python3.6/dist-packages (from requests->stanfordnlp) (1.24.3)\n",
            "Installing collected packages: stanfordnlp\n",
            "Successfully installed stanfordnlp-0.2.0\n"
          ],
          "name": "stdout"
        }
      ]
    },
    {
      "cell_type": "code",
      "metadata": {
        "id": "UIVqPybhrf-E",
        "colab_type": "code",
        "colab": {}
      },
      "source": [
        "from bs4 import BeautifulSoup\n",
        "import requests\n",
        "import numpy as np\n",
        "import pandas as pd\n",
        "import os\n",
        "import re\n",
        "import stanfordnlp"
      ],
      "execution_count": 0,
      "outputs": []
    },
    {
      "cell_type": "code",
      "metadata": {
        "id": "Z3i7yrFbq3Rz",
        "colab_type": "code",
        "colab": {}
      },
      "source": [
        "books = [\"gables\", \"avonlea\", \"island\", \"dreams\"]\n",
        "urls = [\"https://www.gutenberg.org/files/45/45-0.txt\", \"https://www.gutenberg.org/files/47/47-0.txt\", \"https://www.gutenberg.org/files/51/51-0.txt\", \"http://www.gutenberg.org/cache/epub/544/pg544.txt\"]\n",
        "\n",
        "for i in range(len(books)):\n",
        "    page = requests.get(urls[i])\n",
        "    file = open(\"{}.txt\".format(books[i]) , \"w+\")\n",
        "    file.write(page.text)\n",
        "    file.close()\n",
        "\n",
        "file = open(\"gables.txt\", \"r\")\n",
        "gables = file.read()\n",
        "file = open(\"avonlea.txt\", \"r\")\n",
        "avonlea = file.read()\n",
        "file = open(\"island.txt\", \"r\")\n",
        "island = file.read()\n",
        "file = open(\"dreams.txt\", \"r\")\n",
        "dreams = file.read()"
      ],
      "execution_count": 0,
      "outputs": []
    },
    {
      "cell_type": "code",
      "metadata": {
        "id": "iTnv1MP6q7j0",
        "colab_type": "code",
        "colab": {}
      },
      "source": [
        "#returns list of paragraphs in a book that can be innputted into train_classifier\n",
        "def paragraph_list(book):\n",
        "    current_total = 0\n",
        "    chapter_lengths = []\n",
        "    full_para_list = []\n",
        "    lengths = [38, 0, 40, 0]\n",
        "    if book==gables:\n",
        "        n_chap = lengths[0]\n",
        "    elif book == dreams:\n",
        "        n_chap = lengths[2]\n",
        "    for i in range(1, n_chap):\n",
        "        if book == dreams:\n",
        "            index_c1 = book[re.search(\"CHAPTER {}\".format(i), book).span()[0] + 11: re.search(\"CHAPTER {}\".format(i + 1), book).span()[0]]\n",
        "        if book == gables:\n",
        "            nums = [\"I\", \"II\",\"III\",\"IV\",\"V\", \"VI\", \"VII\", \"VIII\", \"IX\", \"X\", \"XI\", \"XII\", \"XIII\",\"XIV\", \"XV\", \"XVI\", \"XVII\", \"XVIII\", \"XIX\", \"XX\", \"XXI\", \"XXII\", \"XXIII\", \"XXIV\", \"XXV\", \"XXVI\",\"XXVII\" ,\"XXVIII\",\"XXIX\", \"XXX\", \"XXXI\", \"XXXII\", \"XXXIII\",\"XXXIV\", \"XXXV\" ,\"XXXVI\", \"XXXVII\", \"XXXVIII\"]\n",
        "            first1 = re.search(\"CHAPTER {}\\W\".format(nums[i-1]), gables).span()[0]\n",
        "            first2 = re.search(\"CHAPTER {}\\W\".format(nums[i]), gables).span()[0]\n",
        "            index_c1 = gables[re.search(\"CHAPTER {}\\W\".format(nums[i-1]), gables[first1 + 1:]).span()[0] + first1: re.search(\"CHAPTER {}\\W\".format(nums[i]), gables[first2 + 1:]).span()[0] + first2]\n",
        "        index_c1 = re.sub(\"(\\n)(\\w)\", \" \\g<2>\", index_c1)\n",
        "        \n",
        "        chapter_lengths.append(len(index_c1) - current_total)\n",
        "        split_para_c1 = [s.strip() for s in index_c1.splitlines() if len(s)>10]\n",
        "        full_para_list.append(split_para_c1)\n",
        "        current_total += len(index_c1)  \n",
        "        \n",
        "    return full_para_list\n",
        "\n",
        "full_para_list = paragraph_list(dreams)\n",
        "\n",
        "#data set, be very careful with cell!!!\n",
        "\n",
        "\n",
        "\n",
        "def remove_names(full_para_list, target):\n",
        "    for o, i in enumerate(full_para_list):\n",
        "        for t, e in enumerate(i):\n",
        "            for k in name_mapping.keys():\n",
        "                if target[o][t]==name_mapping[k]:\n",
        "                    full_para_list[o][t] = re.sub(k, \"\", full_para_list[o][t])\n",
        "                    full_para_list[o][t] = re.sub(k.lower(), \"\", full_para_list[o][t])\n",
        "    return full_para_list\n",
        "#have a more comprehensive way names could appear\n",
        "#also try to do the said thing, rather than just removing all names\n",
        "\n",
        "full_para_list_dreams = paragraph_list(dreams)\n",
        "full_para_list_gables = paragraph_list(gables)"
      ],
      "execution_count": 0,
      "outputs": []
    },
    {
      "cell_type": "code",
      "metadata": {
        "id": "jOCir2n1refa",
        "colab_type": "code",
        "colab": {}
      },
      "source": [
        "stanfordnlp.download('en')   # This downloads the English models for the neural pipeline\n",
        "nlp = stanfordnlp.Pipeline() # This sets up a default neural pipeline in English"
      ],
      "execution_count": 0,
      "outputs": []
    },
    {
      "cell_type": "code",
      "metadata": {
        "id": "MFHfe3eur3qS",
        "colab_type": "code",
        "colab": {
          "base_uri": "https://localhost:8080/",
          "height": 514
        },
        "outputId": "e1224b9a-f234-4f72-fd24-8f31573c8982"
      },
      "source": [
        ""
      ],
      "execution_count": 47,
      "outputs": [
        {
          "output_type": "stream",
          "text": [
            "('You', '3', 'nsubj')\n",
            "('may', '3', 'aux')\n",
            "('copy', '0', 'root')\n",
            "('it', '3', 'obj')\n",
            "(',', '6', 'punct')\n",
            "('give', '3', 'conj')\n",
            "('it', '6', 'obj')\n",
            "('away', '6', 'advmod')\n",
            "('or', '10', 'cc')\n",
            "('re-use', '6', 'conj')\n",
            "('it', '10', 'obj')\n",
            "('under', '14', 'case')\n",
            "('the', '14', 'det')\n",
            "('terms', '10', 'obl')\n",
            "('of', '19', 'case')\n",
            "('the', '19', 'det')\n",
            "('Project', '19', 'compound')\n",
            "('Gutenberg', '19', 'compound')\n",
            "('License', '14', 'nmod')\n",
            "('included', '19', 'acl')\n",
            "('with', '23', 'case')\n",
            "('this', '23', 'det')\n",
            "('eBook', '20', 'obl')\n",
            "('or', '25', 'cc')\n",
            "('online', '23', 'conj')\n",
            "('at', '27', 'case')\n",
            "('www.gutenberg.org', '23', 'nmod')\n",
            "('.', '3', 'punct')\n"
          ],
          "name": "stdout"
        }
      ]
    },
    {
      "cell_type": "code",
      "metadata": {
        "colab_type": "code",
        "id": "fY1Uf1CY5Uqt",
        "colab": {}
      },
      "source": [
        "#agent\n",
        "\n",
        "def return_nsubj(book, character=\"Anne\"):\n",
        "  sentences_with_agent_Anne = []\n",
        "  sentences_with_agent = []\n",
        "  if book==\"gables\":\n",
        "    doc = nlp(gables)\n",
        "  elif book==\"dreams\":\n",
        "    doc = nlp(dreams)\n",
        "  for i in list(doc.sentences):\n",
        "    for e in i.dependencies:\n",
        "  #       print(e[1])\n",
        "      if e[1]==\"nsubj\" or e[1]==\"agent\" :\n",
        "        if e[2].text==character:\n",
        "          sentences_with_agent_Anne.append(\" \".join([i.dependencies[a][2].text for a in range(len(i.dependencies)) if i.dependencies[a][2].text!=character]))\n",
        "        else:\n",
        "          sentences_with_agent.append(\" \".join([i.dependencies[a][2].text for a in range(len(i.dependencies)) if i.dependencies[a][2].text!=character]))\n",
        "  target = []\n",
        "  target.extend([[1] for i in range(len(sentences_with_agent_Anne))])\n",
        "  target.extend([[0] for i in range(len(sentences_with_agent))])\n",
        "  sentences = []\n",
        "  sentences.extend([[i] for i in sentences_with_agent_Anne])\n",
        "  sentences.extend([[i] for i in sentences_with_agent])\n",
        "  return sentences, target"
      ],
      "execution_count": 0,
      "outputs": []
    },
    {
      "cell_type": "code",
      "metadata": {
        "id": "5djFXSYGxgeG",
        "colab_type": "code",
        "colab": {}
      },
      "source": [
        "# sentences_with_nsubj[0]"
      ],
      "execution_count": 0,
      "outputs": []
    },
    {
      "cell_type": "code",
      "metadata": {
        "id": "Z-yUZZ1HtLEq",
        "colab_type": "code",
        "colab": {}
      },
      "source": [
        "#patient"
      ],
      "execution_count": 0,
      "outputs": []
    },
    {
      "cell_type": "code",
      "metadata": {
        "id": "NARMZNewtNIY",
        "colab_type": "code",
        "colab": {}
      },
      "source": [
        "#attributes"
      ],
      "execution_count": 0,
      "outputs": []
    },
    {
      "cell_type": "code",
      "metadata": {
        "id": "Lx5hMEFFur6D",
        "colab_type": "code",
        "colab": {
          "base_uri": "https://localhost:8080/",
          "height": 34
        },
        "outputId": "0d85ee26-1ac6-466c-9273-8250fd7dbcfd"
      },
      "source": [
        "# doc.sentences[0].dependencies[5][2].text"
      ],
      "execution_count": 98,
      "outputs": [
        {
          "output_type": "execute_result",
          "data": {
            "text/plain": [
              "'EBook'"
            ]
          },
          "metadata": {
            "tags": []
          },
          "execution_count": 98
        }
      ]
    },
    {
      "cell_type": "code",
      "metadata": {
        "id": "v1V0s7z4xYEd",
        "colab_type": "code",
        "colab": {}
      },
      "source": [
        ""
      ],
      "execution_count": 0,
      "outputs": []
    }
  ]
}