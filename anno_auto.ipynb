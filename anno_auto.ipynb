{
  "nbformat": 4,
  "nbformat_minor": 0,
  "metadata": {
    "colab": {
      "name": "anno_auto.ipynb",
      "provenance": [],
      "collapsed_sections": [],
      "machine_shape": "hm",
      "include_colab_link": true
    },
    "kernelspec": {
      "name": "python3",
      "display_name": "Python 3"
    }
  },
  "cells": [
    {
      "cell_type": "markdown",
      "metadata": {
        "id": "view-in-github",
        "colab_type": "text"
      },
      "source": [
        "<a href=\"https://colab.research.google.com/github/nicolenair/capstone/blob/master/anno_auto.ipynb\" target=\"_parent\"><img src=\"https://colab.research.google.com/assets/colab-badge.svg\" alt=\"Open In Colab\"/></a>"
      ]
    },
    {
      "cell_type": "code",
      "metadata": {
        "id": "2VmAOqYaqiHL",
        "colab_type": "code",
        "colab": {}
      },
      "source": [
        "# !pip install stanfordnlp\n",
        "# !pip install import_ipynb\n"
      ],
      "execution_count": 0,
      "outputs": []
    },
    {
      "cell_type": "code",
      "metadata": {
        "id": "UIVqPybhrf-E",
        "colab_type": "code",
        "colab": {}
      },
      "source": [
        "from bs4 import BeautifulSoup\n",
        "import requests\n",
        "import numpy as np\n",
        "import pandas as pd\n",
        "import os\n",
        "import re\n",
        "# import stanfordnlp\n",
        "# import import_ipynb\n",
        "import json"
      ],
      "execution_count": 0,
      "outputs": []
    },
    {
      "cell_type": "code",
      "metadata": {
        "id": "NFP04bTu27a9",
        "colab_type": "code",
        "outputId": "c78c824d-0800-4702-ad45-748088e3003e",
        "colab": {
          "base_uri": "https://localhost:8080/",
          "height": 122
        }
      },
      "source": [
        "from google.colab import drive\n",
        "drive.mount('/content/gdrive', force_remount = True)\n",
        "os.chdir(\"/content/gdrive/My Drive/Colab Notebooks/CAPSTONE\")"
      ],
      "execution_count": 0,
      "outputs": [
        {
          "output_type": "stream",
          "text": [
            "Go to this URL in a browser: https://accounts.google.com/o/oauth2/auth?client_id=947318989803-6bn6qk8qdgf4n4g3pfee6491hc0brc4i.apps.googleusercontent.com&redirect_uri=urn%3Aietf%3Awg%3Aoauth%3A2.0%3Aoob&scope=email%20https%3A%2F%2Fwww.googleapis.com%2Fauth%2Fdocs.test%20https%3A%2F%2Fwww.googleapis.com%2Fauth%2Fdrive%20https%3A%2F%2Fwww.googleapis.com%2Fauth%2Fdrive.photos.readonly%20https%3A%2F%2Fwww.googleapis.com%2Fauth%2Fpeopleapi.readonly&response_type=code\n",
            "\n",
            "Enter your authorization code:\n",
            "··········\n",
            "Mounted at /content/gdrive\n"
          ],
          "name": "stdout"
        }
      ]
    },
    {
      "cell_type": "code",
      "metadata": {
        "id": "bttCQGt0pXdi",
        "colab_type": "code",
        "colab": {}
      },
      "source": [
        ""
      ],
      "execution_count": 0,
      "outputs": []
    },
    {
      "cell_type": "code",
      "metadata": {
        "id": "ivTiAhxemm7r",
        "colab_type": "code",
        "colab": {}
      },
      "source": [
        "# stanfordnlp.download('en')   # This downloads the English models for the neural pipeline\n",
        "# nlp = stanfordnlp.Pipeline() # This sets up a default neural pipeline in English"
      ],
      "execution_count": 0,
      "outputs": []
    },
    {
      "cell_type": "code",
      "metadata": {
        "id": "F6KBg23x7X5J",
        "colab_type": "code",
        "colab": {}
      },
      "source": [
        "# p = requests.get(\"https://en.wikipedia.org/wiki/Category:20th-century_British_women_writers\")\n",
        "# soup = BeautifulSoup(p.content, \"html.parser\")\n",
        "# authors = soup.findAll(\"div\", { \"class\" : \"mw-category\" })[0].text\n",
        "# auth_list = [i for i in authors.split(\"\\n\") if len(i)>1]\n",
        "\n",
        "# new_url = p + \"&pagefrom=auth_list%2C+Priyanga%0APriyanga+Burford\""
      ],
      "execution_count": 0,
      "outputs": []
    },
    {
      "cell_type": "code",
      "metadata": {
        "id": "-OdwJ8jozqWe",
        "colab_type": "code",
        "colab": {}
      },
      "source": [
        "# file = open(\"book.id.gables\")\n",
        "# data = json.load(file)\n",
        "# len(data[\"characters\"][56][\"speaking\"])"
      ],
      "execution_count": 0,
      "outputs": []
    },
    {
      "cell_type": "code",
      "metadata": {
        "id": "Z3i7yrFbq3Rz",
        "colab_type": "code",
        "colab": {}
      },
      "source": [
        "books = [\"gables\", \"avonlea\", \"island\", \"dreams\", \"rilla\" ,\"ingleside\", \"poplars\", \"rainbow\"]\n",
        "urls = [\"https://www.gutenberg.org/files/45/45-0.txt\", \"https://www.gutenberg.org/files/47/47-0.txt\", \"https://www.gutenberg.org/files/51/51-0.txt\", \"http://www.gutenberg.org/cache/epub/544/pg544.txt\", \"http://www.gutenberg.org/cache/epub/3796/pg3796.txt\", \"http://gutenberg.net.au/ebooks01/0100281.txt\", \"http://gutenberg.net.au/ebooks01/0100251.txt\", \"http://www.gutenberg.org/files/5343/5343-0.txt\"]\n",
        "\n",
        "for i in range(len(books)):\n",
        "    page = requests.get(urls[i])\n",
        "    file = open(\"{}.txt\".format(books[i]) , \"w+\")\n",
        "    file.write(page.text)\n",
        "    file.close()\n",
        "\n",
        "file = open(\"gables.txt\", \"r\")\n",
        "gables = file.read()\n",
        "file = open(\"avonlea.txt\", \"r\")\n",
        "avonlea = file.read()\n",
        "file = open(\"island.txt\", \"r\")\n",
        "island = file.read()\n",
        "file = open(\"dreams.txt\", \"r\")\n",
        "dreams = file.read()\n",
        "file = open(\"rilla.txt\", \"r\")\n",
        "rilla = file.read()\n",
        "file = open(\"ingleside.txt\", \"r\")\n",
        "ingleside = file.read()\n",
        "file = open(\"poplars.txt\", \"r\")\n",
        "poplars = file.read()\n",
        "file = open(\"rainbow.txt\", \"r\")\n",
        "rainbow = file.read()"
      ],
      "execution_count": 0,
      "outputs": []
    },
    {
      "cell_type": "code",
      "metadata": {
        "id": "tnc1YLXPjqSg",
        "colab_type": "code",
        "colab": {}
      },
      "source": [
        "#agent\n",
        "\n",
        "def return_nsubj2(book, character=\"Anne\"): #run corenlp pipeline on each book to annotate quotations\n",
        "  sentences_with_agent_Anne = []\n",
        "  sentences_with_agent = []\n",
        "  if book==\"gables\":\n",
        "    doc = nlp(gables)\n",
        "  elif book==\"dreams\":\n",
        "    doc = nlp(dreams)\n",
        "  elif book==\"island\":\n",
        "    doc = nlp(island)\n",
        "  elif book==\"avonlea\":\n",
        "    doc = nlp(avonlea)\n",
        "  elif book==\"rilla\":\n",
        "    doc = nlp(rilla)\n",
        "  elif book==\"ingleside\":\n",
        "    doc = nlp(ingleside)\n",
        "  elif book==\"poplars\":\n",
        "    doc = nlp(poplars)\n",
        "  elif book==\"rainbow\":\n",
        "    doc = nlp(rainbow)\n",
        "  for i in list(doc.sentences):\n",
        "    for e in i.dependencies:\n",
        "  #       print(e[1])\n",
        "      if e[1]==\"nsubj\" or e[1]==\"agent\" :\n",
        "        if e[2].text==character:\n",
        "          sentences_with_agent_Anne.append(\" \".join([i.dependencies[a][2].text for a in range(len(i.dependencies)) if i.dependencies[a][2].text!=character]))\n",
        "        else:\n",
        "          sentences_with_agent.append(\" \".join([i.dependencies[a][2].text for a in range(len(i.dependencies)) if i.dependencies[a][2].text!=character]))\n",
        "        break\n",
        "  target = []\n",
        "  target.extend([[1] for i in range(len(sentences_with_agent_Anne))])\n",
        "  target.extend([[0] for i in range(len(sentences_with_agent))])\n",
        "  sentences = []\n",
        "  sentences.extend([[i] for i in sentences_with_agent_Anne])\n",
        "  sentences.extend([[i] for i in sentences_with_agent])\n",
        "  return sentences, target\n",
        "\n",
        "\n",
        "def return_nsubj(book=\"gables\", p = \"speaking\", tokenid = False):\n",
        "  file = open(\"book.id.{}.book\".format(book))\n",
        "  data = json.load(file)\n",
        "  sentences = []\n",
        "  target = []\n",
        "  for i in range(len(data[\"characters\"])):\n",
        "    if tokenid==True:\n",
        "      sentences.extend([(s[\"w\"], s[\"i\"]) for s in data[\"characters\"][i][p]])\n",
        "    else:\n",
        "      sentences.extend([s[\"w\"] for s in data[\"characters\"][i][p]])\n",
        "    target.extend([data[\"characters\"][i][\"names\"] for e in range(len(data[\"characters\"][i][p]))])\n",
        "      \n",
        "  return [[i] for i in sentences], [[i] for i in target]"
      ],
      "execution_count": 0,
      "outputs": []
    },
    {
      "cell_type": "code",
      "metadata": {
        "id": "RRxb7G3JscHO",
        "colab_type": "code",
        "colab": {}
      },
      "source": [
        "# file = open(\"book.id.rainbow.book\")\n",
        "# data = json.load(file)\n",
        "# sentences = []\n",
        "# target = []\n",
        "# # print(data[\"characters\"])\n",
        "# for i in range(len(data[\"characters\"])):\n",
        "#   #sentences.extend([s[\"w\"] for s in data[\"characters\"][i][\"speaking\"]])\n",
        "#   #target.extend([data[\"characters\"][i][\"names\"] for e in range(len(data[\"characters\"][i][\"speaking\"]))])\n",
        "#   print(data[\"characters\"][i][\"speaking\"])\n",
        "\n",
        "# full_para_list_rainbow, target_rainbow = [[i] for i in sentences], [[i] for i in target]"
      ],
      "execution_count": 0,
      "outputs": []
    },
    {
      "cell_type": "code",
      "metadata": {
        "id": "WwL8WyKoO5ld",
        "colab_type": "code",
        "colab": {}
      },
      "source": [
        "\n",
        "\n",
        "for property_ in [\"speaking\", \"agent\"]:\n",
        "  full_para_list_gables, target_gables = return_nsubj(\"gables\", property_, tokenid = True)\n",
        "  file = open(\"gables_{}withtoken_list.txt\".format(property_), \"w\")\n",
        "  for i in range(len(full_para_list_gables)):\n",
        "    file.write(str(full_para_list_gables[i][0]))\n",
        "    file.write(\"\\n\")\n",
        "    for e in target_gables[i][0]:\n",
        "      file.write(str(e[\"c\"])+ \",\" + str(e[\"n\"])+ \",\")\n",
        "    file.write(\"\\n\")\n",
        "  file.close() #write to file, with tokens"
      ],
      "execution_count": 0,
      "outputs": []
    },
    {
      "cell_type": "code",
      "metadata": {
        "id": "yZp1cbQHErV1",
        "colab_type": "code",
        "colab": {}
      },
      "source": [
        "# # data[\"characters\"][1][\"names\"][0]\n",
        "# full_para_list_rainbow"
      ],
      "execution_count": 0,
      "outputs": []
    },
    {
      "cell_type": "code",
      "metadata": {
        "id": "eBNwaAjEysJZ",
        "colab_type": "code",
        "colab": {}
      },
      "source": [
        "# write to file\n",
        "\n",
        "for property_ in [\"speaking\", \"agent\"]:\n",
        "  full_para_list_gables, target_gables = return_nsubj(\"gables\", property_)\n",
        "  full_para_list_dreams, target_dreams = return_nsubj(\"dreams\", property_)\n",
        "  full_para_list_avonlea, target_avonlea = return_nsubj(\"avonlea\", property_)\n",
        "  full_para_list_island, target_island = return_nsubj(\"island\", property_)\n",
        "  full_para_list_rilla, target_rilla = return_nsubj(\"rilla\", property_)\n",
        "  full_para_list_ingleside, target_ingleside= return_nsubj(\"ingleside\", property_)\n",
        "  full_para_list_poplars, target_poplars = return_nsubj(\"poplars\", property_)\n",
        "  full_para_list_rainbow, target_rainbow = return_nsubj(\"rainbow\", property_)\n",
        "  file = open(\"gables_{}_list.txt\".format(property_), \"w\")\n",
        "  for i in range(len(full_para_list_gables)):\n",
        "    file.write(full_para_list_gables[i][0])\n",
        "    file.write(\"\\n\")\n",
        "    for e in target_gables[i][0]:\n",
        "      file.write(str(e[\"c\"])+ \",\" + str(e[\"n\"])+ \",\")\n",
        "    file.write(\"\\n\")\n",
        "  file.close()\n",
        "\n",
        "  #write to file\n",
        "  file = open(\"dreams_{}_list.txt\".format(property_), \"w\")\n",
        "  for i in range(len(full_para_list_dreams)):\n",
        "    file.write(full_para_list_dreams[i][0])\n",
        "    file.write(\"\\n\")\n",
        "    for e in target_dreams[i][0]:\n",
        "      file.write(str(e[\"c\"])+ \",\" + str(e[\"n\"])+ \",\")\n",
        "    file.write(\"\\n\")\n",
        "  file.close()\n",
        "\n",
        "  #write to file\n",
        "  file = open(\"avonlea_{}_list.txt\".format(property_), \"w+\")\n",
        "  for i in range(len(full_para_list_avonlea)):\n",
        "    file.write(full_para_list_avonlea[i][0])\n",
        "    file.write(\"\\n\")\n",
        "    for e in target_avonlea[i][0]:\n",
        "      file.write(str(e[\"c\"])+ \",\" + str(e[\"n\"])+ \",\")\n",
        "    file.write(\"\\n\")\n",
        "  file.close()\n",
        "\n",
        "  file = open(\"island_{}_list.txt\".format(property_), \"w+\")\n",
        "  for i in range(len(full_para_list_island)):\n",
        "    file.write(full_para_list_island[i][0])\n",
        "    file.write(\"\\n\")\n",
        "    for e in target_island[i][0]:\n",
        "      file.write(str(e[\"c\"])+ \",\" + str(e[\"n\"])+ \",\")\n",
        "    file.write(\"\\n\")\n",
        "  file.close()\n",
        "\n",
        "  file = open(\"poplars_{}_list.txt\".format(property_), \"w+\")\n",
        "  for i in range(len(full_para_list_poplars)):\n",
        "    file.write(full_para_list_poplars[i][0])\n",
        "    file.write(\"\\n\")\n",
        "    for e in target_poplars[i][0]:\n",
        "      file.write(str(e[\"c\"])+ \",\" + str(e[\"n\"])+ \",\")\n",
        "    file.write(\"\\n\")\n",
        "  file.close()\n",
        "\n",
        "  file = open(\"rilla_{}_list.txt\".format(property_), \"w+\")\n",
        "  for i in range(len(full_para_list_rilla)):\n",
        "    file.write(full_para_list_rilla[i][0])\n",
        "    file.write(\"\\n\")\n",
        "    for e in target_rilla[i][0]:\n",
        "      file.write(str(e[\"c\"])+ \",\" + str(e[\"n\"])+ \",\")\n",
        "    file.write(\"\\n\")\n",
        "  file.close()\n",
        "\n",
        "  file = open(\"rainbow_{}_list.txt\".format(property_), \"w+\")\n",
        "  for i in range(len(full_para_list_rainbow)):\n",
        "    file.write(full_para_list_rainbow[i][0])\n",
        "    file.write(\"\\n\")\n",
        "    for e in target_rainbow[i][0]:\n",
        "      file.write(str(e[\"c\"])+ \",\" + str(e[\"n\"])+ \",\")\n",
        "    file.write(\"\\n\")\n",
        "  file.close()\n",
        "\n",
        "  file = open(\"ingleside_{}_list.txt\".format(property_), \"w+\")\n",
        "  for i in range(len(full_para_list_ingleside)):\n",
        "    file.write(full_para_list_ingleside[i][0])\n",
        "    file.write(\"\\n\")\n",
        "    for e in target_ingleside[i][0]:\n",
        "      file.write(str(e[\"c\"])+ \",\" + str(e[\"n\"])+ \",\")\n",
        "    file.write(\"\\n\")\n",
        "  file.close()\n"
      ],
      "execution_count": 0,
      "outputs": []
    },
    {
      "cell_type": "code",
      "metadata": {
        "id": "ksQnJlUm6BVD",
        "colab_type": "code",
        "colab": {}
      },
      "source": [
        "file = open(\"book.id.gables.book\")\n",
        "data = json.load(file)"
      ],
      "execution_count": 0,
      "outputs": []
    },
    {
      "cell_type": "code",
      "metadata": {
        "id": "VOnGcaea7VCo",
        "colab_type": "code",
        "outputId": "156b558e-1e40-453f-bdbd-366b6883a972",
        "colab": {
          "base_uri": "https://localhost:8080/",
          "height": 54
        }
      },
      "source": [
        "for i in data[\"characters\"]:\n",
        "  for e in i[\"names\"]:\n",
        "    if e[\"n\"]==\"Matthew\":\n",
        "      print (i[\"speaking\"])\n",
        "      break"
      ],
      "execution_count": 0,
      "outputs": [
        {
          "output_type": "stream",
          "text": [
            "[{'w': \"`` The little birds sang as if it were The one day of summer in all the year . '' \", 'i': 3723}, {'w': \"`` I 'm not expecting a girl , '' \", 'i': 4158}, {'w': \"`` Guess there 's some mistake , '' \", 'i': 4205}, {'w': \"`` I do n't understand , '' \", 'i': 4275}, {'w': \"`` I dare say she 'll be able to explain -- she 's got a tongue of her own , that 's certain . Maybe they were out of boys of the brand you wanted . '' \", 'i': 4314}, {'w': \"`` I 'm very glad to see you . I was beginning to be afraid you were n't coming for me and I was imagining all the things that might have happened to prevent you . I had made up my mind that if you did n't come for me to-night I 'd go down the track to that big wild cherry-tree at the bend , and climb up into it to stay all night . I would n't be a bit afraid , and it would be lovely to sleep in a wild cherry-tree all white with bloom in the moonshine , do n't you think ? You could imagine you were dwelling in marble halls , could n't you ? And I was quite sure you would come for me in the morning , if you did n't to-night . '' \", 'i': 4713}, {'w': \"`` It is n't heavy . I 've got all my worldly goods in it , but it is n't heavy . And if it is n't carried in just a certain way the handle pulls out -- so I 'd better keep it because I know the exact knack of it . It 's an extremely old carpet-bag . Oh , I 'm very glad you 've come , even if it would have been nice to sleep in a wild cherry-tree . We 've got to drive a long piece , have n't we ? Mrs. Spencer said it was eight miles . I 'm glad because I love driving . Oh , it seems so wonderful that I 'm going to live with you and belong to you . I 've never belonged to anybody -- not really . But the asylum was the worst . I 've only been in it four months , but that was enough . I do n't suppose you ever were an orphan in an asylum , so you ca n't possibly understand what it is like . It 's worse than anything you could imagine . Mrs. Spencer said it was wicked of me to talk like that , but I did n't mean to be wicked . It 's so easy to be wicked without knowing it , is n't it ? They were good , you know -- the asylum people . But there is so little scope for the imagination in an asylum -- only just in the other orphans . It was pretty interesting to imagine things about them -- to imagine that perhaps the girl who sat next to you was really the daughter of a belted earl , who had been stolen away from her parents in her infancy by a cruel nurse who died before she could confess . I used to lie awake at nights and imagine things like that , because I did n't have time in the day . I guess that 's why I 'm so thin -- I _ am _ dreadful thin , ai n't I ? There is n't a pick on my bones . I do love to imagine I 'm nice and plump , with dimples in my elbows . '' \", 'i': 4986}, {'w': \"`` Well now , I du n no , '' \", 'i': 5508}, {'w': \"`` Well now , I du n no , '' \", 'i': 6132}, {'w': \"`` Well , that is one of the things to find out sometime . Is n't it splendid to think of all the things there are to find out about ? It just makes me feel glad to be alive -- it 's such an interesting world . It would n't be half so interesting if we know all about everything , would it ? There 'd be no scope for imagination then , would there ? But am I talking too much ? People are always telling me I do . Would you rather I did n't talk ? If you say so I 'll stop . I can _ stop _ when I make up my mind to it , although it 's difficult . '' \", 'i': 6145}, {'w': \"`` kind of liked her chatter . '' \", 'i': 6420}, {'w': \"`` Oh , you can talk as much as you like . I do n't mind . '' \", 'i': 6436}, {'w': \"`` Well now , that seems reasonable , '' \", 'i': 6546}, {'w': \"`` It 's red , ai n't it ? '' \", 'i': 6934}, {'w': \"`` Well now , I 'm afraid I ca n't , '' \", 'i': 7165}, {'w': \"`` Well now , no , I have n't , '' \", 'i': 7244}, {'w': \"`` I guess you 're feeling pretty tired and hungry , '' \", 'i': 7626}, {'w': \"`` Well now , you must mean the Avenue , '' \", 'i': 7732}, {'w': \"`` That 's Barry 's pond , '' \", 'i': 8321}, {'w': \"`` Oh , I do n't like that name , either . I shall call it -- let me see -- the Lake of Shining Waters . Yes , that is the right name for it . I know because of the thrill . When I hit on a name that suits exactly it gives me a thrill . Do things ever give you a thrill ? '' \", 'i': 8332}, {'w': \"`` I wish there had been a schoolmaster like that around when I was born , then . Oh , here we are at the bridge . I 'm going to shut my eyes tight . I 'm always afraid going over bridges . I ca n't help imagining that perhaps just as we get to the middle , they 'll crumple up like a jack-knife and nip us . So I shut my eyes . But I always have to open them for all when I think we 're getting near the middle . Because , you see , if the bridge _ did _ crumple up I 'd want to _ see _ it crumple . What a jolly rumble it makes ! I always like the rumble part of it . Is n't it splendid there are so many things to like in this world ? There we 're over . Now I 'll look back . Good night , dear Lake of Shining Waters . I always say good night to the things I love , just as I would to people . I think they like it . That water looks as if it was smiling at me . '' \", 'i': 8672}, {'w': \"`` We 're pretty near home now . That 's Green Gables over -- '' \", 'i': 8892}, {'w': \"`` There was n't any boy , '' \", 'i': 9652}, {'w': \"`` There was only _ her _ . '' \", 'i': 9664}, {'w': \"`` why did n't you tell me at the station that you did n't want me and leave me there ? If I had n't seen the White Way of Delight and the Lake of Shining Waters it would n't be so hard . '' \", 'i': 10598}, {'w': \"`` She -- she 's just referring to some conversation we had on the road , '' \", 'i': 10659}, {'w': \"`` I guess she 's tired , '' \", 'i': 11088}, {'w': \"`` Yes , I suppose so , '' \", 'i': 11884}, {'w': \"`` Well , now , no , I suppose not -- not exactly , '' \", 'i': 11983}, {'w': \"`` We might be some good to her , '' \", 'i': 12040}, {'w': \"`` Well now , she 's a real interesting little thing , '' \", 'i': 12083}, {'w': \"`` I could hire a French boy to help me , '' \", 'i': 12196}, {'w': \"`` and she 'd be company for you . '' \", 'i': 12211}, {'w': \"`` Well now , it 's just as you say , of course , Marilla , '' \", 'i': 12245}, {'w': \"`` I 'm going to bed . '' \", 'i': 12271}, {'w': \"`` I would n't give a dog I liked to that Blewett woman , '' \", 'i': 19548}, {'w': \"`` Well now , I reckoned you 'd come to see it in that light , Marilla , '' \", 'i': 19693}, {'w': \"`` There , there , Marilla , you can have your own way , '' \", 'i': 19829}, {'w': \"`` It 's a good thing Rachel Lynde got a calling down ; she 's a meddlesome old gossip , '' \", 'i': 28114}, {'w': \"`` Well now -- no -- not exactly , '' \", 'i': 28186}, {'w': \"`` Anne , '' \", 'i': 28557}, {'w': \"`` how are you making it , Anne ? '' \", 'i': 28571}, {'w': \"`` Well now , Anne , do n't you think you 'd better do it and have it over with ? '' \", 'i': 28661}, {'w': \"`` Yes -- apologize -- that 's the very word , '' \", 'i': 28737}, {'w': \"`` How would wild horses drag a secret from a person anyhow ? '' \", 'i': 29049}, {'w': \"`` You 're sure it has n't fell down behind the bureau ? '' \", 'i': 39124}, {'w': \"`` Well now , what are you going to do about it ? '' \", 'i': 39214}, {'w': \"`` Well now , you 'll have to punish her , '' \", 'i': 39326}, {'w': \"`` Well now , she should n't have taken the brooch , Marilla , or told stories about it , '' \", 'i': 40617}, {'w': \"`` Well now , she 's such a little thing , '' \", 'i': 40792}, {'w': \"`` Well now , no , I did n't , '' \", 'i': 55863}, {'w': \"`` Well now , I du n no , '' \", 'i': 55941}, {'w': \"`` I guess you 're all right at anything . Mr. Phillips told me last week in Blair 's store at Carmody that you was the smartest scholar in school and was making rapid progress . ` Rapid progress ' was his very words . There 's them as runs down Teddy Phillips and says he ai n't much of a teacher , but I guess he 's all right . '' \", 'i': 55955}, {'w': \"`` Conservative , '' \", 'i': 56202}, {'w': \"`` Well now , I du n no , '' \", 'i': 56300}, {'w': \"`` Well now , no , I dunno 's I ever did , '' \", 'i': 56323}, {'w': \"`` Well now , I du n no as I comprehend them all myself , '' \", 'i': 56541}, {'w': \"`` Well now , I du n no but what I would , '' \", 'i': 56740}, {'w': \"`` Minnie May is awful sick -- she 's got croup . Young Mary Joe says -- and Father and Mother are away to town and there 's nobody to go for the doctor . Minnie May is awful bad and Young Mary Joe does n't know what to do -- and oh , Anne , I 'm so scared ! '' \", 'i': 56919}, {'w': \"`` Well now , I guess you 'll manage all right , '' \", 'i': 58245}, {'w': \"`` Well now , Marilla , I think you ought to let Anne go . '' \", 'i': 60481}, {'w': \"`` Well now , you , '' \", 'i': 60522}, {'w': \"`` I think you ought to let Anne go , '' \", 'i': 60677}, {'w': \"`` Well now , you might recite it for me some of these days , out in the barn , '' \", 'i': 76651}, {'w': \"`` spoil Anne '' \", 'i': 78027}, {'w': \"`` Have you any -- any -- any -- well now , say any garden rakes ? '' \", 'i': 79078}, {'w': \"`` Well now , since you suggest it , I might as well -- take -- that is -- look at -- buy some -- some hayseed . '' \", 'i': 79198}, {'w': \"`` Oh , certainly -- certainly -- just as you say , '' \", 'i': 79269}, {'w': \"`` Oh -- well now -- brown , '' \", 'i': 79375}, {'w': \"`` I 'll -- I 'll take twenty pounds of it , '' \", 'i': 79419}, {'w': \"`` I -- I thought it might come in handy sometime , '' \", 'i': 79578}, {'w': \"`` Well now , I 'm much obliged , '' \", 'i': 79846}, {'w': \"`` and -- and -- I du n no -- but I 'd like -- I think they make the sleeves different nowadays to what they used to be . If it would n't be asking too much I -- I 'd like them made in the new way . '' \", 'i': 79859}, {'w': \"`` It 'll be a real satisfaction to see that poor child wearing something decent for once . The way Marilla dresses her is positively ridiculous , that 's what , and I 've ached to tell her so plainly a dozen times . I 've held my tongue though , for I can see Marilla does n't want advice and she thinks she knows more about bringing children up than I do for all she 's an old maid . But that 's always the way . Folks that has brought up children know that there 's no hard and fast method in the world that 'll suit every child . But them as never have think it 's all as plain and easy as Rule of Three -- just set your three terms down so fashion , and the sum ` ll work out correct . But flesh and blood do n't come under the head of arithmetic and that 's where Marilla Cuthbert makes her mistake . I suppose she 's trying to cultivate a spirit of humility in Anne by dressing her as she does ; but it 's more likely to cultivate envy and discontent . I 'm sure the child must feel the difference between her clothes and the other girls ' . But to think of Matthew taking notice of it ! That man is waking up after being asleep for over sixty years . '' \", 'i': 79953}, {'w': \"`` Merry Christmas , Marilla ! Merry Christmas , Matthew ! Is n't it a lovely Christmas ? I 'm so glad it 's white . Any other kind of Christmas does n't seem real , does it ? I do n't like green Christmases . They 're not green -- they 're just nasty faded browns and grays . What makes people call them green ? Why -- why -- Matthew , is that for me ? Oh , Matthew ! '' \", 'i': 80573}, {'w': \"`` That 's a Christmas present for you , Anne , '' \", 'i': 80795}, {'w': \"`` Well now , I guess our Anne did as well as any of them , '' \", 'i': 82059}, {'w': \"`` Well now , I was proud of her and I did tell her so ` fore she went upstairs , '' \", 'i': 82150}, {'w': \"`` Well now , it 'll do no harm to be thinking it over off and on , '' \", 'i': 82303}, {'w': \"`` Well now , I du n no , '' \", 'i': 86150}, {'w': \"`` Do n't give up all your romance , Anne , '' \", 'i': 91945}, {'w': \"`` a little of it is a good thing -- not too much , of course -- but keep a little of it , Anne , keep a little of it . '' \", 'i': 91961}, {'w': \"`` She 'll be able to come home often , '' \", 'i': 102586}, {'w': \"`` I want to say a hundred things , and I ca n't find words to say them in . I never dreamed of this -- yes , I did too , just once ! I let myself think _ once _ , ` What if I should come out first ? ' quakingly , you know , for it seemed so vain and presumptuous to think I could lead the Island . Excuse me a minute , Diana . I must run right out to the field to tell Matthew . Then we 'll go up the road and tell the good news to the others . '' \", 'i': 106384}, {'w': \"`` Well now , I always said it , '' \", 'i': 106561}, {'w': \"`` Well now , I guess she ai n't been much spoiled , '' \", 'i': 111555}, {'w': \"`` Reckon you 're glad we kept her , Marilla ? '' \", 'i': 116307}, {'w': \"`` is Matthew quite well ? '' \", 'i': 116989}, {'w': \"`` Well now , I ca n't seem to , '' \", 'i': 117724}, {'w': \"`` Well now , I 'd rather have you than a dozen boys , Anne , '' \", 'i': 117839}, {'w': \"`` We 've got each other , Anne . I do n't know what I 'd do if you were n't here -- if you 'd never come . Oh , Anne , I know I 've been kind of strict and harsh with you maybe -- but you must n't think I did n't love you as well as Matthew did , for all that . I want to tell you now when I can . It 's never been easy for me to say things out of my heart , but at times like this it 's easier . I love you as dear as if you were my own flesh and blood and you 've been my joy and comfort ever since you came to Green Gables . '' \", 'i': 119252}]\n"
          ],
          "name": "stdout"
        }
      ]
    },
    {
      "cell_type": "code",
      "metadata": {
        "id": "fEevF5QV8Qqf",
        "colab_type": "code",
        "outputId": "564d67b9-be67-46fe-8461-944af92f04c6",
        "colab": {
          "base_uri": "https://localhost:8080/",
          "height": 34
        }
      },
      "source": [
        "for i in data[\"characters\"]:\n",
        "  for e in i[\"speaking\"]:\n",
        "    if e[\"i\"]==46229:\n",
        "      print(e[\"w\"], e[\"i\"])\n",
        "      break\n",
        "#   if i[\"speaking\"]!=[]:\n",
        "#     print(i[\"speaking\"])\n",
        "#     break"
      ],
      "execution_count": 0,
      "outputs": [
        {
          "output_type": "stream",
          "text": [
            "`` acksually never seen anything like it -- it was so white , with awful little red spots in it . ''  46229\n"
          ],
          "name": "stdout"
        }
      ]
    },
    {
      "cell_type": "code",
      "metadata": {
        "id": "eo7PgkHGHYSB",
        "colab_type": "code",
        "outputId": "1f38e267-81f8-425c-be28-3d7df662e097",
        "colab": {
          "base_uri": "https://localhost:8080/",
          "height": 68
        }
      },
      "source": [
        "import nltk\n",
        "from nltk.tokenize import sent_tokenize\n",
        "nltk.download('punkt')"
      ],
      "execution_count": 0,
      "outputs": [
        {
          "output_type": "stream",
          "text": [
            "[nltk_data] Downloading package punkt to /root/nltk_data...\n",
            "[nltk_data]   Unzipping tokenizers/punkt.zip.\n"
          ],
          "name": "stdout"
        },
        {
          "output_type": "execute_result",
          "data": {
            "text/plain": [
              "True"
            ]
          },
          "metadata": {
            "tags": []
          },
          "execution_count": 12
        }
      ]
    },
    {
      "cell_type": "code",
      "metadata": {
        "id": "dJ5h3QKoEn5O",
        "colab_type": "code",
        "outputId": "4316afcb-4140-4e87-a555-03e8c0790901",
        "colab": {
          "base_uri": "https://localhost:8080/",
          "height": 34
        }
      },
      "source": [
        "sents = sent_tokenize(gables)\n",
        "len(sents)"
      ],
      "execution_count": 0,
      "outputs": [
        {
          "output_type": "execute_result",
          "data": {
            "text/plain": [
              "5844"
            ]
          },
          "metadata": {
            "tags": []
          },
          "execution_count": 13
        }
      ]
    },
    {
      "cell_type": "code",
      "metadata": {
        "id": "R0LAGvhaLszi",
        "colab_type": "code",
        "colab": {}
      },
      "source": [
        ""
      ],
      "execution_count": 0,
      "outputs": []
    }
  ]
}