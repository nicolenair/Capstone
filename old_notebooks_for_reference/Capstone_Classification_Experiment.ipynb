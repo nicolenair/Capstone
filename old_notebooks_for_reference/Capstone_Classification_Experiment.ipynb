{
  "nbformat": 4,
  "nbformat_minor": 0,
  "metadata": {
    "colab": {
      "name": "Capstone - Classification Experiment.ipynb",
      "provenance": [],
      "collapsed_sections": [],
      "include_colab_link": true
    },
    "kernelspec": {
      "display_name": "Python 3",
      "language": "python",
      "name": "python3"
    }
  },
  "cells": [
    {
      "cell_type": "markdown",
      "metadata": {
        "id": "view-in-github",
        "colab_type": "text"
      },
      "source": [
        "<a href=\"https://colab.research.google.com/github/nicolenair/capstone/blob/master/Capstone_Classification_Experiment.ipynb\" target=\"_parent\"><img src=\"https://colab.research.google.com/assets/colab-badge.svg\" alt=\"Open In Colab\"/></a>"
      ]
    },
    {
      "cell_type": "code",
      "metadata": {
        "id": "YlL6OZZYuLPv",
        "colab_type": "code",
        "outputId": "4dd81a37-7764-401b-cfed-d84fdc98df63",
        "colab": {
          "base_uri": "https://localhost:8080/",
          "height": 68
        }
      },
      "source": [
        "import os\n",
        "# !pip install importlib\n",
        "# !pip install imp\n",
        "# !pip install nltk\n",
        "import nltk\n",
        "nltk.download('punkt')"
      ],
      "execution_count": 1,
      "outputs": [
        {
          "output_type": "stream",
          "text": [
            "[nltk_data] Downloading package punkt to /root/nltk_data...\n",
            "[nltk_data]   Unzipping tokenizers/punkt.zip.\n"
          ],
          "name": "stdout"
        },
        {
          "output_type": "execute_result",
          "data": {
            "text/plain": [
              "True"
            ]
          },
          "metadata": {
            "tags": []
          },
          "execution_count": 1
        }
      ]
    },
    {
      "cell_type": "code",
      "metadata": {
        "id": "Sb12I3GvV_Gm",
        "colab_type": "code",
        "outputId": "715399bc-7119-4783-c76c-356aa4e1a373",
        "colab": {
          "base_uri": "https://localhost:8080/",
          "height": 122
        }
      },
      "source": [
        "from google.colab import drive\n",
        "drive.mount('/content/gdrive')\n",
        "os.chdir(\"/content/gdrive/My Drive/Colab Notebooks\")"
      ],
      "execution_count": 2,
      "outputs": [
        {
          "output_type": "stream",
          "text": [
            "Go to this URL in a browser: https://accounts.google.com/o/oauth2/auth?client_id=947318989803-6bn6qk8qdgf4n4g3pfee6491hc0brc4i.apps.googleusercontent.com&redirect_uri=urn%3Aietf%3Awg%3Aoauth%3A2.0%3Aoob&scope=email%20https%3A%2F%2Fwww.googleapis.com%2Fauth%2Fdocs.test%20https%3A%2F%2Fwww.googleapis.com%2Fauth%2Fdrive%20https%3A%2F%2Fwww.googleapis.com%2Fauth%2Fdrive.photos.readonly%20https%3A%2F%2Fwww.googleapis.com%2Fauth%2Fpeopleapi.readonly&response_type=code\n",
            "\n",
            "Enter your authorization code:\n",
            "··········\n",
            "Mounted at /content/gdrive\n"
          ],
          "name": "stdout"
        }
      ]
    },
    {
      "cell_type": "code",
      "metadata": {
        "id": "taaK2gE9Toa-",
        "colab_type": "code",
        "colab": {}
      },
      "source": [
        "#!pip install import_ipynb\n",
        "from bs4 import BeautifulSoup\n",
        "import requests\n",
        "import numpy as np\n",
        "import pandas as pd\n",
        "import os\n",
        "import re\n",
        "import os\n",
        "import importlib\n",
        "import nltk\n",
        "import matplotlib.pyplot as plt"
      ],
      "execution_count": 0,
      "outputs": []
    },
    {
      "cell_type": "code",
      "metadata": {
        "id": "96XXzcW-V-EQ",
        "colab_type": "code",
        "colab": {}
      },
      "source": [
        "# importlib.reload(anno_auto)"
      ],
      "execution_count": 0,
      "outputs": []
    },
    {
      "cell_type": "code",
      "metadata": {
        "id": "kusdyuiaX_YY",
        "colab_type": "code",
        "colab": {}
      },
      "source": [
        "# import os\n",
        "# os.listdir(\"/content/gdrive/My Drive/Nicole-Internship-Complete-Folder/chatbot - all/chatbot-flask/GoogleNews-vectors-negative300.bin.gz\")"
      ],
      "execution_count": 0,
      "outputs": []
    },
    {
      "cell_type": "code",
      "metadata": {
        "id": "8xuNYM3QuLPz",
        "colab_type": "code",
        "colab": {}
      },
      "source": [
        "books = [\"gables\", \"avonlea\", \"island\", \"poplars\", \"dreams\",\"ingleside\", \"rainbow\", \"rilla\"]\n",
        "# urls = [\"https://www.gutenberg.org/files/45/45-0.txt\", \"https://www.gutenberg.org/files/47/47-0.txt\", \"https://www.gutenberg.org/files/51/51-0.txt\", \"http://www.gutenberg.org/cache/epub/544/pg544.txt\", \"http://www.gutenberg.org/cache/epub/3796/pg3796.txt\", \"http://gutenberg.net.au/ebooks01/0100281.txt\", \"http://gutenberg.net.au/ebooks01/0100251.txt\", \"http://www.gutenberg.org/files/5343/5343-0.txt\"]\n",
        "\n",
        "# for i in range(len(books)):\n",
        "#     page = requests.get(urls[i])\n",
        "#     file = open(\"{}.txt\".format(books[i]) , \"w+\")\n",
        "#     file.write(page.text)\n",
        "#     file.close()\n",
        "\n",
        "file = open(\"gables.txt\", \"r\")\n",
        "gables = file.read()\n",
        "file = open(\"avonlea.txt\", \"r\")\n",
        "avonlea = file.read()\n",
        "file = open(\"island.txt\", \"r\")\n",
        "island = file.read()\n",
        "file = open(\"dreams.txt\", \"r\")\n",
        "dreams = file.read()\n",
        "file = open(\"rilla.txt\", \"r\")\n",
        "rilla = file.read()\n",
        "file = open(\"ingleside.txt\", \"r\")\n",
        "ingleside = file.read()\n",
        "file = open(\"poplars.txt\", \"r\")\n",
        "poplars = file.read()\n",
        "file = open(\"rainbow.txt\", \"r\")\n",
        "rainbow = file.read()"
      ],
      "execution_count": 0,
      "outputs": []
    },
    {
      "cell_type": "code",
      "metadata": {
        "id": "QhRkQc_SDZqg",
        "colab_type": "code",
        "colab": {}
      },
      "source": [
        "# external corpus import & use as validation\n"
      ],
      "execution_count": 0,
      "outputs": []
    },
    {
      "cell_type": "code",
      "metadata": {
        "id": "v-_FHXf_0y8B",
        "colab_type": "code",
        "colab": {}
      },
      "source": [
        "from nltk.tokenize import sent_tokenize"
      ],
      "execution_count": 0,
      "outputs": []
    },
    {
      "cell_type": "code",
      "metadata": {
        "id": "Xhj-QWZR0VUl",
        "colab_type": "code",
        "colab": {}
      },
      "source": [
        "sents = []\n",
        "for i in [gables, avonlea, island, poplars, dreams, ingleside,  rainbow ,rilla]:\n",
        "  sents.extend(sent_tokenize(i))"
      ],
      "execution_count": 0,
      "outputs": []
    },
    {
      "cell_type": "code",
      "metadata": {
        "id": "PliB9TT8y7St",
        "colab_type": "code",
        "colab": {}
      },
      "source": [
        "from gensim.test.utils import common_texts\n",
        "from gensim.models.doc2vec import Doc2Vec, TaggedDocument\n",
        "\n",
        "documents = [TaggedDocument(doc, [i]) for i, doc in enumerate(sents)]\n",
        "model_d2v = Doc2Vec(documents, vector_size=100, window=5, min_count=1, workers=4)"
      ],
      "execution_count": 0,
      "outputs": []
    },
    {
      "cell_type": "code",
      "metadata": {
        "id": "epf2i-IQuLP1",
        "colab_type": "code",
        "colab": {}
      },
      "source": [
        "# import gensim\n",
        "# must download & load for word2vec_average_doc function to work\n",
        "# # Load Google's pre-trained Word2Vec model.\n",
        "# model = gensim.models.KeyedVectors.load_word2vec_format('./GoogleNews-vectors-negative300.bin', binary=True)  "
      ],
      "execution_count": 0,
      "outputs": []
    },
    {
      "cell_type": "code",
      "metadata": {
        "id": "IOTOrUDjuLP4",
        "colab_type": "code",
        "colab": {}
      },
      "source": [
        "# from gensim.parsing.preprocessing import preprocess_documents\n",
        "# from gensim.models import KeyedVectors\n",
        "# from gensim.models import Word2Vec\n",
        "\n",
        "# #returns vector representation of documents \n",
        "# def word2vec_average_doc(documents):\n",
        "#     model_new = Word2Vec(size=300, min_count=1)\n",
        "#     model_new.build_vocab(documents)\n",
        "#     total_examples = model_new.corpus_count\n",
        "#     model_new.build_vocab([list(model_new.wv.vocab.keys())], update=True) #fishy here, changed model to model_new within list bracket\n",
        "#     model_new.intersect_word2vec_format(\"/content/gdrive/My Drive/Nicole-Internship-Complete-Folder/chatbot - all/chatbot-flask/GoogleNews-vectors-negative300.bin.gz\", binary = True)\n",
        "#     model_new.train(documents, total_examples=total_examples, epochs=model_new.iter)\n",
        "#     mean_vectors = []\n",
        "#     processed = preprocess_documents(documents)\n",
        "#     for i in processed:\n",
        "#         summation = []\n",
        "#         for e in i:\n",
        "#             try:\n",
        "#                 summation.append(model_new[e])\n",
        "#             except KeyError:\n",
        "#                 #print(\"debug\")\n",
        "#                 next\n",
        "#         if len(summation)!=0:\n",
        "#             mean_vectors.append(np.mean(summation, axis = 0))\n",
        "#         else:\n",
        "#             mean_vectors.append(np.mean(mean_vectors, axis = 0))\n",
        "        \n",
        "#         #print(summation)\n",
        "#     return np.array(mean_vectors)"
      ],
      "execution_count": 0,
      "outputs": []
    },
    {
      "cell_type": "code",
      "metadata": {
        "id": "xcnPuUeyNbjs",
        "colab_type": "code",
        "colab": {}
      },
      "source": [
        "property_ = \"speaking\"\n",
        "file1 = open(\"gables_{}_list.txt\".format(property_), \"r\")\n",
        "file2 = open(\"avonlea_{}_list.txt\".format(property_), \"r\")\n",
        "file3 = open(\"island_{}_list.txt\".format(property_), \"r\")\n",
        "file4 = open(\"poplars_{}_list.txt\".format(property_), \"r\")\n",
        "file5 = open(\"dreams_{}_list.txt\".format(property_), \"r\")\n",
        "file6 = open(\"ingleside_{}_list.txt\".format(property_), \"r\")\n",
        "file7 = open(\"rainbow_{}_list.txt\".format(property_), \"r\")\n",
        "file8 = open(\"rilla_{}_list.txt\".format(property_), \"r\")\n",
        "sentence_gables = []\n",
        "sentence_dreams = []\n",
        "sentence_island = []\n",
        "sentence_avonlea = []\n",
        "sentence_poplars = []\n",
        "sentence_ingleside = []\n",
        "sentence_rainbow = []\n",
        "sentence_rilla = []\n",
        "target_gables = []\n",
        "target_dreams = []\n",
        "target_island = []\n",
        "target_avonlea = [] ###\n",
        "target_poplars = []\n",
        "target_ingleside = []\n",
        "target_rainbow = []\n",
        "target_rilla = [] ###\n",
        "\n",
        "file1_lines =file1.readlines()\n",
        "file2_lines = file2.readlines()\n",
        "file3_lines = file3.readlines()\n",
        "file4_lines = file4.readlines()\n",
        "file5_lines = file5.readlines()\n",
        "file6_lines = file6.readlines()\n",
        "file7_lines = file7.readlines()\n",
        "file8_lines = file8.readlines()\n",
        "\n",
        "files = [file1_lines, file2_lines, file3_lines ,file4_lines, file5_lines, file6_lines, file7_lines, file8_lines]\n",
        "sentences = [sentence_gables, sentence_avonlea, sentence_island, sentence_poplars, sentence_dreams, sentence_ingleside, sentence_rainbow, sentence_rilla]\n",
        "targets_pre = [target_gables, target_avonlea, target_island, target_poplars, target_dreams, target_ingleside, target_rainbow, target_rilla]\n",
        "\n",
        "for s in range(len(sentences)):\n",
        "  for i in range(len(files[s])):\n",
        "    if i%2==0:\n",
        "      sentences[s].append([files[s][i]])\n",
        "    else:\n",
        "      targets_pre[s].append(files[s][i])\n",
        "  file.close()\n",
        "\n",
        "    \n",
        "# for i in range(len(file2_lines)):\n",
        "#   if i%2==0:\n",
        "#     sentence_dreams.append([file2_lines[i]])\n",
        "#   else:\n",
        "#     target_dreams.append([int(file2_lines[i])])\n",
        "# file.close()"
      ],
      "execution_count": 0,
      "outputs": []
    },
    {
      "cell_type": "code",
      "metadata": {
        "id": "VzqmkMda9y3y",
        "colab_type": "code",
        "outputId": "2f41d629-a240-46f6-e3d4-c20cc9385a69",
        "colab": {
          "base_uri": "https://localhost:8080/",
          "height": 204
        }
      },
      "source": [
        "targets_pre[0][0].split(\",\")"
      ],
      "execution_count": 0,
      "outputs": [
        {
          "output_type": "execute_result",
          "data": {
            "text/plain": [
              "['36',\n",
              " 'Miss Barry',\n",
              " '11',\n",
              " 'Josephine',\n",
              " '5',\n",
              " 'Miss Josephine Barry',\n",
              " '2',\n",
              " 'Barry',\n",
              " '1',\n",
              " 'Josephine Barry',\n",
              " '\\n']"
            ]
          },
          "metadata": {
            "tags": []
          },
          "execution_count": 10
        }
      ]
    },
    {
      "cell_type": "code",
      "metadata": {
        "id": "k2NL4fmYUw3f",
        "colab_type": "code",
        "colab": {}
      },
      "source": [
        "targets = []\n",
        "for i in targets_pre:\n",
        "  target_inner = []\n",
        "  for e in i:\n",
        "    if int(\"Anne\" in e.split(\",\")):\n",
        "      target_inner.append([1])\n",
        "    else:\n",
        "      target_inner.append([0])\n",
        "  targets.append(target_inner)"
      ],
      "execution_count": 0,
      "outputs": []
    },
    {
      "cell_type": "code",
      "metadata": {
        "id": "KQ7CsvBPO6I2",
        "colab_type": "code",
        "colab": {}
      },
      "source": [
        "from sklearn.feature_extraction.text import CountVectorizer\n",
        "from scipy.sparse import csr_matrix\n",
        "from random import sample\n",
        "from sklearn.linear_model import LogisticRegression\n",
        "from sklearn.model_selection import train_test_split\n",
        "from sklearn.metrics import precision_score\n",
        "from sklearn.metrics import recall_score\n",
        "from sklearn.metrics import confusion_matrix\n",
        "\n",
        "\n",
        "#function for training classifier\n",
        "def train_classifier(full_para_list, target, vectorizer=model_d2v, prnt = True, d2v=False):\n",
        "    if d2v==False:\n",
        "  \n",
        "      vectorizer = CountVectorizer()\n",
        "      n=len(target)\n",
        "\n",
        "      x_lst = []\n",
        "      for i in full_para_list[:n]:\n",
        "          x_lst.extend(i) \n",
        "      vectorized = vectorizer.fit_transform(x_lst)\n",
        "      x = vectorized.todense()\n",
        "    else:\n",
        "      n = len(target)\n",
        "      x_lst = []\n",
        "      for i in full_para_list[:n]:\n",
        "        x_lst.extend(i)\n",
        "      vectorized = np.array([vectorizer.infer_vector(i.split()) for i in x_lst])\n",
        "      x = vectorized\n",
        "#     x = word2vec_average_doc(x_lst) \n",
        "#     x = model_d2v.infer_vector(x_lst)\n",
        "#     print(x)\n",
        "\n",
        "\n",
        "    y = []\n",
        "    for i in target[:n]:\n",
        "        y.extend(i) \n",
        "    y = [0 if i!=1 else 1 for i in y]\n",
        "    \n",
        "\n",
        "#     print(x)\n",
        "    model2 = LogisticRegression(solver='lbfgs', multi_class='multinomial')\n",
        "   # X_train, X_test, y_train, y_test = train_test_split(x, y)\n",
        "    model2.fit(x, y)\n",
        "#     if prnt==True:\n",
        "#         print(model2.score(X_test, y_test))\n",
        "#         y_pred = model2.predict(X_test)\n",
        "#         print(precision_score(y_test, y_pred,  pos_label = 1))\n",
        "#         print(precision_score(y_test, y_pred,  pos_label = 0))\n",
        "#         print(recall_score(y_test, y_pred, pos_label = 1))\n",
        "#         print(recall_score(y_test, y_pred, pos_label = 0 ))\n",
        "#         print(confusion_matrix(y_test, y_pred))\n",
        "#         tn, fp, fn, tp = confusion_matrix(y_test, y_pred).ravel()\n",
        "#         print(tn, fp, fn, tp)\n",
        "    return model2, vectorizer"
      ],
      "execution_count": 0,
      "outputs": []
    },
    {
      "cell_type": "code",
      "metadata": {
        "id": "rvqd8fwVuLQC",
        "colab_type": "code",
        "colab": {}
      },
      "source": [
        "import random\n",
        "\n",
        "# for checking performance of trained classifiers on books\n",
        "def test(full_para_list, model2, vectorizer, target, d2v=False, prnt=False):\n",
        "    n = len(target)\n",
        "#     print(n)\n",
        "    x_lst = []\n",
        "    for i in full_para_list:\n",
        "        x_lst.extend(i) \n",
        "    if d2v!=True:\n",
        "      vectorized = vectorizer.transform(x_lst)\n",
        "      x = vectorized.todense()\n",
        "    else:\n",
        "      vectorized = [vectorizer.infer_vector(i.split()) for i in x_lst]\n",
        "      x = np.array(vectorized)\n",
        "\n",
        "    \n",
        "#     x = word2vec_average_doc(x_lst) \n",
        "#     x = vectorizer.infer_vector(x_lst)\n",
        "    y = []\n",
        "    for i in target:\n",
        "        y.extend(i) \n",
        "\n",
        "    y = [0 if i!=1 else 1 for i in y]\n",
        "#     ind_0 = [e for e, i in enumerate(y) if i==0]\n",
        "#     ind_1 = [e for e, i in enumerate(y) if i==1]\n",
        "\n",
        "# #     print(ind_0)\n",
        "# #     print(ind_1)\n",
        "#     if len(ind_0)>len(ind_1):\n",
        "#         new_indices = random.sample(ind_0, len(ind_1))\n",
        "#         #print(x.shape)\n",
        "# #         print(new_indices)\n",
        "#         x = np.vstack([x[new_indices], x[ind_1]])\n",
        "        \n",
        "#         y = [0 for i in range(len(new_indices))] + [1 for i in range(len(ind_1))]\n",
        "#     else:\n",
        "#         new_indices = sample(ind_1, len(ind_0))\n",
        "#         x = np.vstack([x[new_indices], x[ind_0]])\n",
        "#         y = [0 for i in range(len(new_indices))] + [1 for i in range(len(ind_0))]\n",
        "    \n",
        "    if prnt==True:\n",
        "      print(model2.score(x, y))\n",
        "    y_pred = model2.predict(x)\n",
        "    if prnt==True:\n",
        "      print(\"precision, label = 1\")\n",
        "      print(precision_score(y, y_pred,  pos_label = 1))\n",
        "      print(\"precision, label = 0\")\n",
        "      print(precision_score(y, y_pred,  pos_label = 0))\n",
        "      print(\"recall, label = 1\")\n",
        "      print(recall_score(y, y_pred, pos_label = 1))\n",
        "      print(\"recall, label = 0\")\n",
        "      print(recall_score(y, y_pred, pos_label = 0 ))\n",
        "\n",
        "      print(confusion_matrix(y, y_pred))\n",
        "    tn, fp, fn, tp = confusion_matrix(y, y_pred).ravel()\n",
        "    if prnt==True:\n",
        "      print(tn, fp, fn, tp)\n",
        "      print()\n",
        "    return model2.score(x, y), precision_score(y, y_pred,  pos_label = 1), precision_score(y, y_pred,  pos_label = 0), recall_score(y, y_pred, pos_label = 1), recall_score(y, y_pred, pos_label = 0 )\n",
        "\n",
        "#     words = np.array(vectorizer.get_feature_names())\n",
        "#     words[np.argsort(abs(model2.coef_[0]))[-10:]], model2.coef_[0][abs(np.argsort(model2.coef_[0]))[-10:]]\n",
        "    \n",
        "# print(\"trained on AGG, tested on AGG (control)\")\n",
        "# model2, vectorizer = train_classifier(full_para_list_gables, anno.return_target(\"gables\"), prnt = False)\n",
        "# test(full_para_list_gables, model2, vectorizer, anno.return_target(\"gables\"))\n",
        "\n",
        "# print(\"trained on AGG, tested on AHD\")\n",
        "# model2, vectorizer = train_classifier(full_para_list_gables, anno.return_target(\"gables\"), prnt = False)\n",
        "# test(full_para_list_dreams, model2, vectorizer, anno.return_target(\"dreams\"))\n",
        "\n",
        "# print(\"trained on AHD, tested on AHD (control)\")\n",
        "# model2, vectorizer = train_classifier(full_para_list_dreams,anno.return_target(\"dreams\"), prnt = False)\n",
        "# test(full_para_list_dreams, model2, vectorizer, anno.return_target(\"dreams\"))\n",
        "\n",
        "# print(\"trained on AHD, tested on AGG\")\n",
        "# model2, vectorizer = train_classifier(full_para_list_dreams, anno.return_target(\"dreams\"), prnt = False)\n",
        "# test(full_para_list_gables, model2, vectorizer, anno.return_target(\"dreams\"))"
      ],
      "execution_count": 0,
      "outputs": []
    },
    {
      "cell_type": "code",
      "metadata": {
        "id": "35aIY4lzn60h",
        "colab_type": "code",
        "outputId": "bbb2b205-ab3f-402b-8983-5df4e03a9567",
        "colab": {
          "base_uri": "https://localhost:8080/",
          "height": 34
        }
      },
      "source": [
        "targets[7][0]"
      ],
      "execution_count": 0,
      "outputs": [
        {
          "output_type": "execute_result",
          "data": {
            "text/plain": [
              "[0]"
            ]
          },
          "metadata": {
            "tags": []
          },
          "execution_count": 14
        }
      ]
    },
    {
      "cell_type": "code",
      "metadata": {
        "id": "7gDRvFs7w1Bq",
        "colab_type": "code",
        "outputId": "3fde650a-0c7e-4006-b7d7-673fa2519d8c",
        "colab": {
          "base_uri": "https://localhost:8080/",
          "height": 153
        }
      },
      "source": [
        "downsampled_sentences = []\n",
        "downsampled_targets = []\n",
        "for k in range(len(targets)):\n",
        "  y = np.array(targets[k])\n",
        "  x = np.array(sentences[k])\n",
        "  ind_0 = [e for e, i in enumerate(y) if i[0]==0]\n",
        "  ind_1 = [e for e, i in enumerate(y) if i[0]==1]\n",
        "  #     print(ind_0)\n",
        "  #     print(ind_1)\n",
        "  print(len(ind_0), len(ind_1))\n",
        "\n",
        "\n",
        "  if len(ind_0)>len(ind_1):\n",
        "\n",
        "      new_indices = random.sample(ind_0, len(ind_1))\n",
        "  #         print(new_indices)\n",
        "      x = np.vstack([x[new_indices], x[ind_1]])\n",
        "      y = [0 for i in range(len(new_indices))] + [1 for i in range(len(ind_1))]\n",
        "  else:\n",
        "      new_indices = sample(ind_1, len(ind_0))\n",
        "      x = np.vstack([x[new_indices], x[ind_0]])\n",
        "      y = [0 for i in range(len(new_indices))] + [1 for i in range(len(ind_0))]\n",
        "  downsampled_sentences.append(x)\n",
        "  downsampled_targets.append([[i] for i in y])"
      ],
      "execution_count": 0,
      "outputs": [
        {
          "output_type": "stream",
          "text": [
            "675 495\n",
            "738 488\n",
            "642 454\n",
            "490 243\n",
            "491 365\n",
            "983 211\n",
            "922 42\n",
            "977 10\n"
          ],
          "name": "stdout"
        }
      ]
    },
    {
      "cell_type": "code",
      "metadata": {
        "id": "PUj2gkvsaFby",
        "colab_type": "code",
        "outputId": "16debcd1-d9a9-408c-8357-cfcccc306b7b",
        "colab": {
          "base_uri": "https://localhost:8080/",
          "height": 1000
        }
      },
      "source": [
        "#as compared to other nsubj sentences\n",
        "\n",
        "classification_accuracy = np.zeros((8, 8))\n",
        "classification_recall1 = np.zeros((8, 8))\n",
        "classification_recall0 = np.zeros((8, 8))\n",
        "classification_precision1 = np.zeros((8, 8))\n",
        "classification_precision0 = np.zeros((8, 8))\n",
        "models = []\n",
        "vectorizers =[]\n",
        "train_and_test = [train_test_split(downsampled_sentences[e], downsampled_targets[e], train_size = 0.7) for e in range(len(downsampled_sentences))]\n",
        "\n",
        "for i in range(len(downsampled_sentences)):\n",
        "  for e in range(len(downsampled_sentences)):\n",
        "    X_train, y_train = train_and_test[i][0], train_and_test[i][2]\n",
        "    if i==e:\n",
        "      X_test, y_test = train_and_test[e][1], train_and_test[e][3]\n",
        "    else:\n",
        "      X_test, y_test = train_and_test[e][0], train_and_test[e][2]\n",
        "\n",
        "    print(\"trained on {}, tested on {}\".format(books[i], books[e]))\n",
        "    model2, vectorizer = train_classifier(X_train, y_train, prnt = False)\n",
        "    accuracy, precision1, precision0, recall1, recall0 = test(X_test, model2, vectorizer, y_test)\n",
        "    classification_accuracy[i][e]=accuracy\n",
        "    classification_recall1[i][e]=recall1\n",
        "    classification_recall0[i][e]=recall0\n",
        "    classification_precision1[i][e]=precision1\n",
        "    classification_precision0[i][e]=precision0\n",
        "  models.append(model2)\n",
        "  vectorizers.append(vectorizer)"
      ],
      "execution_count": 0,
      "outputs": [
        {
          "output_type": "stream",
          "text": [
            "trained on gables, tested on gables\n",
            "trained on gables, tested on avonlea\n",
            "trained on gables, tested on island\n",
            "trained on gables, tested on poplars\n",
            "trained on gables, tested on dreams\n",
            "trained on gables, tested on ingleside\n",
            "trained on gables, tested on rainbow\n",
            "trained on gables, tested on rilla\n",
            "trained on avonlea, tested on gables\n",
            "trained on avonlea, tested on avonlea\n",
            "trained on avonlea, tested on island\n",
            "trained on avonlea, tested on poplars\n",
            "trained on avonlea, tested on dreams\n",
            "trained on avonlea, tested on ingleside\n",
            "trained on avonlea, tested on rainbow\n",
            "trained on avonlea, tested on rilla\n",
            "trained on island, tested on gables\n",
            "trained on island, tested on avonlea\n",
            "trained on island, tested on island\n",
            "trained on island, tested on poplars\n",
            "trained on island, tested on dreams\n",
            "trained on island, tested on ingleside\n",
            "trained on island, tested on rainbow\n",
            "trained on island, tested on rilla\n",
            "trained on poplars, tested on gables\n",
            "trained on poplars, tested on avonlea\n",
            "trained on poplars, tested on island\n",
            "trained on poplars, tested on poplars\n",
            "trained on poplars, tested on dreams\n",
            "trained on poplars, tested on ingleside\n",
            "trained on poplars, tested on rainbow\n",
            "trained on poplars, tested on rilla\n",
            "trained on dreams, tested on gables\n",
            "trained on dreams, tested on avonlea\n",
            "trained on dreams, tested on island\n",
            "trained on dreams, tested on poplars\n",
            "trained on dreams, tested on dreams\n",
            "trained on dreams, tested on ingleside\n",
            "trained on dreams, tested on rainbow\n",
            "trained on dreams, tested on rilla\n",
            "trained on ingleside, tested on gables\n",
            "trained on ingleside, tested on avonlea\n",
            "trained on ingleside, tested on island\n",
            "trained on ingleside, tested on poplars\n",
            "trained on ingleside, tested on dreams\n",
            "trained on ingleside, tested on ingleside\n",
            "trained on ingleside, tested on rainbow\n",
            "trained on ingleside, tested on rilla\n",
            "trained on rainbow, tested on gables\n",
            "trained on rainbow, tested on avonlea\n",
            "trained on rainbow, tested on island\n",
            "trained on rainbow, tested on poplars\n",
            "trained on rainbow, tested on dreams\n",
            "trained on rainbow, tested on ingleside\n",
            "trained on rainbow, tested on rainbow\n",
            "trained on rainbow, tested on rilla\n",
            "trained on rilla, tested on gables\n",
            "trained on rilla, tested on avonlea\n",
            "trained on rilla, tested on island\n",
            "trained on rilla, tested on poplars\n",
            "trained on rilla, tested on dreams\n",
            "trained on rilla, tested on ingleside\n",
            "trained on rilla, tested on rainbow\n",
            "trained on rilla, tested on rilla\n"
          ],
          "name": "stdout"
        }
      ]
    },
    {
      "cell_type": "code",
      "metadata": {
        "id": "dI-4FCemZv7i",
        "colab_type": "code",
        "colab": {}
      },
      "source": [
        "classification_accuracy = np.around(classification_accuracy, 3)\n",
        "df_acc = pd.DataFrame(classification_accuracy, columns = books)\n",
        "df_acc.rename(index={0:'gables', 1:'avonlea', 2:'island', 3: 'poplars', 4:'dreams', 5:'ingleside', 6:'rainbow', 7:'rilla'} ,inplace=True)\n",
        "\n",
        "classification_precision1 = np.around(classification_precision1, 3)\n",
        "df_classification_precision1 = pd.DataFrame(classification_precision1, columns = books)\n",
        "df_classification_precision1.rename(index={0:'gables', 1:'avonlea', 2:'island', 3: 'poplars', 4:'dreams', 5:'ingleside', 6:'rainbow', 7:'rilla'} ,inplace=True)\n",
        "\n",
        "classification_precision0 = np.around(classification_precision0, 3)\n",
        "df_classification_precision0 = pd.DataFrame(classification_precision0, columns = books)\n",
        "df_classification_precision0.rename(index={0:'gables', 1:'avonlea', 2:'island', 3: 'poplars', 4:'dreams', 5:'ingleside', 6:'rainbow', 7:'rilla'} ,inplace=True)\n",
        "\n",
        "classification_recall0 = np.around(classification_recall0, 3)\n",
        "df_classification_recall0 = pd.DataFrame(classification_recall0, columns = books)\n",
        "df_classification_recall0.rename(index={0:'gables', 1:'avonlea', 2:'island', 3: 'poplars', 4:'dreams', 5:'ingleside', 6:'rainbow', 7:'rilla'} ,inplace=True)\n",
        "\n",
        "classification_recall1 = np.around(classification_recall1, 3)\n",
        "df_classification_recall1 = pd.DataFrame(classification_recall1, columns = books)\n",
        "df_classification_recall1.rename(index={0:'gables', 1:'avonlea', 2:'island', 3: 'poplars', 4:'dreams', 5:'ingleside', 6:'rainbow', 7:'rilla'} ,inplace=True)"
      ],
      "execution_count": 0,
      "outputs": []
    },
    {
      "cell_type": "code",
      "metadata": {
        "id": "T1dm2TXpQwD7",
        "colab_type": "code",
        "outputId": "2f89572c-d467-4e01-ebf8-8b94c97771c3",
        "colab": {
          "base_uri": "https://localhost:8080/",
          "height": 297
        }
      },
      "source": [
        "df_acc"
      ],
      "execution_count": 0,
      "outputs": [
        {
          "output_type": "execute_result",
          "data": {
            "text/html": [
              "<div>\n",
              "<style scoped>\n",
              "    .dataframe tbody tr th:only-of-type {\n",
              "        vertical-align: middle;\n",
              "    }\n",
              "\n",
              "    .dataframe tbody tr th {\n",
              "        vertical-align: top;\n",
              "    }\n",
              "\n",
              "    .dataframe thead th {\n",
              "        text-align: right;\n",
              "    }\n",
              "</style>\n",
              "<table border=\"1\" class=\"dataframe\">\n",
              "  <thead>\n",
              "    <tr style=\"text-align: right;\">\n",
              "      <th></th>\n",
              "      <th>gables</th>\n",
              "      <th>avonlea</th>\n",
              "      <th>island</th>\n",
              "      <th>poplars</th>\n",
              "      <th>dreams</th>\n",
              "      <th>ingleside</th>\n",
              "      <th>rainbow</th>\n",
              "      <th>rilla</th>\n",
              "    </tr>\n",
              "  </thead>\n",
              "  <tbody>\n",
              "    <tr>\n",
              "      <th>gables</th>\n",
              "      <td>0.556</td>\n",
              "      <td>0.496</td>\n",
              "      <td>0.517</td>\n",
              "      <td>0.456</td>\n",
              "      <td>0.520</td>\n",
              "      <td>0.475</td>\n",
              "      <td>0.448</td>\n",
              "      <td>0.429</td>\n",
              "    </tr>\n",
              "    <tr>\n",
              "      <th>avonlea</th>\n",
              "      <td>0.524</td>\n",
              "      <td>0.549</td>\n",
              "      <td>0.521</td>\n",
              "      <td>0.471</td>\n",
              "      <td>0.535</td>\n",
              "      <td>0.539</td>\n",
              "      <td>0.448</td>\n",
              "      <td>0.429</td>\n",
              "    </tr>\n",
              "    <tr>\n",
              "      <th>island</th>\n",
              "      <td>0.535</td>\n",
              "      <td>0.489</td>\n",
              "      <td>0.495</td>\n",
              "      <td>0.482</td>\n",
              "      <td>0.524</td>\n",
              "      <td>0.519</td>\n",
              "      <td>0.483</td>\n",
              "      <td>0.286</td>\n",
              "    </tr>\n",
              "    <tr>\n",
              "      <th>poplars</th>\n",
              "      <td>0.492</td>\n",
              "      <td>0.499</td>\n",
              "      <td>0.488</td>\n",
              "      <td>0.500</td>\n",
              "      <td>0.506</td>\n",
              "      <td>0.505</td>\n",
              "      <td>0.500</td>\n",
              "      <td>0.571</td>\n",
              "    </tr>\n",
              "    <tr>\n",
              "      <th>dreams</th>\n",
              "      <td>0.534</td>\n",
              "      <td>0.551</td>\n",
              "      <td>0.540</td>\n",
              "      <td>0.503</td>\n",
              "      <td>0.509</td>\n",
              "      <td>0.508</td>\n",
              "      <td>0.397</td>\n",
              "      <td>0.500</td>\n",
              "    </tr>\n",
              "    <tr>\n",
              "      <th>ingleside</th>\n",
              "      <td>0.508</td>\n",
              "      <td>0.521</td>\n",
              "      <td>0.520</td>\n",
              "      <td>0.512</td>\n",
              "      <td>0.512</td>\n",
              "      <td>0.535</td>\n",
              "      <td>0.603</td>\n",
              "      <td>0.571</td>\n",
              "    </tr>\n",
              "    <tr>\n",
              "      <th>rainbow</th>\n",
              "      <td>0.495</td>\n",
              "      <td>0.507</td>\n",
              "      <td>0.494</td>\n",
              "      <td>0.515</td>\n",
              "      <td>0.506</td>\n",
              "      <td>0.542</td>\n",
              "      <td>0.462</td>\n",
              "      <td>0.571</td>\n",
              "    </tr>\n",
              "    <tr>\n",
              "      <th>rilla</th>\n",
              "      <td>0.515</td>\n",
              "      <td>0.520</td>\n",
              "      <td>0.469</td>\n",
              "      <td>0.529</td>\n",
              "      <td>0.520</td>\n",
              "      <td>0.481</td>\n",
              "      <td>0.483</td>\n",
              "      <td>0.333</td>\n",
              "    </tr>\n",
              "  </tbody>\n",
              "</table>\n",
              "</div>"
            ],
            "text/plain": [
              "           gables  avonlea  island  poplars  dreams  ingleside  rainbow  rilla\n",
              "gables      0.556    0.496   0.517    0.456   0.520      0.475    0.448  0.429\n",
              "avonlea     0.524    0.549   0.521    0.471   0.535      0.539    0.448  0.429\n",
              "island      0.535    0.489   0.495    0.482   0.524      0.519    0.483  0.286\n",
              "poplars     0.492    0.499   0.488    0.500   0.506      0.505    0.500  0.571\n",
              "dreams      0.534    0.551   0.540    0.503   0.509      0.508    0.397  0.500\n",
              "ingleside   0.508    0.521   0.520    0.512   0.512      0.535    0.603  0.571\n",
              "rainbow     0.495    0.507   0.494    0.515   0.506      0.542    0.462  0.571\n",
              "rilla       0.515    0.520   0.469    0.529   0.520      0.481    0.483  0.333"
            ]
          },
          "metadata": {
            "tags": []
          },
          "execution_count": 18
        }
      ]
    },
    {
      "cell_type": "code",
      "metadata": {
        "id": "5ZcFGCHjUB3H",
        "colab_type": "code",
        "outputId": "9c4e3802-000e-486b-8fa1-9237c6e0bd76",
        "colab": {
          "base_uri": "https://localhost:8080/",
          "height": 297
        }
      },
      "source": [
        "df_classification_precision1"
      ],
      "execution_count": 0,
      "outputs": [
        {
          "output_type": "execute_result",
          "data": {
            "text/html": [
              "<div>\n",
              "<style scoped>\n",
              "    .dataframe tbody tr th:only-of-type {\n",
              "        vertical-align: middle;\n",
              "    }\n",
              "\n",
              "    .dataframe tbody tr th {\n",
              "        vertical-align: top;\n",
              "    }\n",
              "\n",
              "    .dataframe thead th {\n",
              "        text-align: right;\n",
              "    }\n",
              "</style>\n",
              "<table border=\"1\" class=\"dataframe\">\n",
              "  <thead>\n",
              "    <tr style=\"text-align: right;\">\n",
              "      <th></th>\n",
              "      <th>gables</th>\n",
              "      <th>avonlea</th>\n",
              "      <th>island</th>\n",
              "      <th>poplars</th>\n",
              "      <th>dreams</th>\n",
              "      <th>ingleside</th>\n",
              "      <th>rainbow</th>\n",
              "      <th>rilla</th>\n",
              "    </tr>\n",
              "  </thead>\n",
              "  <tbody>\n",
              "    <tr>\n",
              "      <th>gables</th>\n",
              "      <td>0.569</td>\n",
              "      <td>0.486</td>\n",
              "      <td>0.520</td>\n",
              "      <td>0.431</td>\n",
              "      <td>0.514</td>\n",
              "      <td>0.463</td>\n",
              "      <td>0.459</td>\n",
              "      <td>0.333</td>\n",
              "    </tr>\n",
              "    <tr>\n",
              "      <th>avonlea</th>\n",
              "      <td>0.518</td>\n",
              "      <td>0.572</td>\n",
              "      <td>0.531</td>\n",
              "      <td>0.434</td>\n",
              "      <td>0.537</td>\n",
              "      <td>0.529</td>\n",
              "      <td>0.448</td>\n",
              "      <td>0.333</td>\n",
              "    </tr>\n",
              "    <tr>\n",
              "      <th>island</th>\n",
              "      <td>0.526</td>\n",
              "      <td>0.483</td>\n",
              "      <td>0.488</td>\n",
              "      <td>0.464</td>\n",
              "      <td>0.516</td>\n",
              "      <td>0.503</td>\n",
              "      <td>0.481</td>\n",
              "      <td>0.222</td>\n",
              "    </tr>\n",
              "    <tr>\n",
              "      <th>poplars</th>\n",
              "      <td>0.481</td>\n",
              "      <td>0.488</td>\n",
              "      <td>0.491</td>\n",
              "      <td>0.576</td>\n",
              "      <td>0.502</td>\n",
              "      <td>0.488</td>\n",
              "      <td>0.500</td>\n",
              "      <td>0.333</td>\n",
              "    </tr>\n",
              "    <tr>\n",
              "      <th>dreams</th>\n",
              "      <td>0.533</td>\n",
              "      <td>0.540</td>\n",
              "      <td>0.543</td>\n",
              "      <td>0.474</td>\n",
              "      <td>0.521</td>\n",
              "      <td>0.494</td>\n",
              "      <td>0.385</td>\n",
              "      <td>0.375</td>\n",
              "    </tr>\n",
              "    <tr>\n",
              "      <th>ingleside</th>\n",
              "      <td>0.502</td>\n",
              "      <td>0.515</td>\n",
              "      <td>0.531</td>\n",
              "      <td>0.483</td>\n",
              "      <td>0.510</td>\n",
              "      <td>0.582</td>\n",
              "      <td>0.636</td>\n",
              "      <td>0.400</td>\n",
              "    </tr>\n",
              "    <tr>\n",
              "      <th>rainbow</th>\n",
              "      <td>0.481</td>\n",
              "      <td>0.496</td>\n",
              "      <td>0.498</td>\n",
              "      <td>0.484</td>\n",
              "      <td>0.502</td>\n",
              "      <td>0.533</td>\n",
              "      <td>0.467</td>\n",
              "      <td>0.400</td>\n",
              "    </tr>\n",
              "    <tr>\n",
              "      <th>rilla</th>\n",
              "      <td>0.529</td>\n",
              "      <td>0.540</td>\n",
              "      <td>0.400</td>\n",
              "      <td>0.512</td>\n",
              "      <td>0.577</td>\n",
              "      <td>0.344</td>\n",
              "      <td>0.400</td>\n",
              "      <td>1.000</td>\n",
              "    </tr>\n",
              "  </tbody>\n",
              "</table>\n",
              "</div>"
            ],
            "text/plain": [
              "           gables  avonlea  island  poplars  dreams  ingleside  rainbow  rilla\n",
              "gables      0.569    0.486   0.520    0.431   0.514      0.463    0.459  0.333\n",
              "avonlea     0.518    0.572   0.531    0.434   0.537      0.529    0.448  0.333\n",
              "island      0.526    0.483   0.488    0.464   0.516      0.503    0.481  0.222\n",
              "poplars     0.481    0.488   0.491    0.576   0.502      0.488    0.500  0.333\n",
              "dreams      0.533    0.540   0.543    0.474   0.521      0.494    0.385  0.375\n",
              "ingleside   0.502    0.515   0.531    0.483   0.510      0.582    0.636  0.400\n",
              "rainbow     0.481    0.496   0.498    0.484   0.502      0.533    0.467  0.400\n",
              "rilla       0.529    0.540   0.400    0.512   0.577      0.344    0.400  1.000"
            ]
          },
          "metadata": {
            "tags": []
          },
          "execution_count": 19
        }
      ]
    },
    {
      "cell_type": "code",
      "metadata": {
        "id": "ZTWL-e7xUEPm",
        "colab_type": "code",
        "outputId": "6214ff03-c4f8-41dd-abc1-db689785fc40",
        "colab": {
          "base_uri": "https://localhost:8080/",
          "height": 297
        }
      },
      "source": [
        "df_classification_precision0"
      ],
      "execution_count": 0,
      "outputs": [
        {
          "output_type": "execute_result",
          "data": {
            "text/html": [
              "<div>\n",
              "<style scoped>\n",
              "    .dataframe tbody tr th:only-of-type {\n",
              "        vertical-align: middle;\n",
              "    }\n",
              "\n",
              "    .dataframe tbody tr th {\n",
              "        vertical-align: top;\n",
              "    }\n",
              "\n",
              "    .dataframe thead th {\n",
              "        text-align: right;\n",
              "    }\n",
              "</style>\n",
              "<table border=\"1\" class=\"dataframe\">\n",
              "  <thead>\n",
              "    <tr style=\"text-align: right;\">\n",
              "      <th></th>\n",
              "      <th>gables</th>\n",
              "      <th>avonlea</th>\n",
              "      <th>island</th>\n",
              "      <th>poplars</th>\n",
              "      <th>dreams</th>\n",
              "      <th>ingleside</th>\n",
              "      <th>rainbow</th>\n",
              "      <th>rilla</th>\n",
              "    </tr>\n",
              "  </thead>\n",
              "  <tbody>\n",
              "    <tr>\n",
              "      <th>gables</th>\n",
              "      <td>0.542</td>\n",
              "      <td>0.506</td>\n",
              "      <td>0.513</td>\n",
              "      <td>0.482</td>\n",
              "      <td>0.526</td>\n",
              "      <td>0.489</td>\n",
              "      <td>0.429</td>\n",
              "      <td>0.600</td>\n",
              "    </tr>\n",
              "    <tr>\n",
              "      <th>avonlea</th>\n",
              "      <td>0.530</td>\n",
              "      <td>0.527</td>\n",
              "      <td>0.515</td>\n",
              "      <td>0.497</td>\n",
              "      <td>0.534</td>\n",
              "      <td>0.546</td>\n",
              "      <td>0.448</td>\n",
              "      <td>0.600</td>\n",
              "    </tr>\n",
              "    <tr>\n",
              "      <th>island</th>\n",
              "      <td>0.547</td>\n",
              "      <td>0.498</td>\n",
              "      <td>0.505</td>\n",
              "      <td>0.511</td>\n",
              "      <td>0.537</td>\n",
              "      <td>0.542</td>\n",
              "      <td>0.484</td>\n",
              "      <td>0.400</td>\n",
              "    </tr>\n",
              "    <tr>\n",
              "      <th>poplars</th>\n",
              "      <td>0.499</td>\n",
              "      <td>0.508</td>\n",
              "      <td>0.486</td>\n",
              "      <td>0.448</td>\n",
              "      <td>0.508</td>\n",
              "      <td>0.518</td>\n",
              "      <td>0.500</td>\n",
              "      <td>0.636</td>\n",
              "    </tr>\n",
              "    <tr>\n",
              "      <th>dreams</th>\n",
              "      <td>0.535</td>\n",
              "      <td>0.562</td>\n",
              "      <td>0.537</td>\n",
              "      <td>0.527</td>\n",
              "      <td>0.500</td>\n",
              "      <td>0.525</td>\n",
              "      <td>0.406</td>\n",
              "      <td>0.667</td>\n",
              "    </tr>\n",
              "    <tr>\n",
              "      <th>ingleside</th>\n",
              "      <td>0.511</td>\n",
              "      <td>0.525</td>\n",
              "      <td>0.513</td>\n",
              "      <td>0.534</td>\n",
              "      <td>0.513</td>\n",
              "      <td>0.500</td>\n",
              "      <td>0.583</td>\n",
              "      <td>0.667</td>\n",
              "    </tr>\n",
              "    <tr>\n",
              "      <th>rainbow</th>\n",
              "      <td>0.501</td>\n",
              "      <td>0.513</td>\n",
              "      <td>0.493</td>\n",
              "      <td>0.533</td>\n",
              "      <td>0.509</td>\n",
              "      <td>0.549</td>\n",
              "      <td>0.455</td>\n",
              "      <td>0.667</td>\n",
              "    </tr>\n",
              "    <tr>\n",
              "      <th>rilla</th>\n",
              "      <td>0.513</td>\n",
              "      <td>0.517</td>\n",
              "      <td>0.480</td>\n",
              "      <td>0.532</td>\n",
              "      <td>0.513</td>\n",
              "      <td>0.498</td>\n",
              "      <td>0.491</td>\n",
              "      <td>0.200</td>\n",
              "    </tr>\n",
              "  </tbody>\n",
              "</table>\n",
              "</div>"
            ],
            "text/plain": [
              "           gables  avonlea  island  poplars  dreams  ingleside  rainbow  rilla\n",
              "gables      0.542    0.506   0.513    0.482   0.526      0.489    0.429  0.600\n",
              "avonlea     0.530    0.527   0.515    0.497   0.534      0.546    0.448  0.600\n",
              "island      0.547    0.498   0.505    0.511   0.537      0.542    0.484  0.400\n",
              "poplars     0.499    0.508   0.486    0.448   0.508      0.518    0.500  0.636\n",
              "dreams      0.535    0.562   0.537    0.527   0.500      0.525    0.406  0.667\n",
              "ingleside   0.511    0.525   0.513    0.534   0.513      0.500    0.583  0.667\n",
              "rainbow     0.501    0.513   0.493    0.533   0.509      0.549    0.455  0.667\n",
              "rilla       0.513    0.517   0.480    0.532   0.513      0.498    0.491  0.200"
            ]
          },
          "metadata": {
            "tags": []
          },
          "execution_count": 20
        }
      ]
    },
    {
      "cell_type": "code",
      "metadata": {
        "id": "-rUfJLpbUGK4",
        "colab_type": "code",
        "outputId": "072f98ec-60dc-4a3b-8ca9-9328225c1a7c",
        "colab": {
          "base_uri": "https://localhost:8080/",
          "height": 297
        }
      },
      "source": [
        "df_classification_recall0 "
      ],
      "execution_count": 0,
      "outputs": [
        {
          "output_type": "execute_result",
          "data": {
            "text/html": [
              "<div>\n",
              "<style scoped>\n",
              "    .dataframe tbody tr th:only-of-type {\n",
              "        vertical-align: middle;\n",
              "    }\n",
              "\n",
              "    .dataframe tbody tr th {\n",
              "        vertical-align: top;\n",
              "    }\n",
              "\n",
              "    .dataframe thead th {\n",
              "        text-align: right;\n",
              "    }\n",
              "</style>\n",
              "<table border=\"1\" class=\"dataframe\">\n",
              "  <thead>\n",
              "    <tr style=\"text-align: right;\">\n",
              "      <th></th>\n",
              "      <th>gables</th>\n",
              "      <th>avonlea</th>\n",
              "      <th>island</th>\n",
              "      <th>poplars</th>\n",
              "      <th>dreams</th>\n",
              "      <th>ingleside</th>\n",
              "      <th>rainbow</th>\n",
              "      <th>rilla</th>\n",
              "    </tr>\n",
              "  </thead>\n",
              "  <tbody>\n",
              "    <tr>\n",
              "      <th>gables</th>\n",
              "      <td>0.542</td>\n",
              "      <td>0.526</td>\n",
              "      <td>0.511</td>\n",
              "      <td>0.447</td>\n",
              "      <td>0.471</td>\n",
              "      <td>0.428</td>\n",
              "      <td>0.310</td>\n",
              "      <td>0.333</td>\n",
              "    </tr>\n",
              "    <tr>\n",
              "      <th>avonlea</th>\n",
              "      <td>0.536</td>\n",
              "      <td>0.557</td>\n",
              "      <td>0.610</td>\n",
              "      <td>0.542</td>\n",
              "      <td>0.607</td>\n",
              "      <td>0.625</td>\n",
              "      <td>0.448</td>\n",
              "      <td>0.333</td>\n",
              "    </tr>\n",
              "    <tr>\n",
              "      <th>island</th>\n",
              "      <td>0.484</td>\n",
              "      <td>0.391</td>\n",
              "      <td>0.403</td>\n",
              "      <td>0.374</td>\n",
              "      <td>0.397</td>\n",
              "      <td>0.428</td>\n",
              "      <td>0.517</td>\n",
              "      <td>0.222</td>\n",
              "    </tr>\n",
              "    <tr>\n",
              "      <th>poplars</th>\n",
              "      <td>0.615</td>\n",
              "      <td>0.566</td>\n",
              "      <td>0.537</td>\n",
              "      <td>0.609</td>\n",
              "      <td>0.603</td>\n",
              "      <td>0.566</td>\n",
              "      <td>0.690</td>\n",
              "      <td>0.778</td>\n",
              "    </tr>\n",
              "    <tr>\n",
              "      <th>dreams</th>\n",
              "      <td>0.615</td>\n",
              "      <td>0.532</td>\n",
              "      <td>0.530</td>\n",
              "      <td>0.547</td>\n",
              "      <td>0.574</td>\n",
              "      <td>0.480</td>\n",
              "      <td>0.448</td>\n",
              "      <td>0.444</td>\n",
              "    </tr>\n",
              "    <tr>\n",
              "      <th>ingleside</th>\n",
              "      <td>0.641</td>\n",
              "      <td>0.632</td>\n",
              "      <td>0.641</td>\n",
              "      <td>0.570</td>\n",
              "      <td>0.607</td>\n",
              "      <td>0.610</td>\n",
              "      <td>0.724</td>\n",
              "      <td>0.667</td>\n",
              "    </tr>\n",
              "    <tr>\n",
              "      <th>rainbow</th>\n",
              "      <td>0.687</td>\n",
              "      <td>0.603</td>\n",
              "      <td>0.632</td>\n",
              "      <td>0.631</td>\n",
              "      <td>0.549</td>\n",
              "      <td>0.632</td>\n",
              "      <td>0.385</td>\n",
              "      <td>0.667</td>\n",
              "    </tr>\n",
              "    <tr>\n",
              "      <th>rilla</th>\n",
              "      <td>0.860</td>\n",
              "      <td>0.885</td>\n",
              "      <td>0.838</td>\n",
              "      <td>0.888</td>\n",
              "      <td>0.914</td>\n",
              "      <td>0.862</td>\n",
              "      <td>0.897</td>\n",
              "      <td>1.000</td>\n",
              "    </tr>\n",
              "  </tbody>\n",
              "</table>\n",
              "</div>"
            ],
            "text/plain": [
              "           gables  avonlea  island  poplars  dreams  ingleside  rainbow  rilla\n",
              "gables      0.542    0.526   0.511    0.447   0.471      0.428    0.310  0.333\n",
              "avonlea     0.536    0.557   0.610    0.542   0.607      0.625    0.448  0.333\n",
              "island      0.484    0.391   0.403    0.374   0.397      0.428    0.517  0.222\n",
              "poplars     0.615    0.566   0.537    0.609   0.603      0.566    0.690  0.778\n",
              "dreams      0.615    0.532   0.530    0.547   0.574      0.480    0.448  0.444\n",
              "ingleside   0.641    0.632   0.641    0.570   0.607      0.610    0.724  0.667\n",
              "rainbow     0.687    0.603   0.632    0.631   0.549      0.632    0.385  0.667\n",
              "rilla       0.860    0.885   0.838    0.888   0.914      0.862    0.897  1.000"
            ]
          },
          "metadata": {
            "tags": []
          },
          "execution_count": 21
        }
      ]
    },
    {
      "cell_type": "code",
      "metadata": {
        "id": "luiYxbpwUJhu",
        "colab_type": "code",
        "outputId": "44919fe5-b93e-4a0d-f395-221f6f060db5",
        "colab": {
          "base_uri": "https://localhost:8080/",
          "height": 297
        }
      },
      "source": [
        "df_classification_recall1"
      ],
      "execution_count": 0,
      "outputs": [
        {
          "output_type": "execute_result",
          "data": {
            "text/html": [
              "<div>\n",
              "<style scoped>\n",
              "    .dataframe tbody tr th:only-of-type {\n",
              "        vertical-align: middle;\n",
              "    }\n",
              "\n",
              "    .dataframe tbody tr th {\n",
              "        vertical-align: top;\n",
              "    }\n",
              "\n",
              "    .dataframe thead th {\n",
              "        text-align: right;\n",
              "    }\n",
              "</style>\n",
              "<table border=\"1\" class=\"dataframe\">\n",
              "  <thead>\n",
              "    <tr style=\"text-align: right;\">\n",
              "      <th></th>\n",
              "      <th>gables</th>\n",
              "      <th>avonlea</th>\n",
              "      <th>island</th>\n",
              "      <th>poplars</th>\n",
              "      <th>dreams</th>\n",
              "      <th>ingleside</th>\n",
              "      <th>rainbow</th>\n",
              "      <th>rilla</th>\n",
              "    </tr>\n",
              "  </thead>\n",
              "  <tbody>\n",
              "    <tr>\n",
              "      <th>gables</th>\n",
              "      <td>0.569</td>\n",
              "      <td>0.466</td>\n",
              "      <td>0.522</td>\n",
              "      <td>0.466</td>\n",
              "      <td>0.569</td>\n",
              "      <td>0.524</td>\n",
              "      <td>0.586</td>\n",
              "      <td>0.6</td>\n",
              "    </tr>\n",
              "    <tr>\n",
              "      <th>avonlea</th>\n",
              "      <td>0.512</td>\n",
              "      <td>0.542</td>\n",
              "      <td>0.434</td>\n",
              "      <td>0.391</td>\n",
              "      <td>0.462</td>\n",
              "      <td>0.448</td>\n",
              "      <td>0.448</td>\n",
              "      <td>0.6</td>\n",
              "    </tr>\n",
              "    <tr>\n",
              "      <th>island</th>\n",
              "      <td>0.588</td>\n",
              "      <td>0.591</td>\n",
              "      <td>0.590</td>\n",
              "      <td>0.602</td>\n",
              "      <td>0.652</td>\n",
              "      <td>0.615</td>\n",
              "      <td>0.448</td>\n",
              "      <td>0.4</td>\n",
              "    </tr>\n",
              "    <tr>\n",
              "      <th>poplars</th>\n",
              "      <td>0.365</td>\n",
              "      <td>0.430</td>\n",
              "      <td>0.441</td>\n",
              "      <td>0.415</td>\n",
              "      <td>0.407</td>\n",
              "      <td>0.441</td>\n",
              "      <td>0.310</td>\n",
              "      <td>0.2</td>\n",
              "    </tr>\n",
              "    <tr>\n",
              "      <th>dreams</th>\n",
              "      <td>0.450</td>\n",
              "      <td>0.570</td>\n",
              "      <td>0.550</td>\n",
              "      <td>0.453</td>\n",
              "      <td>0.446</td>\n",
              "      <td>0.538</td>\n",
              "      <td>0.345</td>\n",
              "      <td>0.6</td>\n",
              "    </tr>\n",
              "    <tr>\n",
              "      <th>ingleside</th>\n",
              "      <td>0.371</td>\n",
              "      <td>0.406</td>\n",
              "      <td>0.400</td>\n",
              "      <td>0.447</td>\n",
              "      <td>0.415</td>\n",
              "      <td>0.471</td>\n",
              "      <td>0.483</td>\n",
              "      <td>0.4</td>\n",
              "    </tr>\n",
              "    <tr>\n",
              "      <th>rainbow</th>\n",
              "      <td>0.298</td>\n",
              "      <td>0.406</td>\n",
              "      <td>0.359</td>\n",
              "      <td>0.385</td>\n",
              "      <td>0.462</td>\n",
              "      <td>0.448</td>\n",
              "      <td>0.538</td>\n",
              "      <td>0.4</td>\n",
              "    </tr>\n",
              "    <tr>\n",
              "      <th>rilla</th>\n",
              "      <td>0.161</td>\n",
              "      <td>0.140</td>\n",
              "      <td>0.106</td>\n",
              "      <td>0.130</td>\n",
              "      <td>0.119</td>\n",
              "      <td>0.077</td>\n",
              "      <td>0.069</td>\n",
              "      <td>0.2</td>\n",
              "    </tr>\n",
              "  </tbody>\n",
              "</table>\n",
              "</div>"
            ],
            "text/plain": [
              "           gables  avonlea  island  poplars  dreams  ingleside  rainbow  rilla\n",
              "gables      0.569    0.466   0.522    0.466   0.569      0.524    0.586    0.6\n",
              "avonlea     0.512    0.542   0.434    0.391   0.462      0.448    0.448    0.6\n",
              "island      0.588    0.591   0.590    0.602   0.652      0.615    0.448    0.4\n",
              "poplars     0.365    0.430   0.441    0.415   0.407      0.441    0.310    0.2\n",
              "dreams      0.450    0.570   0.550    0.453   0.446      0.538    0.345    0.6\n",
              "ingleside   0.371    0.406   0.400    0.447   0.415      0.471    0.483    0.4\n",
              "rainbow     0.298    0.406   0.359    0.385   0.462      0.448    0.538    0.4\n",
              "rilla       0.161    0.140   0.106    0.130   0.119      0.077    0.069    0.2"
            ]
          },
          "metadata": {
            "tags": []
          },
          "execution_count": 22
        }
      ]
    },
    {
      "cell_type": "code",
      "metadata": {
        "id": "09o7zB6uVwo0",
        "colab_type": "code",
        "outputId": "cb89405b-d795-4d26-84bf-7c317a41b413",
        "colab": {
          "base_uri": "https://localhost:8080/",
          "height": 1000
        }
      },
      "source": [
        "plt.scatter(books, df_acc.iloc[0])\n",
        "plt.title(\"Accuracy\")\n",
        "plt.show()\n",
        "plt.scatter(books, df_classification_recall1.iloc[0])\n",
        "plt.title(\"Recall, Target =1\")\n",
        "plt.show()\n",
        "plt.scatter(books, df_classification_recall0.iloc[0])\n",
        "plt.title(\"Recall, Target = 0\")\n",
        "plt.show()\n",
        "plt.scatter(books, df_classification_precision1.iloc[0])\n",
        "plt.title(\"Precision, Target = 1\")\n",
        "plt.show()\n",
        "plt.scatter(books, df_classification_precision0.iloc[0])\n",
        "plt.title(\"Precision, Target = 0\")\n",
        "plt.show()"
      ],
      "execution_count": 0,
      "outputs": [
        {
          "output_type": "display_data",
          "data": {
            "image/png": "[encoded data removed]",
            "text/plain": [
              "<Figure size 432x288 with 1 Axes>"
            ]
          },
          "metadata": {
            "tags": []
          }
        },
        {
          "output_type": "display_data",
          "data": {
            "image/png": "[encoded data removed]",
            "text/plain": [
              "<Figure size 432x288 with 1 Axes>"
            ]
          },
          "metadata": {
            "tags": []
          }
        },
        {
          "output_type": "display_data",
          "data": {
            "image/png": "[encoded data removed]",
            "text/plain": [
              "<Figure size 432x288 with 1 Axes>"
            ]
          },
          "metadata": {
            "tags": []
          }
        },
        {
          "output_type": "display_data",
          "data": {
            "image/png": "[encoded data removed]",
            "text/plain": [
              "<Figure size 432x288 with 1 Axes>"
            ]
          },
          "metadata": {
            "tags": []
          }
        },
        {
          "output_type": "display_data",
          "data": {
            "image/png": "[encoded data removed]",
            "text/plain": [
              "<Figure size 432x288 with 1 Axes>"
            ]
          },
          "metadata": {
            "tags": []
          }
        }
      ]
    },
    {
      "cell_type": "code",
      "metadata": {
        "id": "K6e9VY3WVD6R",
        "colab_type": "code",
        "colab": {}
      },
      "source": [
        "top10 = []\n",
        "for m in range(len(models)):\n",
        "  curr_10 = []\n",
        "  resv = dict((v,k) for k,v in vectorizers[m].vocabulary_.items())\n",
        "  for i in np.argsort(models[m].coef_[0])[-10:]:\n",
        "    curr_10.append(resv[i])\n",
        "  top10.append(curr_10)"
      ],
      "execution_count": 0,
      "outputs": []
    },
    {
      "cell_type": "code",
      "metadata": {
        "id": "oRILtxptW3Kf",
        "colab_type": "code",
        "outputId": "9fc62a67-0698-4cd6-8a8e-65f9cc232109",
        "colab": {
          "base_uri": "https://localhost:8080/",
          "height": 297
        }
      },
      "source": [
        "coef_df = pd.DataFrame(top10)\n",
        "coef_df.rename(index={0:'gables', 1:'avonlea', 2:'island', 3: 'poplars', 4:'dreams', 5:'ingleside', 6:'rainbow', 7:'rilla'} ,inplace=True)\n",
        "coef_df"
      ],
      "execution_count": 0,
      "outputs": [
        {
          "output_type": "execute_result",
          "data": {
            "text/html": [
              "<div>\n",
              "<style scoped>\n",
              "    .dataframe tbody tr th:only-of-type {\n",
              "        vertical-align: middle;\n",
              "    }\n",
              "\n",
              "    .dataframe tbody tr th {\n",
              "        vertical-align: top;\n",
              "    }\n",
              "\n",
              "    .dataframe thead th {\n",
              "        text-align: right;\n",
              "    }\n",
              "</style>\n",
              "<table border=\"1\" class=\"dataframe\">\n",
              "  <thead>\n",
              "    <tr style=\"text-align: right;\">\n",
              "      <th></th>\n",
              "      <th>0</th>\n",
              "      <th>1</th>\n",
              "      <th>2</th>\n",
              "      <th>3</th>\n",
              "      <th>4</th>\n",
              "      <th>5</th>\n",
              "      <th>6</th>\n",
              "      <th>7</th>\n",
              "      <th>8</th>\n",
              "      <th>9</th>\n",
              "    </tr>\n",
              "  </thead>\n",
              "  <tbody>\n",
              "    <tr>\n",
              "      <th>gables</th>\n",
              "      <td>mother</td>\n",
              "      <td>thank</td>\n",
              "      <td>dare</td>\n",
              "      <td>dear</td>\n",
              "      <td>nice</td>\n",
              "      <td>many</td>\n",
              "      <td>am</td>\n",
              "      <td>elaine</td>\n",
              "      <td>feel</td>\n",
              "      <td>improves</td>\n",
              "    </tr>\n",
              "    <tr>\n",
              "      <th>avonlea</th>\n",
              "      <td>went</td>\n",
              "      <td>this</td>\n",
              "      <td>andrews</td>\n",
              "      <td>story</td>\n",
              "      <td>oh</td>\n",
              "      <td>try</td>\n",
              "      <td>interesting</td>\n",
              "      <td>bother</td>\n",
              "      <td>much</td>\n",
              "      <td>indeed</td>\n",
              "    </tr>\n",
              "    <tr>\n",
              "      <th>island</th>\n",
              "      <td>right</td>\n",
              "      <td>davy</td>\n",
              "      <td>really</td>\n",
              "      <td>boulter</td>\n",
              "      <td>glad</td>\n",
              "      <td>says</td>\n",
              "      <td>priscilla</td>\n",
              "      <td>leave</td>\n",
              "      <td>forgive</td>\n",
              "      <td>such</td>\n",
              "    </tr>\n",
              "    <tr>\n",
              "      <th>poplars</th>\n",
              "      <td>course</td>\n",
              "      <td>babies</td>\n",
              "      <td>sit</td>\n",
              "      <td>just</td>\n",
              "      <td>any</td>\n",
              "      <td>quote</td>\n",
              "      <td>children</td>\n",
              "      <td>may</td>\n",
              "      <td>certainly</td>\n",
              "      <td>suppose</td>\n",
              "    </tr>\n",
              "    <tr>\n",
              "      <th>dreams</th>\n",
              "      <td>friend</td>\n",
              "      <td>house</td>\n",
              "      <td>dreams</td>\n",
              "      <td>housekeeper</td>\n",
              "      <td>our</td>\n",
              "      <td>everything</td>\n",
              "      <td>seem</td>\n",
              "      <td>heard</td>\n",
              "      <td>why</td>\n",
              "      <td>true</td>\n",
              "    </tr>\n",
              "    <tr>\n",
              "      <th>ingleside</th>\n",
              "      <td>must</td>\n",
              "      <td>think</td>\n",
              "      <td>not</td>\n",
              "      <td>very</td>\n",
              "      <td>always</td>\n",
              "      <td>mary</td>\n",
              "      <td>aunty</td>\n",
              "      <td>perhaps</td>\n",
              "      <td>that</td>\n",
              "      <td>so</td>\n",
              "    </tr>\n",
              "    <tr>\n",
              "      <th>rainbow</th>\n",
              "      <td>little</td>\n",
              "      <td>susan</td>\n",
              "      <td>think</td>\n",
              "      <td>meredith</td>\n",
              "      <td>did</td>\n",
              "      <td>is</td>\n",
              "      <td>splendid</td>\n",
              "      <td>what</td>\n",
              "      <td>do</td>\n",
              "      <td>really</td>\n",
              "    </tr>\n",
              "    <tr>\n",
              "      <th>rilla</th>\n",
              "      <td>darling</td>\n",
              "      <td>mean</td>\n",
              "      <td>kaiser</td>\n",
              "      <td>could</td>\n",
              "      <td>as</td>\n",
              "      <td>this</td>\n",
              "      <td>susan</td>\n",
              "      <td>you</td>\n",
              "      <td>if</td>\n",
              "      <td>what</td>\n",
              "    </tr>\n",
              "  </tbody>\n",
              "</table>\n",
              "</div>"
            ],
            "text/plain": [
              "                 0       1        2  ...        7          8         9\n",
              "gables      mother   thank     dare  ...   elaine       feel  improves\n",
              "avonlea       went    this  andrews  ...   bother       much    indeed\n",
              "island       right    davy   really  ...    leave    forgive      such\n",
              "poplars     course  babies      sit  ...      may  certainly   suppose\n",
              "dreams      friend   house   dreams  ...    heard        why      true\n",
              "ingleside     must   think      not  ...  perhaps       that        so\n",
              "rainbow     little   susan    think  ...     what         do    really\n",
              "rilla      darling    mean   kaiser  ...      you         if      what\n",
              "\n",
              "[8 rows x 10 columns]"
            ]
          },
          "metadata": {
            "tags": []
          },
          "execution_count": 25
        }
      ]
    },
    {
      "cell_type": "code",
      "metadata": {
        "id": "J6Bp0ON5cCOY",
        "colab_type": "code",
        "colab": {}
      },
      "source": [
        "# #as compared to other nsubj sentences, using Marilla as comparison\n",
        "# X_train, X_test, y_train, y_test = train_test_split(sentence_gables, target_gables)\n",
        "# X_train_dreams, X_test_dreams, y_train_dreams, y_test_dreams = train_test_split(sentence_dreams, target_dreams)\n",
        "\n",
        "# print(\"trained on AGG, tested on AGG\")\n",
        "# model2, vectorizer = train_classifier(X_train, y_train, prnt = False)\n",
        "# test(sentence_gables, model2, vectorizer, target_gables)\n",
        "\n",
        "# print(\"trained on AGG, tested on AGG (control)(Marilla)\")\n",
        "# model2, vectorizer = train_classifier(X_train, y_train, prnt = False)\n",
        "# test(sentence_gables_Marilla, model2, vectorizer, target_gables_Marilla)\n",
        "\n",
        "# print(\"trained on AHD, tested on AGG(Marilla) (control)\")\n",
        "# model2, vectorizer = train_classifier(X_train_dreams, y_train_dreams, prnt = False)\n",
        "# test(sentence_gables_Marilla, model2, vectorizer, target_gables_Marilla)\n",
        "\n",
        "# print(\"trained on AHD, tested on AHD\")\n",
        "# model2, vectorizer = train_classifier(X_train_dreams, y_train_dreams, prnt = False)\n",
        "# test(X_test_dreams, model2, vectorizer, y_test_dreams)\n",
        "\n",
        "# # print(\"trained on AGG, tested on AHD\")\n",
        "# # model2, vectorizer = train_classifier(X_train, y_train, prnt = False)\n",
        "# # test(X_test_dreams, model2, vectorizer, y_test_dreams)\n",
        "\n",
        "# # print(\"trained on AHD, tested on AHD (control)\")\n",
        "# # model2, vectorizer = train_classifier(X_train_dreams,y_train_dreams, prnt = False)\n",
        "# # test(X_test_dreams, model2, vectorizer, y_test_dreams)\n",
        "\n",
        "# # print(\"trained on AHD, tested on AGG\")\n",
        "# # model2, vectorizer = train_classifier(X_train_dreams,y_train_dreams, prnt = False)\n",
        "# # test(X_test, model2, vectorizer, y_test)"
      ],
      "execution_count": 0,
      "outputs": []
    },
    {
      "cell_type": "code",
      "metadata": {
        "id": "rGLFku_EuLQL",
        "colab_type": "code",
        "colab": {}
      },
      "source": [
        "import matplotlib.pyplot as plt\n",
        "import networkx as nx\n",
        "\n",
        "#function for visualizing character networks in a book\n",
        "def gr(full_para_list):\n",
        "    a = np.zeros((20, 20))\n",
        "\n",
        "    x_lst = []\n",
        "    for i in full_para_list:\n",
        "        x_lst.extend(i) \n",
        "    # vectorized = vectorizer.transform(x_lst)\n",
        "\n",
        "    for i in x_lst:\n",
        "        chars = name_mapping.keys()\n",
        "        dis_chars = []\n",
        "        for ch in chars:\n",
        "            if re.search(ch, i) and ch not in dis_chars:\n",
        "                dis_chars.append(ch)\n",
        "        for ch in dis_chars:\n",
        "            for neighbor in dis_chars:\n",
        "                a[name_mapping[ch]][name_mapping[neighbor]] += 1\n",
        "\n",
        "    g1 = (nx.from_numpy_matrix((a- min(a.flatten()))/(max(a.flatten()) - min(a.flatten()))))\n",
        "    #g1 = (nx.from_numpy_matrix((a)\n",
        "    pos = nx.spring_layout(g1, k =1)\n",
        "    weights = [g1[u][v]['weight'] for u,v in g1.edges]\n",
        "    nx.draw(g1, pos = pos, width = weights)\n",
        "    nx.draw_networkx_labels(g1, labels = dict(map(reversed, name_mapping.items())), pos = pos)\n",
        "    plt.show()\n",
        "    return a\n",
        "    \n"
      ],
      "execution_count": 0,
      "outputs": []
    },
    {
      "cell_type": "code",
      "metadata": {
        "id": "fFXoJ-z9uLQN",
        "colab_type": "code",
        "colab": {}
      },
      "source": [
        "# a_gables = gr(full_para_list_gables)\n",
        "# a_dreams = gr(full_para_list_dreams)\n",
        "\n",
        "# #printing co-occurrence values for Anne with Diana & Gilbert in AGG\n",
        "# print(a_gables[1][6], a_gables[1][4])\n",
        "# #printing co-occurrence values for Anne with Cornelia & Gilbert in AHD\n",
        "# print(a_dreams[1][15], a_dreams[1][4])"
      ],
      "execution_count": 0,
      "outputs": []
    },
    {
      "cell_type": "code",
      "metadata": {
        "id": "SW8UXomPb96d",
        "colab_type": "code",
        "colab": {}
      },
      "source": [
        "# train_classifier(full_para_list_gables, target_gables, prnt = False)"
      ],
      "execution_count": 0,
      "outputs": []
    },
    {
      "cell_type": "code",
      "metadata": {
        "id": "zO7bf5RiOt2K",
        "colab_type": "code",
        "colab": {}
      },
      "source": [
        ""
      ],
      "execution_count": 0,
      "outputs": []
    }
  ]
}
