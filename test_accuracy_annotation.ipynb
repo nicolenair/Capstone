{
  "nbformat": 4,
  "nbformat_minor": 0,
  "metadata": {
    "colab": {
      "name": "test-accuracy-annotation.ipynb",
      "provenance": [],
      "collapsed_sections": [],
      "include_colab_link": true
    },
    "kernelspec": {
      "name": "python3",
      "display_name": "Python 3"
    }
  },
  "cells": [
    {
      "cell_type": "markdown",
      "metadata": {
        "id": "view-in-github",
        "colab_type": "text"
      },
      "source": [
        "<a href=\"https://colab.research.google.com/github/nicolenair/capstone/blob/master/test_accuracy_annotation.ipynb\" target=\"_parent\"><img src=\"https://colab.research.google.com/assets/colab-badge.svg\" alt=\"Open In Colab\"/></a>"
      ]
    },
    {
      "cell_type": "code",
      "metadata": {
        "id": "_L8P9gWb-fYC",
        "colab_type": "code",
        "colab": {}
      },
      "source": [
        "from bs4 import BeautifulSoup\n",
        "import requests\n",
        "import numpy as np\n",
        "import pandas as pd\n",
        "import os\n",
        "import re\n",
        "# import stanfordnlp\n",
        "# import import_ipynb\n",
        "import json\n",
        "import matplotlib.pyplot as plt\n"
      ],
      "execution_count": 0,
      "outputs": []
    },
    {
      "cell_type": "code",
      "metadata": {
        "id": "QZsU_TFg-lbH",
        "colab_type": "code",
        "outputId": "85d9c694-91d5-475c-afb5-43ffdb1fded5",
        "colab": {
          "base_uri": "https://localhost:8080/",
          "height": 122
        }
      },
      "source": [
        "from google.colab import drive\n",
        "drive.mount('/content/gdrive', force_remount = True)\n",
        "os.chdir(\"/content/gdrive/My Drive/Colab Notebooks/CAPSTONE\")"
      ],
      "execution_count": 2,
      "outputs": [
        {
          "output_type": "stream",
          "text": [
            "Go to this URL in a browser: https://accounts.google.com/o/oauth2/auth?client_id=947318989803-6bn6qk8qdgf4n4g3pfee6491hc0brc4i.apps.googleusercontent.com&redirect_uri=urn%3aietf%3awg%3aoauth%3a2.0%3aoob&response_type=code&scope=email%20https%3a%2f%2fwww.googleapis.com%2fauth%2fdocs.test%20https%3a%2f%2fwww.googleapis.com%2fauth%2fdrive%20https%3a%2f%2fwww.googleapis.com%2fauth%2fdrive.photos.readonly%20https%3a%2f%2fwww.googleapis.com%2fauth%2fpeopleapi.readonly\n",
            "\n",
            "Enter your authorization code:\n",
            "··········\n",
            "Mounted at /content/gdrive\n"
          ],
          "name": "stdout"
        }
      ]
    },
    {
      "cell_type": "code",
      "metadata": {
        "id": "xDIbzY2i-rsZ",
        "colab_type": "code",
        "colab": {}
      },
      "source": [
        "property_ = \"speaking\"\n",
        "file1 = open(\"gables_{}withtoken_list.txt\".format(property_), \"r\")\n",
        "\n",
        "sentences_gables = []\n",
        "\n",
        "target_pre_gables = []\n",
        "\n",
        "file1_lines =file1.readlines()\n",
        "\n",
        "for i in range(len(file1_lines)):\n",
        "  if i%2==0:\n",
        "    sentences_gables.append(file1_lines[i])\n",
        "  else:\n",
        "    target_pre_gables.append(file1_lines[i])\n",
        "\n",
        "    \n",
        "# for i in range(len(file2_lines)):\n",
        "#   if i%2==0:\n",
        "#     sentence_dreams.append([file2_lines[i]])\n",
        "#   else:\n",
        "#     target_dreams.append([int(file2_lines[i])])\n",
        "# file.close()"
      ],
      "execution_count": 0,
      "outputs": []
    },
    {
      "cell_type": "code",
      "metadata": {
        "id": "Yqu7MUixBppJ",
        "colab_type": "code",
        "colab": {}
      },
      "source": [
        "file = open(\"montgomery.gables.tokens\")\n",
        "tokens = pd.read_csv(\"montgomery.gables.tokens\", sep=\"\\t\")"
      ],
      "execution_count": 0,
      "outputs": []
    },
    {
      "cell_type": "code",
      "metadata": {
        "id": "fCcRoN5FDXiN",
        "colab_type": "code",
        "colab": {}
      },
      "source": [
        "tokenids = [int(sentences_gables[i][:-2][re.search(\"\\d\", sentences_gables[i][:-2]).span()[0]:]) for i in range(len(sentences_gables))]\n",
        "sentence_by_id = [sentences_gables[i][:-2][1:re.search(\"\\d\", sentences_gables[i][:-2]).span()[0]] for i in range(len(sentences_gables))]\n",
        "# target_pre_gables"
      ],
      "execution_count": 0,
      "outputs": []
    },
    {
      "cell_type": "code",
      "metadata": {
        "id": "hV-LSs23UASZ",
        "colab_type": "code",
        "colab": {}
      },
      "source": [
        "# anno_frame = pd.DataFrame({\"tokenids\": tokenids, \"sentences\": sentence_by_id, \"targets\": target_pre_gables})\n",
        "# anno_frame = anno_frame.sample(frac=1).reset_index(drop=True)\n",
        "# anno_frame.to_csv(\"shuffled_annotable_gables.csv\")"
      ],
      "execution_count": 0,
      "outputs": []
    },
    {
      "cell_type": "code",
      "metadata": {
        "id": "FAipWHdyXmmS",
        "colab_type": "code",
        "colab": {}
      },
      "source": [
        "anno_frame = pd.read_csv(\"shuffled_annotable_gables.csv\")"
      ],
      "execution_count": 0,
      "outputs": []
    },
    {
      "cell_type": "code",
      "metadata": {
        "id": "Np2KDQ50LFPy",
        "colab_type": "code",
        "colab": {}
      },
      "source": [
        "def annotate_helper(i):\n",
        "  token = anno_frame.iloc[i][\"tokenids\"]\n",
        "  return tokens[tokens[\"paragraphId\"]==int(tokens[tokens[\"tokenId\"]==token][\"paragraphId\"])][\"originalWord\"], tokens[tokens[\"sentenceID\"]==int(tokens[tokens[\"tokenId\"]==token][\"sentenceID\"])][\"originalWord\"]"
      ],
      "execution_count": 0,
      "outputs": []
    },
    {
      "cell_type": "code",
      "metadata": {
        "id": "ci132Mw7P2b0",
        "colab_type": "code",
        "outputId": "64d0a7c9-874f-4b85-a5c3-9092787a7334",
        "colab": {
          "base_uri": "https://localhost:8080/",
          "height": 1000
        }
      },
      "source": [
        "annotate_helper(104) #help to manually annotate"
      ],
      "execution_count": 8,
      "outputs": [
        {
          "output_type": "execute_result",
          "data": {
            "text/plain": [
              "(1046          “\n",
              " 1047          I\n",
              " 1048        ’ll\n",
              " 1049       just\n",
              " 1050       step\n",
              "          ...   \n",
              " 1174         of\n",
              " 1175    Avonlea\n",
              " 1176      today\n",
              " 1177          .\n",
              " 1178          ”\n",
              " Name: originalWord, Length: 133, dtype: object, 1076            “\n",
              " 1077           He\n",
              " 1078         does\n",
              " 1079          n’t\n",
              " 1080    generally\n",
              " 1081           go\n",
              " 1082           to\n",
              " 1083         town\n",
              " 1084         this\n",
              " 1085         time\n",
              " 1086           of\n",
              " 1087         year\n",
              " 1088          and\n",
              " 1089           he\n",
              " 1090            _\n",
              " 1091        never\n",
              " 1092            _\n",
              " 1093       visits\n",
              " 1094            ;\n",
              " 1095           if\n",
              " 1096           he\n",
              " 1097           ’d\n",
              " 1098          run\n",
              " 1099          out\n",
              " 1100           of\n",
              " 1101       turnip\n",
              " 1102         seed\n",
              " 1103           he\n",
              " 1104        would\n",
              " 1105          n’t\n",
              " 1106        dress\n",
              " 1107           up\n",
              " 1108          and\n",
              " 1109         take\n",
              " 1110          the\n",
              " 1111        buggy\n",
              " 1112           to\n",
              " 1113           go\n",
              " 1114          for\n",
              " 1115         more\n",
              " 1116            ;\n",
              " 1117           he\n",
              " 1118          was\n",
              " 1119          n’t\n",
              " 1120      driving\n",
              " 1121         fast\n",
              " 1122       enough\n",
              " 1123           to\n",
              " 1124           be\n",
              " 1125        going\n",
              " 1126          for\n",
              " 1127            a\n",
              " 1128       doctor\n",
              " 1129            .\n",
              " Name: originalWord, dtype: object)"
            ]
          },
          "metadata": {
            "tags": []
          },
          "execution_count": 8
        }
      ]
    },
    {
      "cell_type": "code",
      "metadata": {
        "id": "GQO01aBEMjAk",
        "colab_type": "code",
        "colab": {}
      },
      "source": [
        "target_true_gables = [\"Anne\", \"Marilla\", \"Marilla\", \"Anne\", \"Anne\", \"Anne\", \"Anne\", \"Anne\", \"Matthew\", \"Anne\", \"Marilla\", \"Jane\", \"Anne\", \"z\", \"Anne\", \n",
        "                     \"Diana\", \"Diana\", \"Mr. Phillips\", \"Marilla\", \"Marilla\", \"Diana\", \"Marilla\", \"Marilla\", \"Josie Pye\", \"Anne\", \"Matthew\", \"Gilbert\",\n",
        "                     \"Marilla\", \"Marilla\", \"z\", \"Diana\", \"Anne\", \"Mrs. Barry\", \"Jane\", \"Anne\", \"Anne\", \"Anne\", \"Mrs. Barry\", \"Matthew\", \"Marilla\", \n",
        "                     \"Anne\", \"Matthew\", \"Marilla\", \"Anne\", \"Marilla\", \"Josie Pye\", \"Mrs. Lynde\", \"Diana\", \"Mrs. Spencer\", \"Anne\", \"Anne\", \"Anne\", \"Marilla\", \n",
        "                     \"Marilla\", \"Marilla\", \"Anne\", \"Marilla\", \"Mrs. Lynde\", \"Anne\", \"Mrs. Lynde\", \"Anne\", \"Anne\", \"Anne\", \"Anne\", \"z\", \"Anne\", \"Anne\",\n",
        "                     \"Anne\", \"Anne\", \"Marilla\", \"Anne\", \"Mrs. Lynde\", \"Matthew\", \"Anne\", \"Anne\", \"Marilla\", \"Marilla\", \"Matthew\", \"Marilla\", \"Anne\", \"Anne\", \n",
        "                     \"Marilla\", \"Anne\", \"Anne\", \"Mrs. Lynde\", \"Mrs. Spencer\", \"Matthew\", \"Matthew\", \"Marilla\", \"Marilla\", \"Anne\", \"Mrs. Lynde\", \n",
        "                     \"Anne\", \"Anne\", \"Anne\", \"Marilla\", \"Marilla\", \"Mrs. Allan\", \"Matthew\", \"Anne\", \n",
        "                     \"Anne\", \"Anne\", \"Marilla\", \"Anne\", \"Mrs. Lynde\", \"Matthew\", \n",
        "                      \"Anne\", \"Anne\", \"Marilla\", \"Anne\", \"Mrs. Spencer\", \"Diana\", \"Gilbert\", \"Anne\", \"Anne\", \"Matthew\", \"Marilla\", \"Anne\", \"Marilla\", \n",
        "                      \"Anne\", \"Matthew\", \"Diana\", \"Anne\", \"Anne\", \"Diana\", \"Marilla\", \"Anne\", \"Marilla\", \"Anne\", \"Josie Pye\", \"Anne\", \"Anne\", \"Anne\", \"Mrs. Lynde\",\n",
        "                      \"Anne\", \"Marilla\", \"Marilla\", \"Anne\", \"Mrs. Lynde\", \"z\", \"Anne\", \"Anne\", \"Marilla\", \"Matthew\", \"Marilla\", \"Anne\", \"Marilla\", \"Diana\", \n",
        "                      \"Anne\", \"Matthew\"] #manual"
      ],
      "execution_count": 0,
      "outputs": []
    },
    {
      "cell_type": "code",
      "metadata": {
        "id": "CYOxRFhrP2Ie",
        "colab_type": "code",
        "colab": {}
      },
      "source": [
        "# len([\"Anne\", \"Marilla\", \"Marilla\", \"Anne\", \"Anne\", \"Anne\", \"Anne\", \"Anne\", \"Matthew\", \"Anne\", \"Marilla\", \"Jane\", \"Anne\", \"-1\", \"Anne\", \n",
        "#                      \"Diana\", \"Diana\", \"Mr. Philips\", \"Marilla\", \"Marilla\", \"Diana\", \"Marilla\", \"Marilla\", \"Josie\", \"Anne\", \"Matthew\", \"Gilbert\",\n",
        "#                      \"Marilla\", \"Marilla\", \"-1\", \"Diana\", \"Anne\", \"Mrs. Barry\", \"Jane\", \"Anne\", \"Anne\", \"Anne\", \"Mrs. Barry\", \"Matthew\", \"Marilla\", \n",
        "#                      \"Anne\", \"Matthew\", \"Marilla\", \"Anne\", \"Marilla\", \"Josie\", \"Mrs. Lynde\", \"Diana\", \"Mrs. Spencer\", \"Anne\", \"Anne\", \"Anne\", \"Marilla\", \n",
        "#                      \"Marilla\", \"Marilla\", \"Anne\", \"Marilla\", \"Mrs. Lynde\", \"Anne\", \"Mrs. Lynde\", \"Anne\", \"Anne\", \"Anne\", \"Anne\", \"-1\", \"Anne\", \"Anne\",\n",
        "#                      \"Anne\", \"Anne\", \"Marilla\", \"Anne\", \"Mrs. Lynde\", \"Matthew\", \"Anne\", \"Anne\", \"Marilla\", \"Marilla\", \"Matthew\", \"Marilla\", \"Anne\", \"Anne\", \n",
        "#                      \"Marilla\", \"Anne\", \"Anne\", \"Mrs. Lynde\", \"Mrs. Spencer\", \"Matthew\", \"Matthew\", \"Marilla\", \"Marilla\", \"Anne\", \"Mrs. Lynde\", \n",
        "#                      \"Anne\", \"Anne\", \"Anne\", \"Marilla\", \"Marilla\", \"Mrs. Allan\", \"Matthew\", \"Anne\"])"
      ],
      "execution_count": 0,
      "outputs": []
    },
    {
      "cell_type": "code",
      "metadata": {
        "id": "L4hLRG1yc4yI",
        "colab_type": "code",
        "colab": {}
      },
      "source": [
        "def accuracy_checker(target_pre, target_true, n): #check accuracy\n",
        "  total_corr = 0\n",
        "  if len(target_pre[:n])!=len(target_true):\n",
        "    print(\"mismatched lengths, check\")\n",
        "  for i in range(len(target_pre[:n])):\n",
        "    if target_true[i] in target_pre[i].split(\",\"):\n",
        "      total_corr+=1\n",
        "  return total_corr/n, target_true.count(\"Anne\")/len(target_true)"
      ],
      "execution_count": 0,
      "outputs": []
    },
    {
      "cell_type": "code",
      "metadata": {
        "id": "FMcEv_QrdNXw",
        "colab_type": "code",
        "outputId": "dcfd67ba-a25d-4301-810f-1cbaf13e4fbd",
        "colab": {
          "base_uri": "https://localhost:8080/",
          "height": 34
        }
      },
      "source": [
        "accuracy_checker(list(anno_frame[\"targets\"]), target_true_gables, 150)"
      ],
      "execution_count": 11,
      "outputs": [
        {
          "output_type": "execute_result",
          "data": {
            "text/plain": [
              "(0.7266666666666667, 0.4266666666666667)"
            ]
          },
          "metadata": {
            "tags": []
          },
          "execution_count": 11
        }
      ]
    },
    {
      "cell_type": "code",
      "metadata": {
        "id": "dLbS2tKYdaKq",
        "colab_type": "code",
        "colab": {}
      },
      "source": [
        "# len([\"Anne\", \"Marilla\", \"Marilla\", \"Anne\", \"Anne\", \"Anne\", \"Anne\", \"Anne\", \"Matthew\", \"Anne\", \"Marilla\", \"Jane\", \"Anne\", \"-1\", \"Anne\", \n",
        "#                      \"Diana\", \"Diana\", \"Mr. Philips\", \"Marilla\", \"Marilla\", \"Diana\", \"Marilla\", \"Marilla\", \"Josie\", \"Anne\", \"Matthew\", \"Gilbert\",\n",
        "#                      \"Marilla\", \"Marilla\", \"-1\", \"Diana\", \"Anne\", \"Mrs. Barry\", \"Jane\", \"Anne\", \"Anne\", \"Anne\", \"Mrs. Barry\", \"Matthew\", \"Marilla\", \n",
        "#                      \"Anne\", \"Matthew\", \"Marilla\", \"Anne\", \"Marilla\", \"Josie\", \"Mrs. Lynde\", \"Diana\", \"Mrs. Spencer\", \"Anne\", \"Anne\", \"Anne\", \"Marilla\", \n",
        "#                      \"Marilla\", \"Marilla\", \"Anne\", \"Marilla\", \"Mrs. Lynde\", \"Anne\", \"Mrs. Lynde\", \"Anne\", \"Anne\", \"Mrs. Allan\"])"
      ],
      "execution_count": 0,
      "outputs": []
    },
    {
      "cell_type": "code",
      "metadata": {
        "id": "Nr-gPIiNQY8g",
        "colab_type": "code",
        "outputId": "f4679bc0-2992-41ae-ca09-14a56010b38d",
        "colab": {
          "base_uri": "https://localhost:8080/",
          "height": 34
        }
      },
      "source": [
        "print(150/len(anno_frame))"
      ],
      "execution_count": 12,
      "outputs": [
        {
          "output_type": "stream",
          "text": [
            "0.1282051282051282\n"
          ],
          "name": "stdout"
        }
      ]
    },
    {
      "cell_type": "code",
      "metadata": {
        "id": "ezflg0kLcL3r",
        "colab_type": "code",
        "colab": {}
      },
      "source": [
        "#plot\n",
        "ch = []\n",
        "n = []\n",
        "for i in target_true_gables:\n",
        "  if i not in ch:\n",
        "    ch.append(i)\n",
        "    n.append(target_true_gables.count(i)/150)"
      ],
      "execution_count": 0,
      "outputs": []
    },
    {
      "cell_type": "code",
      "metadata": {
        "id": "okErYT7qd0SS",
        "colab_type": "code",
        "colab": {}
      },
      "source": [
        "alph_tuple = sorted(zip(ch,n), key=lambda pair: pair[0])\n",
        "ch = [i[0] for i  in alph_tuple]\n",
        "n = [i[1] for i in alph_tuple]"
      ],
      "execution_count": 0,
      "outputs": []
    },
    {
      "cell_type": "code",
      "metadata": {
        "id": "4SqyuULGc5Nw",
        "colab_type": "code",
        "outputId": "cd7c2c50-c9ba-4065-f43e-324f9b7e91bf",
        "colab": {
          "base_uri": "https://localhost:8080/",
          "height": 407
        }
      },
      "source": [
        "plt.figure(figsize=(17, 6))\n",
        "plt.bar(ch, n)\n",
        "plt.title(\"Proportion of each character's true quotations\")"
      ],
      "execution_count": 15,
      "outputs": [
        {
          "output_type": "execute_result",
          "data": {
            "text/plain": [
              "Text(0.5, 1.0, \"Proportion of each character's true quotations\")"
            ]
          },
          "metadata": {
            "tags": []
          },
          "execution_count": 15
        },
        {
          "output_type": "display_data",
          "data": {
            "image/png": "[encoded data removed]",
            "text/plain": [
              "<Figure size 1224x432 with 1 Axes>"
            ]
          },
          "metadata": {
            "tags": []
          }
        }
      ]
    },
    {
      "cell_type": "code",
      "metadata": {
        "id": "kCJC_NHsddD9",
        "colab_type": "code",
        "colab": {}
      },
      "source": [
        "ch_pr = []\n",
        "n_pr = []\n",
        "for i in anno_frame[\"targets\"][:150]:\n",
        "  in_now = False\n",
        "  for e in i.split(\",\"):\n",
        "    if e in ch_pr:\n",
        "      in_now = True\n",
        "  if in_now == False:\n",
        "    ch_pr.append(i.split(\",\")[1])\n",
        "    n_pr.append(list(anno_frame[\"targets\"][:150]).count(i)/150)"
      ],
      "execution_count": 0,
      "outputs": []
    },
    {
      "cell_type": "code",
      "metadata": {
        "id": "lRJKRkPzef_O",
        "colab_type": "code",
        "colab": {}
      },
      "source": [
        "alph_tuple_pr = sorted(zip(ch_pr,n_pr), key=lambda pair: pair[0])\n",
        "ch_pr = [i[0] for i  in alph_tuple_pr]\n",
        "n_pr = [i[1] for i in alph_tuple_pr]"
      ],
      "execution_count": 0,
      "outputs": []
    },
    {
      "cell_type": "code",
      "metadata": {
        "id": "SQfYWEG_eIgI",
        "colab_type": "code",
        "outputId": "a4a4dc22-7f94-4ae6-d53a-c79be95bf1e5",
        "colab": {
          "base_uri": "https://localhost:8080/",
          "height": 407
        }
      },
      "source": [
        "plt.figure(figsize=(17, 6))\n",
        "plt.bar(ch_pr, n_pr)\n",
        "plt.title(\"Proportion of each character's predicted quotations\")"
      ],
      "execution_count": 18,
      "outputs": [
        {
          "output_type": "execute_result",
          "data": {
            "text/plain": [
              "Text(0.5, 1.0, \"Proportion of each character's predicted quotations\")"
            ]
          },
          "metadata": {
            "tags": []
          },
          "execution_count": 18
        },
        {
          "output_type": "display_data",
          "data": {
            "image/png": "[encoded data removed]",
            "text/plain": [
              "<Figure size 1224x432 with 1 Axes>"
            ]
          },
          "metadata": {
            "tags": []
          }
        }
      ]
    },
    {
      "cell_type": "code",
      "metadata": {
        "id": "8UX9m3Cf4XSo",
        "colab_type": "code",
        "colab": {}
      },
      "source": [
        "import pandas as pd\n",
        "\n",
        "a = pd.DataFrame(n, ch)\n",
        "b = pd.DataFrame(n_pr, ch_pr)\n",
        "bar_data = pd.concat((a, b), axis = 1, join='outer', sort = True, ignore_index=True)\n",
        "bar_data.fillna(0, inplace = True)"
      ],
      "execution_count": 0,
      "outputs": []
    },
    {
      "cell_type": "code",
      "metadata": {
        "id": "8XPF4DuV62wY",
        "colab_type": "code",
        "outputId": "17c13a44-0744-4455-f94c-d1b3bbc31e2f",
        "colab": {
          "base_uri": "https://localhost:8080/",
          "height": 514
        }
      },
      "source": [
        "bar_data.rename(columns={0: \"proportion_true\", 1: \"proportion_predicted\"})"
      ],
      "execution_count": 20,
      "outputs": [
        {
          "output_type": "execute_result",
          "data": {
            "text/html": [
              "<div>\n",
              "<style scoped>\n",
              "    .dataframe tbody tr th:only-of-type {\n",
              "        vertical-align: middle;\n",
              "    }\n",
              "\n",
              "    .dataframe tbody tr th {\n",
              "        vertical-align: top;\n",
              "    }\n",
              "\n",
              "    .dataframe thead th {\n",
              "        text-align: right;\n",
              "    }\n",
              "</style>\n",
              "<table border=\"1\" class=\"dataframe\">\n",
              "  <thead>\n",
              "    <tr style=\"text-align: right;\">\n",
              "      <th></th>\n",
              "      <th>proportion_true</th>\n",
              "      <th>proportion_predicted</th>\n",
              "    </tr>\n",
              "  </thead>\n",
              "  <tbody>\n",
              "    <tr>\n",
              "      <th>Anne</th>\n",
              "      <td>0.426667</td>\n",
              "      <td>0.413333</td>\n",
              "    </tr>\n",
              "    <tr>\n",
              "      <th>Diana</th>\n",
              "      <td>0.060000</td>\n",
              "      <td>0.060000</td>\n",
              "    </tr>\n",
              "    <tr>\n",
              "      <th>Gilbert</th>\n",
              "      <td>0.013333</td>\n",
              "      <td>0.013333</td>\n",
              "    </tr>\n",
              "    <tr>\n",
              "      <th>Jane</th>\n",
              "      <td>0.013333</td>\n",
              "      <td>0.020000</td>\n",
              "    </tr>\n",
              "    <tr>\n",
              "      <th>Josie Pye</th>\n",
              "      <td>0.020000</td>\n",
              "      <td>0.013333</td>\n",
              "    </tr>\n",
              "    <tr>\n",
              "      <th>Marilla</th>\n",
              "      <td>0.240000</td>\n",
              "      <td>0.226667</td>\n",
              "    </tr>\n",
              "    <tr>\n",
              "      <th>Matthew</th>\n",
              "      <td>0.093333</td>\n",
              "      <td>0.113333</td>\n",
              "    </tr>\n",
              "    <tr>\n",
              "      <th>Miss Stacy</th>\n",
              "      <td>0.000000</td>\n",
              "      <td>0.006667</td>\n",
              "    </tr>\n",
              "    <tr>\n",
              "      <th>Mr. Phillips</th>\n",
              "      <td>0.006667</td>\n",
              "      <td>0.006667</td>\n",
              "    </tr>\n",
              "    <tr>\n",
              "      <th>Mrs. Allan</th>\n",
              "      <td>0.006667</td>\n",
              "      <td>0.006667</td>\n",
              "    </tr>\n",
              "    <tr>\n",
              "      <th>Mrs. Barry</th>\n",
              "      <td>0.013333</td>\n",
              "      <td>0.006667</td>\n",
              "    </tr>\n",
              "    <tr>\n",
              "      <th>Mrs. Lynde</th>\n",
              "      <td>0.060000</td>\n",
              "      <td>0.080000</td>\n",
              "    </tr>\n",
              "    <tr>\n",
              "      <th>Mrs. Spencer</th>\n",
              "      <td>0.020000</td>\n",
              "      <td>0.026667</td>\n",
              "    </tr>\n",
              "    <tr>\n",
              "      <th>Newbridge</th>\n",
              "      <td>0.000000</td>\n",
              "      <td>0.006667</td>\n",
              "    </tr>\n",
              "    <tr>\n",
              "      <th>z</th>\n",
              "      <td>0.026667</td>\n",
              "      <td>0.000000</td>\n",
              "    </tr>\n",
              "  </tbody>\n",
              "</table>\n",
              "</div>"
            ],
            "text/plain": [
              "              proportion_true  proportion_predicted\n",
              "Anne                 0.426667              0.413333\n",
              "Diana                0.060000              0.060000\n",
              "Gilbert              0.013333              0.013333\n",
              "Jane                 0.013333              0.020000\n",
              "Josie Pye            0.020000              0.013333\n",
              "Marilla              0.240000              0.226667\n",
              "Matthew              0.093333              0.113333\n",
              "Miss Stacy           0.000000              0.006667\n",
              "Mr. Phillips         0.006667              0.006667\n",
              "Mrs. Allan           0.006667              0.006667\n",
              "Mrs. Barry           0.013333              0.006667\n",
              "Mrs. Lynde           0.060000              0.080000\n",
              "Mrs. Spencer         0.020000              0.026667\n",
              "Newbridge            0.000000              0.006667\n",
              "z                    0.026667              0.000000"
            ]
          },
          "metadata": {
            "tags": []
          },
          "execution_count": 20
        }
      ]
    },
    {
      "cell_type": "code",
      "metadata": {
        "id": "6pYUxaTp6yuN",
        "colab_type": "code",
        "outputId": "72638e35-5d2e-4eb8-d705-cf64c5e2b823",
        "colab": {
          "base_uri": "https://localhost:8080/",
          "height": 621
        }
      },
      "source": [
        "#code for plot from https://python-graph-gallery.com/11-grouped-barplot/\n",
        "import numpy as np\n",
        "import matplotlib.pyplot as plt\n",
        " \n",
        "plt.figure(figsize=(20, 10))\n",
        "# set width of bar\n",
        "barWidth = 0.25\n",
        " \n",
        "# set height of bar\n",
        "bars1 = bar_data.iloc[:,0]\n",
        "bars2 = bar_data.iloc[:,1]\n",
        " \n",
        "# Set position of bar on X axis\n",
        "r1 = np.arange(len(bar_data.index))\n",
        "r2 = [x + barWidth for x in r1]\n",
        " \n",
        "# Make the plot\n",
        "plt.bar(r1, bars1, color='#7f6d5f', width=barWidth, edgecolor='white', label='proportion_true')\n",
        "plt.bar(r2, bars2, color='#557f2d', width=barWidth, edgecolor='white', label='proportion_predicted')\n",
        " \n",
        "# Add xticks on the middle of the group bars\n",
        "plt.xlabel('character', fontweight='bold')\n",
        "plt.xticks([r + barWidth for r in range(len(bars1))], bar_data.index)\n",
        "plt.ylabel('proportion of quotations')\n",
        " \n",
        "# Create legend & Show graphic\n",
        "plt.title(\"Proportion of each character's true and predicted quotations\")\n",
        "plt.legend()\n",
        "plt.show()\n"
      ],
      "execution_count": 21,
      "outputs": [
        {
          "output_type": "display_data",
          "data": {
            "image/png": "[encoded data removed]",
            "text/plain": [
              "<Figure size 1440x720 with 1 Axes>"
            ]
          },
          "metadata": {
            "tags": []
          }
        }
      ]
    },
    {
      "cell_type": "code",
      "metadata": {
        "id": "ZvY-fsYW7fAo",
        "colab_type": "code",
        "colab": {}
      },
      "source": [
        "# #test accuracy two-sieve approach (not included in report!, different quote attribution algorithm, less accurate)\n",
        "# #first split book into chapters: #leave commented, only run once!\n",
        "# import re\n",
        "# import codecs\n",
        "# gables_full_text = open(\"gables.txt\", \"r\")\n",
        "# gables_str = gables_full_text.read()\n",
        "# nums = [\"I\", \"II\",\"III\",\"IV\",\"V\", \"VI\", \"VII\", \"VIII\", \"IX\", \"X\", \"XI\", \"XII\", \"XIII\",\"XIV\", \"XV\", \"XVI\", \"XVII\", \"XVIII\", \"XIX\", \"XX\", \"XXI\", \"XXII\", \"XXIII\", \"XXIV\", \"XXV\", \"XXVI\",\"XXVII\" ,\"XXVIII\",\"XXIX\", \"XXX\", \"XXXI\", \"XXXII\", \"XXXIII\",\"XXXIV\", \"XXXV\" ,\"XXXVI\", \"XXXVII\", \"XXXVIII\"]\n",
        "# for i in range(len(nums)):\n",
        "#   current_chap_index = re.search(\"CHAPTER {}\\.\".format(nums[i]), gables_str).span()[0]\n",
        "#   if i<len(nums)-1:\n",
        "#     next_chap_index = re.search(\"CHAPTER {}\\.\".format(nums[i+1]), gables_str).span()[0]\n",
        "#     with codecs.open(\"gables_by_chapter/gables_chapter{}.txt\".format(i+1), \"w\", \"ISO-8859-1\") as f:\n",
        "#       f.write(gables_str[current_chap_index: next_chap_index])\n",
        "#   else:\n",
        "#     with codecs.open(\"gables_by_chapter/gables_chapter{}.txt\".format(i+1), \"w\", \"ISO-8859-1\") as f:\n",
        "#       f.write(gables_str[current_chap_index:])\n",
        "#   # print(re.search(\"CHAPTER {}\".format(i), gables_str))"
      ],
      "execution_count": 0,
      "outputs": []
    },
    {
      "cell_type": "code",
      "metadata": {
        "id": "_C6IDRPqgQSu",
        "colab_type": "code",
        "colab": {}
      },
      "source": [
        "def extract_quotes_from_chapter_output():\n",
        "  quotes = []\n",
        "  labels = []\n",
        "  for i in range(1, 39):\n",
        "    filename = \"gables_output/gables_chapter{}.txt.out\".format(i)\n",
        "    file = open(filename, \"r\")\n",
        "    file_string = file.read()\n",
        "    for u_quote in file_string[re.search('Extracted quotes:', file_string).span()[0]:].split(\"[\")[1:]:\n",
        "      # print(u_quote)\n",
        "      # print(\"next\")\n",
        "      text_index = re.search(\"Text\", u_quote).span()[0]\n",
        "      speaker_index = re.search(\"Speaker\", u_quote).span()[0]\n",
        "      # print(text_index, speaker_index)\n",
        "      # print()\n",
        "      quotes.append(u_quote[text_index+6: text_index+6 + re.search('S', u_quote[text_index+6:]).span()[0]-2])\n",
        "      labels.append(u_quote[speaker_index+8: speaker_index+8 + re.search(']', u_quote[speaker_index+8:]).span()[0]])\n",
        "  return quotes, labels"
      ],
      "execution_count": 0,
      "outputs": []
    },
    {
      "cell_type": "code",
      "metadata": {
        "id": "1VOQF--e-MII",
        "colab_type": "code",
        "colab": {}
      },
      "source": [
        "quotes, labels = extract_quotes_from_chapter_output()"
      ],
      "execution_count": 0,
      "outputs": []
    },
    {
      "cell_type": "code",
      "metadata": {
        "id": "8k1whpFy_VX4",
        "colab_type": "code",
        "colab": {}
      },
      "source": [
        "# anno_frame_st = pd.DataFrame({\"sentences\": quotes, \"targets\": labels})\n",
        "# anno_frame_st = anno_frame_st.sample(frac=1).reset_index(drop=True)\n",
        "# anno_frame_st.to_csv(\"shuffled_annotable_gables_st.csv\")"
      ],
      "execution_count": 0,
      "outputs": []
    },
    {
      "cell_type": "code",
      "metadata": {
        "id": "-B_VWBIiAWFp",
        "colab_type": "code",
        "colab": {}
      },
      "source": [
        "anno_frame_st = pd.read_csv(\"shuffled_annotable_gables_st.csv\")"
      ],
      "execution_count": 0,
      "outputs": []
    },
    {
      "cell_type": "code",
      "metadata": {
        "id": "1OfKVDDCBRYZ",
        "colab_type": "code",
        "outputId": "fae462fd-8b49-481c-aed4-54bf424c25f5",
        "colab": {
          "base_uri": "https://localhost:8080/",
          "height": 54
        }
      },
      "source": [
        "anno_frame_st['sentences'][32]"
      ],
      "execution_count": 25,
      "outputs": [
        {
          "output_type": "execute_result",
          "data": {
            "text/plain": [
              "'but I know I\\ncouldn’t keep still. I’d be popping up every minute or so to see where I\\nwas and if I wasn’t drifting too far out. And you know, Anne, that would\\nspoil the effect.”'"
            ]
          },
          "metadata": {
            "tags": []
          },
          "execution_count": 25
        }
      ]
    },
    {
      "cell_type": "code",
      "metadata": {
        "id": "x7E1NxWVBdlE",
        "colab_type": "code",
        "colab": {}
      },
      "source": [
        "target_true_st = ['Anne', 'Diana', 'Anne', 'Anne', 'Rachel', 'Matthew', 'Anne', 'Unknown', 'Diana', 'Marilla', 'Anne', 'Anne', 'Marilla', \\\n",
        "                  'Diana', \"Josephine Barry\", 'Anne', 'Anne', 'Marilla','Anne', 'Anne', 'Anne', 'Matthew', 'Anne', 'Anne', 'Anne', \\\n",
        "                  'Anne', 'Anne', 'Marilla', 'Anne', 'Unknown', 'Marilla', 'Anne', 'Jane Andrews']\n",
        "\n",
        "# len(target_true_st)"
      ],
      "execution_count": 0,
      "outputs": []
    },
    {
      "cell_type": "code",
      "metadata": {
        "id": "NTp2R2JvFgpg",
        "colab_type": "code",
        "outputId": "65338253-8fad-4f9a-b2a0-2a61105120e5",
        "colab": {
          "base_uri": "https://localhost:8080/",
          "height": 578
        }
      },
      "source": [
        "list(anno_frame_st[\"targets\"][:len(target_true_st)])"
      ],
      "execution_count": 27,
      "outputs": [
        {
          "output_type": "execute_result",
          "data": {
            "text/plain": [
              "['Marilla',\n",
              " 'Diana',\n",
              " 'Marilla',\n",
              " 'she',\n",
              " 'Lynde',\n",
              " 'Matthew Cuthbert',\n",
              " 'Diana',\n",
              " 'Rachel',\n",
              " 'Julia Bell',\n",
              " 'Marilla',\n",
              " 'Anne',\n",
              " 'Anne',\n",
              " 'Anne',\n",
              " 'Diana',\n",
              " 'Marilla Cuthbert',\n",
              " 'Anne',\n",
              " 'Anne',\n",
              " 'Anne Shirley',\n",
              " 'Josephine Barry',\n",
              " 'Unknown',\n",
              " 'Anne',\n",
              " 'Matthew Cuthbert',\n",
              " 'Matthew',\n",
              " 'her',\n",
              " 'Anne Shirley',\n",
              " 'Anne Shirley',\n",
              " 'Anne Shirley',\n",
              " 'Marilla',\n",
              " 'Unknown',\n",
              " 'Marilla',\n",
              " 'Diana Barry',\n",
              " 'her',\n",
              " 'Jane Andrews']"
            ]
          },
          "metadata": {
            "tags": []
          },
          "execution_count": 27
        }
      ]
    },
    {
      "cell_type": "code",
      "metadata": {
        "id": "P7S5nW8UE5vy",
        "colab_type": "code",
        "outputId": "c7461c81-e310-4c8c-bc86-752212d7c7fe",
        "colab": {
          "base_uri": "https://localhost:8080/",
          "height": 323
        }
      },
      "source": [
        "def accuracy_checker(target_pre, target_true, n):\n",
        "  total_corr = 0\n",
        "  for i in range(len(target_pre)):\n",
        "    if target_pre[i]==\"Anne Shirley\":\n",
        "      target_pre[i] = \"Anne\"\n",
        "    elif target_pre[i]==\"Matthew Cuthbert\":\n",
        "      target_pre[i] = \"Matthew\"\n",
        "    elif target_pre[i]==\"Diana Barry\":\n",
        "      target_pre[i] = \"Diana\"\n",
        "    elif target_pre[i] == \"Marilla Cuthbert\":\n",
        "      target_pre[i] = \"Marilla\"\n",
        "    elif target_pre[i] == \"Lynde\" or target_pre[i]==\"Mrs. Lynde\":\n",
        "      target_pre[i] = \"Rachel\"\n",
        "    elif target_pre[i] == \"Ms. Barry\":\n",
        "      target_pre[i] = \"Josephine Barry\"\n",
        "  if len(target_pre[:n])!=len(target_true):\n",
        "    print(\"mismatched lengths, check\")\n",
        "  for i in range(len(target_pre[:n])):\n",
        "    if target_true[i] == target_pre[i]:\n",
        "      total_corr+=1\n",
        "    elif target_true[i]!=target_pre[i]:\n",
        "      print(target_true[i], target_pre[i])\n",
        "  return total_corr/n, target_true.count(\"Anne\")/len(target_true)\n",
        "\n",
        "accuracy_checker(list(anno_frame_st[\"targets\"]), target_true_st, len(target_true_st))"
      ],
      "execution_count": 28,
      "outputs": [
        {
          "output_type": "stream",
          "text": [
            "Anne Marilla\n",
            "Anne Marilla\n",
            "Anne she\n",
            "Anne Diana\n",
            "Unknown Rachel\n",
            "Diana Julia Bell\n",
            "Marilla Anne\n",
            "Josephine Barry Marilla\n",
            "Marilla Anne\n",
            "Anne Josephine Barry\n",
            "Anne Unknown\n",
            "Anne Matthew\n",
            "Anne her\n",
            "Anne Unknown\n",
            "Unknown Marilla\n",
            "Marilla Diana\n",
            "Anne her\n"
          ],
          "name": "stdout"
        },
        {
          "output_type": "execute_result",
          "data": {
            "text/plain": [
              "(0.48484848484848486, 0.5454545454545454)"
            ]
          },
          "metadata": {
            "tags": []
          },
          "execution_count": 28
        }
      ]
    },
    {
      "cell_type": "code",
      "metadata": {
        "id": "B2pbwT7SHQ7d",
        "colab_type": "code",
        "colab": {}
      },
      "source": [
        ""
      ],
      "execution_count": 0,
      "outputs": []
    }
  ]
}