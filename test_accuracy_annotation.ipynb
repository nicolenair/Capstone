{
  "nbformat": 4,
  "nbformat_minor": 0,
  "metadata": {
    "colab": {
      "name": "test-accuracy-annotation.ipynb",
      "provenance": [],
      "include_colab_link": true
    },
    "kernelspec": {
      "name": "python3",
      "display_name": "Python 3"
    }
  },
  "cells": [
    {
      "cell_type": "markdown",
      "metadata": {
        "id": "view-in-github",
        "colab_type": "text"
      },
      "source": [
        "<a href=\"https://colab.research.google.com/github/nicolenair/capstone/blob/master/test_accuracy_annotation.ipynb\" target=\"_parent\"><img src=\"https://colab.research.google.com/assets/colab-badge.svg\" alt=\"Open In Colab\"/></a>"
      ]
    },
    {
      "cell_type": "code",
      "metadata": {
        "id": "_L8P9gWb-fYC",
        "colab_type": "code",
        "colab": {}
      },
      "source": [
        "from bs4 import BeautifulSoup\n",
        "import requests\n",
        "import numpy as np\n",
        "import pandas as pd\n",
        "import os\n",
        "import re\n",
        "# import stanfordnlp\n",
        "# import import_ipynb\n",
        "import json\n",
        "import matplotlib.pyplot as plt\n"
      ],
      "execution_count": 0,
      "outputs": []
    },
    {
      "cell_type": "code",
      "metadata": {
        "id": "QZsU_TFg-lbH",
        "colab_type": "code",
        "outputId": "5c95567d-f27f-4e93-9871-72a381c5adb7",
        "colab": {
          "base_uri": "https://localhost:8080/",
          "height": 122
        }
      },
      "source": [
        "from google.colab import drive\n",
        "drive.mount('/content/gdrive', force_remount = True)\n",
        "os.chdir(\"/content/gdrive/My Drive/Colab Notebooks\")"
      ],
      "execution_count": 2,
      "outputs": [
        {
          "output_type": "stream",
          "text": [
            "Go to this URL in a browser: https://accounts.google.com/o/oauth2/auth?client_id=947318989803-6bn6qk8qdgf4n4g3pfee6491hc0brc4i.apps.googleusercontent.com&redirect_uri=urn%3Aietf%3Awg%3Aoauth%3A2.0%3Aoob&scope=email%20https%3A%2F%2Fwww.googleapis.com%2Fauth%2Fdocs.test%20https%3A%2F%2Fwww.googleapis.com%2Fauth%2Fdrive%20https%3A%2F%2Fwww.googleapis.com%2Fauth%2Fdrive.photos.readonly%20https%3A%2F%2Fwww.googleapis.com%2Fauth%2Fpeopleapi.readonly&response_type=code\n",
            "\n",
            "Enter your authorization code:\n",
            "··········\n",
            "Mounted at /content/gdrive\n"
          ],
          "name": "stdout"
        }
      ]
    },
    {
      "cell_type": "code",
      "metadata": {
        "id": "xDIbzY2i-rsZ",
        "colab_type": "code",
        "colab": {}
      },
      "source": [
        "property_ = \"speaking\"\n",
        "file1 = open(\"gables_{}withtoken_list.txt\".format(property_), \"r\")\n",
        "\n",
        "sentences_gables = []\n",
        "\n",
        "target_pre_gables = []\n",
        "\n",
        "file1_lines =file1.readlines()\n",
        "\n",
        "for i in range(len(file1_lines)):\n",
        "  if i%2==0:\n",
        "    sentences_gables.append(file1_lines[i])\n",
        "  else:\n",
        "    target_pre_gables.append(file1_lines[i])\n",
        "\n",
        "    \n",
        "# for i in range(len(file2_lines)):\n",
        "#   if i%2==0:\n",
        "#     sentence_dreams.append([file2_lines[i]])\n",
        "#   else:\n",
        "#     target_dreams.append([int(file2_lines[i])])\n",
        "# file.close()"
      ],
      "execution_count": 0,
      "outputs": []
    },
    {
      "cell_type": "code",
      "metadata": {
        "id": "Yqu7MUixBppJ",
        "colab_type": "code",
        "colab": {}
      },
      "source": [
        "file = open(\"montgomery.gables.tokens\")\n",
        "tokens = pd.read_csv(\"montgomery.gables.tokens\", sep=\"\\t\")"
      ],
      "execution_count": 0,
      "outputs": []
    },
    {
      "cell_type": "code",
      "metadata": {
        "id": "mtIZak2FUonZ",
        "colab_type": "code",
        "outputId": "9fb43e89-3798-44fd-b2ac-46665e1c4bad",
        "colab": {
          "base_uri": "https://localhost:8080/",
          "height": 54
        }
      },
      "source": [
        "sentences_gables[0][:-2][1:re.search(\"(\\d)\", sentences_gables[0][:-2]).span()[0]]"
      ],
      "execution_count": 0,
      "outputs": [
        {
          "output_type": "execute_result",
          "data": {
            "text/plain": [
              "'\"`` She \\'s father \\'s aunt and she lives in Charlottetown . She \\'s awfully old -- seventy anyhow -- and I do n\\'t believe she was _ ever _ a little girl . We were expecting her out for a visit , but not so soon . She \\'s awfully prim and proper and she \\'ll scold dreadfully about this , I know . Well , we \\'ll have to sleep with Minnie May -- and you ca n\\'t think how she kicks . \\'\\' \", '"
            ]
          },
          "metadata": {
            "tags": []
          },
          "execution_count": 5
        }
      ]
    },
    {
      "cell_type": "code",
      "metadata": {
        "id": "fCcRoN5FDXiN",
        "colab_type": "code",
        "colab": {}
      },
      "source": [
        "tokenids = [int(sentences_gables[i][:-2][re.search(\"\\d\", sentences_gables[i][:-2]).span()[0]:]) for i in range(len(sentences_gables))]\n",
        "sentence_by_id = [sentences_gables[i][:-2][1:re.search(\"\\d\", sentences_gables[i][:-2]).span()[0]] for i in range(len(sentences_gables))]\n",
        "# target_pre_gables"
      ],
      "execution_count": 0,
      "outputs": []
    },
    {
      "cell_type": "code",
      "metadata": {
        "id": "hV-LSs23UASZ",
        "colab_type": "code",
        "colab": {}
      },
      "source": [
        "# anno_frame = pd.DataFrame({\"tokenids\": tokenids, \"sentences\": sentence_by_id, \"targets\": target_pre_gables})\n",
        "# anno_frame = anno_frame.sample(frac=1).reset_index(drop=True)\n",
        "# anno_frame.to_csv(\"shuffled_annotable_gables.csv\")"
      ],
      "execution_count": 0,
      "outputs": []
    },
    {
      "cell_type": "code",
      "metadata": {
        "id": "FAipWHdyXmmS",
        "colab_type": "code",
        "colab": {}
      },
      "source": [
        "anno_frame = pd.read_csv(\"shuffled_annotable_gables.csv\")"
      ],
      "execution_count": 0,
      "outputs": []
    },
    {
      "cell_type": "code",
      "metadata": {
        "id": "Np2KDQ50LFPy",
        "colab_type": "code",
        "colab": {}
      },
      "source": [
        "def annotate_helper(i):\n",
        "  token = anno_frame.iloc[i][\"tokenids\"]\n",
        "  return tokens[tokens[\"paragraphId\"]==int(tokens[tokens[\"tokenId\"]==token][\"paragraphId\"])][\"originalWord\"], tokens[tokens[\"sentenceID\"]==int(tokens[tokens[\"tokenId\"]==token][\"sentenceID\"])][\"originalWord\"]"
      ],
      "execution_count": 0,
      "outputs": []
    },
    {
      "cell_type": "code",
      "metadata": {
        "id": "ci132Mw7P2b0",
        "colab_type": "code",
        "outputId": "8f13bf16-81ef-40fb-b2d6-82c6bd10f844",
        "colab": {
          "base_uri": "https://localhost:8080/",
          "height": 1000
        }
      },
      "source": [
        "annotate_helper(104)"
      ],
      "execution_count": 32,
      "outputs": [
        {
          "output_type": "execute_result",
          "data": {
            "text/plain": [
              "(1046          “\n",
              " 1047          I\n",
              " 1048        ’ll\n",
              " 1049       just\n",
              " 1050       step\n",
              "          ...   \n",
              " 1174         of\n",
              " 1175    Avonlea\n",
              " 1176      today\n",
              " 1177          .\n",
              " 1178          ”\n",
              " Name: originalWord, Length: 133, dtype: object, 1076            “\n",
              " 1077           He\n",
              " 1078         does\n",
              " 1079          n’t\n",
              " 1080    generally\n",
              " 1081           go\n",
              " 1082           to\n",
              " 1083         town\n",
              " 1084         this\n",
              " 1085         time\n",
              " 1086           of\n",
              " 1087         year\n",
              " 1088          and\n",
              " 1089           he\n",
              " 1090            _\n",
              " 1091        never\n",
              " 1092            _\n",
              " 1093       visits\n",
              " 1094            ;\n",
              " 1095           if\n",
              " 1096           he\n",
              " 1097           ’d\n",
              " 1098          run\n",
              " 1099          out\n",
              " 1100           of\n",
              " 1101       turnip\n",
              " 1102         seed\n",
              " 1103           he\n",
              " 1104        would\n",
              " 1105          n’t\n",
              " 1106        dress\n",
              " 1107           up\n",
              " 1108          and\n",
              " 1109         take\n",
              " 1110          the\n",
              " 1111        buggy\n",
              " 1112           to\n",
              " 1113           go\n",
              " 1114          for\n",
              " 1115         more\n",
              " 1116            ;\n",
              " 1117           he\n",
              " 1118          was\n",
              " 1119          n’t\n",
              " 1120      driving\n",
              " 1121         fast\n",
              " 1122       enough\n",
              " 1123           to\n",
              " 1124           be\n",
              " 1125        going\n",
              " 1126          for\n",
              " 1127            a\n",
              " 1128       doctor\n",
              " 1129            .\n",
              " Name: originalWord, dtype: object)"
            ]
          },
          "metadata": {
            "tags": []
          },
          "execution_count": 32
        }
      ]
    },
    {
      "cell_type": "code",
      "metadata": {
        "id": "GQO01aBEMjAk",
        "colab_type": "code",
        "colab": {}
      },
      "source": [
        "target_true_gables = [\"Anne\", \"Marilla\", \"Marilla\", \"Anne\", \"Anne\", \"Anne\", \"Anne\", \"Anne\", \"Matthew\", \"Anne\", \"Marilla\", \"Jane\", \"Anne\", \"-1\", \"Anne\", \n",
        "                     \"Diana\", \"Diana\", \"Mr. Philips\", \"Marilla\", \"Marilla\", \"Diana\", \"Marilla\", \"Marilla\", \"Josie\", \"Anne\", \"Matthew\", \"Gilbert\",\n",
        "                     \"Marilla\", \"Marilla\", \"-1\", \"Diana\", \"Anne\", \"Mrs. Barry\", \"Jane\", \"Anne\", \"Anne\", \"Anne\", \"Mrs. Barry\", \"Matthew\", \"Marilla\", \n",
        "                     \"Anne\", \"Matthew\", \"Marilla\", \"Anne\", \"Marilla\", \"Josie\", \"Mrs. Lynde\", \"Diana\", \"Mrs. Spencer\", \"Anne\", \"Anne\", \"Anne\", \"Marilla\", \n",
        "                     \"Marilla\", \"Marilla\", \"Anne\", \"Marilla\", \"Mrs. Lynde\", \"Anne\", \"Mrs. Lynde\", \"Anne\", \"Anne\", \"Anne\", \"Anne\", \"-1\", \"Anne\", \"Anne\",\n",
        "                     \"Anne\", \"Anne\", \"Marilla\", \"Anne\", \"Mrs. Lynde\", \"Matthew\", \"Anne\", \"Anne\", \"Marilla\", \"Marilla\", \"Matthew\", \"Marilla\", \"Anne\", \"Anne\", \n",
        "                     \"Marilla\", \"Anne\", \"Anne\", \"Mrs. Lynde\", \"Mrs. Spencer\", \"Matthew\", \"Matthew\", \"Marilla\", \"Marilla\", \"Anne\", \"Mrs. Lynde\", \n",
        "                     \"Anne\", \"Anne\", \"Anne\", \"Marilla\", \"Marilla\", \"Mrs. Allan\", \"Matthew\", \"Anne\", \n",
        "                     \"Anne\", \"Anne\", \"Marilla\", \"Anne\", \"Mrs. Lynde\", \"Matthew\", \n",
        "                      \"Anne\", \"Anne\", \"Marilla\", \"Anne\", \"Mrs. Spencer\", \"Diana\", \"Gilbert\", \"Anne\", \"Anne\", \"Matthew\", \"Marilla\", \"Anne\", \"Marilla\", \n",
        "                      \"Anne\", \"Matthew\", \"Diana\", \"Anne\", \"Anne\", \"Diana\", \"Marilla\", \"Anne\", \"Marilla\", \"Anne\", \"Josie\", \"Anne\", \"Anne\", \"Anne\", \"Mrs. Lynde\",\n",
        "                      \"Anne\", \"Marilla\", \"Marilla\", \"Anne\", \"Mrs. Lynde\", \"-1\", \"Anne\", \"Anne\", \"Marilla\", \"Matthew\", \"Marilla\", \"Anne\", \"Marilla\", \"Diana\", \n",
        "                      \"Anne\", \"Matthew\"]"
      ],
      "execution_count": 0,
      "outputs": []
    },
    {
      "cell_type": "code",
      "metadata": {
        "id": "CYOxRFhrP2Ie",
        "colab_type": "code",
        "colab": {
          "base_uri": "https://localhost:8080/",
          "height": 34
        },
        "outputId": "b5fb799d-1115-4bbc-afdf-28e15672ae9b"
      },
      "source": [
        "len([\"Anne\", \"Marilla\", \"Marilla\", \"Anne\", \"Anne\", \"Anne\", \"Anne\", \"Anne\", \"Matthew\", \"Anne\", \"Marilla\", \"Jane\", \"Anne\", \"-1\", \"Anne\", \n",
        "                     \"Diana\", \"Diana\", \"Mr. Philips\", \"Marilla\", \"Marilla\", \"Diana\", \"Marilla\", \"Marilla\", \"Josie\", \"Anne\", \"Matthew\", \"Gilbert\",\n",
        "                     \"Marilla\", \"Marilla\", \"-1\", \"Diana\", \"Anne\", \"Mrs. Barry\", \"Jane\", \"Anne\", \"Anne\", \"Anne\", \"Mrs. Barry\", \"Matthew\", \"Marilla\", \n",
        "                     \"Anne\", \"Matthew\", \"Marilla\", \"Anne\", \"Marilla\", \"Josie\", \"Mrs. Lynde\", \"Diana\", \"Mrs. Spencer\", \"Anne\", \"Anne\", \"Anne\", \"Marilla\", \n",
        "                     \"Marilla\", \"Marilla\", \"Anne\", \"Marilla\", \"Mrs. Lynde\", \"Anne\", \"Mrs. Lynde\", \"Anne\", \"Anne\", \"Anne\", \"Anne\", \"-1\", \"Anne\", \"Anne\",\n",
        "                     \"Anne\", \"Anne\", \"Marilla\", \"Anne\", \"Mrs. Lynde\", \"Matthew\", \"Anne\", \"Anne\", \"Marilla\", \"Marilla\", \"Matthew\", \"Marilla\", \"Anne\", \"Anne\", \n",
        "                     \"Marilla\", \"Anne\", \"Anne\", \"Mrs. Lynde\", \"Mrs. Spencer\", \"Matthew\", \"Matthew\", \"Marilla\", \"Marilla\", \"Anne\", \"Mrs. Lynde\", \n",
        "                     \"Anne\", \"Anne\", \"Anne\", \"Marilla\", \"Marilla\", \"Mrs. Allan\", \"Matthew\", \"Anne\"])"
      ],
      "execution_count": 27,
      "outputs": [
        {
          "output_type": "execute_result",
          "data": {
            "text/plain": [
              "100"
            ]
          },
          "metadata": {
            "tags": []
          },
          "execution_count": 27
        }
      ]
    },
    {
      "cell_type": "code",
      "metadata": {
        "id": "L4hLRG1yc4yI",
        "colab_type": "code",
        "colab": {}
      },
      "source": [
        "def accuracy_checker(target_pre, target_true, n):\n",
        "  total_corr = 0\n",
        "  if len(target_pre[:n])!=len(target_true):\n",
        "    print(\"mismatched lengths, check\")\n",
        "  for i in range(len(target_pre[:n])):\n",
        "    if target_true[i] in target_pre[i].split(\",\"):\n",
        "      total_corr+=1\n",
        "  return total_corr/n, target_true.count(\"Anne\")/len(target_true)"
      ],
      "execution_count": 0,
      "outputs": []
    },
    {
      "cell_type": "code",
      "metadata": {
        "id": "FMcEv_QrdNXw",
        "colab_type": "code",
        "outputId": "d7e82002-5da3-41b9-a8d9-72795b73674e",
        "colab": {
          "base_uri": "https://localhost:8080/",
          "height": 34
        }
      },
      "source": [
        "accuracy_checker(list(anno_frame[\"targets\"]), target_true_gables, 150)"
      ],
      "execution_count": 38,
      "outputs": [
        {
          "output_type": "execute_result",
          "data": {
            "text/plain": [
              "(0.72, 0.4266666666666667)"
            ]
          },
          "metadata": {
            "tags": []
          },
          "execution_count": 38
        }
      ]
    },
    {
      "cell_type": "code",
      "metadata": {
        "id": "dLbS2tKYdaKq",
        "colab_type": "code",
        "outputId": "7177594c-1ca9-4e2a-aecb-c2fd1aed082a",
        "colab": {
          "base_uri": "https://localhost:8080/",
          "height": 34
        }
      },
      "source": [
        "# len([\"Anne\", \"Marilla\", \"Marilla\", \"Anne\", \"Anne\", \"Anne\", \"Anne\", \"Anne\", \"Matthew\", \"Anne\", \"Marilla\", \"Jane\", \"Anne\", \"-1\", \"Anne\", \n",
        "#                      \"Diana\", \"Diana\", \"Mr. Philips\", \"Marilla\", \"Marilla\", \"Diana\", \"Marilla\", \"Marilla\", \"Josie\", \"Anne\", \"Matthew\", \"Gilbert\",\n",
        "#                      \"Marilla\", \"Marilla\", \"-1\", \"Diana\", \"Anne\", \"Mrs. Barry\", \"Jane\", \"Anne\", \"Anne\", \"Anne\", \"Mrs. Barry\", \"Matthew\", \"Marilla\", \n",
        "#                      \"Anne\", \"Matthew\", \"Marilla\", \"Anne\", \"Marilla\", \"Josie\", \"Mrs. Lynde\", \"Diana\", \"Mrs. Spencer\", \"Anne\", \"Anne\", \"Anne\", \"Marilla\", \n",
        "#                      \"Marilla\", \"Marilla\", \"Anne\", \"Marilla\", \"Mrs. Lynde\", \"Anne\", \"Mrs. Lynde\", \"Anne\", \"Anne\", \"Mrs. Allan\"])"
      ],
      "execution_count": 0,
      "outputs": [
        {
          "output_type": "execute_result",
          "data": {
            "text/plain": [
              "63"
            ]
          },
          "metadata": {
            "tags": []
          },
          "execution_count": 65
        }
      ]
    },
    {
      "cell_type": "code",
      "metadata": {
        "id": "Nr-gPIiNQY8g",
        "colab_type": "code",
        "colab": {
          "base_uri": "https://localhost:8080/",
          "height": 34
        },
        "outputId": "175f2390-c81f-436c-b1d3-33ccf2520b6b"
      },
      "source": [
        "print(150/len(anno_frame))"
      ],
      "execution_count": 39,
      "outputs": [
        {
          "output_type": "stream",
          "text": [
            "0.1282051282051282\n"
          ],
          "name": "stdout"
        }
      ]
    },
    {
      "cell_type": "code",
      "metadata": {
        "id": "ezflg0kLcL3r",
        "colab_type": "code",
        "colab": {}
      },
      "source": [
        "ch = []\n",
        "n = []\n",
        "for i in target_true_gables:\n",
        "  if i not in ch:\n",
        "    ch.append(i)\n",
        "    n.append(target_true_gables.count(i)/150)"
      ],
      "execution_count": 0,
      "outputs": []
    },
    {
      "cell_type": "code",
      "metadata": {
        "id": "4SqyuULGc5Nw",
        "colab_type": "code",
        "colab": {
          "base_uri": "https://localhost:8080/",
          "height": 407
        },
        "outputId": "16669925-6c03-4490-e00c-a3d00ad2122c"
      },
      "source": [
        "plt.figure(figsize=(17, 6))\n",
        "plt.bar(ch, n)\n",
        "plt.title(\"Proportion of quotations of each character's true quotations\")"
      ],
      "execution_count": 88,
      "outputs": [
        {
          "output_type": "execute_result",
          "data": {
            "text/plain": [
              "Text(0.5, 1.0, \"Proportion of quotations of each character's true quotations\")"
            ]
          },
          "metadata": {
            "tags": []
          },
          "execution_count": 88
        },
        {
          "output_type": "display_data",
          "data": {
            "image/png": "[encoded data removed]",
            "text/plain": [
              "<Figure size 1224x432 with 1 Axes>"
            ]
          },
          "metadata": {
            "tags": []
          }
        }
      ]
    },
    {
      "cell_type": "code",
      "metadata": {
        "id": "kCJC_NHsddD9",
        "colab_type": "code",
        "colab": {}
      },
      "source": [
        "ch_pr = []\n",
        "n_pr = []\n",
        "for i in anno_frame[\"targets\"][:150]:\n",
        "  in_now = False\n",
        "  for e in i.split(\",\"):\n",
        "    if e in ch_pr:\n",
        "      in_now = True\n",
        "  if in_now == False:\n",
        "    ch_pr.append(i.split(\",\")[1])\n",
        "    n_pr.append(list(anno_frame[\"targets\"][:150]).count(i)/150)"
      ],
      "execution_count": 0,
      "outputs": []
    },
    {
      "cell_type": "code",
      "metadata": {
        "id": "SQfYWEG_eIgI",
        "colab_type": "code",
        "colab": {
          "base_uri": "https://localhost:8080/",
          "height": 407
        },
        "outputId": "102723c9-a089-4f9b-af20-9afc177e01aa"
      },
      "source": [
        "plt.figure(figsize=(17, 6))\n",
        "plt.bar(ch_pr, n_pr)\n",
        "plt.title(\"Proportion of quotations of each character's predicted quotations\")"
      ],
      "execution_count": 90,
      "outputs": [
        {
          "output_type": "execute_result",
          "data": {
            "text/plain": [
              "Text(0.5, 1.0, \"Proportion of quotations of each character's predicted quotations\")"
            ]
          },
          "metadata": {
            "tags": []
          },
          "execution_count": 90
        },
        {
          "output_type": "display_data",
          "data": {
            "image/png": "[encoded data removed]",
            "text/plain": [
              "<Figure size 1224x432 with 1 Axes>"
            ]
          },
          "metadata": {
            "tags": []
          }
        }
      ]
    }
  ]
}